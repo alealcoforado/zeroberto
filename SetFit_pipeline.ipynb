{
  "cells": [
    {
      "attachments": {},
      "cell_type": "markdown",
      "metadata": {},
      "source": [
        "# SetFit pipeline"
      ]
    },
    {
      "cell_type": "markdown",
      "metadata": {
        "id": "K8DWxQYlwxsf"
      },
      "source": [
        "# Dependencies"
      ]
    },
    {
      "cell_type": "code",
      "execution_count": 1,
      "metadata": {
        "colab": {
          "base_uri": "https://localhost:8080/"
        },
        "id": "9zW0h_35BS49",
        "outputId": "313f83c9-5ac6-4fb7-888f-21ee26cfd45e"
      },
      "outputs": [],
      "source": [
        "# !pip install setfit\n",
        "# !pip install datasets\n",
        "%load_ext autoreload\n",
        "%autoreload 2"
      ]
    },
    {
      "cell_type": "code",
      "execution_count": 2,
      "metadata": {
        "colab": {
          "base_uri": "https://localhost:8080/"
        },
        "id": "kjQjQp46somO",
        "outputId": "6e5f963d-57e6-40a2-9021-83d9829d5d8f"
      },
      "outputs": [],
      "source": [
        "# from google.colab import drive\n",
        "# import pandas as pd\n",
        "\n",
        "# drive.mount('/content/drive')"
      ]
    },
    {
      "cell_type": "code",
      "execution_count": 3,
      "metadata": {},
      "outputs": [],
      "source": [
        "import pandas as pd\n",
        "import datasets\n",
        "from datasets import Dataset\n",
        "from tqdm import tqdm\n",
        "from sklearn.preprocessing import LabelEncoder\n",
        "from sentence_transformers.losses import CosineSimilarityLoss\n",
        "from setfit import SetFitModel, SetFitTrainer, sample_dataset\n",
        "import evaluation_metrics\n",
        "import gc\n",
        "import zeroberto\n",
        "tqdm.pandas()\n"
      ]
    },
    {
      "cell_type": "code",
      "execution_count": null,
      "metadata": {},
      "outputs": [],
      "source": []
    },
    {
      "cell_type": "markdown",
      "metadata": {
        "id": "t2NJFz1jw8iy"
      },
      "source": [
        "# Data Prep"
      ]
    },
    {
      "cell_type": "code",
      "execution_count": 5,
      "metadata": {},
      "outputs": [],
      "source": [
        "use_zeroshot_previous_step = True\n",
        "exec_time = 'first_test'\n",
        "\n",
        "which_dataset = 'folhauol'\n",
        "# which_dataset = 'bbc-news'\n",
        "\n",
        "split = \"zeroshot\" if use_zeroshot_previous_step else \"fewshot\"\n",
        "n = 4\n",
        "test_dataset_sample_size = 1/32\n",
        "## 1/64 ---> <6 min\n",
        "## 1/32 ---> <12 min\n",
        "## 1/16 ---> <22 min\n",
        "random_state = 422"
      ]
    },
    {
      "cell_type": "code",
      "execution_count": 46,
      "metadata": {},
      "outputs": [],
      "source": [
        "top_n = n"
      ]
    },
    {
      "attachments": {},
      "cell_type": "markdown",
      "metadata": {},
      "source": [
        "## Import Data"
      ]
    },
    {
      "cell_type": "code",
      "execution_count": 21,
      "metadata": {},
      "outputs": [],
      "source": [
        "if which_dataset=='folhauol':\n",
        "  arq = '/Users/alealcoforado/Documents/Projetos/Datasets/folhauol/folhauol_clean_df_articles.csv'\n",
        "  # arq = '/content/drive/MyDrive/folhauol_clean_df_articles.csv'\n",
        "  raw_data = pd.read_csv(arq)\n",
        "  raw_data['full_text'] = raw_data['title'].astype(str)+raw_data['text'].astype(str)\n",
        "  data_col = 'full_text'\n",
        "  class_col = 'category'\n",
        "\n",
        "if which_dataset == 'bbc-news':\n",
        "  #o dataset bbc-news não tem coluna de título \n",
        "  # arq = '/content/drive/MyDrive/zeroshot_new_paper/bbc_news_train_plus_test.csv'\n",
        "  arq = '/Users/alealcoforado/Documents/Projetos/Datasets/bbc-news/BBC News Train.csv'\n",
        "  raw_data = pd.read_csv(arq, sep = ',')\n",
        "  data_col = 'Text'\n",
        "  class_col = 'Category'"
      ]
    },
    {
      "cell_type": "code",
      "execution_count": null,
      "metadata": {},
      "outputs": [],
      "source": []
    },
    {
      "cell_type": "markdown",
      "metadata": {
        "id": "FohkG6IXxXdu"
      },
      "source": [
        "### Data from Zero-Shot previous step"
      ]
    },
    {
      "cell_type": "code",
      "execution_count": 22,
      "metadata": {},
      "outputs": [],
      "source": [
        "zeroshot_data_local_path = '/Users/alealcoforado/Documents/Projetos/Datasets/{which_dataset}/'.format(which_dataset=which_dataset)\n",
        "zeroshot_preds_and_probs_file = 'predictions_and_probabilities_test_{exec_time}.csv'.format(exec_time=exec_time)\n",
        "preds_probs_df = pd.read_csv(zeroshot_data_local_path+zeroshot_preds_and_probs_file)\n",
        "\n",
        "# zeroshot_config_file = 'zeroshot_config_test_{exec_time}.csv'.format(exec_time=exec_time)\n",
        "# config_df = pd.read_csv(zeroshot_data_local_path+zeroshot_config_file)"
      ]
    },
    {
      "cell_type": "code",
      "execution_count": 23,
      "metadata": {
        "colab": {
          "base_uri": "https://localhost:8080/",
          "height": 455
        },
        "id": "7S-HMwBVQ1-s",
        "outputId": "5034b8e4-ac20-4887-9925-002be1d750da"
      },
      "outputs": [],
      "source": [
        "def getZeroshotPreviousData(df_results_zeroberto,top_n = 8):\n",
        "    df_results_zeroberto.index = df_results_zeroberto['Unnamed: 0'] ### recover original indexes for dataset\n",
        "    df_top_n = df_results_zeroberto.sort_values(['top_probability','prediction'], ascending=False).groupby('prediction').head(top_n)\n",
        "    df_top_n = df_top_n.drop(columns=[\"Unnamed: 0\",class_col,class_col+\"_code\"])\n",
        "    return df_top_n\n"
      ]
    },
    {
      "cell_type": "code",
      "execution_count": 41,
      "metadata": {},
      "outputs": [
        {
          "name": "stdout",
          "output_type": "stream",
          "text": [
            "new_category\n"
          ]
        }
      ],
      "source": [
        "if use_zeroshot_previous_step == True:\n",
        "    zeroshot_previous_data = getZeroshotPreviousData(preds_probs_df)\n",
        "    raw_data_final = raw_data.join(zeroshot_previous_data)\n",
        "#     ## overwrite true labels with predictions from zeroshot\n",
        "    new_class_col = 'new_'+class_col\n",
        "    print(new_class_col)\n",
        "    raw_data_final.loc[~raw_data_final['prediction'].isna(),new_class_col] = raw_data_final['prediction'] \n",
        "    \n",
        "#     ## keep true labels of the rest, for testing\n",
        "    raw_data_final.loc[raw_data_final['prediction'].isna(),new_class_col] = raw_data_final[class_col]\n",
        "if use_zeroshot_previous_step == False:\n",
        "    raw_data_final = raw_data\n",
        "    raw_data_final[new_class_col] = raw_data_final[class_col]\n",
        "\n",
        "# raw_data_final[new_class_col] = raw_data_final[new_class_col].map(dict_classes_folha)"
      ]
    },
    {
      "cell_type": "code",
      "execution_count": 42,
      "metadata": {},
      "outputs": [
        {
          "data": {
            "text/plain": [
              "(76, 4)"
            ]
          },
          "execution_count": 42,
          "metadata": {},
          "output_type": "execute_result"
        }
      ],
      "source": [
        "zeroshot_previous_data.shape"
      ]
    },
    {
      "cell_type": "code",
      "execution_count": 51,
      "metadata": {
        "id": "yQsx16-45zXk"
      },
      "outputs": [
        {
          "ename": "ValueError",
          "evalue": "Cannot take a larger sample than population when 'replace=False'",
          "output_type": "error",
          "traceback": [
            "\u001b[0;31m---------------------------------------------------------------------------\u001b[0m",
            "\u001b[0;31mValueError\u001b[0m                                Traceback (most recent call last)",
            "Cell \u001b[0;32mIn[51], line 2\u001b[0m\n\u001b[1;32m      1\u001b[0m df_encoded \u001b[39m=\u001b[39m evaluation_metrics\u001b[39m.\u001b[39mEncoder(raw_data_final,[new_class_col])\n\u001b[0;32m----> 2\u001b[0m df_encoded[\u001b[39m~\u001b[39;49mdf_encoded[\u001b[39m'\u001b[39;49m\u001b[39mprediction\u001b[39;49m\u001b[39m'\u001b[39;49m]\u001b[39m.\u001b[39;49misna()]\u001b[39m.\u001b[39;49mgroupby(new_class_col)[[data_col,new_class_col]]\u001b[39m.\u001b[39;49mapply(\u001b[39mlambda\u001b[39;49;00m s: s\u001b[39m.\u001b[39;49msample(\u001b[39m2\u001b[39;49m,random_state\u001b[39m=\u001b[39;49mrandom_state))\n",
            "File \u001b[0;32m~/opt/anaconda3/envs/venv_zeroberto/lib/python3.10/site-packages/pandas/core/groupby/groupby.py:1567\u001b[0m, in \u001b[0;36mGroupBy.apply\u001b[0;34m(self, func, *args, **kwargs)\u001b[0m\n\u001b[1;32m   1559\u001b[0m     new_msg \u001b[39m=\u001b[39m (\n\u001b[1;32m   1560\u001b[0m         \u001b[39mf\u001b[39m\u001b[39m\"\u001b[39m\u001b[39mThe operation \u001b[39m\u001b[39m{\u001b[39;00morig_func\u001b[39m}\u001b[39;00m\u001b[39m failed on a column. If any error is \u001b[39m\u001b[39m\"\u001b[39m\n\u001b[1;32m   1561\u001b[0m         \u001b[39mf\u001b[39m\u001b[39m\"\u001b[39m\u001b[39mraised, this will raise an exception in a future version \u001b[39m\u001b[39m\"\u001b[39m\n\u001b[1;32m   1562\u001b[0m         \u001b[39mf\u001b[39m\u001b[39m\"\u001b[39m\u001b[39mof pandas. Drop these columns to avoid this warning.\u001b[39m\u001b[39m\"\u001b[39m\n\u001b[1;32m   1563\u001b[0m     )\n\u001b[1;32m   1564\u001b[0m     \u001b[39mwith\u001b[39;00m rewrite_warning(\n\u001b[1;32m   1565\u001b[0m         old_msg, \u001b[39mFutureWarning\u001b[39;00m, new_msg\n\u001b[1;32m   1566\u001b[0m     ) \u001b[39mif\u001b[39;00m is_np_func \u001b[39melse\u001b[39;00m nullcontext():\n\u001b[0;32m-> 1567\u001b[0m         result \u001b[39m=\u001b[39m \u001b[39mself\u001b[39;49m\u001b[39m.\u001b[39;49m_python_apply_general(f, \u001b[39mself\u001b[39;49m\u001b[39m.\u001b[39;49m_selected_obj)\n\u001b[1;32m   1568\u001b[0m \u001b[39mexcept\u001b[39;00m \u001b[39mTypeError\u001b[39;00m:\n\u001b[1;32m   1569\u001b[0m     \u001b[39m# gh-20949\u001b[39;00m\n\u001b[1;32m   1570\u001b[0m     \u001b[39m# try again, with .apply acting as a filtering\u001b[39;00m\n\u001b[0;32m   (...)\u001b[0m\n\u001b[1;32m   1574\u001b[0m     \u001b[39m# fails on *some* columns, e.g. a numeric operation\u001b[39;00m\n\u001b[1;32m   1575\u001b[0m     \u001b[39m# on a string grouper column\u001b[39;00m\n\u001b[1;32m   1577\u001b[0m     \u001b[39mwith\u001b[39;00m \u001b[39mself\u001b[39m\u001b[39m.\u001b[39m_group_selection_context():\n\u001b[1;32m   1578\u001b[0m         \u001b[39m# GH#50538\u001b[39;00m\n",
            "File \u001b[0;32m~/opt/anaconda3/envs/venv_zeroberto/lib/python3.10/site-packages/pandas/core/groupby/groupby.py:1629\u001b[0m, in \u001b[0;36mGroupBy._python_apply_general\u001b[0;34m(self, f, data, not_indexed_same, is_transform, is_agg)\u001b[0m\n\u001b[1;32m   1592\u001b[0m \u001b[39m@final\u001b[39m\n\u001b[1;32m   1593\u001b[0m \u001b[39mdef\u001b[39;00m \u001b[39m_python_apply_general\u001b[39m(\n\u001b[1;32m   1594\u001b[0m     \u001b[39mself\u001b[39m,\n\u001b[0;32m   (...)\u001b[0m\n\u001b[1;32m   1599\u001b[0m     is_agg: \u001b[39mbool\u001b[39m \u001b[39m=\u001b[39m \u001b[39mFalse\u001b[39;00m,\n\u001b[1;32m   1600\u001b[0m ) \u001b[39m-\u001b[39m\u001b[39m>\u001b[39m NDFrameT:\n\u001b[1;32m   1601\u001b[0m \u001b[39m    \u001b[39m\u001b[39m\"\"\"\u001b[39;00m\n\u001b[1;32m   1602\u001b[0m \u001b[39m    Apply function f in python space\u001b[39;00m\n\u001b[1;32m   1603\u001b[0m \n\u001b[0;32m   (...)\u001b[0m\n\u001b[1;32m   1627\u001b[0m \u001b[39m        data after applying f\u001b[39;00m\n\u001b[1;32m   1628\u001b[0m \u001b[39m    \"\"\"\u001b[39;00m\n\u001b[0;32m-> 1629\u001b[0m     values, mutated \u001b[39m=\u001b[39m \u001b[39mself\u001b[39;49m\u001b[39m.\u001b[39;49mgrouper\u001b[39m.\u001b[39;49mapply(f, data, \u001b[39mself\u001b[39;49m\u001b[39m.\u001b[39;49maxis)\n\u001b[1;32m   1630\u001b[0m     \u001b[39mif\u001b[39;00m not_indexed_same \u001b[39mis\u001b[39;00m \u001b[39mNone\u001b[39;00m:\n\u001b[1;32m   1631\u001b[0m         not_indexed_same \u001b[39m=\u001b[39m mutated \u001b[39mor\u001b[39;00m \u001b[39mself\u001b[39m\u001b[39m.\u001b[39mmutated\n",
            "File \u001b[0;32m~/opt/anaconda3/envs/venv_zeroberto/lib/python3.10/site-packages/pandas/core/groupby/ops.py:839\u001b[0m, in \u001b[0;36mBaseGrouper.apply\u001b[0;34m(self, f, data, axis)\u001b[0m\n\u001b[1;32m    837\u001b[0m \u001b[39m# group might be modified\u001b[39;00m\n\u001b[1;32m    838\u001b[0m group_axes \u001b[39m=\u001b[39m group\u001b[39m.\u001b[39maxes\n\u001b[0;32m--> 839\u001b[0m res \u001b[39m=\u001b[39m f(group)\n\u001b[1;32m    840\u001b[0m \u001b[39mif\u001b[39;00m \u001b[39mnot\u001b[39;00m mutated \u001b[39mand\u001b[39;00m \u001b[39mnot\u001b[39;00m _is_indexed_like(res, group_axes, axis):\n\u001b[1;32m    841\u001b[0m     mutated \u001b[39m=\u001b[39m \u001b[39mTrue\u001b[39;00m\n",
            "Cell \u001b[0;32mIn[51], line 2\u001b[0m, in \u001b[0;36m<lambda>\u001b[0;34m(s)\u001b[0m\n\u001b[1;32m      1\u001b[0m df_encoded \u001b[39m=\u001b[39m evaluation_metrics\u001b[39m.\u001b[39mEncoder(raw_data_final,[new_class_col])\n\u001b[0;32m----> 2\u001b[0m df_encoded[\u001b[39m~\u001b[39mdf_encoded[\u001b[39m'\u001b[39m\u001b[39mprediction\u001b[39m\u001b[39m'\u001b[39m]\u001b[39m.\u001b[39misna()]\u001b[39m.\u001b[39mgroupby(new_class_col)[[data_col,new_class_col]]\u001b[39m.\u001b[39mapply(\u001b[39mlambda\u001b[39;00m s: s\u001b[39m.\u001b[39;49msample(\u001b[39m2\u001b[39;49m,random_state\u001b[39m=\u001b[39;49mrandom_state))\n",
            "File \u001b[0;32m~/opt/anaconda3/envs/venv_zeroberto/lib/python3.10/site-packages/pandas/core/generic.py:5773\u001b[0m, in \u001b[0;36mNDFrame.sample\u001b[0;34m(self, n, frac, replace, weights, random_state, axis, ignore_index)\u001b[0m\n\u001b[1;32m   5770\u001b[0m \u001b[39mif\u001b[39;00m weights \u001b[39mis\u001b[39;00m \u001b[39mnot\u001b[39;00m \u001b[39mNone\u001b[39;00m:\n\u001b[1;32m   5771\u001b[0m     weights \u001b[39m=\u001b[39m sample\u001b[39m.\u001b[39mpreprocess_weights(\u001b[39mself\u001b[39m, weights, axis)\n\u001b[0;32m-> 5773\u001b[0m sampled_indices \u001b[39m=\u001b[39m sample\u001b[39m.\u001b[39;49msample(obj_len, size, replace, weights, rs)\n\u001b[1;32m   5774\u001b[0m result \u001b[39m=\u001b[39m \u001b[39mself\u001b[39m\u001b[39m.\u001b[39mtake(sampled_indices, axis\u001b[39m=\u001b[39maxis)\n\u001b[1;32m   5776\u001b[0m \u001b[39mif\u001b[39;00m ignore_index:\n",
            "File \u001b[0;32m~/opt/anaconda3/envs/venv_zeroberto/lib/python3.10/site-packages/pandas/core/sample.py:150\u001b[0m, in \u001b[0;36msample\u001b[0;34m(obj_len, size, replace, weights, random_state)\u001b[0m\n\u001b[1;32m    147\u001b[0m     \u001b[39melse\u001b[39;00m:\n\u001b[1;32m    148\u001b[0m         \u001b[39mraise\u001b[39;00m \u001b[39mValueError\u001b[39;00m(\u001b[39m\"\u001b[39m\u001b[39mInvalid weights: weights sum to zero\u001b[39m\u001b[39m\"\u001b[39m)\n\u001b[0;32m--> 150\u001b[0m \u001b[39mreturn\u001b[39;00m random_state\u001b[39m.\u001b[39;49mchoice(obj_len, size\u001b[39m=\u001b[39;49msize, replace\u001b[39m=\u001b[39;49mreplace, p\u001b[39m=\u001b[39;49mweights)\u001b[39m.\u001b[39mastype(\n\u001b[1;32m    151\u001b[0m     np\u001b[39m.\u001b[39mintp, copy\u001b[39m=\u001b[39m\u001b[39mFalse\u001b[39;00m\n\u001b[1;32m    152\u001b[0m )\n",
            "File \u001b[0;32mmtrand.pyx:965\u001b[0m, in \u001b[0;36mnumpy.random.mtrand.RandomState.choice\u001b[0;34m()\u001b[0m\n",
            "\u001b[0;31mValueError\u001b[0m: Cannot take a larger sample than population when 'replace=False'"
          ]
        }
      ],
      "source": [
        "df_encoded = evaluation_metrics.Encoder(raw_data_final,[new_class_col])\n",
        "df_encoded[~df_encoded['prediction'].isna()].groupby(new_class_col)[[data_col,new_class_col]].apply(lambda s: s.sample(2,random_state=random_state))"
      ]
    },
    {
      "cell_type": "markdown",
      "metadata": {},
      "source": [
        "## Dataset Split"
      ]
    },
    {
      "attachments": {},
      "cell_type": "markdown",
      "metadata": {
        "id": "z9kRpSikxbRM"
      },
      "source": [
        "### Standard SetFit (Few-Shot)"
      ]
    },
    {
      "cell_type": "code",
      "execution_count": 44,
      "metadata": {
        "id": "mh5qXFj7CfpV"
      },
      "outputs": [],
      "source": [
        "### divide dataframe em treino e teste, com n samples para few-shot\n",
        "\n",
        "if (split==\"fewshot\"):\n",
        "  df_train = df_encoded.groupby('new_Category_code')[['full_text','new_Category_code']].apply(lambda s: s.sample(min(len(s),n)))\n",
        "  keys = list(df_train.columns.values)\n",
        "  i1 = df_encoded.set_index(keys).index\n",
        "  i2 = df_train.set_index(keys).index\n",
        "  df_test = df_encoded[~i1.isin(i2)]\n",
        "  df_test = df_test.groupby('new_Category_code')[['full_text','new_Category_code']].apply(lambda x:x.sample(int(len(x)*test_dataset_sample_size)))\n",
        "  df_train = df_train.astype(str)\n",
        "  df_test = df_test.astype(str)"
      ]
    },
    {
      "attachments": {},
      "cell_type": "markdown",
      "metadata": {
        "id": "SJn98MXKWMXc"
      },
      "source": [
        "### Zeroberto SetFit"
      ]
    },
    {
      "cell_type": "code",
      "execution_count": 52,
      "metadata": {
        "id": "a72aFoc_WL4E"
      },
      "outputs": [],
      "source": [
        "if (split == \"zeroshot\"):\n",
        "  df_train = df_encoded[~df_encoded['prediction'].isna()].groupby(new_class_col)[[data_col,new_class_col]].apply(lambda s: s.sample(min(len(s),top_n),random_state=random_state))\n",
        "\n",
        "  keys = list(df_train.columns.values)\n",
        "  i1 = df_encoded.set_index(keys).index\n",
        "  i2 = df_train.set_index(keys).index\n",
        "  df_test = df_encoded[~i1.isin(i2)]\n",
        "  df_test = df_test.groupby(new_class_col)[[data_col,new_class_col]].apply(lambda x:x.sample(int(len(x)*test_dataset_sample_size),random_state=random_state))\n",
        "  df_train = df_train.astype(str)\n",
        "  df_test = df_test.astype(str)"
      ]
    },
    {
      "attachments": {},
      "cell_type": "markdown",
      "metadata": {
        "id": "FSIDHKhNX3eg"
      },
      "source": [
        "### Build Dataset Dict"
      ]
    },
    {
      "cell_type": "code",
      "execution_count": 53,
      "metadata": {
        "colab": {
          "base_uri": "https://localhost:8080/"
        },
        "id": "HGFTobZKCOWh",
        "outputId": "362e82dd-5e0e-437b-83f8-516e8c9fd7fa"
      },
      "outputs": [
        {
          "data": {
            "text/plain": [
              "DatasetDict({\n",
              "    train: Dataset({\n",
              "        features: ['full_text', 'new_category'],\n",
              "        num_rows: 43\n",
              "    })\n",
              "    test: Dataset({\n",
              "        features: ['full_text', 'new_category'],\n",
              "        num_rows: 2873\n",
              "    })\n",
              "})"
            ]
          },
          "execution_count": 53,
          "metadata": {},
          "output_type": "execute_result"
        }
      ],
      "source": [
        "### transforma dataframes em datasetdict\n",
        "\n",
        "train_dataset = Dataset.from_dict(df_train)\n",
        "test_dataset = Dataset.from_dict(df_test)\n",
        "dataset_dict = datasets.DatasetDict({\"train\":train_dataset,\"test\":test_dataset})\n",
        "dataset = dataset_dict\n",
        "dataset"
      ]
    },
    {
      "attachments": {},
      "cell_type": "markdown",
      "metadata": {
        "id": "xKmLNNx-qGdM"
      },
      "source": [
        "# SetFit"
      ]
    },
    {
      "attachments": {},
      "cell_type": "markdown",
      "metadata": {
        "id": "zP8cTH9ZxLuJ"
      },
      "source": [
        "## Model"
      ]
    },
    {
      "cell_type": "code",
      "execution_count": 56,
      "metadata": {},
      "outputs": [],
      "source": [
        "model = saved_model"
      ]
    },
    {
      "cell_type": "code",
      "execution_count": 496,
      "metadata": {},
      "outputs": [
        {
          "name": "stderr",
          "output_type": "stream",
          "text": [
            "model_head.pkl not found on HuggingFace Hub, initialising classification head with random weights. You should TRAIN this model on a downstream task to use it for predictions and inference.\n"
          ]
        }
      ],
      "source": [
        "model_name = \"ricardo-filho/bert-base-portuguese-cased-nli-assin-2\"\n",
        "\n",
        "#### Models\n",
        "# \"sentence-transformers/paraphrase-mpnet-base-v2\"\n",
        "# \"ricardo-filho/bert-base-portuguese-cased-nli-assin-2\"\n",
        "# \"ricardo-filho/bert-portuguese-cased-nli-assin-2\"\n",
        "# \"neuralmind/bert-large-portuguese-cased\"\n",
        "# \"joeddav/xlm-roberta-large-xnli\"\n",
        "# \"openai-gpt\"\n",
        "\n",
        "model = SetFitModel.from_pretrained(model_name)"
      ]
    },
    {
      "attachments": {},
      "cell_type": "markdown",
      "metadata": {},
      "source": [
        "## Parameters"
      ]
    },
    {
      "cell_type": "code",
      "execution_count": 57,
      "metadata": {
        "id": "at8v7NZuBsTc"
      },
      "outputs": [
        {
          "name": "stdout",
          "output_type": "stream",
          "text": [
            "{'model': '/Users/alealcoforado/Documents/Projetos/Modelos/setfit_top_n=4_n=8_15pairs_v1', 'dataset': 'folhauol', 'batch_size': 8, 'num_pairs': 10, 'num_epochs': 1, 'dataset_sample_size': 0.03125, 'N_examples': 4, 'split': 'zeroshot', '0shot_data': 'first_test'}\n",
            "CPU times: user 139 µs, sys: 157 µs, total: 296 µs\n",
            "Wall time: 266 µs\n"
          ]
        }
      ],
      "source": [
        "%%time\n",
        "\n",
        "batch_size = 8\n",
        "num_text_pairs = 10\n",
        "num_epochs = 1\n",
        "\n",
        "setfit_config = {\n",
        "    \"model\":model_name,\n",
        "    \"dataset\":which_dataset,\n",
        "    \"batch_size\":batch_size,\n",
        "    \"num_pairs\":num_text_pairs,\n",
        "    \"num_epochs\":num_epochs,\n",
        "    \"dataset_sample_size\":test_dataset_sample_size,\n",
        "    \"N_examples\":n,\n",
        "    \"split\":split,\n",
        "    \"0shot_data\":exec_time\n",
        "}\n",
        "\n",
        "# Create trainer\n",
        "trainer = SetFitTrainer(\n",
        "    model=model,\n",
        "    train_dataset=train_dataset,\n",
        "    eval_dataset=test_dataset,\n",
        "    loss_class=CosineSimilarityLoss,\n",
        "    batch_size=setfit_config[\"batch_size\"],\n",
        "    num_iterations=setfit_config[\"num_pairs\"], # Number of text pairs to generate for contrastive learning\n",
        "    num_epochs=setfit_config[\"num_epochs\"], # Number of epochs to use for contrastive learning\n",
        "    column_mapping = {data_col: \"text\", new_class_col: \"label\"} # NÃO mudar\n",
        ")\n",
        "\n",
        "print(setfit_config)"
      ]
    },
    {
      "cell_type": "markdown",
      "metadata": {
        "id": "CkLC8HLsZxv7"
      },
      "source": [
        "## Training"
      ]
    },
    {
      "cell_type": "code",
      "execution_count": 58,
      "metadata": {
        "colab": {
          "base_uri": "https://localhost:8080/",
          "height": 703,
          "referenced_widgets": [
            "2589bd733c51433da691b4c7f38b8d0e",
            "d12bf941fabb4f069f90b69931fdb47c",
            "5373d1f2507643b98ff9a7301bbe07b1",
            "8811585c4f514484bc709fbe79cda464",
            "bde968c5739648cea2c78cb44f9efe43",
            "4ca09aea630644519998d0eedf46533b",
            "a067c1ae053a4671bb0df88516003baf",
            "4f016aa1a50240618345a11e3a3d5a22",
            "a45d104969904a8d9c6ad2b1321cb551",
            "6cce7d01d13944298de49b6708608047",
            "614148306c98475384f2f6675e76c949",
            "6cd322ec42994ec6a89e02ce27198c84",
            "e1d32c5c521e43518891fc8a8cc5c228",
            "799f907a811645f49d1365ec36648d7a",
            "594ae3cd34ad4a25b1002a89bee91f79",
            "92334509722542d8b3d67c036afbfb36",
            "b1f3660d72184ee8bcc83e9d4a61edb3",
            "f9fec4ecaec04b4a883555343e0ec597",
            "0b073ac91d504f41a189e0c812de56f5",
            "c874e790ca01432cb4043d96d8961734",
            "1f7d487c683f42c7afe9d13040f63291",
            "1b39eb1b21894318a14615a8b1b2b23e"
          ]
        },
        "id": "y4HXDGx2OoSl",
        "outputId": "1beaa051-43af-4f59-bd06-68855ab93b83"
      },
      "outputs": [
        {
          "name": "stdout",
          "output_type": "stream",
          "text": [
            "CPU times: user 109 ms, sys: 156 ms, total: 265 ms\n",
            "Wall time: 382 ms\n"
          ]
        },
        {
          "data": {
            "text/plain": [
              "208"
            ]
          },
          "execution_count": 58,
          "metadata": {},
          "output_type": "execute_result"
        }
      ],
      "source": [
        "%%time\n",
        "# trainer.train()\n",
        "gc.collect()"
      ]
    },
    {
      "attachments": {},
      "cell_type": "markdown",
      "metadata": {},
      "source": [
        "## Inference"
      ]
    },
    {
      "cell_type": "code",
      "execution_count": 503,
      "metadata": {},
      "outputs": [
        {
          "name": "stdout",
          "output_type": "stream",
          "text": [
            "CPU times: user 1h 34s, sys: 15min 15s, total: 1h 15min 49s\n",
            "Wall time: 22min 22s\n"
          ]
        }
      ],
      "source": [
        "%%time\n",
        "y_pred = zeroberto.getPredictions(trainer)\n",
        "#### folhauol: aprox. 4 predicoes por segundo\n",
        "#### bbcnews: aprox. 4 preds por segundo"
      ]
    },
    {
      "attachments": {},
      "cell_type": "markdown",
      "metadata": {
        "id": "c76dcxZcqQiF"
      },
      "source": [
        "# Evaluation"
      ]
    },
    {
      "attachments": {},
      "cell_type": "markdown",
      "metadata": {},
      "source": [
        "## Metrics"
      ]
    },
    {
      "cell_type": "code",
      "execution_count": null,
      "metadata": {
        "colab": {
          "base_uri": "https://localhost:8080/",
          "height": 407
        },
        "id": "GGIXbhEJXp2D",
        "outputId": "e30955f8-91b0-4789-8114-ff925881d0cf"
      },
      "outputs": [
        {
          "name": "stdout",
          "output_type": "stream",
          "text": [
            "{'weighted': [{'accuracy': 0.015315001740341106}, {'precision': 0.04790430994811901}, {'recall': 0.015315001740341106}, {'f1': 0.01980755741551899}], 'macro': [{'accuracy': 0.015315001740341106}, {'precision': 0.023423116910519695}, {'recall': 0.01463469403062753}, {'f1': 0.013475393598413229}]}\n"
          ]
        }
      ],
      "source": [
        "all_metrics = evaluation_metrics.get_metrics(y_pred ,test_dataset[new_class_col])\n",
        "print(all_metrics)"
      ]
    },
    {
      "attachments": {},
      "cell_type": "markdown",
      "metadata": {},
      "source": [
        "## Save Results"
      ]
    },
    {
      "cell_type": "code",
      "execution_count": 443,
      "metadata": {},
      "outputs": [
        {
          "name": "stdout",
          "output_type": "stream",
          "text": [
            "metrics_setfit_2023_02_10__17_53_56.csv\n",
            "config_setfit_2023_02_10__17_53_56.csv\n",
            "{'model': 'ricardo-filho/bert-base-portuguese-cased-nli-assin-2', 'dataset': 'folhauol', 'batch_size': 8, 'num_pairs': 10, 'num_epochs': 1, 'dataset_sample_size': 0.0625, 'N_examples': 4, 'split': 'zeroshot', '0shot_data': '2023_02_10__09_58_13'}\n"
          ]
        }
      ],
      "source": [
        "setfit_exec_time  = evaluation_metrics.saveResults(setfit_config,all_metrics)\n",
        "print(setfit_config)"
      ]
    },
    {
      "attachments": {},
      "cell_type": "markdown",
      "metadata": {},
      "source": [
        "## Save Model"
      ]
    },
    {
      "cell_type": "code",
      "execution_count": 445,
      "metadata": {},
      "outputs": [
        {
          "name": "stdout",
          "output_type": "stream",
          "text": [
            "/Users/alealcoforado/Documents/Projetos/Modelos/2023_02_10__17_53_56\n"
          ]
        }
      ],
      "source": [
        "model_path = \"/Users/alealcoforado/Documents/Projetos/Modelos/{exec}\".format(exec=setfit_exec_time)\n",
        "print(model_path)\n",
        "trainer.model._save_pretrained(save_directory=model_path)"
      ]
    },
    {
      "attachments": {},
      "cell_type": "markdown",
      "metadata": {},
      "source": [
        "## Load Model"
      ]
    },
    {
      "cell_type": "code",
      "execution_count": 55,
      "metadata": {
        "colab": {
          "base_uri": "https://localhost:8080/",
          "height": 568
        },
        "id": "DgTU5d43kc-y",
        "outputId": "648210d6-5209-427d-9df7-91957b2dc3f6"
      },
      "outputs": [
        {
          "name": "stderr",
          "output_type": "stream",
          "text": [
            "/Users/alealcoforado/opt/anaconda3/envs/venv_zeroberto/lib/python3.10/site-packages/sklearn/base.py:299: UserWarning: Trying to unpickle estimator LogisticRegression from version 1.0.2 when using version 1.2.1. This might lead to breaking code or invalid results. Use at your own risk. For more info please refer to:\n",
            "https://scikit-learn.org/stable/model_persistence.html#security-maintainability-limitations\n",
            "  warnings.warn(\n"
          ]
        }
      ],
      "source": [
        "load_path = r'/Users/alealcoforado/Documents/Projetos/Modelos/setfit_top_n=4_n=8_15pairs_v1'\n",
        "\n",
        "saved_model = SetFitModel._from_pretrained(load_path)\n",
        "model_name = load_path"
      ]
    },
    {
      "cell_type": "code",
      "execution_count": null,
      "metadata": {},
      "outputs": [],
      "source": []
    },
    {
      "attachments": {},
      "cell_type": "markdown",
      "metadata": {},
      "source": [
        "{'weighted': [{'accuracy': 0.7208791208791209},\n",
        "  {'precision': 0.7966533533828771},\n",
        "  {'recall': 0.7208791208791209},\n",
        "  {'f1': 0.7383634133416869}],\n",
        " 'macro': [{'accuracy': 0.7208791208791209},\n",
        "  {'precision': 0.47294791260373964},\n",
        "  {'recall': 0.6956977371368128},\n",
        "  {'f1': 0.5148314501574386}]}\n",
        "\n",
        "  {'weighted': [{'accuracy': 0.7088331515812432},\n",
        "  {'precision': 0.8112290505989518},\n",
        "  {'recall': 0.7088331515812432},\n",
        "  {'f1': 0.7416526123050681}],\n",
        " 'macro': [{'accuracy': 0.7088331515812432},\n",
        "  {'precision': 0.5086466490124514},\n",
        "  {'recall': 0.7260511792805407},\n",
        "  {'f1': 0.5487853669870654}]}\n",
        "\n",
        "1/4 dataset\n",
        "  {'weighted': [{'accuracy': 0.712040293517433},\n",
        "  {'precision': 0.7969596487586078},\n",
        "  {'recall': 0.712040293517433},\n",
        "  {'f1': 0.7365853189562236}],\n",
        " 'macro': [{'accuracy': 0.712040293517433},\n",
        "  {'precision': 0.4964842305418267},\n",
        "  {'recall': 0.7028323441240695},\n",
        "  {'f1': 0.5374745594204607}]}\n",
        "\n",
        "full dataset\n",
        "{'weighted': [{'accuracy': 0.7090563785338325},\n",
        "  {'precision': 0.7967113724849181},\n",
        "  {'recall': 0.7090563785338325},\n",
        "  {'f1': 0.734316306685027}],\n",
        " 'macro': [{'accuracy': 0.7090563785338325},\n",
        "  {'precision': 0.4954781686924334},\n",
        "  {'recall': 0.7020811904269998},\n",
        "  {'f1': 0.5360406756304892}]}"
      ]
    }
  ],
  "metadata": {
    "colab": {
      "provenance": [],
      "toc_visible": true
    },
    "gpuClass": "standard",
    "kernelspec": {
      "display_name": "venv_zeroberto",
      "language": "python",
      "name": "python3"
    },
    "language_info": {
      "codemirror_mode": {
        "name": "ipython",
        "version": 3
      },
      "file_extension": ".py",
      "mimetype": "text/x-python",
      "name": "python",
      "nbconvert_exporter": "python",
      "pygments_lexer": "ipython3",
      "version": "3.10.9"
    },
    "vscode": {
      "interpreter": {
        "hash": "b98a7e24f8a69e8a460c693288d2fe0565d17bd4bdd6eb6203258b225132cc92"
      }
    },
    "widgets": {
      "application/vnd.jupyter.widget-state+json": {
        "0b073ac91d504f41a189e0c812de56f5": {
          "model_module": "@jupyter-widgets/base",
          "model_module_version": "1.2.0",
          "model_name": "LayoutModel",
          "state": {
            "_model_module": "@jupyter-widgets/base",
            "_model_module_version": "1.2.0",
            "_model_name": "LayoutModel",
            "_view_count": null,
            "_view_module": "@jupyter-widgets/base",
            "_view_module_version": "1.2.0",
            "_view_name": "LayoutView",
            "align_content": null,
            "align_items": null,
            "align_self": null,
            "border": null,
            "bottom": null,
            "display": null,
            "flex": null,
            "flex_flow": null,
            "grid_area": null,
            "grid_auto_columns": null,
            "grid_auto_flow": null,
            "grid_auto_rows": null,
            "grid_column": null,
            "grid_gap": null,
            "grid_row": null,
            "grid_template_areas": null,
            "grid_template_columns": null,
            "grid_template_rows": null,
            "height": null,
            "justify_content": null,
            "justify_items": null,
            "left": null,
            "margin": null,
            "max_height": null,
            "max_width": null,
            "min_height": null,
            "min_width": null,
            "object_fit": null,
            "object_position": null,
            "order": null,
            "overflow": null,
            "overflow_x": null,
            "overflow_y": null,
            "padding": null,
            "right": null,
            "top": null,
            "visibility": null,
            "width": null
          }
        },
        "1b39eb1b21894318a14615a8b1b2b23e": {
          "model_module": "@jupyter-widgets/controls",
          "model_module_version": "1.5.0",
          "model_name": "DescriptionStyleModel",
          "state": {
            "_model_module": "@jupyter-widgets/controls",
            "_model_module_version": "1.5.0",
            "_model_name": "DescriptionStyleModel",
            "_view_count": null,
            "_view_module": "@jupyter-widgets/base",
            "_view_module_version": "1.2.0",
            "_view_name": "StyleView",
            "description_width": ""
          }
        },
        "1f7d487c683f42c7afe9d13040f63291": {
          "model_module": "@jupyter-widgets/base",
          "model_module_version": "1.2.0",
          "model_name": "LayoutModel",
          "state": {
            "_model_module": "@jupyter-widgets/base",
            "_model_module_version": "1.2.0",
            "_model_name": "LayoutModel",
            "_view_count": null,
            "_view_module": "@jupyter-widgets/base",
            "_view_module_version": "1.2.0",
            "_view_name": "LayoutView",
            "align_content": null,
            "align_items": null,
            "align_self": null,
            "border": null,
            "bottom": null,
            "display": null,
            "flex": null,
            "flex_flow": null,
            "grid_area": null,
            "grid_auto_columns": null,
            "grid_auto_flow": null,
            "grid_auto_rows": null,
            "grid_column": null,
            "grid_gap": null,
            "grid_row": null,
            "grid_template_areas": null,
            "grid_template_columns": null,
            "grid_template_rows": null,
            "height": null,
            "justify_content": null,
            "justify_items": null,
            "left": null,
            "margin": null,
            "max_height": null,
            "max_width": null,
            "min_height": null,
            "min_width": null,
            "object_fit": null,
            "object_position": null,
            "order": null,
            "overflow": null,
            "overflow_x": null,
            "overflow_y": null,
            "padding": null,
            "right": null,
            "top": null,
            "visibility": null,
            "width": null
          }
        },
        "2589bd733c51433da691b4c7f38b8d0e": {
          "model_module": "@jupyter-widgets/controls",
          "model_module_version": "1.5.0",
          "model_name": "HBoxModel",
          "state": {
            "_dom_classes": [],
            "_model_module": "@jupyter-widgets/controls",
            "_model_module_version": "1.5.0",
            "_model_name": "HBoxModel",
            "_view_count": null,
            "_view_module": "@jupyter-widgets/controls",
            "_view_module_version": "1.5.0",
            "_view_name": "HBoxView",
            "box_style": "",
            "children": [
              "IPY_MODEL_d12bf941fabb4f069f90b69931fdb47c",
              "IPY_MODEL_5373d1f2507643b98ff9a7301bbe07b1",
              "IPY_MODEL_8811585c4f514484bc709fbe79cda464"
            ],
            "layout": "IPY_MODEL_bde968c5739648cea2c78cb44f9efe43"
          }
        },
        "4ca09aea630644519998d0eedf46533b": {
          "model_module": "@jupyter-widgets/base",
          "model_module_version": "1.2.0",
          "model_name": "LayoutModel",
          "state": {
            "_model_module": "@jupyter-widgets/base",
            "_model_module_version": "1.2.0",
            "_model_name": "LayoutModel",
            "_view_count": null,
            "_view_module": "@jupyter-widgets/base",
            "_view_module_version": "1.2.0",
            "_view_name": "LayoutView",
            "align_content": null,
            "align_items": null,
            "align_self": null,
            "border": null,
            "bottom": null,
            "display": null,
            "flex": null,
            "flex_flow": null,
            "grid_area": null,
            "grid_auto_columns": null,
            "grid_auto_flow": null,
            "grid_auto_rows": null,
            "grid_column": null,
            "grid_gap": null,
            "grid_row": null,
            "grid_template_areas": null,
            "grid_template_columns": null,
            "grid_template_rows": null,
            "height": null,
            "justify_content": null,
            "justify_items": null,
            "left": null,
            "margin": null,
            "max_height": null,
            "max_width": null,
            "min_height": null,
            "min_width": null,
            "object_fit": null,
            "object_position": null,
            "order": null,
            "overflow": null,
            "overflow_x": null,
            "overflow_y": null,
            "padding": null,
            "right": null,
            "top": null,
            "visibility": null,
            "width": null
          }
        },
        "4f016aa1a50240618345a11e3a3d5a22": {
          "model_module": "@jupyter-widgets/base",
          "model_module_version": "1.2.0",
          "model_name": "LayoutModel",
          "state": {
            "_model_module": "@jupyter-widgets/base",
            "_model_module_version": "1.2.0",
            "_model_name": "LayoutModel",
            "_view_count": null,
            "_view_module": "@jupyter-widgets/base",
            "_view_module_version": "1.2.0",
            "_view_name": "LayoutView",
            "align_content": null,
            "align_items": null,
            "align_self": null,
            "border": null,
            "bottom": null,
            "display": null,
            "flex": null,
            "flex_flow": null,
            "grid_area": null,
            "grid_auto_columns": null,
            "grid_auto_flow": null,
            "grid_auto_rows": null,
            "grid_column": null,
            "grid_gap": null,
            "grid_row": null,
            "grid_template_areas": null,
            "grid_template_columns": null,
            "grid_template_rows": null,
            "height": null,
            "justify_content": null,
            "justify_items": null,
            "left": null,
            "margin": null,
            "max_height": null,
            "max_width": null,
            "min_height": null,
            "min_width": null,
            "object_fit": null,
            "object_position": null,
            "order": null,
            "overflow": null,
            "overflow_x": null,
            "overflow_y": null,
            "padding": null,
            "right": null,
            "top": null,
            "visibility": null,
            "width": null
          }
        },
        "5373d1f2507643b98ff9a7301bbe07b1": {
          "model_module": "@jupyter-widgets/controls",
          "model_module_version": "1.5.0",
          "model_name": "FloatProgressModel",
          "state": {
            "_dom_classes": [],
            "_model_module": "@jupyter-widgets/controls",
            "_model_module_version": "1.5.0",
            "_model_name": "FloatProgressModel",
            "_view_count": null,
            "_view_module": "@jupyter-widgets/controls",
            "_view_module_version": "1.5.0",
            "_view_name": "ProgressView",
            "bar_style": "danger",
            "description": "",
            "description_tooltip": null,
            "layout": "IPY_MODEL_4f016aa1a50240618345a11e3a3d5a22",
            "max": 1,
            "min": 0,
            "orientation": "horizontal",
            "style": "IPY_MODEL_a45d104969904a8d9c6ad2b1321cb551",
            "value": 0
          }
        },
        "594ae3cd34ad4a25b1002a89bee91f79": {
          "model_module": "@jupyter-widgets/controls",
          "model_module_version": "1.5.0",
          "model_name": "HTMLModel",
          "state": {
            "_dom_classes": [],
            "_model_module": "@jupyter-widgets/controls",
            "_model_module_version": "1.5.0",
            "_model_name": "HTMLModel",
            "_view_count": null,
            "_view_module": "@jupyter-widgets/controls",
            "_view_module_version": "1.5.0",
            "_view_name": "HTMLView",
            "description": "",
            "description_tooltip": null,
            "layout": "IPY_MODEL_1f7d487c683f42c7afe9d13040f63291",
            "placeholder": "​",
            "style": "IPY_MODEL_1b39eb1b21894318a14615a8b1b2b23e",
            "value": " 4/768 [03:39&lt;11:19:21, 53.35s/it]"
          }
        },
        "614148306c98475384f2f6675e76c949": {
          "model_module": "@jupyter-widgets/controls",
          "model_module_version": "1.5.0",
          "model_name": "DescriptionStyleModel",
          "state": {
            "_model_module": "@jupyter-widgets/controls",
            "_model_module_version": "1.5.0",
            "_model_name": "DescriptionStyleModel",
            "_view_count": null,
            "_view_module": "@jupyter-widgets/base",
            "_view_module_version": "1.2.0",
            "_view_name": "StyleView",
            "description_width": ""
          }
        },
        "6cce7d01d13944298de49b6708608047": {
          "model_module": "@jupyter-widgets/base",
          "model_module_version": "1.2.0",
          "model_name": "LayoutModel",
          "state": {
            "_model_module": "@jupyter-widgets/base",
            "_model_module_version": "1.2.0",
            "_model_name": "LayoutModel",
            "_view_count": null,
            "_view_module": "@jupyter-widgets/base",
            "_view_module_version": "1.2.0",
            "_view_name": "LayoutView",
            "align_content": null,
            "align_items": null,
            "align_self": null,
            "border": null,
            "bottom": null,
            "display": null,
            "flex": null,
            "flex_flow": null,
            "grid_area": null,
            "grid_auto_columns": null,
            "grid_auto_flow": null,
            "grid_auto_rows": null,
            "grid_column": null,
            "grid_gap": null,
            "grid_row": null,
            "grid_template_areas": null,
            "grid_template_columns": null,
            "grid_template_rows": null,
            "height": null,
            "justify_content": null,
            "justify_items": null,
            "left": null,
            "margin": null,
            "max_height": null,
            "max_width": null,
            "min_height": null,
            "min_width": null,
            "object_fit": null,
            "object_position": null,
            "order": null,
            "overflow": null,
            "overflow_x": null,
            "overflow_y": null,
            "padding": null,
            "right": null,
            "top": null,
            "visibility": null,
            "width": null
          }
        },
        "6cd322ec42994ec6a89e02ce27198c84": {
          "model_module": "@jupyter-widgets/controls",
          "model_module_version": "1.5.0",
          "model_name": "HBoxModel",
          "state": {
            "_dom_classes": [],
            "_model_module": "@jupyter-widgets/controls",
            "_model_module_version": "1.5.0",
            "_model_name": "HBoxModel",
            "_view_count": null,
            "_view_module": "@jupyter-widgets/controls",
            "_view_module_version": "1.5.0",
            "_view_name": "HBoxView",
            "box_style": "",
            "children": [
              "IPY_MODEL_e1d32c5c521e43518891fc8a8cc5c228",
              "IPY_MODEL_799f907a811645f49d1365ec36648d7a",
              "IPY_MODEL_594ae3cd34ad4a25b1002a89bee91f79"
            ],
            "layout": "IPY_MODEL_92334509722542d8b3d67c036afbfb36"
          }
        },
        "799f907a811645f49d1365ec36648d7a": {
          "model_module": "@jupyter-widgets/controls",
          "model_module_version": "1.5.0",
          "model_name": "FloatProgressModel",
          "state": {
            "_dom_classes": [],
            "_model_module": "@jupyter-widgets/controls",
            "_model_module_version": "1.5.0",
            "_model_name": "FloatProgressModel",
            "_view_count": null,
            "_view_module": "@jupyter-widgets/controls",
            "_view_module_version": "1.5.0",
            "_view_name": "ProgressView",
            "bar_style": "danger",
            "description": "",
            "description_tooltip": null,
            "layout": "IPY_MODEL_0b073ac91d504f41a189e0c812de56f5",
            "max": 768,
            "min": 0,
            "orientation": "horizontal",
            "style": "IPY_MODEL_c874e790ca01432cb4043d96d8961734",
            "value": 4
          }
        },
        "8811585c4f514484bc709fbe79cda464": {
          "model_module": "@jupyter-widgets/controls",
          "model_module_version": "1.5.0",
          "model_name": "HTMLModel",
          "state": {
            "_dom_classes": [],
            "_model_module": "@jupyter-widgets/controls",
            "_model_module_version": "1.5.0",
            "_model_name": "HTMLModel",
            "_view_count": null,
            "_view_module": "@jupyter-widgets/controls",
            "_view_module_version": "1.5.0",
            "_view_name": "HTMLView",
            "description": "",
            "description_tooltip": null,
            "layout": "IPY_MODEL_6cce7d01d13944298de49b6708608047",
            "placeholder": "​",
            "style": "IPY_MODEL_614148306c98475384f2f6675e76c949",
            "value": " 0/1 [03:39&lt;?, ?it/s]"
          }
        },
        "92334509722542d8b3d67c036afbfb36": {
          "model_module": "@jupyter-widgets/base",
          "model_module_version": "1.2.0",
          "model_name": "LayoutModel",
          "state": {
            "_model_module": "@jupyter-widgets/base",
            "_model_module_version": "1.2.0",
            "_model_name": "LayoutModel",
            "_view_count": null,
            "_view_module": "@jupyter-widgets/base",
            "_view_module_version": "1.2.0",
            "_view_name": "LayoutView",
            "align_content": null,
            "align_items": null,
            "align_self": null,
            "border": null,
            "bottom": null,
            "display": null,
            "flex": null,
            "flex_flow": null,
            "grid_area": null,
            "grid_auto_columns": null,
            "grid_auto_flow": null,
            "grid_auto_rows": null,
            "grid_column": null,
            "grid_gap": null,
            "grid_row": null,
            "grid_template_areas": null,
            "grid_template_columns": null,
            "grid_template_rows": null,
            "height": null,
            "justify_content": null,
            "justify_items": null,
            "left": null,
            "margin": null,
            "max_height": null,
            "max_width": null,
            "min_height": null,
            "min_width": null,
            "object_fit": null,
            "object_position": null,
            "order": null,
            "overflow": null,
            "overflow_x": null,
            "overflow_y": null,
            "padding": null,
            "right": null,
            "top": null,
            "visibility": null,
            "width": null
          }
        },
        "a067c1ae053a4671bb0df88516003baf": {
          "model_module": "@jupyter-widgets/controls",
          "model_module_version": "1.5.0",
          "model_name": "DescriptionStyleModel",
          "state": {
            "_model_module": "@jupyter-widgets/controls",
            "_model_module_version": "1.5.0",
            "_model_name": "DescriptionStyleModel",
            "_view_count": null,
            "_view_module": "@jupyter-widgets/base",
            "_view_module_version": "1.2.0",
            "_view_name": "StyleView",
            "description_width": ""
          }
        },
        "a45d104969904a8d9c6ad2b1321cb551": {
          "model_module": "@jupyter-widgets/controls",
          "model_module_version": "1.5.0",
          "model_name": "ProgressStyleModel",
          "state": {
            "_model_module": "@jupyter-widgets/controls",
            "_model_module_version": "1.5.0",
            "_model_name": "ProgressStyleModel",
            "_view_count": null,
            "_view_module": "@jupyter-widgets/base",
            "_view_module_version": "1.2.0",
            "_view_name": "StyleView",
            "bar_color": null,
            "description_width": ""
          }
        },
        "b1f3660d72184ee8bcc83e9d4a61edb3": {
          "model_module": "@jupyter-widgets/base",
          "model_module_version": "1.2.0",
          "model_name": "LayoutModel",
          "state": {
            "_model_module": "@jupyter-widgets/base",
            "_model_module_version": "1.2.0",
            "_model_name": "LayoutModel",
            "_view_count": null,
            "_view_module": "@jupyter-widgets/base",
            "_view_module_version": "1.2.0",
            "_view_name": "LayoutView",
            "align_content": null,
            "align_items": null,
            "align_self": null,
            "border": null,
            "bottom": null,
            "display": null,
            "flex": null,
            "flex_flow": null,
            "grid_area": null,
            "grid_auto_columns": null,
            "grid_auto_flow": null,
            "grid_auto_rows": null,
            "grid_column": null,
            "grid_gap": null,
            "grid_row": null,
            "grid_template_areas": null,
            "grid_template_columns": null,
            "grid_template_rows": null,
            "height": null,
            "justify_content": null,
            "justify_items": null,
            "left": null,
            "margin": null,
            "max_height": null,
            "max_width": null,
            "min_height": null,
            "min_width": null,
            "object_fit": null,
            "object_position": null,
            "order": null,
            "overflow": null,
            "overflow_x": null,
            "overflow_y": null,
            "padding": null,
            "right": null,
            "top": null,
            "visibility": null,
            "width": null
          }
        },
        "bde968c5739648cea2c78cb44f9efe43": {
          "model_module": "@jupyter-widgets/base",
          "model_module_version": "1.2.0",
          "model_name": "LayoutModel",
          "state": {
            "_model_module": "@jupyter-widgets/base",
            "_model_module_version": "1.2.0",
            "_model_name": "LayoutModel",
            "_view_count": null,
            "_view_module": "@jupyter-widgets/base",
            "_view_module_version": "1.2.0",
            "_view_name": "LayoutView",
            "align_content": null,
            "align_items": null,
            "align_self": null,
            "border": null,
            "bottom": null,
            "display": null,
            "flex": null,
            "flex_flow": null,
            "grid_area": null,
            "grid_auto_columns": null,
            "grid_auto_flow": null,
            "grid_auto_rows": null,
            "grid_column": null,
            "grid_gap": null,
            "grid_row": null,
            "grid_template_areas": null,
            "grid_template_columns": null,
            "grid_template_rows": null,
            "height": null,
            "justify_content": null,
            "justify_items": null,
            "left": null,
            "margin": null,
            "max_height": null,
            "max_width": null,
            "min_height": null,
            "min_width": null,
            "object_fit": null,
            "object_position": null,
            "order": null,
            "overflow": null,
            "overflow_x": null,
            "overflow_y": null,
            "padding": null,
            "right": null,
            "top": null,
            "visibility": null,
            "width": null
          }
        },
        "c874e790ca01432cb4043d96d8961734": {
          "model_module": "@jupyter-widgets/controls",
          "model_module_version": "1.5.0",
          "model_name": "ProgressStyleModel",
          "state": {
            "_model_module": "@jupyter-widgets/controls",
            "_model_module_version": "1.5.0",
            "_model_name": "ProgressStyleModel",
            "_view_count": null,
            "_view_module": "@jupyter-widgets/base",
            "_view_module_version": "1.2.0",
            "_view_name": "StyleView",
            "bar_color": null,
            "description_width": ""
          }
        },
        "d12bf941fabb4f069f90b69931fdb47c": {
          "model_module": "@jupyter-widgets/controls",
          "model_module_version": "1.5.0",
          "model_name": "HTMLModel",
          "state": {
            "_dom_classes": [],
            "_model_module": "@jupyter-widgets/controls",
            "_model_module_version": "1.5.0",
            "_model_name": "HTMLModel",
            "_view_count": null,
            "_view_module": "@jupyter-widgets/controls",
            "_view_module_version": "1.5.0",
            "_view_name": "HTMLView",
            "description": "",
            "description_tooltip": null,
            "layout": "IPY_MODEL_4ca09aea630644519998d0eedf46533b",
            "placeholder": "​",
            "style": "IPY_MODEL_a067c1ae053a4671bb0df88516003baf",
            "value": "Epoch:   0%"
          }
        },
        "e1d32c5c521e43518891fc8a8cc5c228": {
          "model_module": "@jupyter-widgets/controls",
          "model_module_version": "1.5.0",
          "model_name": "HTMLModel",
          "state": {
            "_dom_classes": [],
            "_model_module": "@jupyter-widgets/controls",
            "_model_module_version": "1.5.0",
            "_model_name": "HTMLModel",
            "_view_count": null,
            "_view_module": "@jupyter-widgets/controls",
            "_view_module_version": "1.5.0",
            "_view_name": "HTMLView",
            "description": "",
            "description_tooltip": null,
            "layout": "IPY_MODEL_b1f3660d72184ee8bcc83e9d4a61edb3",
            "placeholder": "​",
            "style": "IPY_MODEL_f9fec4ecaec04b4a883555343e0ec597",
            "value": "Iteration:   1%"
          }
        },
        "f9fec4ecaec04b4a883555343e0ec597": {
          "model_module": "@jupyter-widgets/controls",
          "model_module_version": "1.5.0",
          "model_name": "DescriptionStyleModel",
          "state": {
            "_model_module": "@jupyter-widgets/controls",
            "_model_module_version": "1.5.0",
            "_model_name": "DescriptionStyleModel",
            "_view_count": null,
            "_view_module": "@jupyter-widgets/base",
            "_view_module_version": "1.2.0",
            "_view_name": "StyleView",
            "description_width": ""
          }
        }
      }
    }
  },
  "nbformat": 4,
  "nbformat_minor": 0
}
