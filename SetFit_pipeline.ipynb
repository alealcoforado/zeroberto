{
  "cells": [
    {
      "attachments": {},
      "cell_type": "markdown",
      "metadata": {},
      "source": [
        "# === ZeroBERTo Fit ==="
      ]
    },
    {
      "cell_type": "markdown",
      "metadata": {
        "id": "K8DWxQYlwxsf"
      },
      "source": [
        "# Dependencies"
      ]
    },
    {
      "cell_type": "code",
      "execution_count": null,
      "metadata": {
        "colab": {
          "base_uri": "https://localhost:8080/"
        },
        "id": "9zW0h_35BS49",
        "outputId": "313f83c9-5ac6-4fb7-888f-21ee26cfd45e"
      },
      "outputs": [],
      "source": [
        "# !pip install setfit\n",
        "# !pip install datasets\n",
        "%load_ext autoreload\n",
        "%autoreload 2"
      ]
    },
    {
      "cell_type": "code",
      "execution_count": null,
      "metadata": {
        "colab": {
          "base_uri": "https://localhost:8080/"
        },
        "id": "kjQjQp46somO",
        "outputId": "6e5f963d-57e6-40a2-9021-83d9829d5d8f"
      },
      "outputs": [],
      "source": [
        "# from google.colab import drive\n",
        "# import pandas as pd\n",
        "\n",
        "# drive.mount('/content/drive')"
      ]
    },
    {
      "cell_type": "code",
      "execution_count": null,
      "metadata": {},
      "outputs": [],
      "source": [
        "import pandas as pd\n",
        "import datasets_handler\n",
        "import datasets\n",
        "from datasets import Dataset\n",
        "from tqdm import tqdm\n",
        "from sklearn.preprocessing import LabelEncoder\n",
        "from sentence_transformers.losses import CosineSimilarityLoss\n",
        "from setfit import SetFitModel, SetFitTrainer, sample_dataset\n",
        "import evaluation_metrics\n",
        "import gc\n",
        "import zeroberto\n",
        "tqdm.pandas()\n"
      ]
    },
    {
      "cell_type": "code",
      "execution_count": null,
      "metadata": {},
      "outputs": [],
      "source": []
    },
    {
      "cell_type": "markdown",
      "metadata": {
        "id": "t2NJFz1jw8iy"
      },
      "source": [
        "# Data Prep"
      ]
    },
    {
      "cell_type": "code",
      "execution_count": null,
      "metadata": {},
      "outputs": [],
      "source": [
        "use_zeroshot_previous_step = True\n",
        "exec_time = 'first_test'\n",
        "\n",
        "which_dataset = 'folhauol'\n",
        "# which_dataset = 'bbc-news'\n",
        "# which_dataset = 'ag_news'\n",
        "\n",
        "\n",
        "split = \"zeroshot\" if use_zeroshot_previous_step else \"fewshot\"\n",
        "n = 4\n",
        "test_dataset_sample_size = 1/320\n",
        "## 1/64 ---> <6 min\n",
        "## 1/32 ---> <12 min\n",
        "## 1/16 ---> <22 min\n",
        "random_state = 422"
      ]
    },
    {
      "cell_type": "code",
      "execution_count": null,
      "metadata": {},
      "outputs": [],
      "source": [
        "top_n = 4"
      ]
    },
    {
      "attachments": {},
      "cell_type": "markdown",
      "metadata": {},
      "source": [
        "## Import Data"
      ]
    },
    {
      "cell_type": "code",
      "execution_count": null,
      "metadata": {},
      "outputs": [],
      "source": [
        "raw_data, data_col, class_col = datasets_handler.getDataset(which_dataset)\n"
      ]
    },
    {
      "cell_type": "markdown",
      "metadata": {
        "id": "FohkG6IXxXdu"
      },
      "source": [
        "### Data from Zero-Shot previous step"
      ]
    },
    {
      "cell_type": "code",
      "execution_count": null,
      "metadata": {},
      "outputs": [],
      "source": []
    },
    {
      "cell_type": "code",
      "execution_count": null,
      "metadata": {},
      "outputs": [],
      "source": [
        "if use_zeroshot_previous_step == True:\n",
        "    zeroshot_previous_data = datasets_handler.getZeroshotPreviousData(which_dataset,class_col,top_n=top_n,exec_time=exec_time)\n",
        "    raw_data_final, new_class_col = datasets_handler.mergeLabelingToDataset(raw_data,zeroshot_previous_data,class_col)\n",
        "#     raw_data_final = raw_data.join(zeroshot_previous_data)\n",
        "# #     ## overwrite true labels with predictions from zeroshot\n",
        "#     new_class_col = 'new_'+class_col\n",
        "#     raw_data_final.loc[~raw_data_final['prediction'].isna(),new_class_col] = raw_data_final['prediction'] \n",
        "#     raw_data_final.loc[raw_data_final['prediction'].isna(),new_class_col] = raw_data_final[class_col]\n",
        "\n",
        "# #     ## keep true labels of the rest, for testing\n",
        "#     raw_data_final = evaluation_metrics.Encoder(raw_data_final,[new_class_col])\n",
        "\n",
        "if use_zeroshot_previous_step == False:\n",
        "    raw_data_final = raw_data.copy()\n",
        "    new_class_col = class_col\n",
        "    raw_data_final[new_class_col] = raw_data_final[class_col]\n",
        "    raw_data_final = evaluation_metrics.Encoder(raw_data,[new_class_col])\n",
        "\n",
        "\n",
        "raw_data_final.columns\n",
        "\n"
      ]
    },
    {
      "cell_type": "markdown",
      "metadata": {},
      "source": [
        "## Dataset Split"
      ]
    },
    {
      "attachments": {},
      "cell_type": "markdown",
      "metadata": {
        "id": "z9kRpSikxbRM"
      },
      "source": [
        "### Standard SetFit (Few-Shot)"
      ]
    },
    {
      "cell_type": "code",
      "execution_count": null,
      "metadata": {
        "id": "mh5qXFj7CfpV"
      },
      "outputs": [],
      "source": [
        "### divide dataframe em treino e teste, com n samples para few-shot\n",
        "\n",
        "if (split==\"fewshot\"):\n",
        "  df_train = raw_data_final.groupby(new_class_col)[[data_col,new_class_col+\"_code\"]].apply(lambda s: s.sample(min(len(s),n)))\n",
        "  keys = list(df_train.columns.values)\n",
        "  i1 = raw_data_final.set_index(keys).index\n",
        "  i2 = df_train.set_index(keys).index\n",
        "  df_test = raw_data_final[~i1.isin(i2)]\n",
        "  df_test = df_test.groupby(new_class_col)[[data_col,new_class_col+\"_code\"]].apply(lambda x:x.sample(int(len(x)*test_dataset_sample_size)))\n",
        "  df_train[data_col] = df_train[data_col].astype(str)\n",
        "  df_test[data_col] = df_test[data_col].astype(str)\n",
        "  print(df_train.shape,df_test.shape)"
      ]
    },
    {
      "attachments": {},
      "cell_type": "markdown",
      "metadata": {
        "id": "SJn98MXKWMXc"
      },
      "source": [
        "### Zeroberto SetFit"
      ]
    },
    {
      "cell_type": "code",
      "execution_count": null,
      "metadata": {
        "id": "a72aFoc_WL4E"
      },
      "outputs": [],
      "source": [
        "if (split == \"zeroshot\"):\n",
        "  df_train = raw_data_final[~raw_data_final['prediction'].isna()].groupby(new_class_col+\"_code\")[[data_col,new_class_col+\"_code\"]].apply(lambda s: s.sample(min(len(s),top_n),random_state=random_state))\n",
        "\n",
        "  keys = list(df_train.columns.values)\n",
        "\n",
        "  i1 = raw_data_final.set_index(keys).index\n",
        "  i2 = df_train.set_index(keys).index\n",
        "\n",
        "  df_test = raw_data_final[~i1.isin(i2)]\n",
        "\n",
        "  df_test = df_test.groupby(new_class_col+\"_code\")[[data_col,new_class_col+\"_code\"]].apply(lambda x:x.sample(int(len(x)*test_dataset_sample_size),random_state=random_state))\n",
        "\n",
        "  df_train[data_col] = df_train[data_col].astype(str)\n",
        "  df_test[data_col] = df_test[data_col].astype(str)\n",
        "  print(df_train.shape,df_test.shape)"
      ]
    },
    {
      "attachments": {},
      "cell_type": "markdown",
      "metadata": {
        "id": "FSIDHKhNX3eg"
      },
      "source": [
        "### Build Dataset Dict"
      ]
    },
    {
      "cell_type": "code",
      "execution_count": null,
      "metadata": {
        "colab": {
          "base_uri": "https://localhost:8080/"
        },
        "id": "HGFTobZKCOWh",
        "outputId": "362e82dd-5e0e-437b-83f8-516e8c9fd7fa"
      },
      "outputs": [],
      "source": [
        "### transforma dataframes em datasetdict\n",
        "\n",
        "train_dataset = Dataset.from_dict(df_train)\n",
        "test_dataset = Dataset.from_dict(df_test)\n",
        "dataset_dict = datasets.DatasetDict({\"train\":train_dataset,\"test\":test_dataset})\n",
        "dataset = dataset_dict\n",
        "dataset"
      ]
    },
    {
      "attachments": {},
      "cell_type": "markdown",
      "metadata": {
        "id": "xKmLNNx-qGdM"
      },
      "source": [
        "# SetFit"
      ]
    },
    {
      "cell_type": "code",
      "execution_count": null,
      "metadata": {},
      "outputs": [],
      "source": []
    },
    {
      "attachments": {},
      "cell_type": "markdown",
      "metadata": {
        "id": "zP8cTH9ZxLuJ"
      },
      "source": [
        "## Model"
      ]
    },
    {
      "cell_type": "code",
      "execution_count": null,
      "metadata": {},
      "outputs": [],
      "source": [
        "# model = saved_model\n"
      ]
    },
    {
      "cell_type": "code",
      "execution_count": null,
      "metadata": {},
      "outputs": [],
      "source": []
    },
    {
      "cell_type": "code",
      "execution_count": null,
      "metadata": {},
      "outputs": [],
      "source": [
        "# model_name = \"sentence-transformers/nli-roberta-base-v2\"\n",
        "model_name = \"ricardo-filho/bert-base-portuguese-cased-nli-assin-2\"\n",
        "\n",
        "\n",
        "#### Models\n",
        "# \"sentence-transformers/paraphrase-mpnet-base-v2\"\n",
        "# \"ricardo-filho/bert-base-portuguese-cased-nli-assin-2\"\n",
        "# \"ricardo-filho/bert-portuguese-cased-nli-assin-2\"\n",
        "# \"sentence-transformers/nli-roberta-base-v2\"\n",
        "# \"neuralmind/bert-large-portuguese-cased\"\n",
        "# \"joeddav/xlm-roberta-large-xnli\"\n",
        "# \"openai-gpt\"\n",
        "\n",
        "model = SetFitModel.from_pretrained(model_name,\n",
        "                                    use_differentiable_head=True,\n",
        "                                    head_params={\"out_features\":len(raw_data[class_col].drop_duplicates())})"
      ]
    },
    {
      "attachments": {},
      "cell_type": "markdown",
      "metadata": {},
      "source": [
        "## Parameters"
      ]
    },
    {
      "cell_type": "code",
      "execution_count": null,
      "metadata": {},
      "outputs": [],
      "source": [
        "batch_size = 8\n",
        "num_text_pairs = 15\n",
        "num_epochs = 1\n",
        "\n",
        "setfit_config = {\n",
        "    \"model\":model_name,\n",
        "    \"dataset\":which_dataset,\n",
        "    \"batch_size\":batch_size,\n",
        "    \"num_pairs\":num_text_pairs,\n",
        "    \"num_epochs\":num_epochs,\n",
        "    \"dataset_sample_size\":test_dataset_sample_size,\n",
        "    \"N_examples\":n,\n",
        "    \"split\":split,\n",
        "    \"0shot_data\":exec_time\n",
        "}\n",
        "\n",
        "# Create trainer\n",
        "trainer = SetFitTrainer(\n",
        "    model=model,\n",
        "    train_dataset=train_dataset,\n",
        "    eval_dataset=test_dataset,\n",
        "    loss_class=CosineSimilarityLoss,\n",
        "    batch_size=setfit_config[\"batch_size\"],\n",
        "    num_iterations=setfit_config[\"num_pairs\"], # Number of text pairs to generate for contrastive learning\n",
        "    num_epochs=setfit_config[\"num_epochs\"], # Number of epochs to use for contrastive learning\n",
        "    column_mapping = {data_col: \"text\", new_class_col+\"_code\": \"label\"} # NÃO mudar\n",
        ")"
      ]
    },
    {
      "cell_type": "code",
      "execution_count": null,
      "metadata": {},
      "outputs": [],
      "source": []
    },
    {
      "cell_type": "code",
      "execution_count": null,
      "metadata": {},
      "outputs": [],
      "source": []
    },
    {
      "cell_type": "code",
      "execution_count": null,
      "metadata": {
        "id": "at8v7NZuBsTc"
      },
      "outputs": [],
      "source": [
        "%%time\n",
        "# Train and evaluate\n",
        "# trainer.freeze() # Freeze the head\n",
        "# trainer.train() # Train only the body\n",
        "\n",
        "# Unfreeze the head and freeze the body -> head-only training\n",
        "# trainer.unfreeze(keep_body_frozen=True)\n",
        "\n",
        "# Unfreeze the head and unfreeze the body -> end-to-end training\n",
        "trainer.unfreeze(keep_body_frozen=False)\n",
        "\n",
        "trainer.train(\n",
        "    num_epochs=25, # The number of epochs to train the head or the whole model (body and head)\n",
        "    batch_size=2,\n",
        "    body_learning_rate=1e-5, # The body's learning rate\n",
        "    learning_rate=1e-2, # The head's learning rate\n",
        "    l2_weight=0.0, # Weight decay on **both** the body and head. If `None`, will use 0.01.\n",
        ")\n",
        "\n",
        "print(setfit_config)"
      ]
    },
    {
      "cell_type": "markdown",
      "metadata": {
        "id": "CkLC8HLsZxv7"
      },
      "source": [
        "## Training"
      ]
    },
    {
      "cell_type": "code",
      "execution_count": null,
      "metadata": {
        "colab": {
          "base_uri": "https://localhost:8080/",
          "height": 703,
          "referenced_widgets": [
            "2589bd733c51433da691b4c7f38b8d0e",
            "d12bf941fabb4f069f90b69931fdb47c",
            "5373d1f2507643b98ff9a7301bbe07b1",
            "8811585c4f514484bc709fbe79cda464",
            "bde968c5739648cea2c78cb44f9efe43",
            "4ca09aea630644519998d0eedf46533b",
            "a067c1ae053a4671bb0df88516003baf",
            "4f016aa1a50240618345a11e3a3d5a22",
            "a45d104969904a8d9c6ad2b1321cb551",
            "6cce7d01d13944298de49b6708608047",
            "614148306c98475384f2f6675e76c949",
            "6cd322ec42994ec6a89e02ce27198c84",
            "e1d32c5c521e43518891fc8a8cc5c228",
            "799f907a811645f49d1365ec36648d7a",
            "594ae3cd34ad4a25b1002a89bee91f79",
            "92334509722542d8b3d67c036afbfb36",
            "b1f3660d72184ee8bcc83e9d4a61edb3",
            "f9fec4ecaec04b4a883555343e0ec597",
            "0b073ac91d504f41a189e0c812de56f5",
            "c874e790ca01432cb4043d96d8961734",
            "1f7d487c683f42c7afe9d13040f63291",
            "1b39eb1b21894318a14615a8b1b2b23e"
          ]
        },
        "id": "y4HXDGx2OoSl",
        "outputId": "1beaa051-43af-4f59-bd06-68855ab93b83"
      },
      "outputs": [],
      "source": [
        "%%time\n",
        "# trainer.unfreeze(keep_body_frozen=True)\n",
        "\n",
        "# trainer.train()\n",
        "gc.collect()"
      ]
    },
    {
      "cell_type": "code",
      "execution_count": null,
      "metadata": {},
      "outputs": [],
      "source": [
        "model([\"oi\",\"sports\",\"business and economics\"])\n",
        "# trainer.evaluate()"
      ]
    },
    {
      "attachments": {},
      "cell_type": "markdown",
      "metadata": {},
      "source": [
        "## Inference"
      ]
    },
    {
      "cell_type": "code",
      "execution_count": 60,
      "metadata": {},
      "outputs": [
        {
          "name": "stdout",
          "output_type": "stream",
          "text": [
            "<class 'torch.device'>\n",
            "Running predictions (with probabilities) on 282 sentences.\n"
          ]
        },
        {
          "ename": "TypeError",
          "evalue": "linear(): argument 'input' (position 1) must be Tensor, not numpy.ndarray",
          "output_type": "error",
          "traceback": [
            "\u001b[0;31m---------------------------------------------------------------------------\u001b[0m",
            "\u001b[0;31mTypeError\u001b[0m                                 Traceback (most recent call last)",
            "File \u001b[0;32m<timed exec>:2\u001b[0m\n",
            "File \u001b[0;32m~/Documents/Projetos/ZeroBERTo/zeroberto.py:79\u001b[0m, in \u001b[0;36mgetProbabilities\u001b[0;34m(setfit_trainer)\u001b[0m\n\u001b[1;32m     76\u001b[0m x_test \u001b[39m=\u001b[39m (eval_dataset[\u001b[39m\"\u001b[39m\u001b[39mtext\u001b[39m\u001b[39m\"\u001b[39m])\n\u001b[1;32m     77\u001b[0m \u001b[39mprint\u001b[39m(\u001b[39m\"\u001b[39m\u001b[39mRunning predictions (with probabilities) on \u001b[39m\u001b[39m{}\u001b[39;00m\u001b[39m sentences.\u001b[39m\u001b[39m\"\u001b[39m\u001b[39m.\u001b[39mformat(\u001b[39mlen\u001b[39m(x_test)))\n\u001b[0;32m---> 79\u001b[0m y_pred \u001b[39m=\u001b[39m setfit_trainer\u001b[39m.\u001b[39;49mmodel\u001b[39m.\u001b[39;49mpredict_proba(x_test)\n\u001b[1;32m     80\u001b[0m \u001b[39mreturn\u001b[39;00m y_pred\n",
            "File \u001b[0;32m~/opt/anaconda3/envs/venv_zeroberto/lib/python3.10/site-packages/setfit/modeling.py:331\u001b[0m, in \u001b[0;36mSetFitModel.predict_proba\u001b[0;34m(self, x_test)\u001b[0m\n\u001b[1;32m    329\u001b[0m \u001b[39mdef\u001b[39;00m \u001b[39mpredict_proba\u001b[39m(\u001b[39mself\u001b[39m, x_test: List[\u001b[39mstr\u001b[39m]) \u001b[39m-\u001b[39m\u001b[39m>\u001b[39m Union[torch\u001b[39m.\u001b[39mTensor, np\u001b[39m.\u001b[39mndarray]:\n\u001b[1;32m    330\u001b[0m     embeddings \u001b[39m=\u001b[39m \u001b[39mself\u001b[39m\u001b[39m.\u001b[39mmodel_body\u001b[39m.\u001b[39mencode(x_test, normalize_embeddings\u001b[39m=\u001b[39m\u001b[39mself\u001b[39m\u001b[39m.\u001b[39mnormalize_embeddings)\n\u001b[0;32m--> 331\u001b[0m     \u001b[39mreturn\u001b[39;00m \u001b[39mself\u001b[39;49m\u001b[39m.\u001b[39;49mmodel_head\u001b[39m.\u001b[39;49mpredict_proba(embeddings)\n",
            "File \u001b[0;32m~/opt/anaconda3/envs/venv_zeroberto/lib/python3.10/site-packages/setfit/modeling.py:135\u001b[0m, in \u001b[0;36mSetFitHead.predict_proba\u001b[0;34m(self, x_test)\u001b[0m\n\u001b[1;32m    132\u001b[0m \u001b[39mdef\u001b[39;00m \u001b[39mpredict_proba\u001b[39m(\u001b[39mself\u001b[39m, x_test: torch\u001b[39m.\u001b[39mTensor) \u001b[39m-\u001b[39m\u001b[39m>\u001b[39m torch\u001b[39m.\u001b[39mTensor:\n\u001b[1;32m    133\u001b[0m     \u001b[39mself\u001b[39m\u001b[39m.\u001b[39meval()\n\u001b[0;32m--> 135\u001b[0m     \u001b[39mreturn\u001b[39;00m \u001b[39mself\u001b[39;49m(x_test)\n",
            "File \u001b[0;32m~/opt/anaconda3/envs/venv_zeroberto/lib/python3.10/site-packages/torch/nn/modules/module.py:1194\u001b[0m, in \u001b[0;36mModule._call_impl\u001b[0;34m(self, *input, **kwargs)\u001b[0m\n\u001b[1;32m   1190\u001b[0m \u001b[39m# If we don't have any hooks, we want to skip the rest of the logic in\u001b[39;00m\n\u001b[1;32m   1191\u001b[0m \u001b[39m# this function, and just call forward.\u001b[39;00m\n\u001b[1;32m   1192\u001b[0m \u001b[39mif\u001b[39;00m \u001b[39mnot\u001b[39;00m (\u001b[39mself\u001b[39m\u001b[39m.\u001b[39m_backward_hooks \u001b[39mor\u001b[39;00m \u001b[39mself\u001b[39m\u001b[39m.\u001b[39m_forward_hooks \u001b[39mor\u001b[39;00m \u001b[39mself\u001b[39m\u001b[39m.\u001b[39m_forward_pre_hooks \u001b[39mor\u001b[39;00m _global_backward_hooks\n\u001b[1;32m   1193\u001b[0m         \u001b[39mor\u001b[39;00m _global_forward_hooks \u001b[39mor\u001b[39;00m _global_forward_pre_hooks):\n\u001b[0;32m-> 1194\u001b[0m     \u001b[39mreturn\u001b[39;00m forward_call(\u001b[39m*\u001b[39;49m\u001b[39minput\u001b[39;49m, \u001b[39m*\u001b[39;49m\u001b[39m*\u001b[39;49mkwargs)\n\u001b[1;32m   1195\u001b[0m \u001b[39m# Do not call functions when jit is used\u001b[39;00m\n\u001b[1;32m   1196\u001b[0m full_backward_hooks, non_full_backward_hooks \u001b[39m=\u001b[39m [], []\n",
            "File \u001b[0;32m~/opt/anaconda3/envs/venv_zeroberto/lib/python3.10/site-packages/setfit/modeling.py:119\u001b[0m, in \u001b[0;36mSetFitHead.forward\u001b[0;34m(self, features, temperature)\u001b[0m\n\u001b[1;32m    116\u001b[0m     is_features_dict \u001b[39m=\u001b[39m \u001b[39mTrue\u001b[39;00m\n\u001b[1;32m    118\u001b[0m x \u001b[39m=\u001b[39m features[\u001b[39m\"\u001b[39m\u001b[39msentence_embedding\u001b[39m\u001b[39m\"\u001b[39m] \u001b[39mif\u001b[39;00m is_features_dict \u001b[39melse\u001b[39;00m features\n\u001b[0;32m--> 119\u001b[0m logits \u001b[39m=\u001b[39m \u001b[39mself\u001b[39;49m\u001b[39m.\u001b[39;49mlinear(x)\n\u001b[1;32m    120\u001b[0m \u001b[39mif\u001b[39;00m \u001b[39mself\u001b[39m\u001b[39m.\u001b[39mout_features \u001b[39m==\u001b[39m \u001b[39m1\u001b[39m:  \u001b[39m# only has one target\u001b[39;00m\n\u001b[1;32m    121\u001b[0m     outputs \u001b[39m=\u001b[39m torch\u001b[39m.\u001b[39msigmoid(logits)\n",
            "File \u001b[0;32m~/opt/anaconda3/envs/venv_zeroberto/lib/python3.10/site-packages/torch/nn/modules/module.py:1194\u001b[0m, in \u001b[0;36mModule._call_impl\u001b[0;34m(self, *input, **kwargs)\u001b[0m\n\u001b[1;32m   1190\u001b[0m \u001b[39m# If we don't have any hooks, we want to skip the rest of the logic in\u001b[39;00m\n\u001b[1;32m   1191\u001b[0m \u001b[39m# this function, and just call forward.\u001b[39;00m\n\u001b[1;32m   1192\u001b[0m \u001b[39mif\u001b[39;00m \u001b[39mnot\u001b[39;00m (\u001b[39mself\u001b[39m\u001b[39m.\u001b[39m_backward_hooks \u001b[39mor\u001b[39;00m \u001b[39mself\u001b[39m\u001b[39m.\u001b[39m_forward_hooks \u001b[39mor\u001b[39;00m \u001b[39mself\u001b[39m\u001b[39m.\u001b[39m_forward_pre_hooks \u001b[39mor\u001b[39;00m _global_backward_hooks\n\u001b[1;32m   1193\u001b[0m         \u001b[39mor\u001b[39;00m _global_forward_hooks \u001b[39mor\u001b[39;00m _global_forward_pre_hooks):\n\u001b[0;32m-> 1194\u001b[0m     \u001b[39mreturn\u001b[39;00m forward_call(\u001b[39m*\u001b[39;49m\u001b[39minput\u001b[39;49m, \u001b[39m*\u001b[39;49m\u001b[39m*\u001b[39;49mkwargs)\n\u001b[1;32m   1195\u001b[0m \u001b[39m# Do not call functions when jit is used\u001b[39;00m\n\u001b[1;32m   1196\u001b[0m full_backward_hooks, non_full_backward_hooks \u001b[39m=\u001b[39m [], []\n",
            "File \u001b[0;32m~/opt/anaconda3/envs/venv_zeroberto/lib/python3.10/site-packages/torch/nn/modules/linear.py:114\u001b[0m, in \u001b[0;36mLinear.forward\u001b[0;34m(self, input)\u001b[0m\n\u001b[1;32m    113\u001b[0m \u001b[39mdef\u001b[39;00m \u001b[39mforward\u001b[39m(\u001b[39mself\u001b[39m, \u001b[39minput\u001b[39m: Tensor) \u001b[39m-\u001b[39m\u001b[39m>\u001b[39m Tensor:\n\u001b[0;32m--> 114\u001b[0m     \u001b[39mreturn\u001b[39;00m F\u001b[39m.\u001b[39;49mlinear(\u001b[39minput\u001b[39;49m, \u001b[39mself\u001b[39;49m\u001b[39m.\u001b[39;49mweight, \u001b[39mself\u001b[39;49m\u001b[39m.\u001b[39;49mbias)\n",
            "\u001b[0;31mTypeError\u001b[0m: linear(): argument 'input' (position 1) must be Tensor, not numpy.ndarray"
          ]
        }
      ],
      "source": [
        "%%time\n",
        "# y_pred = zeroberto.getPredictions(trainer)\n",
        "y_pred = zeroberto.getProbabilities(trainer)\n",
        "\n",
        "#### folhauol: aprox. 4 predicoes por segundo\n",
        "#### bbcnews: aprox. 4 preds por segundo\n",
        "#### ag_news: aprox. 33 preds por segundo"
      ]
    },
    {
      "cell_type": "code",
      "execution_count": null,
      "metadata": {},
      "outputs": [],
      "source": []
    },
    {
      "cell_type": "code",
      "execution_count": null,
      "metadata": {},
      "outputs": [],
      "source": []
    },
    {
      "attachments": {},
      "cell_type": "markdown",
      "metadata": {
        "id": "c76dcxZcqQiF"
      },
      "source": [
        "# Evaluation"
      ]
    },
    {
      "attachments": {},
      "cell_type": "markdown",
      "metadata": {},
      "source": [
        "## Metrics"
      ]
    },
    {
      "cell_type": "code",
      "execution_count": null,
      "metadata": {
        "colab": {
          "base_uri": "https://localhost:8080/",
          "height": 407
        },
        "id": "GGIXbhEJXp2D",
        "outputId": "e30955f8-91b0-4789-8114-ff925881d0cf"
      },
      "outputs": [],
      "source": [
        "try: print(all_metrics)\n",
        "except: pass\n",
        "all_metrics = evaluation_metrics.get_metrics(y_pred ,test_dataset[new_class_col+\"_code\"])\n",
        "print(all_metrics)"
      ]
    },
    {
      "attachments": {},
      "cell_type": "markdown",
      "metadata": {},
      "source": [
        "## Save Results"
      ]
    },
    {
      "cell_type": "code",
      "execution_count": null,
      "metadata": {},
      "outputs": [],
      "source": [
        "setfit_exec_time  = evaluation_metrics.saveResults(setfit_config,all_metrics)\n",
        "print(setfit_config)"
      ]
    },
    {
      "attachments": {},
      "cell_type": "markdown",
      "metadata": {},
      "source": [
        "# Save Model"
      ]
    },
    {
      "cell_type": "code",
      "execution_count": null,
      "metadata": {},
      "outputs": [],
      "source": [
        "model_path = \"/Users/alealcoforado/Documents/Projetos/Modelos/{exec}\".format(exec=setfit_exec_time)\n",
        "print(model_path)\n",
        "trainer.model._save_pretrained(save_directory=model_path)"
      ]
    },
    {
      "attachments": {},
      "cell_type": "markdown",
      "metadata": {},
      "source": [
        "## Load Model"
      ]
    },
    {
      "cell_type": "code",
      "execution_count": null,
      "metadata": {
        "colab": {
          "base_uri": "https://localhost:8080/",
          "height": 568
        },
        "id": "DgTU5d43kc-y",
        "outputId": "648210d6-5209-427d-9df7-91957b2dc3f6"
      },
      "outputs": [],
      "source": [
        "load_path = r'/Users/alealcoforado/Documents/Projetos/Modelos/setfit_top_n=4_n=8_15pairs_v1'\n",
        "\n",
        "saved_model = SetFitModel._from_pretrained(load_path)\n",
        "model_name = load_path"
      ]
    },
    {
      "cell_type": "code",
      "execution_count": null,
      "metadata": {},
      "outputs": [],
      "source": []
    },
    {
      "cell_type": "code",
      "execution_count": null,
      "metadata": {},
      "outputs": [],
      "source": []
    },
    {
      "attachments": {},
      "cell_type": "markdown",
      "metadata": {},
      "source": [
        "{'weighted': [{'accuracy': 0.7208791208791209},\n",
        "  {'precision': 0.7966533533828771},\n",
        "  {'recall': 0.7208791208791209},\n",
        "  {'f1': 0.7383634133416869}],\n",
        " 'macro': [{'accuracy': 0.7208791208791209},\n",
        "  {'precision': 0.47294791260373964},\n",
        "  {'recall': 0.6956977371368128},\n",
        "  {'f1': 0.5148314501574386}]}\n",
        "\n",
        "  {'weighted': [{'accuracy': 0.7088331515812432},\n",
        "  {'precision': 0.8112290505989518},\n",
        "  {'recall': 0.7088331515812432},\n",
        "  {'f1': 0.7416526123050681}],\n",
        " 'macro': [{'accuracy': 0.7088331515812432},\n",
        "  {'precision': 0.5086466490124514},\n",
        "  {'recall': 0.7260511792805407},\n",
        "  {'f1': 0.5487853669870654}]}\n",
        "\n",
        "1/4 dataset\n",
        "  {'weighted': [{'accuracy': 0.712040293517433},\n",
        "  {'precision': 0.7969596487586078},\n",
        "  {'recall': 0.712040293517433},\n",
        "  {'f1': 0.7365853189562236}],\n",
        " 'macro': [{'accuracy': 0.712040293517433},\n",
        "  {'precision': 0.4964842305418267},\n",
        "  {'recall': 0.7028323441240695},\n",
        "  {'f1': 0.5374745594204607}]}\n",
        "\n",
        "full dataset\n",
        "{'weighted': [{'accuracy': 0.7090563785338325},\n",
        "  {'precision': 0.7967113724849181},\n",
        "  {'recall': 0.7090563785338325},\n",
        "  {'f1': 0.734316306685027}],\n",
        " 'macro': [{'accuracy': 0.7090563785338325},\n",
        "  {'precision': 0.4954781686924334},\n",
        "  {'recall': 0.7020811904269998},\n",
        "  {'f1': 0.5360406756304892}]}"
      ]
    }
  ],
  "metadata": {
    "colab": {
      "provenance": [],
      "toc_visible": true
    },
    "gpuClass": "standard",
    "kernelspec": {
      "display_name": "venv_zeroberto",
      "language": "python",
      "name": "python3"
    },
    "language_info": {
      "codemirror_mode": {
        "name": "ipython",
        "version": 3
      },
      "file_extension": ".py",
      "mimetype": "text/x-python",
      "name": "python",
      "nbconvert_exporter": "python",
      "pygments_lexer": "ipython3",
      "version": "3.10.9"
    },
    "vscode": {
      "interpreter": {
        "hash": "b98a7e24f8a69e8a460c693288d2fe0565d17bd4bdd6eb6203258b225132cc92"
      }
    },
    "widgets": {
      "application/vnd.jupyter.widget-state+json": {
        "0b073ac91d504f41a189e0c812de56f5": {
          "model_module": "@jupyter-widgets/base",
          "model_module_version": "1.2.0",
          "model_name": "LayoutModel",
          "state": {
            "_model_module": "@jupyter-widgets/base",
            "_model_module_version": "1.2.0",
            "_model_name": "LayoutModel",
            "_view_count": null,
            "_view_module": "@jupyter-widgets/base",
            "_view_module_version": "1.2.0",
            "_view_name": "LayoutView",
            "align_content": null,
            "align_items": null,
            "align_self": null,
            "border": null,
            "bottom": null,
            "display": null,
            "flex": null,
            "flex_flow": null,
            "grid_area": null,
            "grid_auto_columns": null,
            "grid_auto_flow": null,
            "grid_auto_rows": null,
            "grid_column": null,
            "grid_gap": null,
            "grid_row": null,
            "grid_template_areas": null,
            "grid_template_columns": null,
            "grid_template_rows": null,
            "height": null,
            "justify_content": null,
            "justify_items": null,
            "left": null,
            "margin": null,
            "max_height": null,
            "max_width": null,
            "min_height": null,
            "min_width": null,
            "object_fit": null,
            "object_position": null,
            "order": null,
            "overflow": null,
            "overflow_x": null,
            "overflow_y": null,
            "padding": null,
            "right": null,
            "top": null,
            "visibility": null,
            "width": null
          }
        },
        "1b39eb1b21894318a14615a8b1b2b23e": {
          "model_module": "@jupyter-widgets/controls",
          "model_module_version": "1.5.0",
          "model_name": "DescriptionStyleModel",
          "state": {
            "_model_module": "@jupyter-widgets/controls",
            "_model_module_version": "1.5.0",
            "_model_name": "DescriptionStyleModel",
            "_view_count": null,
            "_view_module": "@jupyter-widgets/base",
            "_view_module_version": "1.2.0",
            "_view_name": "StyleView",
            "description_width": ""
          }
        },
        "1f7d487c683f42c7afe9d13040f63291": {
          "model_module": "@jupyter-widgets/base",
          "model_module_version": "1.2.0",
          "model_name": "LayoutModel",
          "state": {
            "_model_module": "@jupyter-widgets/base",
            "_model_module_version": "1.2.0",
            "_model_name": "LayoutModel",
            "_view_count": null,
            "_view_module": "@jupyter-widgets/base",
            "_view_module_version": "1.2.0",
            "_view_name": "LayoutView",
            "align_content": null,
            "align_items": null,
            "align_self": null,
            "border": null,
            "bottom": null,
            "display": null,
            "flex": null,
            "flex_flow": null,
            "grid_area": null,
            "grid_auto_columns": null,
            "grid_auto_flow": null,
            "grid_auto_rows": null,
            "grid_column": null,
            "grid_gap": null,
            "grid_row": null,
            "grid_template_areas": null,
            "grid_template_columns": null,
            "grid_template_rows": null,
            "height": null,
            "justify_content": null,
            "justify_items": null,
            "left": null,
            "margin": null,
            "max_height": null,
            "max_width": null,
            "min_height": null,
            "min_width": null,
            "object_fit": null,
            "object_position": null,
            "order": null,
            "overflow": null,
            "overflow_x": null,
            "overflow_y": null,
            "padding": null,
            "right": null,
            "top": null,
            "visibility": null,
            "width": null
          }
        },
        "2589bd733c51433da691b4c7f38b8d0e": {
          "model_module": "@jupyter-widgets/controls",
          "model_module_version": "1.5.0",
          "model_name": "HBoxModel",
          "state": {
            "_dom_classes": [],
            "_model_module": "@jupyter-widgets/controls",
            "_model_module_version": "1.5.0",
            "_model_name": "HBoxModel",
            "_view_count": null,
            "_view_module": "@jupyter-widgets/controls",
            "_view_module_version": "1.5.0",
            "_view_name": "HBoxView",
            "box_style": "",
            "children": [
              "IPY_MODEL_d12bf941fabb4f069f90b69931fdb47c",
              "IPY_MODEL_5373d1f2507643b98ff9a7301bbe07b1",
              "IPY_MODEL_8811585c4f514484bc709fbe79cda464"
            ],
            "layout": "IPY_MODEL_bde968c5739648cea2c78cb44f9efe43"
          }
        },
        "4ca09aea630644519998d0eedf46533b": {
          "model_module": "@jupyter-widgets/base",
          "model_module_version": "1.2.0",
          "model_name": "LayoutModel",
          "state": {
            "_model_module": "@jupyter-widgets/base",
            "_model_module_version": "1.2.0",
            "_model_name": "LayoutModel",
            "_view_count": null,
            "_view_module": "@jupyter-widgets/base",
            "_view_module_version": "1.2.0",
            "_view_name": "LayoutView",
            "align_content": null,
            "align_items": null,
            "align_self": null,
            "border": null,
            "bottom": null,
            "display": null,
            "flex": null,
            "flex_flow": null,
            "grid_area": null,
            "grid_auto_columns": null,
            "grid_auto_flow": null,
            "grid_auto_rows": null,
            "grid_column": null,
            "grid_gap": null,
            "grid_row": null,
            "grid_template_areas": null,
            "grid_template_columns": null,
            "grid_template_rows": null,
            "height": null,
            "justify_content": null,
            "justify_items": null,
            "left": null,
            "margin": null,
            "max_height": null,
            "max_width": null,
            "min_height": null,
            "min_width": null,
            "object_fit": null,
            "object_position": null,
            "order": null,
            "overflow": null,
            "overflow_x": null,
            "overflow_y": null,
            "padding": null,
            "right": null,
            "top": null,
            "visibility": null,
            "width": null
          }
        },
        "4f016aa1a50240618345a11e3a3d5a22": {
          "model_module": "@jupyter-widgets/base",
          "model_module_version": "1.2.0",
          "model_name": "LayoutModel",
          "state": {
            "_model_module": "@jupyter-widgets/base",
            "_model_module_version": "1.2.0",
            "_model_name": "LayoutModel",
            "_view_count": null,
            "_view_module": "@jupyter-widgets/base",
            "_view_module_version": "1.2.0",
            "_view_name": "LayoutView",
            "align_content": null,
            "align_items": null,
            "align_self": null,
            "border": null,
            "bottom": null,
            "display": null,
            "flex": null,
            "flex_flow": null,
            "grid_area": null,
            "grid_auto_columns": null,
            "grid_auto_flow": null,
            "grid_auto_rows": null,
            "grid_column": null,
            "grid_gap": null,
            "grid_row": null,
            "grid_template_areas": null,
            "grid_template_columns": null,
            "grid_template_rows": null,
            "height": null,
            "justify_content": null,
            "justify_items": null,
            "left": null,
            "margin": null,
            "max_height": null,
            "max_width": null,
            "min_height": null,
            "min_width": null,
            "object_fit": null,
            "object_position": null,
            "order": null,
            "overflow": null,
            "overflow_x": null,
            "overflow_y": null,
            "padding": null,
            "right": null,
            "top": null,
            "visibility": null,
            "width": null
          }
        },
        "5373d1f2507643b98ff9a7301bbe07b1": {
          "model_module": "@jupyter-widgets/controls",
          "model_module_version": "1.5.0",
          "model_name": "FloatProgressModel",
          "state": {
            "_dom_classes": [],
            "_model_module": "@jupyter-widgets/controls",
            "_model_module_version": "1.5.0",
            "_model_name": "FloatProgressModel",
            "_view_count": null,
            "_view_module": "@jupyter-widgets/controls",
            "_view_module_version": "1.5.0",
            "_view_name": "ProgressView",
            "bar_style": "danger",
            "description": "",
            "description_tooltip": null,
            "layout": "IPY_MODEL_4f016aa1a50240618345a11e3a3d5a22",
            "max": 1,
            "min": 0,
            "orientation": "horizontal",
            "style": "IPY_MODEL_a45d104969904a8d9c6ad2b1321cb551",
            "value": 0
          }
        },
        "594ae3cd34ad4a25b1002a89bee91f79": {
          "model_module": "@jupyter-widgets/controls",
          "model_module_version": "1.5.0",
          "model_name": "HTMLModel",
          "state": {
            "_dom_classes": [],
            "_model_module": "@jupyter-widgets/controls",
            "_model_module_version": "1.5.0",
            "_model_name": "HTMLModel",
            "_view_count": null,
            "_view_module": "@jupyter-widgets/controls",
            "_view_module_version": "1.5.0",
            "_view_name": "HTMLView",
            "description": "",
            "description_tooltip": null,
            "layout": "IPY_MODEL_1f7d487c683f42c7afe9d13040f63291",
            "placeholder": "​",
            "style": "IPY_MODEL_1b39eb1b21894318a14615a8b1b2b23e",
            "value": " 4/768 [03:39&lt;11:19:21, 53.35s/it]"
          }
        },
        "614148306c98475384f2f6675e76c949": {
          "model_module": "@jupyter-widgets/controls",
          "model_module_version": "1.5.0",
          "model_name": "DescriptionStyleModel",
          "state": {
            "_model_module": "@jupyter-widgets/controls",
            "_model_module_version": "1.5.0",
            "_model_name": "DescriptionStyleModel",
            "_view_count": null,
            "_view_module": "@jupyter-widgets/base",
            "_view_module_version": "1.2.0",
            "_view_name": "StyleView",
            "description_width": ""
          }
        },
        "6cce7d01d13944298de49b6708608047": {
          "model_module": "@jupyter-widgets/base",
          "model_module_version": "1.2.0",
          "model_name": "LayoutModel",
          "state": {
            "_model_module": "@jupyter-widgets/base",
            "_model_module_version": "1.2.0",
            "_model_name": "LayoutModel",
            "_view_count": null,
            "_view_module": "@jupyter-widgets/base",
            "_view_module_version": "1.2.0",
            "_view_name": "LayoutView",
            "align_content": null,
            "align_items": null,
            "align_self": null,
            "border": null,
            "bottom": null,
            "display": null,
            "flex": null,
            "flex_flow": null,
            "grid_area": null,
            "grid_auto_columns": null,
            "grid_auto_flow": null,
            "grid_auto_rows": null,
            "grid_column": null,
            "grid_gap": null,
            "grid_row": null,
            "grid_template_areas": null,
            "grid_template_columns": null,
            "grid_template_rows": null,
            "height": null,
            "justify_content": null,
            "justify_items": null,
            "left": null,
            "margin": null,
            "max_height": null,
            "max_width": null,
            "min_height": null,
            "min_width": null,
            "object_fit": null,
            "object_position": null,
            "order": null,
            "overflow": null,
            "overflow_x": null,
            "overflow_y": null,
            "padding": null,
            "right": null,
            "top": null,
            "visibility": null,
            "width": null
          }
        },
        "6cd322ec42994ec6a89e02ce27198c84": {
          "model_module": "@jupyter-widgets/controls",
          "model_module_version": "1.5.0",
          "model_name": "HBoxModel",
          "state": {
            "_dom_classes": [],
            "_model_module": "@jupyter-widgets/controls",
            "_model_module_version": "1.5.0",
            "_model_name": "HBoxModel",
            "_view_count": null,
            "_view_module": "@jupyter-widgets/controls",
            "_view_module_version": "1.5.0",
            "_view_name": "HBoxView",
            "box_style": "",
            "children": [
              "IPY_MODEL_e1d32c5c521e43518891fc8a8cc5c228",
              "IPY_MODEL_799f907a811645f49d1365ec36648d7a",
              "IPY_MODEL_594ae3cd34ad4a25b1002a89bee91f79"
            ],
            "layout": "IPY_MODEL_92334509722542d8b3d67c036afbfb36"
          }
        },
        "799f907a811645f49d1365ec36648d7a": {
          "model_module": "@jupyter-widgets/controls",
          "model_module_version": "1.5.0",
          "model_name": "FloatProgressModel",
          "state": {
            "_dom_classes": [],
            "_model_module": "@jupyter-widgets/controls",
            "_model_module_version": "1.5.0",
            "_model_name": "FloatProgressModel",
            "_view_count": null,
            "_view_module": "@jupyter-widgets/controls",
            "_view_module_version": "1.5.0",
            "_view_name": "ProgressView",
            "bar_style": "danger",
            "description": "",
            "description_tooltip": null,
            "layout": "IPY_MODEL_0b073ac91d504f41a189e0c812de56f5",
            "max": 768,
            "min": 0,
            "orientation": "horizontal",
            "style": "IPY_MODEL_c874e790ca01432cb4043d96d8961734",
            "value": 4
          }
        },
        "8811585c4f514484bc709fbe79cda464": {
          "model_module": "@jupyter-widgets/controls",
          "model_module_version": "1.5.0",
          "model_name": "HTMLModel",
          "state": {
            "_dom_classes": [],
            "_model_module": "@jupyter-widgets/controls",
            "_model_module_version": "1.5.0",
            "_model_name": "HTMLModel",
            "_view_count": null,
            "_view_module": "@jupyter-widgets/controls",
            "_view_module_version": "1.5.0",
            "_view_name": "HTMLView",
            "description": "",
            "description_tooltip": null,
            "layout": "IPY_MODEL_6cce7d01d13944298de49b6708608047",
            "placeholder": "​",
            "style": "IPY_MODEL_614148306c98475384f2f6675e76c949",
            "value": " 0/1 [03:39&lt;?, ?it/s]"
          }
        },
        "92334509722542d8b3d67c036afbfb36": {
          "model_module": "@jupyter-widgets/base",
          "model_module_version": "1.2.0",
          "model_name": "LayoutModel",
          "state": {
            "_model_module": "@jupyter-widgets/base",
            "_model_module_version": "1.2.0",
            "_model_name": "LayoutModel",
            "_view_count": null,
            "_view_module": "@jupyter-widgets/base",
            "_view_module_version": "1.2.0",
            "_view_name": "LayoutView",
            "align_content": null,
            "align_items": null,
            "align_self": null,
            "border": null,
            "bottom": null,
            "display": null,
            "flex": null,
            "flex_flow": null,
            "grid_area": null,
            "grid_auto_columns": null,
            "grid_auto_flow": null,
            "grid_auto_rows": null,
            "grid_column": null,
            "grid_gap": null,
            "grid_row": null,
            "grid_template_areas": null,
            "grid_template_columns": null,
            "grid_template_rows": null,
            "height": null,
            "justify_content": null,
            "justify_items": null,
            "left": null,
            "margin": null,
            "max_height": null,
            "max_width": null,
            "min_height": null,
            "min_width": null,
            "object_fit": null,
            "object_position": null,
            "order": null,
            "overflow": null,
            "overflow_x": null,
            "overflow_y": null,
            "padding": null,
            "right": null,
            "top": null,
            "visibility": null,
            "width": null
          }
        },
        "a067c1ae053a4671bb0df88516003baf": {
          "model_module": "@jupyter-widgets/controls",
          "model_module_version": "1.5.0",
          "model_name": "DescriptionStyleModel",
          "state": {
            "_model_module": "@jupyter-widgets/controls",
            "_model_module_version": "1.5.0",
            "_model_name": "DescriptionStyleModel",
            "_view_count": null,
            "_view_module": "@jupyter-widgets/base",
            "_view_module_version": "1.2.0",
            "_view_name": "StyleView",
            "description_width": ""
          }
        },
        "a45d104969904a8d9c6ad2b1321cb551": {
          "model_module": "@jupyter-widgets/controls",
          "model_module_version": "1.5.0",
          "model_name": "ProgressStyleModel",
          "state": {
            "_model_module": "@jupyter-widgets/controls",
            "_model_module_version": "1.5.0",
            "_model_name": "ProgressStyleModel",
            "_view_count": null,
            "_view_module": "@jupyter-widgets/base",
            "_view_module_version": "1.2.0",
            "_view_name": "StyleView",
            "bar_color": null,
            "description_width": ""
          }
        },
        "b1f3660d72184ee8bcc83e9d4a61edb3": {
          "model_module": "@jupyter-widgets/base",
          "model_module_version": "1.2.0",
          "model_name": "LayoutModel",
          "state": {
            "_model_module": "@jupyter-widgets/base",
            "_model_module_version": "1.2.0",
            "_model_name": "LayoutModel",
            "_view_count": null,
            "_view_module": "@jupyter-widgets/base",
            "_view_module_version": "1.2.0",
            "_view_name": "LayoutView",
            "align_content": null,
            "align_items": null,
            "align_self": null,
            "border": null,
            "bottom": null,
            "display": null,
            "flex": null,
            "flex_flow": null,
            "grid_area": null,
            "grid_auto_columns": null,
            "grid_auto_flow": null,
            "grid_auto_rows": null,
            "grid_column": null,
            "grid_gap": null,
            "grid_row": null,
            "grid_template_areas": null,
            "grid_template_columns": null,
            "grid_template_rows": null,
            "height": null,
            "justify_content": null,
            "justify_items": null,
            "left": null,
            "margin": null,
            "max_height": null,
            "max_width": null,
            "min_height": null,
            "min_width": null,
            "object_fit": null,
            "object_position": null,
            "order": null,
            "overflow": null,
            "overflow_x": null,
            "overflow_y": null,
            "padding": null,
            "right": null,
            "top": null,
            "visibility": null,
            "width": null
          }
        },
        "bde968c5739648cea2c78cb44f9efe43": {
          "model_module": "@jupyter-widgets/base",
          "model_module_version": "1.2.0",
          "model_name": "LayoutModel",
          "state": {
            "_model_module": "@jupyter-widgets/base",
            "_model_module_version": "1.2.0",
            "_model_name": "LayoutModel",
            "_view_count": null,
            "_view_module": "@jupyter-widgets/base",
            "_view_module_version": "1.2.0",
            "_view_name": "LayoutView",
            "align_content": null,
            "align_items": null,
            "align_self": null,
            "border": null,
            "bottom": null,
            "display": null,
            "flex": null,
            "flex_flow": null,
            "grid_area": null,
            "grid_auto_columns": null,
            "grid_auto_flow": null,
            "grid_auto_rows": null,
            "grid_column": null,
            "grid_gap": null,
            "grid_row": null,
            "grid_template_areas": null,
            "grid_template_columns": null,
            "grid_template_rows": null,
            "height": null,
            "justify_content": null,
            "justify_items": null,
            "left": null,
            "margin": null,
            "max_height": null,
            "max_width": null,
            "min_height": null,
            "min_width": null,
            "object_fit": null,
            "object_position": null,
            "order": null,
            "overflow": null,
            "overflow_x": null,
            "overflow_y": null,
            "padding": null,
            "right": null,
            "top": null,
            "visibility": null,
            "width": null
          }
        },
        "c874e790ca01432cb4043d96d8961734": {
          "model_module": "@jupyter-widgets/controls",
          "model_module_version": "1.5.0",
          "model_name": "ProgressStyleModel",
          "state": {
            "_model_module": "@jupyter-widgets/controls",
            "_model_module_version": "1.5.0",
            "_model_name": "ProgressStyleModel",
            "_view_count": null,
            "_view_module": "@jupyter-widgets/base",
            "_view_module_version": "1.2.0",
            "_view_name": "StyleView",
            "bar_color": null,
            "description_width": ""
          }
        },
        "d12bf941fabb4f069f90b69931fdb47c": {
          "model_module": "@jupyter-widgets/controls",
          "model_module_version": "1.5.0",
          "model_name": "HTMLModel",
          "state": {
            "_dom_classes": [],
            "_model_module": "@jupyter-widgets/controls",
            "_model_module_version": "1.5.0",
            "_model_name": "HTMLModel",
            "_view_count": null,
            "_view_module": "@jupyter-widgets/controls",
            "_view_module_version": "1.5.0",
            "_view_name": "HTMLView",
            "description": "",
            "description_tooltip": null,
            "layout": "IPY_MODEL_4ca09aea630644519998d0eedf46533b",
            "placeholder": "​",
            "style": "IPY_MODEL_a067c1ae053a4671bb0df88516003baf",
            "value": "Epoch:   0%"
          }
        },
        "e1d32c5c521e43518891fc8a8cc5c228": {
          "model_module": "@jupyter-widgets/controls",
          "model_module_version": "1.5.0",
          "model_name": "HTMLModel",
          "state": {
            "_dom_classes": [],
            "_model_module": "@jupyter-widgets/controls",
            "_model_module_version": "1.5.0",
            "_model_name": "HTMLModel",
            "_view_count": null,
            "_view_module": "@jupyter-widgets/controls",
            "_view_module_version": "1.5.0",
            "_view_name": "HTMLView",
            "description": "",
            "description_tooltip": null,
            "layout": "IPY_MODEL_b1f3660d72184ee8bcc83e9d4a61edb3",
            "placeholder": "​",
            "style": "IPY_MODEL_f9fec4ecaec04b4a883555343e0ec597",
            "value": "Iteration:   1%"
          }
        },
        "f9fec4ecaec04b4a883555343e0ec597": {
          "model_module": "@jupyter-widgets/controls",
          "model_module_version": "1.5.0",
          "model_name": "DescriptionStyleModel",
          "state": {
            "_model_module": "@jupyter-widgets/controls",
            "_model_module_version": "1.5.0",
            "_model_name": "DescriptionStyleModel",
            "_view_count": null,
            "_view_module": "@jupyter-widgets/base",
            "_view_module_version": "1.2.0",
            "_view_name": "StyleView",
            "description_width": ""
          }
        }
      }
    }
  },
  "nbformat": 4,
  "nbformat_minor": 0
}
