{
  "cells": [
    {
      "attachments": {},
      "cell_type": "markdown",
      "metadata": {},
      "source": [
        "# === ZeroBERTo Fit ==="
      ]
    },
    {
      "cell_type": "markdown",
      "metadata": {
        "id": "K8DWxQYlwxsf"
      },
      "source": [
        "# Dependencies"
      ]
    },
    {
      "cell_type": "code",
      "execution_count": 244,
      "metadata": {
        "colab": {
          "base_uri": "https://localhost:8080/"
        },
        "id": "9zW0h_35BS49",
        "outputId": "313f83c9-5ac6-4fb7-888f-21ee26cfd45e"
      },
      "outputs": [
        {
          "name": "stdout",
          "output_type": "stream",
          "text": [
            "The autoreload extension is already loaded. To reload it, use:\n",
            "  %reload_ext autoreload\n"
          ]
        }
      ],
      "source": [
        "# !pip install setfit\n",
        "# !pip install datasets\n",
        "%load_ext autoreload\n",
        "%autoreload 2"
      ]
    },
    {
      "cell_type": "code",
      "execution_count": 245,
      "metadata": {
        "colab": {
          "base_uri": "https://localhost:8080/"
        },
        "id": "kjQjQp46somO",
        "outputId": "6e5f963d-57e6-40a2-9021-83d9829d5d8f"
      },
      "outputs": [],
      "source": [
        "# from google.colab import drive\n",
        "# import pandas as pd\n",
        "\n",
        "# drive.mount('/content/drive')"
      ]
    },
    {
      "cell_type": "code",
      "execution_count": 250,
      "metadata": {},
      "outputs": [],
      "source": [
        "import pandas as pd\n",
        "import datasets_handler\n",
        "import datasets\n",
        "from datasets import Dataset\n",
        "from tqdm import tqdm\n",
        "from sklearn.preprocessing import LabelEncoder\n",
        "from sentence_transformers.losses import CosineSimilarityLoss\n",
        "from setfit import SetFitModel, SetFitTrainer, sample_dataset\n",
        "import evaluation_metrics\n",
        "import gc\n",
        "import zeroberto\n",
        "tqdm.pandas()\n"
      ]
    },
    {
      "cell_type": "code",
      "execution_count": null,
      "metadata": {},
      "outputs": [],
      "source": []
    },
    {
      "cell_type": "markdown",
      "metadata": {
        "id": "t2NJFz1jw8iy"
      },
      "source": [
        "# Data Prep"
      ]
    },
    {
      "cell_type": "code",
      "execution_count": 382,
      "metadata": {},
      "outputs": [],
      "source": [
        "use_zeroshot_previous_step = True\n",
        "exec_time = '2023_02_13__03_16_31'\n",
        "\n",
        "# which_dataset = 'folhauol'\n",
        "# which_dataset = 'bbc-news'\n",
        "which_dataset = 'ag_news'\n",
        "\n",
        "\n",
        "split = \"zeroshot\" if use_zeroshot_previous_step else \"fewshot\"\n",
        "n = 8\n",
        "test_dataset_sample_size = 1/8\n",
        "## 1/64 ---> <6 min\n",
        "## 1/32 ---> <12 min\n",
        "## 1/16 ---> <22 min\n",
        "random_state = 422"
      ]
    },
    {
      "cell_type": "code",
      "execution_count": 383,
      "metadata": {},
      "outputs": [],
      "source": [
        "top_n = n"
      ]
    },
    {
      "attachments": {},
      "cell_type": "markdown",
      "metadata": {},
      "source": [
        "## Import Data"
      ]
    },
    {
      "cell_type": "code",
      "execution_count": 405,
      "metadata": {},
      "outputs": [
        {
          "name": "stderr",
          "output_type": "stream",
          "text": [
            "Found cached dataset ag_news (/Users/alealcoforado/.cache/huggingface/datasets/ag_news/default/0.0.0/bc2bcb40336ace1a0374767fc29bb0296cdaf8a6da7298436239c54d79180548)\n"
          ]
        },
        {
          "data": {
            "application/vnd.jupyter.widget-view+json": {
              "model_id": "0f2e320f5784474ba49209239826fb9e",
              "version_major": 2,
              "version_minor": 0
            },
            "text/plain": [
              "  0%|          | 0/2 [00:00<?, ?it/s]"
            ]
          },
          "metadata": {},
          "output_type": "display_data"
        }
      ],
      "source": [
        "# which_dataset = 'folhauol' \n",
        "# which_dataset = 'bbc-news'\n",
        "which_dataset = 'ag_news'\n",
        "\n",
        "hyp_template = \"O tema principal deste texto é {}.\"\n",
        "# hyp_template = \"this text is about {}.\"\n",
        "# hyp_template = \"this article is about {}.\"\n",
        "\n",
        "raw_data, data_col, class_col = datasets_handler.getDataset(which_dataset)\n"
      ]
    },
    {
      "cell_type": "markdown",
      "metadata": {
        "id": "FohkG6IXxXdu"
      },
      "source": [
        "### Data from Zero-Shot previous step"
      ]
    },
    {
      "cell_type": "code",
      "execution_count": null,
      "metadata": {},
      "outputs": [],
      "source": []
    },
    {
      "cell_type": "code",
      "execution_count": null,
      "metadata": {},
      "outputs": [],
      "source": []
    },
    {
      "cell_type": "code",
      "execution_count": 408,
      "metadata": {
        "colab": {
          "base_uri": "https://localhost:8080/",
          "height": 455
        },
        "id": "7S-HMwBVQ1-s",
        "outputId": "5034b8e4-ac20-4887-9925-002be1d750da"
      },
      "outputs": [],
      "source": [
        "# def getZeroshotPreviousData(df_results_zeroberto,top_n = 8):\n",
        "#     df_results_zeroberto.index = df_results_zeroberto['Unnamed: 0'] ### recover original indexes for dataset\n",
        "#     df_top_n = df_results_zeroberto.sort_values(['top_probability','prediction'], ascending=False).groupby('prediction').head(top_n)\n",
        "#     df_top_n = df_top_n.drop(columns=[\"Unnamed: 0\",class_col,class_col+\"_code\"])\n",
        "#     return df_top_n\n"
      ]
    },
    {
      "cell_type": "code",
      "execution_count": 409,
      "metadata": {},
      "outputs": [
        {
          "ename": "FileNotFoundError",
          "evalue": "[Errno 2] No such file or directory: \"/Users/alealcoforado/Documents/Projetos/Datasets/<class 'str'>/predictions_and_probabilities_test_None.csv\"",
          "output_type": "error",
          "traceback": [
            "\u001b[0;31m---------------------------------------------------------------------------\u001b[0m",
            "\u001b[0;31mFileNotFoundError\u001b[0m                         Traceback (most recent call last)",
            "Cell \u001b[0;32mIn[409], line 2\u001b[0m\n\u001b[1;32m      1\u001b[0m \u001b[39mif\u001b[39;00m use_zeroshot_previous_step \u001b[39m==\u001b[39m \u001b[39mTrue\u001b[39;00m:\n\u001b[0;32m----> 2\u001b[0m     zeroshot_previous_data \u001b[39m=\u001b[39m datasets_handler\u001b[39m.\u001b[39;49mgetZeroshotPreviousData(data_col,top_n\u001b[39m=\u001b[39;49mtop_n)\n\u001b[1;32m      3\u001b[0m     raw_data_final \u001b[39m=\u001b[39m datasets_handler\u001b[39m.\u001b[39mmergeLabelingToDataset(raw_data,zeroshot_previous_data,class_col)\n\u001b[1;32m      5\u001b[0m \u001b[39m#     raw_data_final = raw_data.join(zeroshot_previous_data)\u001b[39;00m\n\u001b[1;32m      6\u001b[0m \u001b[39m# #     ## overwrite true labels with predictions from zeroshot\u001b[39;00m\n\u001b[1;32m      7\u001b[0m \u001b[39m#     new_class_col = 'new_'+class_col\u001b[39;00m\n\u001b[0;32m   (...)\u001b[0m\n\u001b[1;32m     11\u001b[0m \u001b[39m# #     ## keep true labels of the rest, for testing\u001b[39;00m\n\u001b[1;32m     12\u001b[0m \u001b[39m#     raw_data_final = evaluation_metrics.Encoder(raw_data_final,[new_class_col])\u001b[39;00m\n",
            "File \u001b[0;32m~/Documents/Projetos/ZeroBERTo/datasets_handler.py:64\u001b[0m, in \u001b[0;36mgetZeroshotPreviousData\u001b[0;34m(class_col, top_n, zeroshot_data_local_path, exec_time, which_dataset)\u001b[0m\n\u001b[1;32m     62\u001b[0m     zeroshot_data_local_path \u001b[39m=\u001b[39m \u001b[39m'\u001b[39m\u001b[39m/Users/alealcoforado/Documents/Projetos/Datasets/\u001b[39m\u001b[39m{which_dataset}\u001b[39;00m\u001b[39m/\u001b[39m\u001b[39m'\u001b[39m\u001b[39m.\u001b[39mformat(which_dataset\u001b[39m=\u001b[39mwhich_dataset)\n\u001b[1;32m     63\u001b[0m zeroshot_preds_and_probs_file \u001b[39m=\u001b[39m \u001b[39m'\u001b[39m\u001b[39mpredictions_and_probabilities_test_\u001b[39m\u001b[39m{exec_time}\u001b[39;00m\u001b[39m.csv\u001b[39m\u001b[39m'\u001b[39m\u001b[39m.\u001b[39mformat(exec_time\u001b[39m=\u001b[39mexec_time)\n\u001b[0;32m---> 64\u001b[0m preds_probs_df \u001b[39m=\u001b[39m pd\u001b[39m.\u001b[39;49mread_csv(zeroshot_data_local_path\u001b[39m+\u001b[39;49mzeroshot_preds_and_probs_file)\n\u001b[1;32m     66\u001b[0m \u001b[39m# zeroshot_config_file = 'zeroshot_config_test_{exec_time}.csv'.format(exec_time=exec_time)\u001b[39;00m\n\u001b[1;32m     67\u001b[0m \u001b[39m# config_df = pd.read_csv(zeroshot_data_local_path+zeroshot_config_file)\u001b[39;00m\n\u001b[1;32m     68\u001b[0m preds_probs_df\u001b[39m.\u001b[39mindex \u001b[39m=\u001b[39m preds_probs_df[\u001b[39m'\u001b[39m\u001b[39mUnnamed: 0\u001b[39m\u001b[39m'\u001b[39m] \u001b[39m### recover original indexes for dataset\u001b[39;00m\n",
            "File \u001b[0;32m~/opt/anaconda3/envs/venv_zeroberto/lib/python3.10/site-packages/pandas/util/_decorators.py:211\u001b[0m, in \u001b[0;36mdeprecate_kwarg.<locals>._deprecate_kwarg.<locals>.wrapper\u001b[0;34m(*args, **kwargs)\u001b[0m\n\u001b[1;32m    209\u001b[0m     \u001b[39melse\u001b[39;00m:\n\u001b[1;32m    210\u001b[0m         kwargs[new_arg_name] \u001b[39m=\u001b[39m new_arg_value\n\u001b[0;32m--> 211\u001b[0m \u001b[39mreturn\u001b[39;00m func(\u001b[39m*\u001b[39;49margs, \u001b[39m*\u001b[39;49m\u001b[39m*\u001b[39;49mkwargs)\n",
            "File \u001b[0;32m~/opt/anaconda3/envs/venv_zeroberto/lib/python3.10/site-packages/pandas/util/_decorators.py:331\u001b[0m, in \u001b[0;36mdeprecate_nonkeyword_arguments.<locals>.decorate.<locals>.wrapper\u001b[0;34m(*args, **kwargs)\u001b[0m\n\u001b[1;32m    325\u001b[0m \u001b[39mif\u001b[39;00m \u001b[39mlen\u001b[39m(args) \u001b[39m>\u001b[39m num_allow_args:\n\u001b[1;32m    326\u001b[0m     warnings\u001b[39m.\u001b[39mwarn(\n\u001b[1;32m    327\u001b[0m         msg\u001b[39m.\u001b[39mformat(arguments\u001b[39m=\u001b[39m_format_argument_list(allow_args)),\n\u001b[1;32m    328\u001b[0m         \u001b[39mFutureWarning\u001b[39;00m,\n\u001b[1;32m    329\u001b[0m         stacklevel\u001b[39m=\u001b[39mfind_stack_level(),\n\u001b[1;32m    330\u001b[0m     )\n\u001b[0;32m--> 331\u001b[0m \u001b[39mreturn\u001b[39;00m func(\u001b[39m*\u001b[39;49margs, \u001b[39m*\u001b[39;49m\u001b[39m*\u001b[39;49mkwargs)\n",
            "File \u001b[0;32m~/opt/anaconda3/envs/venv_zeroberto/lib/python3.10/site-packages/pandas/io/parsers/readers.py:950\u001b[0m, in \u001b[0;36mread_csv\u001b[0;34m(filepath_or_buffer, sep, delimiter, header, names, index_col, usecols, squeeze, prefix, mangle_dupe_cols, dtype, engine, converters, true_values, false_values, skipinitialspace, skiprows, skipfooter, nrows, na_values, keep_default_na, na_filter, verbose, skip_blank_lines, parse_dates, infer_datetime_format, keep_date_col, date_parser, dayfirst, cache_dates, iterator, chunksize, compression, thousands, decimal, lineterminator, quotechar, quoting, doublequote, escapechar, comment, encoding, encoding_errors, dialect, error_bad_lines, warn_bad_lines, on_bad_lines, delim_whitespace, low_memory, memory_map, float_precision, storage_options)\u001b[0m\n\u001b[1;32m    935\u001b[0m kwds_defaults \u001b[39m=\u001b[39m _refine_defaults_read(\n\u001b[1;32m    936\u001b[0m     dialect,\n\u001b[1;32m    937\u001b[0m     delimiter,\n\u001b[0;32m   (...)\u001b[0m\n\u001b[1;32m    946\u001b[0m     defaults\u001b[39m=\u001b[39m{\u001b[39m\"\u001b[39m\u001b[39mdelimiter\u001b[39m\u001b[39m\"\u001b[39m: \u001b[39m\"\u001b[39m\u001b[39m,\u001b[39m\u001b[39m\"\u001b[39m},\n\u001b[1;32m    947\u001b[0m )\n\u001b[1;32m    948\u001b[0m kwds\u001b[39m.\u001b[39mupdate(kwds_defaults)\n\u001b[0;32m--> 950\u001b[0m \u001b[39mreturn\u001b[39;00m _read(filepath_or_buffer, kwds)\n",
            "File \u001b[0;32m~/opt/anaconda3/envs/venv_zeroberto/lib/python3.10/site-packages/pandas/io/parsers/readers.py:605\u001b[0m, in \u001b[0;36m_read\u001b[0;34m(filepath_or_buffer, kwds)\u001b[0m\n\u001b[1;32m    602\u001b[0m _validate_names(kwds\u001b[39m.\u001b[39mget(\u001b[39m\"\u001b[39m\u001b[39mnames\u001b[39m\u001b[39m\"\u001b[39m, \u001b[39mNone\u001b[39;00m))\n\u001b[1;32m    604\u001b[0m \u001b[39m# Create the parser.\u001b[39;00m\n\u001b[0;32m--> 605\u001b[0m parser \u001b[39m=\u001b[39m TextFileReader(filepath_or_buffer, \u001b[39m*\u001b[39;49m\u001b[39m*\u001b[39;49mkwds)\n\u001b[1;32m    607\u001b[0m \u001b[39mif\u001b[39;00m chunksize \u001b[39mor\u001b[39;00m iterator:\n\u001b[1;32m    608\u001b[0m     \u001b[39mreturn\u001b[39;00m parser\n",
            "File \u001b[0;32m~/opt/anaconda3/envs/venv_zeroberto/lib/python3.10/site-packages/pandas/io/parsers/readers.py:1442\u001b[0m, in \u001b[0;36mTextFileReader.__init__\u001b[0;34m(self, f, engine, **kwds)\u001b[0m\n\u001b[1;32m   1439\u001b[0m     \u001b[39mself\u001b[39m\u001b[39m.\u001b[39moptions[\u001b[39m\"\u001b[39m\u001b[39mhas_index_names\u001b[39m\u001b[39m\"\u001b[39m] \u001b[39m=\u001b[39m kwds[\u001b[39m\"\u001b[39m\u001b[39mhas_index_names\u001b[39m\u001b[39m\"\u001b[39m]\n\u001b[1;32m   1441\u001b[0m \u001b[39mself\u001b[39m\u001b[39m.\u001b[39mhandles: IOHandles \u001b[39m|\u001b[39m \u001b[39mNone\u001b[39;00m \u001b[39m=\u001b[39m \u001b[39mNone\u001b[39;00m\n\u001b[0;32m-> 1442\u001b[0m \u001b[39mself\u001b[39m\u001b[39m.\u001b[39m_engine \u001b[39m=\u001b[39m \u001b[39mself\u001b[39;49m\u001b[39m.\u001b[39;49m_make_engine(f, \u001b[39mself\u001b[39;49m\u001b[39m.\u001b[39;49mengine)\n",
            "File \u001b[0;32m~/opt/anaconda3/envs/venv_zeroberto/lib/python3.10/site-packages/pandas/io/parsers/readers.py:1735\u001b[0m, in \u001b[0;36mTextFileReader._make_engine\u001b[0;34m(self, f, engine)\u001b[0m\n\u001b[1;32m   1733\u001b[0m     \u001b[39mif\u001b[39;00m \u001b[39m\"\u001b[39m\u001b[39mb\u001b[39m\u001b[39m\"\u001b[39m \u001b[39mnot\u001b[39;00m \u001b[39min\u001b[39;00m mode:\n\u001b[1;32m   1734\u001b[0m         mode \u001b[39m+\u001b[39m\u001b[39m=\u001b[39m \u001b[39m\"\u001b[39m\u001b[39mb\u001b[39m\u001b[39m\"\u001b[39m\n\u001b[0;32m-> 1735\u001b[0m \u001b[39mself\u001b[39m\u001b[39m.\u001b[39mhandles \u001b[39m=\u001b[39m get_handle(\n\u001b[1;32m   1736\u001b[0m     f,\n\u001b[1;32m   1737\u001b[0m     mode,\n\u001b[1;32m   1738\u001b[0m     encoding\u001b[39m=\u001b[39;49m\u001b[39mself\u001b[39;49m\u001b[39m.\u001b[39;49moptions\u001b[39m.\u001b[39;49mget(\u001b[39m\"\u001b[39;49m\u001b[39mencoding\u001b[39;49m\u001b[39m\"\u001b[39;49m, \u001b[39mNone\u001b[39;49;00m),\n\u001b[1;32m   1739\u001b[0m     compression\u001b[39m=\u001b[39;49m\u001b[39mself\u001b[39;49m\u001b[39m.\u001b[39;49moptions\u001b[39m.\u001b[39;49mget(\u001b[39m\"\u001b[39;49m\u001b[39mcompression\u001b[39;49m\u001b[39m\"\u001b[39;49m, \u001b[39mNone\u001b[39;49;00m),\n\u001b[1;32m   1740\u001b[0m     memory_map\u001b[39m=\u001b[39;49m\u001b[39mself\u001b[39;49m\u001b[39m.\u001b[39;49moptions\u001b[39m.\u001b[39;49mget(\u001b[39m\"\u001b[39;49m\u001b[39mmemory_map\u001b[39;49m\u001b[39m\"\u001b[39;49m, \u001b[39mFalse\u001b[39;49;00m),\n\u001b[1;32m   1741\u001b[0m     is_text\u001b[39m=\u001b[39;49mis_text,\n\u001b[1;32m   1742\u001b[0m     errors\u001b[39m=\u001b[39;49m\u001b[39mself\u001b[39;49m\u001b[39m.\u001b[39;49moptions\u001b[39m.\u001b[39;49mget(\u001b[39m\"\u001b[39;49m\u001b[39mencoding_errors\u001b[39;49m\u001b[39m\"\u001b[39;49m, \u001b[39m\"\u001b[39;49m\u001b[39mstrict\u001b[39;49m\u001b[39m\"\u001b[39;49m),\n\u001b[1;32m   1743\u001b[0m     storage_options\u001b[39m=\u001b[39;49m\u001b[39mself\u001b[39;49m\u001b[39m.\u001b[39;49moptions\u001b[39m.\u001b[39;49mget(\u001b[39m\"\u001b[39;49m\u001b[39mstorage_options\u001b[39;49m\u001b[39m\"\u001b[39;49m, \u001b[39mNone\u001b[39;49;00m),\n\u001b[1;32m   1744\u001b[0m )\n\u001b[1;32m   1745\u001b[0m \u001b[39massert\u001b[39;00m \u001b[39mself\u001b[39m\u001b[39m.\u001b[39mhandles \u001b[39mis\u001b[39;00m \u001b[39mnot\u001b[39;00m \u001b[39mNone\u001b[39;00m\n\u001b[1;32m   1746\u001b[0m f \u001b[39m=\u001b[39m \u001b[39mself\u001b[39m\u001b[39m.\u001b[39mhandles\u001b[39m.\u001b[39mhandle\n",
            "File \u001b[0;32m~/opt/anaconda3/envs/venv_zeroberto/lib/python3.10/site-packages/pandas/io/common.py:856\u001b[0m, in \u001b[0;36mget_handle\u001b[0;34m(path_or_buf, mode, encoding, compression, memory_map, is_text, errors, storage_options)\u001b[0m\n\u001b[1;32m    851\u001b[0m \u001b[39melif\u001b[39;00m \u001b[39misinstance\u001b[39m(handle, \u001b[39mstr\u001b[39m):\n\u001b[1;32m    852\u001b[0m     \u001b[39m# Check whether the filename is to be opened in binary mode.\u001b[39;00m\n\u001b[1;32m    853\u001b[0m     \u001b[39m# Binary mode does not support 'encoding' and 'newline'.\u001b[39;00m\n\u001b[1;32m    854\u001b[0m     \u001b[39mif\u001b[39;00m ioargs\u001b[39m.\u001b[39mencoding \u001b[39mand\u001b[39;00m \u001b[39m\"\u001b[39m\u001b[39mb\u001b[39m\u001b[39m\"\u001b[39m \u001b[39mnot\u001b[39;00m \u001b[39min\u001b[39;00m ioargs\u001b[39m.\u001b[39mmode:\n\u001b[1;32m    855\u001b[0m         \u001b[39m# Encoding\u001b[39;00m\n\u001b[0;32m--> 856\u001b[0m         handle \u001b[39m=\u001b[39m \u001b[39mopen\u001b[39;49m(\n\u001b[1;32m    857\u001b[0m             handle,\n\u001b[1;32m    858\u001b[0m             ioargs\u001b[39m.\u001b[39;49mmode,\n\u001b[1;32m    859\u001b[0m             encoding\u001b[39m=\u001b[39;49mioargs\u001b[39m.\u001b[39;49mencoding,\n\u001b[1;32m    860\u001b[0m             errors\u001b[39m=\u001b[39;49merrors,\n\u001b[1;32m    861\u001b[0m             newline\u001b[39m=\u001b[39;49m\u001b[39m\"\u001b[39;49m\u001b[39m\"\u001b[39;49m,\n\u001b[1;32m    862\u001b[0m         )\n\u001b[1;32m    863\u001b[0m     \u001b[39melse\u001b[39;00m:\n\u001b[1;32m    864\u001b[0m         \u001b[39m# Binary mode\u001b[39;00m\n\u001b[1;32m    865\u001b[0m         handle \u001b[39m=\u001b[39m \u001b[39mopen\u001b[39m(handle, ioargs\u001b[39m.\u001b[39mmode)\n",
            "\u001b[0;31mFileNotFoundError\u001b[0m: [Errno 2] No such file or directory: \"/Users/alealcoforado/Documents/Projetos/Datasets/<class 'str'>/predictions_and_probabilities_test_None.csv\""
          ]
        }
      ],
      "source": [
        "if use_zeroshot_previous_step == True:\n",
        "    zeroshot_previous_data = datasets_handler.getZeroshotPreviousData(which_dataset,data_col,top_n=top_n,exec_time=exec_time)\n",
        "    raw_data_final = datasets_handler.mergeLabelingToDataset(raw_data,zeroshot_previous_data,class_col,exec)\n",
        "\n",
        "#     raw_data_final = raw_data.join(zeroshot_previous_data)\n",
        "# #     ## overwrite true labels with predictions from zeroshot\n",
        "#     new_class_col = 'new_'+class_col\n",
        "#     raw_data_final.loc[~raw_data_final['prediction'].isna(),new_class_col] = raw_data_final['prediction'] \n",
        "#     raw_data_final.loc[raw_data_final['prediction'].isna(),new_class_col] = raw_data_final[class_col]\n",
        "\n",
        "# #     ## keep true labels of the rest, for testing\n",
        "#     raw_data_final = evaluation_metrics.Encoder(raw_data_final,[new_class_col])\n",
        "\n",
        "if use_zeroshot_previous_step == False:\n",
        "    raw_data_final = raw_data\n",
        "    raw_data_final[new_class_col] = raw_data_final[class_col]\n",
        "\n"
      ]
    },
    {
      "cell_type": "markdown",
      "metadata": {},
      "source": [
        "## Dataset Split"
      ]
    },
    {
      "attachments": {},
      "cell_type": "markdown",
      "metadata": {
        "id": "z9kRpSikxbRM"
      },
      "source": [
        "### Standard SetFit (Few-Shot)"
      ]
    },
    {
      "cell_type": "code",
      "execution_count": 388,
      "metadata": {
        "id": "mh5qXFj7CfpV"
      },
      "outputs": [],
      "source": [
        "### divide dataframe em treino e teste, com n samples para few-shot\n",
        "\n",
        "if (split==\"fewshot\"):\n",
        "  df_train = df_encoded.groupby('new_Category_code')[['full_text','new_Category_code']].apply(lambda s: s.sample(min(len(s),n)))\n",
        "  keys = list(df_train.columns.values)\n",
        "  i1 = df_encoded.set_index(keys).index\n",
        "  i2 = df_train.set_index(keys).index\n",
        "  df_test = df_encoded[~i1.isin(i2)]\n",
        "  df_test = df_test.groupby('new_Category_code')[['full_text','new_Category_code']].apply(lambda x:x.sample(int(len(x)*test_dataset_sample_size)))\n",
        "  df_train = df_train.astype(str)\n",
        "  df_test = df_test.astype(str)"
      ]
    },
    {
      "attachments": {},
      "cell_type": "markdown",
      "metadata": {
        "id": "SJn98MXKWMXc"
      },
      "source": [
        "### Zeroberto SetFit"
      ]
    },
    {
      "cell_type": "code",
      "execution_count": 389,
      "metadata": {
        "id": "a72aFoc_WL4E"
      },
      "outputs": [],
      "source": [
        "if (split == \"zeroshot\"):\n",
        "  df_train = raw_data_final[~raw_data_final['prediction'].isna()].groupby(new_class_col+\"_code\")[[data_col,new_class_col+\"_code\"]].apply(lambda s: s.sample(min(len(s),top_n),random_state=random_state))\n",
        "\n",
        "  keys = list(df_train.columns.values)\n",
        "\n",
        "  i1 = raw_data_final.set_index(keys).index\n",
        "  i2 = df_train.set_index(keys).index\n",
        "\n",
        "  df_test = raw_data_final[~i1.isin(i2)]\n",
        "\n",
        "  df_test = df_test.groupby(new_class_col+\"_code\")[[data_col,new_class_col+\"_code\"]].apply(lambda x:x.sample(int(len(x)*test_dataset_sample_size),random_state=random_state))\n",
        "\n",
        "  df_train = df_train.astype(str)\n",
        "  df_test = df_test.astype(str)"
      ]
    },
    {
      "attachments": {},
      "cell_type": "markdown",
      "metadata": {
        "id": "FSIDHKhNX3eg"
      },
      "source": [
        "### Build Dataset Dict"
      ]
    },
    {
      "cell_type": "code",
      "execution_count": 390,
      "metadata": {
        "colab": {
          "base_uri": "https://localhost:8080/"
        },
        "id": "HGFTobZKCOWh",
        "outputId": "362e82dd-5e0e-437b-83f8-516e8c9fd7fa"
      },
      "outputs": [
        {
          "data": {
            "text/plain": [
              "DatasetDict({\n",
              "    train: Dataset({\n",
              "        features: ['text', 'new_label_text_code'],\n",
              "        num_rows: 32\n",
              "    })\n",
              "    test: Dataset({\n",
              "        features: ['text', 'new_label_text_code'],\n",
              "        num_rows: 15944\n",
              "    })\n",
              "})"
            ]
          },
          "execution_count": 390,
          "metadata": {},
          "output_type": "execute_result"
        }
      ],
      "source": [
        "### transforma dataframes em datasetdict\n",
        "\n",
        "train_dataset = Dataset.from_dict(df_train)\n",
        "test_dataset = Dataset.from_dict(df_test)\n",
        "dataset_dict = datasets.DatasetDict({\"train\":train_dataset,\"test\":test_dataset})\n",
        "dataset = dataset_dict\n",
        "dataset"
      ]
    },
    {
      "attachments": {},
      "cell_type": "markdown",
      "metadata": {
        "id": "xKmLNNx-qGdM"
      },
      "source": [
        "# SetFit"
      ]
    },
    {
      "attachments": {},
      "cell_type": "markdown",
      "metadata": {
        "id": "zP8cTH9ZxLuJ"
      },
      "source": [
        "## Model"
      ]
    },
    {
      "cell_type": "code",
      "execution_count": 391,
      "metadata": {},
      "outputs": [],
      "source": [
        "# model = saved_model"
      ]
    },
    {
      "cell_type": "code",
      "execution_count": 392,
      "metadata": {},
      "outputs": [
        {
          "name": "stderr",
          "output_type": "stream",
          "text": [
            "model_head.pkl not found on HuggingFace Hub, initialising classification head with random weights. You should TRAIN this model on a downstream task to use it for predictions and inference.\n"
          ]
        }
      ],
      "source": [
        "model_name = \"sentence-transformers/nli-roberta-base-v2\"\n",
        "\n",
        "#### Models\n",
        "# \"sentence-transformers/paraphrase-mpnet-base-v2\"\n",
        "# \"ricardo-filho/bert-base-portuguese-cased-nli-assin-2\"\n",
        "# \"ricardo-filho/bert-portuguese-cased-nli-assin-2\"\n",
        "# \"sentence-transformers/nli-roberta-base-v2\"\n",
        "# \"neuralmind/bert-large-portuguese-cased\"\n",
        "# \"joeddav/xlm-roberta-large-xnli\"\n",
        "# \"openai-gpt\"\n",
        "\n",
        "model = SetFitModel.from_pretrained(model_name)"
      ]
    },
    {
      "attachments": {},
      "cell_type": "markdown",
      "metadata": {},
      "source": [
        "## Parameters"
      ]
    },
    {
      "cell_type": "code",
      "execution_count": 395,
      "metadata": {
        "id": "at8v7NZuBsTc"
      },
      "outputs": [
        {
          "name": "stdout",
          "output_type": "stream",
          "text": [
            "{'model': 'sentence-transformers/nli-roberta-base-v2', 'dataset': 'ag_news', 'batch_size': 8, 'num_pairs': 20, 'num_epochs': 1, 'dataset_sample_size': 0.125, 'N_examples': 8, 'split': 'zeroshot', '0shot_data': '2023_02_13__03_16_31'}\n",
            "CPU times: user 138 µs, sys: 168 µs, total: 306 µs\n",
            "Wall time: 240 µs\n"
          ]
        }
      ],
      "source": [
        "%%time\n",
        "\n",
        "batch_size = 8\n",
        "num_text_pairs = 20\n",
        "num_epochs = 1\n",
        "\n",
        "setfit_config = {\n",
        "    \"model\":model_name,\n",
        "    \"dataset\":which_dataset,\n",
        "    \"batch_size\":batch_size,\n",
        "    \"num_pairs\":num_text_pairs,\n",
        "    \"num_epochs\":num_epochs,\n",
        "    \"dataset_sample_size\":test_dataset_sample_size,\n",
        "    \"N_examples\":n,\n",
        "    \"split\":split,\n",
        "    \"0shot_data\":exec_time\n",
        "}\n",
        "\n",
        "# Create trainer\n",
        "trainer = SetFitTrainer(\n",
        "    model=model,\n",
        "    train_dataset=train_dataset,\n",
        "    eval_dataset=test_dataset,\n",
        "    loss_class=CosineSimilarityLoss,\n",
        "    batch_size=setfit_config[\"batch_size\"],\n",
        "    num_iterations=setfit_config[\"num_pairs\"], # Number of text pairs to generate for contrastive learning\n",
        "    num_epochs=setfit_config[\"num_epochs\"], # Number of epochs to use for contrastive learning\n",
        "    column_mapping = {data_col: \"text\", new_class_col+\"_code\": \"label\"} # NÃO mudar\n",
        ")\n",
        "\n",
        "print(setfit_config)"
      ]
    },
    {
      "cell_type": "markdown",
      "metadata": {
        "id": "CkLC8HLsZxv7"
      },
      "source": [
        "## Training"
      ]
    },
    {
      "cell_type": "code",
      "execution_count": 396,
      "metadata": {
        "colab": {
          "base_uri": "https://localhost:8080/",
          "height": 703,
          "referenced_widgets": [
            "2589bd733c51433da691b4c7f38b8d0e",
            "d12bf941fabb4f069f90b69931fdb47c",
            "5373d1f2507643b98ff9a7301bbe07b1",
            "8811585c4f514484bc709fbe79cda464",
            "bde968c5739648cea2c78cb44f9efe43",
            "4ca09aea630644519998d0eedf46533b",
            "a067c1ae053a4671bb0df88516003baf",
            "4f016aa1a50240618345a11e3a3d5a22",
            "a45d104969904a8d9c6ad2b1321cb551",
            "6cce7d01d13944298de49b6708608047",
            "614148306c98475384f2f6675e76c949",
            "6cd322ec42994ec6a89e02ce27198c84",
            "e1d32c5c521e43518891fc8a8cc5c228",
            "799f907a811645f49d1365ec36648d7a",
            "594ae3cd34ad4a25b1002a89bee91f79",
            "92334509722542d8b3d67c036afbfb36",
            "b1f3660d72184ee8bcc83e9d4a61edb3",
            "f9fec4ecaec04b4a883555343e0ec597",
            "0b073ac91d504f41a189e0c812de56f5",
            "c874e790ca01432cb4043d96d8961734",
            "1f7d487c683f42c7afe9d13040f63291",
            "1b39eb1b21894318a14615a8b1b2b23e"
          ]
        },
        "id": "y4HXDGx2OoSl",
        "outputId": "1beaa051-43af-4f59-bd06-68855ab93b83"
      },
      "outputs": [
        {
          "name": "stderr",
          "output_type": "stream",
          "text": [
            "Applying column mapping to training dataset\n",
            "***** Running training *****\n",
            "  Num examples = 1280\n",
            "  Num epochs = 1\n",
            "  Total optimization steps = 160\n",
            "  Total train batch size = 8\n"
          ]
        },
        {
          "data": {
            "application/vnd.jupyter.widget-view+json": {
              "model_id": "11548a1c09144ffbb7c30afe086e9701",
              "version_major": 2,
              "version_minor": 0
            },
            "text/plain": [
              "Epoch:   0%|          | 0/1 [00:00<?, ?it/s]"
            ]
          },
          "metadata": {},
          "output_type": "display_data"
        },
        {
          "data": {
            "application/vnd.jupyter.widget-view+json": {
              "model_id": "c74758676ff74947b3442a4419772aba",
              "version_major": 2,
              "version_minor": 0
            },
            "text/plain": [
              "Iteration:   0%|          | 0/160 [00:00<?, ?it/s]"
            ]
          },
          "metadata": {},
          "output_type": "display_data"
        },
        {
          "name": "stdout",
          "output_type": "stream",
          "text": [
            "CPU times: user 10min 12s, sys: 10min 35s, total: 20min 48s\n",
            "Wall time: 8min 21s\n"
          ]
        },
        {
          "data": {
            "text/plain": [
              "1358"
            ]
          },
          "execution_count": 396,
          "metadata": {},
          "output_type": "execute_result"
        }
      ],
      "source": [
        "%%time\n",
        "trainer.train()\n",
        "gc.collect()"
      ]
    },
    {
      "attachments": {},
      "cell_type": "markdown",
      "metadata": {},
      "source": [
        "## Inference"
      ]
    },
    {
      "cell_type": "code",
      "execution_count": 397,
      "metadata": {},
      "outputs": [
        {
          "name": "stdout",
          "output_type": "stream",
          "text": [
            "Running predictions on 15944 sentences.\n",
            "CPU times: user 17min 13s, sys: 1min 35s, total: 18min 49s\n",
            "Wall time: 6min 49s\n"
          ]
        }
      ],
      "source": [
        "%%time\n",
        "y_pred = zeroberto.getPredictions(trainer)\n",
        "#### folhauol: aprox. 4 predicoes por segundo\n",
        "#### bbcnews: aprox. 4 preds por segundo\n",
        "#### ag_news: aprox. 33 preds por segundo"
      ]
    },
    {
      "attachments": {},
      "cell_type": "markdown",
      "metadata": {
        "id": "c76dcxZcqQiF"
      },
      "source": [
        "# Evaluation"
      ]
    },
    {
      "attachments": {},
      "cell_type": "markdown",
      "metadata": {},
      "source": [
        "## Metrics"
      ]
    },
    {
      "cell_type": "code",
      "execution_count": 403,
      "metadata": {
        "colab": {
          "base_uri": "https://localhost:8080/",
          "height": 407
        },
        "id": "GGIXbhEJXp2D",
        "outputId": "e30955f8-91b0-4789-8114-ff925881d0cf"
      },
      "outputs": [
        {
          "name": "stdout",
          "output_type": "stream",
          "text": [
            "{'weighted': [{'accuracy': 0.20114149523331662}, {'precision': 0.22881146136530464}, {'recall': 0.20114149523331662}, {'f1': 0.18090418710811065}], 'macro': [{'accuracy': 0.20114149523331662}, {'precision': 0.22881431442863304}, {'recall': 0.20116664800160183}, {'f1': 0.18091511211537042}]}\n",
            "{'weighted': [{'accuracy': 0.20114149523331662}, {'precision': 0.22881146136530464}, {'recall': 0.20114149523331662}, {'f1': 0.18090418710811065}], 'macro': [{'accuracy': 0.20114149523331662}, {'precision': 0.22881431442863304}, {'recall': 0.20116664800160183}, {'f1': 0.18091511211537042}]}\n"
          ]
        }
      ],
      "source": [
        "try: print(all_metrics)\n",
        "except: pass\n",
        "all_metrics = evaluation_metrics.get_metrics(y_pred ,test_dataset[new_class_col+\"_code\"])\n",
        "print(all_metrics)"
      ]
    },
    {
      "attachments": {},
      "cell_type": "markdown",
      "metadata": {},
      "source": [
        "## Save Results"
      ]
    },
    {
      "cell_type": "code",
      "execution_count": 404,
      "metadata": {},
      "outputs": [
        {
          "name": "stdout",
          "output_type": "stream",
          "text": [
            "metrics_setfit_2023_02_13__03_53_50.csv\n",
            "config_setfit_2023_02_13__03_53_50.csv\n",
            "{'model': 'sentence-transformers/nli-roberta-base-v2', 'dataset': 'ag_news', 'batch_size': 8, 'num_pairs': 20, 'num_epochs': 1, 'dataset_sample_size': 0.125, 'N_examples': 8, 'split': 'zeroshot', '0shot_data': '2023_02_13__03_16_31'}\n"
          ]
        }
      ],
      "source": [
        "setfit_exec_time  = evaluation_metrics.saveResults(setfit_config,all_metrics)\n",
        "print(setfit_config)"
      ]
    },
    {
      "attachments": {},
      "cell_type": "markdown",
      "metadata": {},
      "source": [
        "# Save Model"
      ]
    },
    {
      "cell_type": "code",
      "execution_count": 380,
      "metadata": {},
      "outputs": [
        {
          "name": "stdout",
          "output_type": "stream",
          "text": [
            "/Users/alealcoforado/Documents/Projetos/Modelos/2023_02_13__03_29_16\n"
          ]
        }
      ],
      "source": [
        "model_path = \"/Users/alealcoforado/Documents/Projetos/Modelos/{exec}\".format(exec=setfit_exec_time)\n",
        "print(model_path)\n",
        "trainer.model._save_pretrained(save_directory=model_path)"
      ]
    },
    {
      "attachments": {},
      "cell_type": "markdown",
      "metadata": {},
      "source": [
        "## Load Model"
      ]
    },
    {
      "cell_type": "code",
      "execution_count": 16,
      "metadata": {
        "colab": {
          "base_uri": "https://localhost:8080/",
          "height": 568
        },
        "id": "DgTU5d43kc-y",
        "outputId": "648210d6-5209-427d-9df7-91957b2dc3f6"
      },
      "outputs": [
        {
          "name": "stderr",
          "output_type": "stream",
          "text": [
            "/Users/alealcoforado/opt/anaconda3/envs/venv_zeroberto/lib/python3.10/site-packages/sklearn/base.py:299: UserWarning: Trying to unpickle estimator LogisticRegression from version 1.0.2 when using version 1.2.1. This might lead to breaking code or invalid results. Use at your own risk. For more info please refer to:\n",
            "https://scikit-learn.org/stable/model_persistence.html#security-maintainability-limitations\n",
            "  warnings.warn(\n"
          ]
        }
      ],
      "source": [
        "load_path = r'/Users/alealcoforado/Documents/Projetos/Modelos/setfit_top_n=4_n=8_15pairs_v1'\n",
        "\n",
        "saved_model = SetFitModel._from_pretrained(load_path)\n",
        "model_name = load_path"
      ]
    },
    {
      "cell_type": "code",
      "execution_count": null,
      "metadata": {},
      "outputs": [],
      "source": []
    },
    {
      "cell_type": "code",
      "execution_count": null,
      "metadata": {},
      "outputs": [],
      "source": []
    },
    {
      "attachments": {},
      "cell_type": "markdown",
      "metadata": {},
      "source": [
        "{'weighted': [{'accuracy': 0.7208791208791209},\n",
        "  {'precision': 0.7966533533828771},\n",
        "  {'recall': 0.7208791208791209},\n",
        "  {'f1': 0.7383634133416869}],\n",
        " 'macro': [{'accuracy': 0.7208791208791209},\n",
        "  {'precision': 0.47294791260373964},\n",
        "  {'recall': 0.6956977371368128},\n",
        "  {'f1': 0.5148314501574386}]}\n",
        "\n",
        "  {'weighted': [{'accuracy': 0.7088331515812432},\n",
        "  {'precision': 0.8112290505989518},\n",
        "  {'recall': 0.7088331515812432},\n",
        "  {'f1': 0.7416526123050681}],\n",
        " 'macro': [{'accuracy': 0.7088331515812432},\n",
        "  {'precision': 0.5086466490124514},\n",
        "  {'recall': 0.7260511792805407},\n",
        "  {'f1': 0.5487853669870654}]}\n",
        "\n",
        "1/4 dataset\n",
        "  {'weighted': [{'accuracy': 0.712040293517433},\n",
        "  {'precision': 0.7969596487586078},\n",
        "  {'recall': 0.712040293517433},\n",
        "  {'f1': 0.7365853189562236}],\n",
        " 'macro': [{'accuracy': 0.712040293517433},\n",
        "  {'precision': 0.4964842305418267},\n",
        "  {'recall': 0.7028323441240695},\n",
        "  {'f1': 0.5374745594204607}]}\n",
        "\n",
        "full dataset\n",
        "{'weighted': [{'accuracy': 0.7090563785338325},\n",
        "  {'precision': 0.7967113724849181},\n",
        "  {'recall': 0.7090563785338325},\n",
        "  {'f1': 0.734316306685027}],\n",
        " 'macro': [{'accuracy': 0.7090563785338325},\n",
        "  {'precision': 0.4954781686924334},\n",
        "  {'recall': 0.7020811904269998},\n",
        "  {'f1': 0.5360406756304892}]}"
      ]
    }
  ],
  "metadata": {
    "colab": {
      "provenance": [],
      "toc_visible": true
    },
    "gpuClass": "standard",
    "kernelspec": {
      "display_name": "venv_zeroberto",
      "language": "python",
      "name": "python3"
    },
    "language_info": {
      "codemirror_mode": {
        "name": "ipython",
        "version": 3
      },
      "file_extension": ".py",
      "mimetype": "text/x-python",
      "name": "python",
      "nbconvert_exporter": "python",
      "pygments_lexer": "ipython3",
      "version": "3.10.9"
    },
    "vscode": {
      "interpreter": {
        "hash": "b98a7e24f8a69e8a460c693288d2fe0565d17bd4bdd6eb6203258b225132cc92"
      }
    },
    "widgets": {
      "application/vnd.jupyter.widget-state+json": {
        "0b073ac91d504f41a189e0c812de56f5": {
          "model_module": "@jupyter-widgets/base",
          "model_module_version": "1.2.0",
          "model_name": "LayoutModel",
          "state": {
            "_model_module": "@jupyter-widgets/base",
            "_model_module_version": "1.2.0",
            "_model_name": "LayoutModel",
            "_view_count": null,
            "_view_module": "@jupyter-widgets/base",
            "_view_module_version": "1.2.0",
            "_view_name": "LayoutView",
            "align_content": null,
            "align_items": null,
            "align_self": null,
            "border": null,
            "bottom": null,
            "display": null,
            "flex": null,
            "flex_flow": null,
            "grid_area": null,
            "grid_auto_columns": null,
            "grid_auto_flow": null,
            "grid_auto_rows": null,
            "grid_column": null,
            "grid_gap": null,
            "grid_row": null,
            "grid_template_areas": null,
            "grid_template_columns": null,
            "grid_template_rows": null,
            "height": null,
            "justify_content": null,
            "justify_items": null,
            "left": null,
            "margin": null,
            "max_height": null,
            "max_width": null,
            "min_height": null,
            "min_width": null,
            "object_fit": null,
            "object_position": null,
            "order": null,
            "overflow": null,
            "overflow_x": null,
            "overflow_y": null,
            "padding": null,
            "right": null,
            "top": null,
            "visibility": null,
            "width": null
          }
        },
        "1b39eb1b21894318a14615a8b1b2b23e": {
          "model_module": "@jupyter-widgets/controls",
          "model_module_version": "1.5.0",
          "model_name": "DescriptionStyleModel",
          "state": {
            "_model_module": "@jupyter-widgets/controls",
            "_model_module_version": "1.5.0",
            "_model_name": "DescriptionStyleModel",
            "_view_count": null,
            "_view_module": "@jupyter-widgets/base",
            "_view_module_version": "1.2.0",
            "_view_name": "StyleView",
            "description_width": ""
          }
        },
        "1f7d487c683f42c7afe9d13040f63291": {
          "model_module": "@jupyter-widgets/base",
          "model_module_version": "1.2.0",
          "model_name": "LayoutModel",
          "state": {
            "_model_module": "@jupyter-widgets/base",
            "_model_module_version": "1.2.0",
            "_model_name": "LayoutModel",
            "_view_count": null,
            "_view_module": "@jupyter-widgets/base",
            "_view_module_version": "1.2.0",
            "_view_name": "LayoutView",
            "align_content": null,
            "align_items": null,
            "align_self": null,
            "border": null,
            "bottom": null,
            "display": null,
            "flex": null,
            "flex_flow": null,
            "grid_area": null,
            "grid_auto_columns": null,
            "grid_auto_flow": null,
            "grid_auto_rows": null,
            "grid_column": null,
            "grid_gap": null,
            "grid_row": null,
            "grid_template_areas": null,
            "grid_template_columns": null,
            "grid_template_rows": null,
            "height": null,
            "justify_content": null,
            "justify_items": null,
            "left": null,
            "margin": null,
            "max_height": null,
            "max_width": null,
            "min_height": null,
            "min_width": null,
            "object_fit": null,
            "object_position": null,
            "order": null,
            "overflow": null,
            "overflow_x": null,
            "overflow_y": null,
            "padding": null,
            "right": null,
            "top": null,
            "visibility": null,
            "width": null
          }
        },
        "2589bd733c51433da691b4c7f38b8d0e": {
          "model_module": "@jupyter-widgets/controls",
          "model_module_version": "1.5.0",
          "model_name": "HBoxModel",
          "state": {
            "_dom_classes": [],
            "_model_module": "@jupyter-widgets/controls",
            "_model_module_version": "1.5.0",
            "_model_name": "HBoxModel",
            "_view_count": null,
            "_view_module": "@jupyter-widgets/controls",
            "_view_module_version": "1.5.0",
            "_view_name": "HBoxView",
            "box_style": "",
            "children": [
              "IPY_MODEL_d12bf941fabb4f069f90b69931fdb47c",
              "IPY_MODEL_5373d1f2507643b98ff9a7301bbe07b1",
              "IPY_MODEL_8811585c4f514484bc709fbe79cda464"
            ],
            "layout": "IPY_MODEL_bde968c5739648cea2c78cb44f9efe43"
          }
        },
        "4ca09aea630644519998d0eedf46533b": {
          "model_module": "@jupyter-widgets/base",
          "model_module_version": "1.2.0",
          "model_name": "LayoutModel",
          "state": {
            "_model_module": "@jupyter-widgets/base",
            "_model_module_version": "1.2.0",
            "_model_name": "LayoutModel",
            "_view_count": null,
            "_view_module": "@jupyter-widgets/base",
            "_view_module_version": "1.2.0",
            "_view_name": "LayoutView",
            "align_content": null,
            "align_items": null,
            "align_self": null,
            "border": null,
            "bottom": null,
            "display": null,
            "flex": null,
            "flex_flow": null,
            "grid_area": null,
            "grid_auto_columns": null,
            "grid_auto_flow": null,
            "grid_auto_rows": null,
            "grid_column": null,
            "grid_gap": null,
            "grid_row": null,
            "grid_template_areas": null,
            "grid_template_columns": null,
            "grid_template_rows": null,
            "height": null,
            "justify_content": null,
            "justify_items": null,
            "left": null,
            "margin": null,
            "max_height": null,
            "max_width": null,
            "min_height": null,
            "min_width": null,
            "object_fit": null,
            "object_position": null,
            "order": null,
            "overflow": null,
            "overflow_x": null,
            "overflow_y": null,
            "padding": null,
            "right": null,
            "top": null,
            "visibility": null,
            "width": null
          }
        },
        "4f016aa1a50240618345a11e3a3d5a22": {
          "model_module": "@jupyter-widgets/base",
          "model_module_version": "1.2.0",
          "model_name": "LayoutModel",
          "state": {
            "_model_module": "@jupyter-widgets/base",
            "_model_module_version": "1.2.0",
            "_model_name": "LayoutModel",
            "_view_count": null,
            "_view_module": "@jupyter-widgets/base",
            "_view_module_version": "1.2.0",
            "_view_name": "LayoutView",
            "align_content": null,
            "align_items": null,
            "align_self": null,
            "border": null,
            "bottom": null,
            "display": null,
            "flex": null,
            "flex_flow": null,
            "grid_area": null,
            "grid_auto_columns": null,
            "grid_auto_flow": null,
            "grid_auto_rows": null,
            "grid_column": null,
            "grid_gap": null,
            "grid_row": null,
            "grid_template_areas": null,
            "grid_template_columns": null,
            "grid_template_rows": null,
            "height": null,
            "justify_content": null,
            "justify_items": null,
            "left": null,
            "margin": null,
            "max_height": null,
            "max_width": null,
            "min_height": null,
            "min_width": null,
            "object_fit": null,
            "object_position": null,
            "order": null,
            "overflow": null,
            "overflow_x": null,
            "overflow_y": null,
            "padding": null,
            "right": null,
            "top": null,
            "visibility": null,
            "width": null
          }
        },
        "5373d1f2507643b98ff9a7301bbe07b1": {
          "model_module": "@jupyter-widgets/controls",
          "model_module_version": "1.5.0",
          "model_name": "FloatProgressModel",
          "state": {
            "_dom_classes": [],
            "_model_module": "@jupyter-widgets/controls",
            "_model_module_version": "1.5.0",
            "_model_name": "FloatProgressModel",
            "_view_count": null,
            "_view_module": "@jupyter-widgets/controls",
            "_view_module_version": "1.5.0",
            "_view_name": "ProgressView",
            "bar_style": "danger",
            "description": "",
            "description_tooltip": null,
            "layout": "IPY_MODEL_4f016aa1a50240618345a11e3a3d5a22",
            "max": 1,
            "min": 0,
            "orientation": "horizontal",
            "style": "IPY_MODEL_a45d104969904a8d9c6ad2b1321cb551",
            "value": 0
          }
        },
        "594ae3cd34ad4a25b1002a89bee91f79": {
          "model_module": "@jupyter-widgets/controls",
          "model_module_version": "1.5.0",
          "model_name": "HTMLModel",
          "state": {
            "_dom_classes": [],
            "_model_module": "@jupyter-widgets/controls",
            "_model_module_version": "1.5.0",
            "_model_name": "HTMLModel",
            "_view_count": null,
            "_view_module": "@jupyter-widgets/controls",
            "_view_module_version": "1.5.0",
            "_view_name": "HTMLView",
            "description": "",
            "description_tooltip": null,
            "layout": "IPY_MODEL_1f7d487c683f42c7afe9d13040f63291",
            "placeholder": "​",
            "style": "IPY_MODEL_1b39eb1b21894318a14615a8b1b2b23e",
            "value": " 4/768 [03:39&lt;11:19:21, 53.35s/it]"
          }
        },
        "614148306c98475384f2f6675e76c949": {
          "model_module": "@jupyter-widgets/controls",
          "model_module_version": "1.5.0",
          "model_name": "DescriptionStyleModel",
          "state": {
            "_model_module": "@jupyter-widgets/controls",
            "_model_module_version": "1.5.0",
            "_model_name": "DescriptionStyleModel",
            "_view_count": null,
            "_view_module": "@jupyter-widgets/base",
            "_view_module_version": "1.2.0",
            "_view_name": "StyleView",
            "description_width": ""
          }
        },
        "6cce7d01d13944298de49b6708608047": {
          "model_module": "@jupyter-widgets/base",
          "model_module_version": "1.2.0",
          "model_name": "LayoutModel",
          "state": {
            "_model_module": "@jupyter-widgets/base",
            "_model_module_version": "1.2.0",
            "_model_name": "LayoutModel",
            "_view_count": null,
            "_view_module": "@jupyter-widgets/base",
            "_view_module_version": "1.2.0",
            "_view_name": "LayoutView",
            "align_content": null,
            "align_items": null,
            "align_self": null,
            "border": null,
            "bottom": null,
            "display": null,
            "flex": null,
            "flex_flow": null,
            "grid_area": null,
            "grid_auto_columns": null,
            "grid_auto_flow": null,
            "grid_auto_rows": null,
            "grid_column": null,
            "grid_gap": null,
            "grid_row": null,
            "grid_template_areas": null,
            "grid_template_columns": null,
            "grid_template_rows": null,
            "height": null,
            "justify_content": null,
            "justify_items": null,
            "left": null,
            "margin": null,
            "max_height": null,
            "max_width": null,
            "min_height": null,
            "min_width": null,
            "object_fit": null,
            "object_position": null,
            "order": null,
            "overflow": null,
            "overflow_x": null,
            "overflow_y": null,
            "padding": null,
            "right": null,
            "top": null,
            "visibility": null,
            "width": null
          }
        },
        "6cd322ec42994ec6a89e02ce27198c84": {
          "model_module": "@jupyter-widgets/controls",
          "model_module_version": "1.5.0",
          "model_name": "HBoxModel",
          "state": {
            "_dom_classes": [],
            "_model_module": "@jupyter-widgets/controls",
            "_model_module_version": "1.5.0",
            "_model_name": "HBoxModel",
            "_view_count": null,
            "_view_module": "@jupyter-widgets/controls",
            "_view_module_version": "1.5.0",
            "_view_name": "HBoxView",
            "box_style": "",
            "children": [
              "IPY_MODEL_e1d32c5c521e43518891fc8a8cc5c228",
              "IPY_MODEL_799f907a811645f49d1365ec36648d7a",
              "IPY_MODEL_594ae3cd34ad4a25b1002a89bee91f79"
            ],
            "layout": "IPY_MODEL_92334509722542d8b3d67c036afbfb36"
          }
        },
        "799f907a811645f49d1365ec36648d7a": {
          "model_module": "@jupyter-widgets/controls",
          "model_module_version": "1.5.0",
          "model_name": "FloatProgressModel",
          "state": {
            "_dom_classes": [],
            "_model_module": "@jupyter-widgets/controls",
            "_model_module_version": "1.5.0",
            "_model_name": "FloatProgressModel",
            "_view_count": null,
            "_view_module": "@jupyter-widgets/controls",
            "_view_module_version": "1.5.0",
            "_view_name": "ProgressView",
            "bar_style": "danger",
            "description": "",
            "description_tooltip": null,
            "layout": "IPY_MODEL_0b073ac91d504f41a189e0c812de56f5",
            "max": 768,
            "min": 0,
            "orientation": "horizontal",
            "style": "IPY_MODEL_c874e790ca01432cb4043d96d8961734",
            "value": 4
          }
        },
        "8811585c4f514484bc709fbe79cda464": {
          "model_module": "@jupyter-widgets/controls",
          "model_module_version": "1.5.0",
          "model_name": "HTMLModel",
          "state": {
            "_dom_classes": [],
            "_model_module": "@jupyter-widgets/controls",
            "_model_module_version": "1.5.0",
            "_model_name": "HTMLModel",
            "_view_count": null,
            "_view_module": "@jupyter-widgets/controls",
            "_view_module_version": "1.5.0",
            "_view_name": "HTMLView",
            "description": "",
            "description_tooltip": null,
            "layout": "IPY_MODEL_6cce7d01d13944298de49b6708608047",
            "placeholder": "​",
            "style": "IPY_MODEL_614148306c98475384f2f6675e76c949",
            "value": " 0/1 [03:39&lt;?, ?it/s]"
          }
        },
        "92334509722542d8b3d67c036afbfb36": {
          "model_module": "@jupyter-widgets/base",
          "model_module_version": "1.2.0",
          "model_name": "LayoutModel",
          "state": {
            "_model_module": "@jupyter-widgets/base",
            "_model_module_version": "1.2.0",
            "_model_name": "LayoutModel",
            "_view_count": null,
            "_view_module": "@jupyter-widgets/base",
            "_view_module_version": "1.2.0",
            "_view_name": "LayoutView",
            "align_content": null,
            "align_items": null,
            "align_self": null,
            "border": null,
            "bottom": null,
            "display": null,
            "flex": null,
            "flex_flow": null,
            "grid_area": null,
            "grid_auto_columns": null,
            "grid_auto_flow": null,
            "grid_auto_rows": null,
            "grid_column": null,
            "grid_gap": null,
            "grid_row": null,
            "grid_template_areas": null,
            "grid_template_columns": null,
            "grid_template_rows": null,
            "height": null,
            "justify_content": null,
            "justify_items": null,
            "left": null,
            "margin": null,
            "max_height": null,
            "max_width": null,
            "min_height": null,
            "min_width": null,
            "object_fit": null,
            "object_position": null,
            "order": null,
            "overflow": null,
            "overflow_x": null,
            "overflow_y": null,
            "padding": null,
            "right": null,
            "top": null,
            "visibility": null,
            "width": null
          }
        },
        "a067c1ae053a4671bb0df88516003baf": {
          "model_module": "@jupyter-widgets/controls",
          "model_module_version": "1.5.0",
          "model_name": "DescriptionStyleModel",
          "state": {
            "_model_module": "@jupyter-widgets/controls",
            "_model_module_version": "1.5.0",
            "_model_name": "DescriptionStyleModel",
            "_view_count": null,
            "_view_module": "@jupyter-widgets/base",
            "_view_module_version": "1.2.0",
            "_view_name": "StyleView",
            "description_width": ""
          }
        },
        "a45d104969904a8d9c6ad2b1321cb551": {
          "model_module": "@jupyter-widgets/controls",
          "model_module_version": "1.5.0",
          "model_name": "ProgressStyleModel",
          "state": {
            "_model_module": "@jupyter-widgets/controls",
            "_model_module_version": "1.5.0",
            "_model_name": "ProgressStyleModel",
            "_view_count": null,
            "_view_module": "@jupyter-widgets/base",
            "_view_module_version": "1.2.0",
            "_view_name": "StyleView",
            "bar_color": null,
            "description_width": ""
          }
        },
        "b1f3660d72184ee8bcc83e9d4a61edb3": {
          "model_module": "@jupyter-widgets/base",
          "model_module_version": "1.2.0",
          "model_name": "LayoutModel",
          "state": {
            "_model_module": "@jupyter-widgets/base",
            "_model_module_version": "1.2.0",
            "_model_name": "LayoutModel",
            "_view_count": null,
            "_view_module": "@jupyter-widgets/base",
            "_view_module_version": "1.2.0",
            "_view_name": "LayoutView",
            "align_content": null,
            "align_items": null,
            "align_self": null,
            "border": null,
            "bottom": null,
            "display": null,
            "flex": null,
            "flex_flow": null,
            "grid_area": null,
            "grid_auto_columns": null,
            "grid_auto_flow": null,
            "grid_auto_rows": null,
            "grid_column": null,
            "grid_gap": null,
            "grid_row": null,
            "grid_template_areas": null,
            "grid_template_columns": null,
            "grid_template_rows": null,
            "height": null,
            "justify_content": null,
            "justify_items": null,
            "left": null,
            "margin": null,
            "max_height": null,
            "max_width": null,
            "min_height": null,
            "min_width": null,
            "object_fit": null,
            "object_position": null,
            "order": null,
            "overflow": null,
            "overflow_x": null,
            "overflow_y": null,
            "padding": null,
            "right": null,
            "top": null,
            "visibility": null,
            "width": null
          }
        },
        "bde968c5739648cea2c78cb44f9efe43": {
          "model_module": "@jupyter-widgets/base",
          "model_module_version": "1.2.0",
          "model_name": "LayoutModel",
          "state": {
            "_model_module": "@jupyter-widgets/base",
            "_model_module_version": "1.2.0",
            "_model_name": "LayoutModel",
            "_view_count": null,
            "_view_module": "@jupyter-widgets/base",
            "_view_module_version": "1.2.0",
            "_view_name": "LayoutView",
            "align_content": null,
            "align_items": null,
            "align_self": null,
            "border": null,
            "bottom": null,
            "display": null,
            "flex": null,
            "flex_flow": null,
            "grid_area": null,
            "grid_auto_columns": null,
            "grid_auto_flow": null,
            "grid_auto_rows": null,
            "grid_column": null,
            "grid_gap": null,
            "grid_row": null,
            "grid_template_areas": null,
            "grid_template_columns": null,
            "grid_template_rows": null,
            "height": null,
            "justify_content": null,
            "justify_items": null,
            "left": null,
            "margin": null,
            "max_height": null,
            "max_width": null,
            "min_height": null,
            "min_width": null,
            "object_fit": null,
            "object_position": null,
            "order": null,
            "overflow": null,
            "overflow_x": null,
            "overflow_y": null,
            "padding": null,
            "right": null,
            "top": null,
            "visibility": null,
            "width": null
          }
        },
        "c874e790ca01432cb4043d96d8961734": {
          "model_module": "@jupyter-widgets/controls",
          "model_module_version": "1.5.0",
          "model_name": "ProgressStyleModel",
          "state": {
            "_model_module": "@jupyter-widgets/controls",
            "_model_module_version": "1.5.0",
            "_model_name": "ProgressStyleModel",
            "_view_count": null,
            "_view_module": "@jupyter-widgets/base",
            "_view_module_version": "1.2.0",
            "_view_name": "StyleView",
            "bar_color": null,
            "description_width": ""
          }
        },
        "d12bf941fabb4f069f90b69931fdb47c": {
          "model_module": "@jupyter-widgets/controls",
          "model_module_version": "1.5.0",
          "model_name": "HTMLModel",
          "state": {
            "_dom_classes": [],
            "_model_module": "@jupyter-widgets/controls",
            "_model_module_version": "1.5.0",
            "_model_name": "HTMLModel",
            "_view_count": null,
            "_view_module": "@jupyter-widgets/controls",
            "_view_module_version": "1.5.0",
            "_view_name": "HTMLView",
            "description": "",
            "description_tooltip": null,
            "layout": "IPY_MODEL_4ca09aea630644519998d0eedf46533b",
            "placeholder": "​",
            "style": "IPY_MODEL_a067c1ae053a4671bb0df88516003baf",
            "value": "Epoch:   0%"
          }
        },
        "e1d32c5c521e43518891fc8a8cc5c228": {
          "model_module": "@jupyter-widgets/controls",
          "model_module_version": "1.5.0",
          "model_name": "HTMLModel",
          "state": {
            "_dom_classes": [],
            "_model_module": "@jupyter-widgets/controls",
            "_model_module_version": "1.5.0",
            "_model_name": "HTMLModel",
            "_view_count": null,
            "_view_module": "@jupyter-widgets/controls",
            "_view_module_version": "1.5.0",
            "_view_name": "HTMLView",
            "description": "",
            "description_tooltip": null,
            "layout": "IPY_MODEL_b1f3660d72184ee8bcc83e9d4a61edb3",
            "placeholder": "​",
            "style": "IPY_MODEL_f9fec4ecaec04b4a883555343e0ec597",
            "value": "Iteration:   1%"
          }
        },
        "f9fec4ecaec04b4a883555343e0ec597": {
          "model_module": "@jupyter-widgets/controls",
          "model_module_version": "1.5.0",
          "model_name": "DescriptionStyleModel",
          "state": {
            "_model_module": "@jupyter-widgets/controls",
            "_model_module_version": "1.5.0",
            "_model_name": "DescriptionStyleModel",
            "_view_count": null,
            "_view_module": "@jupyter-widgets/base",
            "_view_module_version": "1.2.0",
            "_view_name": "StyleView",
            "description_width": ""
          }
        }
      }
    }
  },
  "nbformat": 4,
  "nbformat_minor": 0
}
