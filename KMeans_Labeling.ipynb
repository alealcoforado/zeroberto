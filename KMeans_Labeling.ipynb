{
 "cells": [
  {
   "attachments": {},
   "cell_type": "markdown",
   "metadata": {},
   "source": [
    "# Dependencies"
   ]
  },
  {
   "cell_type": "code",
   "execution_count": 37,
   "metadata": {},
   "outputs": [
    {
     "name": "stdout",
     "output_type": "stream",
     "text": [
      "<class 'torch.device'>\n",
      "The autoreload extension is already loaded. To reload it, use:\n",
      "  %reload_ext autoreload\n"
     ]
    }
   ],
   "source": [
    "%load_ext autoreload\n",
    "%autoreload 2\n",
    "%reload_ext autoreload\n"
   ]
  },
  {
   "cell_type": "code",
   "execution_count": null,
   "metadata": {},
   "outputs": [],
   "source": []
  },
  {
   "cell_type": "code",
   "execution_count": 38,
   "metadata": {},
   "outputs": [
    {
     "name": "stdout",
     "output_type": "stream",
     "text": [
      "<class 'torch.device'>\n"
     ]
    }
   ],
   "source": [
    "\n",
    "import datasets_handler\n",
    "import zeroberto\n",
    "import evaluation_metrics\n",
    "from sklearn.cluster import KMeans\n",
    "from sklearn.neighbors import KNeighborsRegressor\n",
    "from sklearn.neighbors import KNeighborsClassifier\n",
    "from zeroberto import ZeroBERTo\n",
    "import pandas as pd"
   ]
  },
  {
   "attachments": {},
   "cell_type": "markdown",
   "metadata": {},
   "source": [
    "# Dataset"
   ]
  },
  {
   "cell_type": "code",
   "execution_count": 39,
   "metadata": {},
   "outputs": [
    {
     "name": "stderr",
     "output_type": "stream",
     "text": [
      "Found cached dataset ag_news (/Users/alealcoforado/.cache/huggingface/datasets/ag_news/default/0.0.0/bc2bcb40336ace1a0374767fc29bb0296cdaf8a6da7298436239c54d79180548)\n"
     ]
    },
    {
     "data": {
      "application/vnd.jupyter.widget-view+json": {
       "model_id": "fd1409fdb033416e91b41b4f1dd66aae",
       "version_major": 2,
       "version_minor": 0
      },
      "text/plain": [
       "  0%|          | 0/2 [00:00<?, ?it/s]"
      ]
     },
     "metadata": {},
     "output_type": "display_data"
    }
   ],
   "source": [
    "which_dataset = 'ag_news'\n",
    "# which_dataset = 'folhauol'\n",
    "sample_size = 1000\n",
    "# hypothesis = \"this text is about {}.\"\n",
    "hypothesis = \"{}.\"\n",
    "\n",
    "\n",
    "raw_data, data_col, class_col = datasets_handler.getDataset(which_dataset)\n",
    "raw_data[data_col] = raw_data[data_col].dropna()\n",
    "classes_list = raw_data[class_col].drop_duplicates().to_list()\n",
    "raw_data = evaluation_metrics.Encoder(raw_data,[class_col])"
   ]
  },
  {
   "cell_type": "code",
   "execution_count": 40,
   "metadata": {},
   "outputs": [
    {
     "data": {
      "text/plain": [
       "0    (science and technology, 1)\n",
       "1                    (sports, 2)\n",
       "2                  (business, 0)\n",
       "3                     (world, 3)\n",
       "dtype: object"
      ]
     },
     "execution_count": 40,
     "metadata": {},
     "output_type": "execute_result"
    }
   ],
   "source": [
    "train_dataset = raw_data.sample(sample_size,random_state=422)\n",
    "X = train_dataset[data_col].to_list()\n",
    "Y_class =  train_dataset[class_col].to_list()\n",
    "Y_code =  train_dataset[class_col+\"_code\"].to_list()\n",
    "pd.Series(zip(Y_class,Y_code)).drop_duplicates()"
   ]
  },
  {
   "cell_type": "code",
   "execution_count": null,
   "metadata": {},
   "outputs": [],
   "source": []
  },
  {
   "cell_type": "code",
   "execution_count": 41,
   "metadata": {},
   "outputs": [],
   "source": [
    "classes_list_encoded = evaluation_metrics.Encoder(pd.DataFrame({\"classes\":classes_list}))['classes_code']"
   ]
  },
  {
   "attachments": {},
   "cell_type": "markdown",
   "metadata": {},
   "source": [
    "# Model"
   ]
  },
  {
   "cell_type": "code",
   "execution_count": 42,
   "metadata": {},
   "outputs": [
    {
     "name": "stdout",
     "output_type": "stream",
     "text": [
      "['business.', 'science and technology.', 'sports.', 'world.']\n"
     ]
    }
   ],
   "source": [
    "model = zeroberto.ZeroBERTo(classes_list=classes_list,hypothesis_template=hypothesis)"
   ]
  },
  {
   "cell_type": "code",
   "execution_count": 43,
   "metadata": {},
   "outputs": [
    {
     "data": {
      "text/plain": [
       "tensor([ 3.2136e-02,  1.9865e-02,  3.1469e-02,  2.7527e-02,  8.4466e-03,\n",
       "         1.8062e-02,  3.1492e-02, -7.3412e-03,  1.8927e-02, -6.2870e-02,\n",
       "        -2.3049e-02,  1.4962e-02, -5.6942e-02, -9.1903e-03,  5.8556e-02,\n",
       "         5.2277e-02, -2.4588e-02, -3.5469e-02, -1.0119e-02, -8.1159e-03,\n",
       "         9.9538e-03, -3.0489e-02,  2.0677e-02, -2.1111e-02,  3.8647e-02,\n",
       "        -9.4266e-03,  3.3564e-02, -2.7355e-02, -6.3083e-02, -1.0667e-02,\n",
       "         4.4673e-02, -4.4717e-02, -8.1970e-05, -1.5298e-02, -9.6788e-03,\n",
       "         4.6747e-02, -4.3560e-02, -8.1932e-03,  4.4921e-02, -1.4903e-02,\n",
       "         6.3074e-02, -1.8807e-03, -1.4162e-02, -1.0791e-02, -3.3622e-02,\n",
       "         1.5255e-02,  9.0523e-03,  3.4798e-02, -2.9422e-02, -4.9509e-02,\n",
       "        -3.8473e-02,  5.7271e-02, -3.5727e-03,  5.0541e-02, -7.9862e-03,\n",
       "         5.1902e-02,  2.0824e-02, -7.0982e-02, -3.9434e-02, -1.1077e-02,\n",
       "         6.8836e-02, -4.2466e-02,  4.8153e-02,  9.3536e-03, -6.1508e-02,\n",
       "         2.0166e-03, -5.3895e-02, -1.8302e-02, -3.4665e-02, -1.6099e-02,\n",
       "         6.4463e-02,  2.3816e-03, -3.1800e-02,  4.0728e-02,  2.2379e-02,\n",
       "        -9.0671e-02,  3.5103e-02,  7.3803e-02, -3.2096e-03,  3.1351e-02,\n",
       "        -1.8861e-02, -1.5537e-02,  1.1400e-02, -3.6461e-02,  1.0725e-02,\n",
       "        -3.1506e-02, -9.1585e-04,  1.8956e-02, -5.3645e-02, -2.7078e-02,\n",
       "         6.8263e-02,  3.4711e-03, -4.5953e-03, -5.6209e-02,  5.5305e-02,\n",
       "        -9.0859e-02,  7.2093e-02, -9.8849e-03, -1.7901e-02, -2.0112e-02,\n",
       "        -5.0927e-03, -3.9425e-02,  5.1057e-02,  1.9903e-02,  5.7394e-03,\n",
       "        -4.0676e-02,  9.8184e-03,  3.5775e-03,  2.5649e-02,  9.6878e-03,\n",
       "        -2.0767e-03,  8.5848e-03,  6.4738e-02, -2.1490e-02, -1.7237e-02,\n",
       "        -4.4873e-02, -6.7936e-02,  3.2454e-02,  2.5391e-02,  6.1374e-02,\n",
       "         4.7471e-03,  4.7470e-02, -1.7564e-02,  2.6827e-03,  3.5352e-02,\n",
       "        -5.9114e-02, -3.5213e-02, -1.1823e-02, -8.3109e-02,  3.9463e-02,\n",
       "         1.5673e-03, -3.7976e-02,  2.1410e-02,  9.2701e-03,  3.0786e-02,\n",
       "        -1.5980e-02, -1.0709e-02, -3.9668e-02, -1.7153e-02, -4.8147e-03,\n",
       "        -3.4047e-02,  3.4376e-03, -4.6015e-02,  1.8879e-02, -1.0062e-01,\n",
       "        -3.7859e-02, -2.1572e-02,  1.5616e-02,  1.8284e-02,  3.9513e-02,\n",
       "        -3.2193e-02, -2.4018e-03, -1.0328e-02,  2.0797e-02, -6.0589e-02,\n",
       "         6.4506e-02,  2.2942e-03,  4.9892e-02, -9.2332e-03,  4.4629e-03,\n",
       "         3.9039e-02,  3.7104e-02, -1.4981e-02, -1.5724e-02,  1.0674e-02,\n",
       "        -1.7509e-02,  9.3115e-03,  1.3271e-02, -2.6786e-02, -4.5741e-03,\n",
       "         2.5702e-02, -3.8251e-02,  6.8724e-02, -9.5716e-04, -5.9618e-02,\n",
       "         1.8805e-03,  5.2279e-02,  1.5212e-02,  2.2422e-03, -1.2400e-02,\n",
       "        -1.5171e-02,  1.4736e-02,  1.4953e-02, -5.2757e-02,  1.4376e-02,\n",
       "        -1.0948e-03,  1.4395e-02, -6.6663e-02,  2.4388e-02, -2.4240e-03,\n",
       "         1.0398e-02, -8.2233e-02,  5.7338e-03, -4.8708e-02, -7.0840e-03,\n",
       "         2.5317e-02, -6.3607e-02, -1.9988e-02,  1.1680e-02,  5.1081e-02,\n",
       "         2.0465e-02, -3.3789e-02,  3.3162e-02,  1.2101e-02,  3.7502e-03,\n",
       "         4.3937e-02, -4.2025e-02,  9.2173e-02,  1.5010e-02, -1.4031e-02,\n",
       "         4.1408e-02,  1.7460e-02,  2.4956e-02,  1.0455e-02, -3.2750e-03,\n",
       "        -4.1643e-02,  6.7917e-02, -4.4138e-02,  2.6639e-02,  4.6695e-02,\n",
       "         5.4697e-02,  1.3563e-02, -3.5731e-02,  6.8205e-02, -3.5822e-02,\n",
       "        -7.0708e-03,  3.9089e-02,  3.6419e-02,  7.5631e-03, -1.8727e-02,\n",
       "        -2.4082e-02,  1.6135e-02,  2.4837e-02, -2.0842e-02, -2.7820e-03,\n",
       "        -2.9468e-02,  6.7253e-02,  2.4356e-02,  6.1466e-03,  2.8813e-02,\n",
       "        -8.4398e-04,  5.0558e-02,  5.3565e-02, -1.2541e-02, -9.2938e-02,\n",
       "        -5.7892e-02,  3.3390e-02, -1.3873e-03,  2.5915e-02,  7.5837e-03,\n",
       "        -3.5774e-02, -3.6033e-03,  5.2036e-02,  3.4885e-02, -1.5393e-02,\n",
       "         1.8168e-02, -6.3144e-02, -1.9493e-02,  3.9038e-02, -6.7490e-02,\n",
       "        -3.3306e-03,  4.3197e-02, -4.2165e-02, -2.6202e-02, -5.1495e-03,\n",
       "         3.3652e-02, -4.8247e-02,  6.9391e-02, -3.8552e-02,  2.0550e-02,\n",
       "         2.2138e-02,  9.2552e-04, -8.0997e-03, -3.7584e-02,  2.2667e-02,\n",
       "         3.2260e-03,  1.0842e-01, -8.2524e-03, -8.7722e-02, -1.7943e-02,\n",
       "        -1.6133e-02,  3.2830e-02, -4.5429e-02, -3.0420e-03, -6.7974e-03,\n",
       "        -1.1790e-02,  3.5430e-02, -8.3101e-02, -4.7839e-03,  3.2568e-02,\n",
       "        -9.8609e-03,  6.4472e-02,  4.4265e-03, -8.3920e-02,  7.4821e-02,\n",
       "         3.8999e-03,  7.2696e-02, -1.9990e-02,  8.7640e-03, -4.6959e-02,\n",
       "        -3.3361e-02,  6.6173e-03, -3.7525e-02,  6.4441e-03, -1.0795e-04,\n",
       "        -2.9215e-03, -2.6799e-02, -5.8367e-03, -2.0499e-01, -4.5640e-02,\n",
       "        -4.4375e-02, -5.7264e-02, -3.1312e-03, -1.3482e-02, -2.3668e-02,\n",
       "        -2.7526e-02, -3.2216e-02,  1.8959e-02,  6.7596e-04, -9.8585e-02,\n",
       "         2.1661e-02, -3.7581e-02,  2.1514e-02, -3.9141e-02, -6.0026e-02,\n",
       "        -1.8542e-02, -3.9576e-02,  6.8176e-02,  2.0358e-02, -1.1830e-02,\n",
       "         6.2414e-02,  1.0957e-02,  5.2807e-02,  2.9656e-02, -8.1975e-03,\n",
       "         5.2161e-02,  1.8472e-02, -2.9852e-02,  6.0042e-02,  1.3945e-02,\n",
       "         2.4257e-02, -5.4295e-03, -2.9847e-02, -3.9774e-02,  1.8266e-02,\n",
       "        -8.9520e-03, -4.6795e-03, -3.2175e-02, -3.8661e-02, -5.4575e-02,\n",
       "         4.1813e-02, -2.6724e-02, -5.7349e-02, -2.6063e-02, -3.9775e-02,\n",
       "        -1.0260e-01,  2.4323e-02,  2.5823e-02, -1.8729e-02,  7.4384e-02,\n",
       "        -1.3724e-02,  1.7006e-02, -2.8154e-02, -7.0582e-03,  5.1139e-02,\n",
       "         3.7515e-02, -2.0030e-02,  2.4485e-02,  4.6660e-02, -2.1519e-02,\n",
       "        -1.8251e-02, -6.0723e-02,  7.2146e-03, -1.9249e-02, -5.3114e-03,\n",
       "         2.5329e-02,  3.3993e-02,  1.2488e-02,  1.2693e-02, -6.9895e-02,\n",
       "         2.3529e-03, -4.8475e-02, -6.6621e-03, -3.0699e-02, -1.8413e-02,\n",
       "        -3.9265e-02,  1.9525e-03, -2.5413e-02,  3.2924e-03, -8.8771e-03,\n",
       "         8.0331e-02,  3.5586e-02,  3.1164e-02, -2.3532e-03, -4.5778e-02,\n",
       "        -4.6210e-02,  4.2984e-02, -4.2389e-04, -5.9349e-03, -4.7864e-02,\n",
       "        -1.7880e-02, -2.5226e-02,  3.3932e-02, -1.2891e-02, -4.6915e-04,\n",
       "        -4.6936e-02,  7.8557e-02, -4.4722e-03,  5.7937e-03, -5.1505e-02,\n",
       "        -2.4584e-02, -1.4435e-02, -3.2518e-02,  2.6071e-03, -2.7228e-03,\n",
       "         2.3636e-02,  8.0543e-03, -4.6998e-02, -1.3304e-03,  8.3972e-02,\n",
       "         5.2171e-02,  3.7071e-02, -8.4864e-02,  2.0360e-03, -4.1971e-03,\n",
       "        -6.4647e-03, -4.3266e-02,  7.2154e-03, -1.2456e-02,  2.7545e-02,\n",
       "         1.1049e-02, -3.9902e-02, -3.2756e-02,  6.5603e-02, -1.2866e-02,\n",
       "         2.3969e-02,  1.8165e-02,  1.9155e-02, -6.1489e-03, -3.1084e-02,\n",
       "         2.9674e-02, -1.0244e-01, -2.1570e-02, -1.4073e-04,  3.1786e-02,\n",
       "         2.8731e-02, -5.3702e-02, -4.8536e-02,  3.7162e-02, -4.8353e-02,\n",
       "         1.6528e-02,  1.2084e-02, -6.0743e-02, -1.8401e-02,  2.6919e-03,\n",
       "        -4.1572e-02, -1.4892e-02, -7.6788e-02, -6.1310e-03, -2.0752e-02,\n",
       "         4.9673e-03,  6.9993e-03, -1.5949e-02, -3.1617e-03,  1.9391e-02,\n",
       "         1.1089e-02, -1.6701e-02, -3.6195e-02,  3.7290e-03, -3.1022e-02,\n",
       "        -3.3543e-02,  2.6598e-03,  1.0407e-03,  2.1890e-02,  8.9879e-03,\n",
       "         3.4940e-02, -6.9064e-02,  4.0193e-02,  8.3307e-02, -5.2093e-03,\n",
       "        -1.8818e-02,  5.2293e-02, -1.0132e-02,  2.7826e-02, -1.7477e-02,\n",
       "        -1.7331e-02,  4.7827e-02,  3.3676e-02,  3.9497e-02,  9.0030e-03,\n",
       "         3.5122e-02, -3.8681e-03, -7.3780e-02, -7.0808e-02,  2.6369e-04,\n",
       "         8.7733e-03, -1.8873e-02, -2.3191e-02,  2.6489e-02,  3.1670e-02,\n",
       "         2.8216e-02,  7.6832e-03,  1.9287e-02,  2.3215e-02, -4.3701e-02,\n",
       "        -2.8363e-03, -4.2896e-02,  3.7314e-02,  9.5426e-03,  1.5515e-02,\n",
       "         7.6844e-03, -1.7059e-02, -1.8254e-02, -1.7863e-02,  3.0050e-02,\n",
       "         5.7827e-03,  1.7909e-02, -3.3683e-02, -2.5852e-02,  1.1497e-03,\n",
       "        -3.4574e-02,  1.8662e-02,  2.0778e-02,  6.0709e-03,  1.3084e-02,\n",
       "         3.8316e-02, -1.2560e-02, -3.3902e-02,  1.7278e-02, -2.3686e-02,\n",
       "        -5.4770e-04,  1.4824e-02, -7.1971e-02,  2.8575e-02, -3.5665e-04,\n",
       "        -2.4453e-02,  7.1778e-03, -2.1827e-03,  8.1187e-02, -4.1246e-02,\n",
       "         4.4843e-02,  1.6757e-02,  7.3005e-02, -8.5691e-03, -1.1145e-02,\n",
       "        -3.3823e-02, -8.0299e-03, -5.1891e-02,  2.6979e-02,  4.7403e-03,\n",
       "         3.0963e-02,  1.9107e-02, -1.8222e-02, -3.3609e-02, -2.3187e-02,\n",
       "        -1.3001e-02, -4.4945e-03,  1.7889e-02, -7.5404e-02, -1.4825e-03,\n",
       "         2.4556e-03,  2.2773e-02, -2.9929e-02,  3.8790e-02, -2.2640e-02,\n",
       "         3.6149e-02,  4.1679e-02,  4.1790e-02,  9.7631e-03, -3.5452e-02,\n",
       "        -2.1942e-04, -2.7908e-02,  4.1332e-02, -1.7923e-02,  1.3220e-02,\n",
       "        -1.4319e-02,  4.4328e-03, -3.7121e-04, -3.3104e-02,  2.6810e-02,\n",
       "         1.3297e-02,  1.9224e-02,  2.6752e-02, -3.7918e-02, -3.9108e-02,\n",
       "         2.2802e-02,  5.4497e-02,  1.1002e-02,  3.4574e-02, -7.5451e-02,\n",
       "         9.6811e-03, -2.6399e-02,  7.8479e-02,  5.1803e-02,  6.8261e-02,\n",
       "        -3.5369e-02, -2.3130e-02, -5.3659e-02, -2.4857e-02,  4.0949e-02,\n",
       "        -3.5030e-02, -4.1522e-02, -5.1230e-02,  3.6364e-02, -1.3759e-02,\n",
       "         8.5653e-04,  2.4106e-02, -5.9228e-02, -3.6422e-03, -1.4464e-02,\n",
       "         1.1975e-02, -5.8157e-02, -4.4406e-02, -2.3511e-02, -2.0541e-02,\n",
       "        -1.6388e-02, -2.4193e-03,  5.0957e-02,  2.1978e-02,  1.9551e-02,\n",
       "         2.6958e-02, -2.4583e-02,  9.2612e-02, -5.7266e-02,  2.6909e-02,\n",
       "         2.4195e-03,  3.0979e-02, -3.8270e-02,  2.0914e-02, -1.4896e-02,\n",
       "         3.9675e-03,  2.7326e-02, -8.6003e-03,  1.9905e-02, -4.8299e-02,\n",
       "        -2.3818e-03, -4.6284e-02,  4.4578e-02, -4.1239e-02,  1.9604e-02,\n",
       "        -6.7011e-02, -2.7852e-02, -1.9727e-03,  2.1684e-02,  1.9683e-02,\n",
       "        -2.1896e-02,  2.3779e-02,  5.3488e-02, -9.9329e-03,  1.8916e-02,\n",
       "         2.6429e-02,  3.7313e-02, -2.5953e-02,  2.1387e-02, -2.6461e-02,\n",
       "        -6.4564e-02,  1.5898e-02,  1.7168e-02,  2.0348e-02,  1.6822e-02,\n",
       "         4.3600e-02, -4.1869e-02, -1.4642e-02, -1.1680e-02,  1.0258e-02,\n",
       "        -8.9599e-03, -6.9760e-02, -2.5682e-02,  8.0221e-03,  1.1259e-02,\n",
       "        -2.8011e-02,  8.5836e-03,  1.6681e-02, -5.2022e-02,  5.2121e-02,\n",
       "        -3.4616e-03,  4.2442e-02, -1.3512e-04, -1.9076e-02, -7.4398e-02,\n",
       "         1.5493e-02,  3.9407e-02, -6.3062e-03, -6.7537e-03,  8.9012e-03,\n",
       "        -5.7116e-04,  6.7891e-03, -1.4091e-02,  1.9764e-02,  4.6429e-02,\n",
       "         3.3607e-02, -2.6549e-02, -2.8182e-02, -5.9503e-02,  3.3017e-02,\n",
       "         1.6164e-02, -3.0927e-02,  1.1742e-03,  2.9418e-03, -5.7357e-02,\n",
       "        -6.0786e-02,  1.6572e-03,  6.1352e-02, -7.0195e-02,  8.4636e-03,\n",
       "        -3.3980e-02, -2.7451e-02,  2.4002e-02,  7.3308e-02, -5.5514e-03,\n",
       "         1.1054e-02,  4.9355e-03, -1.6570e-02,  1.3780e-02,  7.6757e-03,\n",
       "         5.8438e-02,  5.8580e-03, -3.0574e-02,  4.9401e-02, -1.0246e-02,\n",
       "         3.1499e-03,  3.1528e-03,  1.1695e-02, -4.2240e-03,  1.2919e-02,\n",
       "         2.5716e-02,  3.0074e-02, -2.6157e-02, -2.1408e-02, -4.1417e-02,\n",
       "        -4.0403e-02, -3.3019e-02,  1.7003e-02, -1.8749e-02,  3.1149e-02,\n",
       "         4.8850e-02,  2.8310e-02,  5.9869e-02,  4.6095e-03,  3.0999e-03,\n",
       "        -2.3918e-02, -4.1768e-02,  1.8685e-02, -2.6191e-02,  1.2726e-03,\n",
       "        -9.7402e-03, -5.3460e-02, -5.4842e-03, -3.6138e-02, -5.5150e-03,\n",
       "        -2.5661e-02,  5.0026e-03, -1.1909e-02, -4.4775e-02,  3.0002e-02,\n",
       "        -2.2038e-02, -1.1690e-02,  2.0202e-02,  2.3050e-02, -4.7200e-03,\n",
       "         1.7027e-02, -1.9392e-02, -4.4967e-02, -1.3387e-02,  4.3785e-03,\n",
       "        -8.9397e-04, -1.9531e-03,  7.1341e-03])"
      ]
     },
     "execution_count": 43,
     "metadata": {},
     "output_type": "execute_result"
    }
   ],
   "source": [
    "test = \"O país está na merda. Mas tenho duas frases.\"\n",
    "model.encode(test)"
   ]
  },
  {
   "cell_type": "code",
   "execution_count": null,
   "metadata": {},
   "outputs": [],
   "source": []
  },
  {
   "cell_type": "code",
   "execution_count": 44,
   "metadata": {},
   "outputs": [],
   "source": [
    "X_emb = model.encode(X)"
   ]
  },
  {
   "cell_type": "code",
   "execution_count": null,
   "metadata": {},
   "outputs": [],
   "source": []
  },
  {
   "cell_type": "code",
   "execution_count": 45,
   "metadata": {},
   "outputs": [],
   "source": [
    "classes_list_emb = model.encode(classes_list)\n"
   ]
  },
  {
   "cell_type": "code",
   "execution_count": 46,
   "metadata": {},
   "outputs": [
    {
     "data": {
      "text/plain": [
       "('{}.', ['business', 'science and technology', 'sports', 'world'])"
      ]
     },
     "execution_count": 46,
     "metadata": {},
     "output_type": "execute_result"
    }
   ],
   "source": [
    "model.hypothesis_template,model.classes,"
   ]
  },
  {
   "attachments": {},
   "cell_type": "markdown",
   "metadata": {},
   "source": [
    "# KMeans"
   ]
  },
  {
   "cell_type": "code",
   "execution_count": 47,
   "metadata": {},
   "outputs": [],
   "source": [
    "from sklearn.cluster import KMeans\n",
    "import numpy as np\n"
   ]
  },
  {
   "cell_type": "code",
   "execution_count": 48,
   "metadata": {},
   "outputs": [
    {
     "name": "stdout",
     "output_type": "stream",
     "text": [
      "[[ 0.02597696  0.03260607  0.0491689  ... -0.0497164  -0.04720933\n",
      "  -0.00918514]\n",
      " [-0.00667754 -0.00183611  0.07915001 ... -0.03521105 -0.02245408\n",
      "  -0.00815121]\n",
      " [ 0.0729172  -0.00049009  0.08419071 ...  0.02738611 -0.02243059\n",
      "   0.01396182]\n",
      " [ 0.00950092 -0.02665639  0.10919806 ... -0.02656817 -0.00534643\n",
      "  -0.0236638 ]]\n"
     ]
    }
   ],
   "source": [
    "cluster_centers = np.array(classes_list_emb,dtype=np.double)\n",
    "print(cluster_centers)\n"
   ]
  },
  {
   "cell_type": "code",
   "execution_count": 49,
   "metadata": {},
   "outputs": [
    {
     "data": {
      "text/html": [
       "<style>#sk-container-id-1 {color: black;background-color: white;}#sk-container-id-1 pre{padding: 0;}#sk-container-id-1 div.sk-toggleable {background-color: white;}#sk-container-id-1 label.sk-toggleable__label {cursor: pointer;display: block;width: 100%;margin-bottom: 0;padding: 0.3em;box-sizing: border-box;text-align: center;}#sk-container-id-1 label.sk-toggleable__label-arrow:before {content: \"▸\";float: left;margin-right: 0.25em;color: #696969;}#sk-container-id-1 label.sk-toggleable__label-arrow:hover:before {color: black;}#sk-container-id-1 div.sk-estimator:hover label.sk-toggleable__label-arrow:before {color: black;}#sk-container-id-1 div.sk-toggleable__content {max-height: 0;max-width: 0;overflow: hidden;text-align: left;background-color: #f0f8ff;}#sk-container-id-1 div.sk-toggleable__content pre {margin: 0.2em;color: black;border-radius: 0.25em;background-color: #f0f8ff;}#sk-container-id-1 input.sk-toggleable__control:checked~div.sk-toggleable__content {max-height: 200px;max-width: 100%;overflow: auto;}#sk-container-id-1 input.sk-toggleable__control:checked~label.sk-toggleable__label-arrow:before {content: \"▾\";}#sk-container-id-1 div.sk-estimator input.sk-toggleable__control:checked~label.sk-toggleable__label {background-color: #d4ebff;}#sk-container-id-1 div.sk-label input.sk-toggleable__control:checked~label.sk-toggleable__label {background-color: #d4ebff;}#sk-container-id-1 input.sk-hidden--visually {border: 0;clip: rect(1px 1px 1px 1px);clip: rect(1px, 1px, 1px, 1px);height: 1px;margin: -1px;overflow: hidden;padding: 0;position: absolute;width: 1px;}#sk-container-id-1 div.sk-estimator {font-family: monospace;background-color: #f0f8ff;border: 1px dotted black;border-radius: 0.25em;box-sizing: border-box;margin-bottom: 0.5em;}#sk-container-id-1 div.sk-estimator:hover {background-color: #d4ebff;}#sk-container-id-1 div.sk-parallel-item::after {content: \"\";width: 100%;border-bottom: 1px solid gray;flex-grow: 1;}#sk-container-id-1 div.sk-label:hover label.sk-toggleable__label {background-color: #d4ebff;}#sk-container-id-1 div.sk-serial::before {content: \"\";position: absolute;border-left: 1px solid gray;box-sizing: border-box;top: 0;bottom: 0;left: 50%;z-index: 0;}#sk-container-id-1 div.sk-serial {display: flex;flex-direction: column;align-items: center;background-color: white;padding-right: 0.2em;padding-left: 0.2em;position: relative;}#sk-container-id-1 div.sk-item {position: relative;z-index: 1;}#sk-container-id-1 div.sk-parallel {display: flex;align-items: stretch;justify-content: center;background-color: white;position: relative;}#sk-container-id-1 div.sk-item::before, #sk-container-id-1 div.sk-parallel-item::before {content: \"\";position: absolute;border-left: 1px solid gray;box-sizing: border-box;top: 0;bottom: 0;left: 50%;z-index: -1;}#sk-container-id-1 div.sk-parallel-item {display: flex;flex-direction: column;z-index: 1;position: relative;background-color: white;}#sk-container-id-1 div.sk-parallel-item:first-child::after {align-self: flex-end;width: 50%;}#sk-container-id-1 div.sk-parallel-item:last-child::after {align-self: flex-start;width: 50%;}#sk-container-id-1 div.sk-parallel-item:only-child::after {width: 0;}#sk-container-id-1 div.sk-dashed-wrapped {border: 1px dashed gray;margin: 0 0.4em 0.5em 0.4em;box-sizing: border-box;padding-bottom: 0.4em;background-color: white;}#sk-container-id-1 div.sk-label label {font-family: monospace;font-weight: bold;display: inline-block;line-height: 1.2em;}#sk-container-id-1 div.sk-label-container {text-align: center;}#sk-container-id-1 div.sk-container {/* jupyter's `normalize.less` sets `[hidden] { display: none; }` but bootstrap.min.css set `[hidden] { display: none !important; }` so we also need the `!important` here to be able to override the default hidden behavior on the sphinx rendered scikit-learn.org. See: https://github.com/scikit-learn/scikit-learn/issues/21755 */display: inline-block !important;position: relative;}#sk-container-id-1 div.sk-text-repr-fallback {display: none;}</style><div id=\"sk-container-id-1\" class=\"sk-top-container\"><div class=\"sk-text-repr-fallback\"><pre>KMeans(init=array([[ 0.02597696,  0.03260607,  0.0491689 , ..., -0.0497164 ,\n",
       "        -0.04720933, -0.00918514],\n",
       "       [-0.00667754, -0.00183611,  0.07915001, ..., -0.03521105,\n",
       "        -0.02245408, -0.00815121],\n",
       "       [ 0.0729172 , -0.00049009,  0.08419071, ...,  0.02738611,\n",
       "        -0.02243059,  0.01396182],\n",
       "       [ 0.00950092, -0.02665639,  0.10919806, ..., -0.02656817,\n",
       "        -0.00534643, -0.0236638 ]]),\n",
       "       max_iter=600, n_clusters=4, n_init=1, random_state=422)</pre><b>In a Jupyter environment, please rerun this cell to show the HTML representation or trust the notebook. <br />On GitHub, the HTML representation is unable to render, please try loading this page with nbviewer.org.</b></div><div class=\"sk-container\" hidden><div class=\"sk-item\"><div class=\"sk-estimator sk-toggleable\"><input class=\"sk-toggleable__control sk-hidden--visually\" id=\"sk-estimator-id-1\" type=\"checkbox\" checked><label for=\"sk-estimator-id-1\" class=\"sk-toggleable__label sk-toggleable__label-arrow\">KMeans</label><div class=\"sk-toggleable__content\"><pre>KMeans(init=array([[ 0.02597696,  0.03260607,  0.0491689 , ..., -0.0497164 ,\n",
       "        -0.04720933, -0.00918514],\n",
       "       [-0.00667754, -0.00183611,  0.07915001, ..., -0.03521105,\n",
       "        -0.02245408, -0.00815121],\n",
       "       [ 0.0729172 , -0.00049009,  0.08419071, ...,  0.02738611,\n",
       "        -0.02243059,  0.01396182],\n",
       "       [ 0.00950092, -0.02665639,  0.10919806, ..., -0.02656817,\n",
       "        -0.00534643, -0.0236638 ]]),\n",
       "       max_iter=600, n_clusters=4, n_init=1, random_state=422)</pre></div></div></div></div></div>"
      ],
      "text/plain": [
       "KMeans(init=array([[ 0.02597696,  0.03260607,  0.0491689 , ..., -0.0497164 ,\n",
       "        -0.04720933, -0.00918514],\n",
       "       [-0.00667754, -0.00183611,  0.07915001, ..., -0.03521105,\n",
       "        -0.02245408, -0.00815121],\n",
       "       [ 0.0729172 , -0.00049009,  0.08419071, ...,  0.02738611,\n",
       "        -0.02243059,  0.01396182],\n",
       "       [ 0.00950092, -0.02665639,  0.10919806, ..., -0.02656817,\n",
       "        -0.00534643, -0.0236638 ]]),\n",
       "       max_iter=600, n_clusters=4, n_init=1, random_state=422)"
      ]
     },
     "execution_count": 49,
     "metadata": {},
     "output_type": "execute_result"
    }
   ],
   "source": [
    "# kmeans = KMeans(n_clusters=2, init=cluster_centers, n_init=1)\n",
    "km1 = KMeans(n_clusters=len(classes_list), n_init=1, init=cluster_centers,max_iter = 600, random_state=422)\n",
    "\n",
    "km1.fit(cluster_centers)"
   ]
  },
  {
   "cell_type": "code",
   "execution_count": null,
   "metadata": {},
   "outputs": [],
   "source": []
  },
  {
   "cell_type": "code",
   "execution_count": 36,
   "metadata": {},
   "outputs": [
    {
     "data": {
      "text/plain": [
       "(4, 768)"
      ]
     },
     "execution_count": 36,
     "metadata": {},
     "output_type": "execute_result"
    }
   ],
   "source": [
    "cluster_centers.shape"
   ]
  },
  {
   "cell_type": "code",
   "execution_count": null,
   "metadata": {},
   "outputs": [],
   "source": []
  },
  {
   "cell_type": "code",
   "execution_count": null,
   "metadata": {},
   "outputs": [],
   "source": []
  },
  {
   "cell_type": "code",
   "execution_count": 37,
   "metadata": {},
   "outputs": [],
   "source": [
    "# km1.score(X_emb,Y_code)"
   ]
  },
  {
   "cell_type": "code",
   "execution_count": 38,
   "metadata": {},
   "outputs": [],
   "source": [
    "\n",
    "y_pred = km1.predict(X_emb)"
   ]
  },
  {
   "cell_type": "code",
   "execution_count": 39,
   "metadata": {},
   "outputs": [
    {
     "name": "stdout",
     "output_type": "stream",
     "text": [
      "{'weighted': [{'accuracy': 0.304}, {'precision': 0.49178037098560357}, {'recall': 0.304}, {'f1': 0.2557830402594587}], 'macro': [{'accuracy': 0.304}, {'precision': 0.4900401439645626}, {'recall': 0.3039353107691872}, {'f1': 0.2533959236792093}]}\n",
      "{'weighted': [{'accuracy': 0.462}, {'precision': 0.5651428393296906}, {'recall': 0.462}, {'f1': 0.43117904518349887}], 'macro': [{'accuracy': 0.462}, {'precision': 0.562462221242498}, {'recall': 0.46259378236729753}, {'f1': 0.4292006626151025}]}\n"
     ]
    }
   ],
   "source": [
    "try: print(all_metrics)\n",
    "except: pass\n",
    "all_metrics = evaluation_metrics.get_metrics(y_pred,Y_code)\n",
    "print(all_metrics)"
   ]
  },
  {
   "cell_type": "code",
   "execution_count": null,
   "metadata": {},
   "outputs": [],
   "source": []
  },
  {
   "cell_type": "code",
   "execution_count": 40,
   "metadata": {},
   "outputs": [
    {
     "data": {
      "text/plain": [
       "array([[1.36662048, 1.30808537, 1.40733463, 1.36974043],\n",
       "       [1.47019239, 1.46231025, 1.4774647 , 1.52124674],\n",
       "       [1.30253007, 1.32461061, 1.43250614, 1.35873981],\n",
       "       ...,\n",
       "       [1.33169989, 1.35944845, 1.4107733 , 1.45561049],\n",
       "       [1.44974579, 1.4281211 , 1.45022305, 1.51886671],\n",
       "       [1.42201143, 1.48008053, 1.48927879, 1.5010865 ]])"
      ]
     },
     "execution_count": 40,
     "metadata": {},
     "output_type": "execute_result"
    }
   ],
   "source": [
    "def getTopLabel(row):  return row.idxmax()\n",
    "def getTopProb(row):   return row.max()\n",
    "\n",
    "y_probs = km1.transform(X_emb)\n",
    "y_probs"
   ]
  },
  {
   "cell_type": "code",
   "execution_count": 41,
   "metadata": {},
   "outputs": [],
   "source": [
    "df_probs = pd.DataFrame(y_probs,columns=classes_list)\n",
    "\n",
    "label_results = df_probs.apply(getTopLabel,axis=1)\n",
    "prob_results = df_probs.apply(getTopProb,axis=1)"
   ]
  },
  {
   "cell_type": "code",
   "execution_count": null,
   "metadata": {},
   "outputs": [],
   "source": []
  },
  {
   "cell_type": "code",
   "execution_count": 42,
   "metadata": {},
   "outputs": [],
   "source": [
    "label_results_df = pd.Series(label_results,name='prediction')\n",
    "true_labels_df = raw_data[raw_data.index.isin(train_dataset.index)][class_col]\n",
    "label_results_df.index=true_labels_df.index\n",
    "\n",
    "final_result_df = pd.concat([true_labels_df,label_results_df],axis=1)\n",
    "vector_true = ( final_result_df[class_col].astype(str).str.strip().str.lower() \n",
    "               == final_result_df['prediction'].astype(str).str.strip().str.lower() )\n",
    "final_result_df_encoded = evaluation_metrics.Encoder(final_result_df,['prediction',class_col])\n",
    "df_predictions_probs = pd.concat([final_result_df_encoded,\n",
    "                                  pd.Series(prob_results,name='top_probability'),\n",
    "                                  pd.Series(vector_true,name='right_wrong')],axis=1)"
   ]
  },
  {
   "cell_type": "code",
   "execution_count": 43,
   "metadata": {},
   "outputs": [
    {
     "data": {
      "text/plain": [
       "59                      business\n",
       "70                      business\n",
       "445       science and technology\n",
       "840                        world\n",
       "851                        world\n",
       "                   ...          \n",
       "126596                  business\n",
       "126759    science and technology\n",
       "127454                    sports\n",
       "127531                    sports\n",
       "127563                    sports\n",
       "Name: label_text, Length: 1000, dtype: object"
      ]
     },
     "execution_count": 43,
     "metadata": {},
     "output_type": "execute_result"
    }
   ],
   "source": [
    "true_labels_df"
   ]
  },
  {
   "cell_type": "code",
   "execution_count": 44,
   "metadata": {},
   "outputs": [
    {
     "data": {
      "text/plain": [
       "59        sports\n",
       "70         world\n",
       "445       sports\n",
       "840        world\n",
       "851        world\n",
       "           ...  \n",
       "126596     world\n",
       "126759    sports\n",
       "127454     world\n",
       "127531     world\n",
       "127563     world\n",
       "Name: prediction, Length: 1000, dtype: object"
      ]
     },
     "execution_count": 44,
     "metadata": {},
     "output_type": "execute_result"
    }
   ],
   "source": [
    "label_results_df"
   ]
  },
  {
   "cell_type": "code",
   "execution_count": 45,
   "metadata": {},
   "outputs": [
    {
     "name": "stdout",
     "output_type": "stream",
     "text": [
      "{'accuracy in top 1': 0.25}\n",
      "{'accuracy in top 2': 0.25}\n",
      "{'accuracy in top 3': 0.333}\n",
      "{'accuracy in top 4': 0.312}\n",
      "{'accuracy in top 5': 0.3}\n",
      "{'accuracy in top 6': 0.333}\n",
      "{'accuracy in top 7': 0.286}\n",
      "{'accuracy in top 8': 0.25}\n",
      "{'accuracy in top 9': 0.25}\n",
      "{'accuracy in top 10': 0.225}\n",
      "{'accuracy in top 11': 0.205}\n",
      "{'accuracy in top 12': 0.188}\n",
      "{'accuracy in top 13': 0.212}\n",
      "{'accuracy in top 14': 0.214}\n",
      "{'accuracy in top 15': 0.217}\n",
      "{'accuracy in top 16': 0.203}\n",
      "{'accuracy in top 1000': 0.249}\n"
     ]
    }
   ],
   "source": [
    "def get_top_n_results(dataframe_results,top_n=1):\n",
    "    df_top_n = dataframe_results.sort_values(['top_probability','prediction'], ascending=True).groupby('prediction').head(top_n)\n",
    "    # print(df_top_n)\n",
    "    accuracy_top_n = df_top_n.right_wrong.sum()/len(df_top_n.right_wrong)\n",
    "    # evaluation_metrics.get_metrics(df_top_n['prediction_code'],Y_code,metrics=[\"accuracy\"])\n",
    "\n",
    "    accuracy = { \"accuracy in top {}\".format(top_n) : round(accuracy_top_n,3)}\n",
    "    print(accuracy)\n",
    "    return \n",
    "\n",
    "get_top_n_results(df_predictions_probs,top_n = 1)\n",
    "get_top_n_results(df_predictions_probs,top_n = 2)\n",
    "get_top_n_results(df_predictions_probs,top_n = 3)\n",
    "get_top_n_results(df_predictions_probs,top_n = 4)\n",
    "get_top_n_results(df_predictions_probs,top_n = 5)\n",
    "get_top_n_results(df_predictions_probs,top_n = 6)\n",
    "get_top_n_results(df_predictions_probs,top_n = 7)\n",
    "get_top_n_results(df_predictions_probs,top_n = 8)\n",
    "get_top_n_results(df_predictions_probs,top_n = 9)\n",
    "get_top_n_results(df_predictions_probs,top_n = 10)\n",
    "get_top_n_results(df_predictions_probs,top_n = 11)\n",
    "get_top_n_results(df_predictions_probs,top_n = 12)\n",
    "get_top_n_results(df_predictions_probs,top_n = 13)\n",
    "get_top_n_results(df_predictions_probs,top_n = 14)\n",
    "get_top_n_results(df_predictions_probs,top_n = 15)\n",
    "get_top_n_results(df_predictions_probs,top_n = 16)\n",
    "get_top_n_results(df_predictions_probs,top_n = len(train_dataset))"
   ]
  },
  {
   "cell_type": "code",
   "execution_count": null,
   "metadata": {},
   "outputs": [],
   "source": []
  },
  {
   "cell_type": "code",
   "execution_count": null,
   "metadata": {},
   "outputs": [],
   "source": []
  }
 ],
 "metadata": {
  "kernelspec": {
   "display_name": "venv_zeroberto",
   "language": "python",
   "name": "python3"
  },
  "language_info": {
   "codemirror_mode": {
    "name": "ipython",
    "version": 3
   },
   "file_extension": ".py",
   "mimetype": "text/x-python",
   "name": "python",
   "nbconvert_exporter": "python",
   "pygments_lexer": "ipython3",
   "version": "3.10.9"
  },
  "orig_nbformat": 4,
  "vscode": {
   "interpreter": {
    "hash": "b98a7e24f8a69e8a460c693288d2fe0565d17bd4bdd6eb6203258b225132cc92"
   }
  }
 },
 "nbformat": 4,
 "nbformat_minor": 2
}
