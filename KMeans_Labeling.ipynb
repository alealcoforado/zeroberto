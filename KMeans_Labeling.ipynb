{
 "cells": [
  {
   "attachments": {},
   "cell_type": "markdown",
   "metadata": {},
   "source": [
    "# Dependencies"
   ]
  },
  {
   "cell_type": "code",
   "execution_count": 1,
   "metadata": {},
   "outputs": [],
   "source": [
    "%load_ext autoreload\n",
    "%autoreload 2\n",
    "%reload_ext autoreload"
   ]
  },
  {
   "cell_type": "code",
   "execution_count": null,
   "metadata": {},
   "outputs": [],
   "source": []
  },
  {
   "cell_type": "code",
   "execution_count": 2,
   "metadata": {},
   "outputs": [],
   "source": [
    "\n",
    "import datasets_handler\n",
    "import zeroberto\n",
    "import evaluation_metrics\n",
    "from sklearn.cluster import KMeans\n",
    "from sklearn.neighbors import KNeighborsRegressor\n",
    "from sklearn.neighbors import KNeighborsClassifier\n",
    "from zeroberto import ZeroBERTo\n",
    "import pandas as pd\n",
    "import numpy as np\n"
   ]
  },
  {
   "attachments": {},
   "cell_type": "markdown",
   "metadata": {},
   "source": [
    "# Dataset"
   ]
  },
  {
   "cell_type": "code",
   "execution_count": 3,
   "metadata": {},
   "outputs": [
    {
     "name": "stderr",
     "output_type": "stream",
     "text": [
      "Found cached dataset ag_news (/Users/alealcoforado/.cache/huggingface/datasets/ag_news/default/0.0.0/bc2bcb40336ace1a0374767fc29bb0296cdaf8a6da7298436239c54d79180548)\n"
     ]
    },
    {
     "data": {
      "application/vnd.jupyter.widget-view+json": {
       "model_id": "a8408024aeae48659ca2ae14b87b6f63",
       "version_major": 2,
       "version_minor": 0
      },
      "text/plain": [
       "  0%|          | 0/2 [00:00<?, ?it/s]"
      ]
     },
     "metadata": {},
     "output_type": "display_data"
    }
   ],
   "source": [
    "which_dataset = 'ag_news'\n",
    "# which_dataset = 'folhauol'\n",
    "sample_size = 50000\n",
    "hypothesis = \"this text is about {}.\"\n",
    "# hypothesis = \"{}.\"\n",
    "\n",
    "\n",
    "raw_data, data_col, class_col = datasets_handler.getDataset(which_dataset)\n",
    "raw_data[data_col] = raw_data[data_col].dropna()\n",
    "classes_list = raw_data[class_col].drop_duplicates().to_list()\n",
    "raw_data = evaluation_metrics.Encoder(raw_data,[class_col])"
   ]
  },
  {
   "cell_type": "code",
   "execution_count": 4,
   "metadata": {},
   "outputs": [
    {
     "data": {
      "text/plain": [
       "0                    (business, 0)\n",
       "28     (science and technology, 1)\n",
       "158                    (sports, 2)\n",
       "180                     (world, 3)\n",
       "dtype: object"
      ]
     },
     "execution_count": 4,
     "metadata": {},
     "output_type": "execute_result"
    }
   ],
   "source": [
    "train_dataset = raw_data.sample(sample_size,random_state=422).sort_index()\n",
    "X = train_dataset[data_col].to_list()\n",
    "Y_class =  train_dataset[class_col].to_list()\n",
    "Y_code =  train_dataset[class_col+\"_code\"].to_list()\n",
    "pd.Series(zip(Y_class,Y_code)).drop_duplicates()"
   ]
  },
  {
   "cell_type": "code",
   "execution_count": 5,
   "metadata": {},
   "outputs": [],
   "source": [
    "classes_list_encoded = evaluation_metrics.Encoder(pd.DataFrame({\"classes\":classes_list}))['classes_code']"
   ]
  },
  {
   "attachments": {},
   "cell_type": "markdown",
   "metadata": {},
   "source": [
    "# Model"
   ]
  },
  {
   "cell_type": "code",
   "execution_count": 6,
   "metadata": {},
   "outputs": [
    {
     "data": {
      "text/html": [
       "<style>#sk-container-id-1 {color: black;background-color: white;}#sk-container-id-1 pre{padding: 0;}#sk-container-id-1 div.sk-toggleable {background-color: white;}#sk-container-id-1 label.sk-toggleable__label {cursor: pointer;display: block;width: 100%;margin-bottom: 0;padding: 0.3em;box-sizing: border-box;text-align: center;}#sk-container-id-1 label.sk-toggleable__label-arrow:before {content: \"▸\";float: left;margin-right: 0.25em;color: #696969;}#sk-container-id-1 label.sk-toggleable__label-arrow:hover:before {color: black;}#sk-container-id-1 div.sk-estimator:hover label.sk-toggleable__label-arrow:before {color: black;}#sk-container-id-1 div.sk-toggleable__content {max-height: 0;max-width: 0;overflow: hidden;text-align: left;background-color: #f0f8ff;}#sk-container-id-1 div.sk-toggleable__content pre {margin: 0.2em;color: black;border-radius: 0.25em;background-color: #f0f8ff;}#sk-container-id-1 input.sk-toggleable__control:checked~div.sk-toggleable__content {max-height: 200px;max-width: 100%;overflow: auto;}#sk-container-id-1 input.sk-toggleable__control:checked~label.sk-toggleable__label-arrow:before {content: \"▾\";}#sk-container-id-1 div.sk-estimator input.sk-toggleable__control:checked~label.sk-toggleable__label {background-color: #d4ebff;}#sk-container-id-1 div.sk-label input.sk-toggleable__control:checked~label.sk-toggleable__label {background-color: #d4ebff;}#sk-container-id-1 input.sk-hidden--visually {border: 0;clip: rect(1px 1px 1px 1px);clip: rect(1px, 1px, 1px, 1px);height: 1px;margin: -1px;overflow: hidden;padding: 0;position: absolute;width: 1px;}#sk-container-id-1 div.sk-estimator {font-family: monospace;background-color: #f0f8ff;border: 1px dotted black;border-radius: 0.25em;box-sizing: border-box;margin-bottom: 0.5em;}#sk-container-id-1 div.sk-estimator:hover {background-color: #d4ebff;}#sk-container-id-1 div.sk-parallel-item::after {content: \"\";width: 100%;border-bottom: 1px solid gray;flex-grow: 1;}#sk-container-id-1 div.sk-label:hover label.sk-toggleable__label {background-color: #d4ebff;}#sk-container-id-1 div.sk-serial::before {content: \"\";position: absolute;border-left: 1px solid gray;box-sizing: border-box;top: 0;bottom: 0;left: 50%;z-index: 0;}#sk-container-id-1 div.sk-serial {display: flex;flex-direction: column;align-items: center;background-color: white;padding-right: 0.2em;padding-left: 0.2em;position: relative;}#sk-container-id-1 div.sk-item {position: relative;z-index: 1;}#sk-container-id-1 div.sk-parallel {display: flex;align-items: stretch;justify-content: center;background-color: white;position: relative;}#sk-container-id-1 div.sk-item::before, #sk-container-id-1 div.sk-parallel-item::before {content: \"\";position: absolute;border-left: 1px solid gray;box-sizing: border-box;top: 0;bottom: 0;left: 50%;z-index: -1;}#sk-container-id-1 div.sk-parallel-item {display: flex;flex-direction: column;z-index: 1;position: relative;background-color: white;}#sk-container-id-1 div.sk-parallel-item:first-child::after {align-self: flex-end;width: 50%;}#sk-container-id-1 div.sk-parallel-item:last-child::after {align-self: flex-start;width: 50%;}#sk-container-id-1 div.sk-parallel-item:only-child::after {width: 0;}#sk-container-id-1 div.sk-dashed-wrapped {border: 1px dashed gray;margin: 0 0.4em 0.5em 0.4em;box-sizing: border-box;padding-bottom: 0.4em;background-color: white;}#sk-container-id-1 div.sk-label label {font-family: monospace;font-weight: bold;display: inline-block;line-height: 1.2em;}#sk-container-id-1 div.sk-label-container {text-align: center;}#sk-container-id-1 div.sk-container {/* jupyter's `normalize.less` sets `[hidden] { display: none; }` but bootstrap.min.css set `[hidden] { display: none !important; }` so we also need the `!important` here to be able to override the default hidden behavior on the sphinx rendered scikit-learn.org. See: https://github.com/scikit-learn/scikit-learn/issues/21755 */display: inline-block !important;position: relative;}#sk-container-id-1 div.sk-text-repr-fallback {display: none;}</style><div id=\"sk-container-id-1\" class=\"sk-top-container\"><div class=\"sk-text-repr-fallback\"><pre>KMeans(init=array([[-0.00430593,  0.02161113,  0.01563421, ..., -0.03426863,\n",
       "        -0.05354397,  0.0109923 ],\n",
       "       [-0.01198703,  0.00461293,  0.04327798, ..., -0.03150452,\n",
       "        -0.02404456, -0.00423621],\n",
       "       [ 0.04327394, -0.02182552,  0.03044848, ...,  0.02151219,\n",
       "        -0.00977532,  0.05579362],\n",
       "       [ 0.0047062 , -0.02189007,  0.06357092, ..., -0.01765898,\n",
       "        -0.00142346, -0.01379836]]),\n",
       "       max_iter=600, n_clusters=4, n_init=1, random_state=422)</pre><b>In a Jupyter environment, please rerun this cell to show the HTML representation or trust the notebook. <br />On GitHub, the HTML representation is unable to render, please try loading this page with nbviewer.org.</b></div><div class=\"sk-container\" hidden><div class=\"sk-item\"><div class=\"sk-estimator sk-toggleable\"><input class=\"sk-toggleable__control sk-hidden--visually\" id=\"sk-estimator-id-1\" type=\"checkbox\" checked><label for=\"sk-estimator-id-1\" class=\"sk-toggleable__label sk-toggleable__label-arrow\">KMeans</label><div class=\"sk-toggleable__content\"><pre>KMeans(init=array([[-0.00430593,  0.02161113,  0.01563421, ..., -0.03426863,\n",
       "        -0.05354397,  0.0109923 ],\n",
       "       [-0.01198703,  0.00461293,  0.04327798, ..., -0.03150452,\n",
       "        -0.02404456, -0.00423621],\n",
       "       [ 0.04327394, -0.02182552,  0.03044848, ...,  0.02151219,\n",
       "        -0.00977532,  0.05579362],\n",
       "       [ 0.0047062 , -0.02189007,  0.06357092, ..., -0.01765898,\n",
       "        -0.00142346, -0.01379836]]),\n",
       "       max_iter=600, n_clusters=4, n_init=1, random_state=422)</pre></div></div></div></div></div>"
      ],
      "text/plain": [
       "KMeans(init=array([[-0.00430593,  0.02161113,  0.01563421, ..., -0.03426863,\n",
       "        -0.05354397,  0.0109923 ],\n",
       "       [-0.01198703,  0.00461293,  0.04327798, ..., -0.03150452,\n",
       "        -0.02404456, -0.00423621],\n",
       "       [ 0.04327394, -0.02182552,  0.03044848, ...,  0.02151219,\n",
       "        -0.00977532,  0.05579362],\n",
       "       [ 0.0047062 , -0.02189007,  0.06357092, ..., -0.01765898,\n",
       "        -0.00142346, -0.01379836]]),\n",
       "       max_iter=600, n_clusters=4, n_init=1, random_state=422)"
      ]
     },
     "execution_count": 6,
     "metadata": {},
     "output_type": "execute_result"
    }
   ],
   "source": [
    "\n",
    "model = ZeroBERTo(classes_list=classes_list,hypothesis_template=hypothesis,\n",
    "                  train_dataset=train_dataset)\n",
    "model.clusterModel.fit(model.initial_centroids)"
   ]
  },
  {
   "cell_type": "code",
   "execution_count": 7,
   "metadata": {},
   "outputs": [
    {
     "name": "stdout",
     "output_type": "stream",
     "text": [
      "CPU times: user 1h 4min 6s, sys: 7min 56s, total: 1h 12min 3s\n",
      "Wall time: 28min 9s\n"
     ]
    }
   ],
   "source": [
    "%%time\n",
    "X_emb = model.encode(X)"
   ]
  },
  {
   "cell_type": "code",
   "execution_count": null,
   "metadata": {},
   "outputs": [],
   "source": []
  },
  {
   "cell_type": "code",
   "execution_count": 8,
   "metadata": {},
   "outputs": [],
   "source": [
    "y_pred = model.clusterModel.predict(X_emb)"
   ]
  },
  {
   "cell_type": "code",
   "execution_count": 9,
   "metadata": {},
   "outputs": [
    {
     "name": "stdout",
     "output_type": "stream",
     "text": [
      "{'weighted': [{'accuracy': 0.5401}, {'precision': 0.5931074147000197}, {'recall': 0.5401}, {'f1': 0.52228011760948}], 'macro': [{'accuracy': 0.5401}, {'precision': 0.5925337959994214}, {'recall': 0.5409651846614242}, {'f1': 0.5224419859385745}]}\n"
     ]
    }
   ],
   "source": [
    "try: print(all_metrics)\n",
    "except: pass\n",
    "all_metrics = evaluation_metrics.get_metrics(y_pred,Y_code)\n",
    "print(all_metrics)"
   ]
  },
  {
   "cell_type": "code",
   "execution_count": 10,
   "metadata": {},
   "outputs": [],
   "source": [
    "y_probs = model.clusterModel.transform(X_emb)"
   ]
  },
  {
   "cell_type": "code",
   "execution_count": 11,
   "metadata": {},
   "outputs": [
    {
     "name": "stdout",
     "output_type": "stream",
     "text": [
      "top 1: {'accuracy': 0.5}\n",
      "top 2: {'accuracy': 0.5}\n",
      "top 3: {'accuracy': 0.5}\n",
      "top 4: {'accuracy': 0.5625}\n",
      "top 5: {'accuracy': 0.55}\n",
      "top 6: {'accuracy': 0.5}\n",
      "top 7: {'accuracy': 0.5}\n",
      "top 8: {'accuracy': 0.5}\n",
      "top 9: {'accuracy': 0.5277777777777778}\n",
      "top 10: {'accuracy': 0.525}\n",
      "top 11: {'accuracy': 0.5454545454545454}\n",
      "top 12: {'accuracy': 0.5625}\n",
      "top 13: {'accuracy': 0.5961538461538461}\n",
      "top 14: {'accuracy': 0.6071428571428571}\n",
      "top 15: {'accuracy': 0.6}\n",
      "top 16: {'accuracy': 0.59375}\n",
      "top 50000: {'accuracy': 0.5401}\n"
     ]
    }
   ],
   "source": [
    "df_results = model.evaluateLabeling(y_probs)\n"
   ]
  },
  {
   "cell_type": "code",
   "execution_count": 12,
   "metadata": {},
   "outputs": [
    {
     "data": {
      "text/html": [
       "<div>\n",
       "<style scoped>\n",
       "    .dataframe tbody tr th:only-of-type {\n",
       "        vertical-align: middle;\n",
       "    }\n",
       "\n",
       "    .dataframe tbody tr th {\n",
       "        vertical-align: top;\n",
       "    }\n",
       "\n",
       "    .dataframe thead th {\n",
       "        text-align: right;\n",
       "    }\n",
       "</style>\n",
       "<table border=\"1\" class=\"dataframe\">\n",
       "  <thead>\n",
       "    <tr style=\"text-align: right;\">\n",
       "      <th></th>\n",
       "      <th>class</th>\n",
       "      <th>prediction</th>\n",
       "      <th>prediction_code</th>\n",
       "      <th>class_code</th>\n",
       "      <th>top_probability</th>\n",
       "    </tr>\n",
       "  </thead>\n",
       "  <tbody>\n",
       "    <tr>\n",
       "      <th>4</th>\n",
       "      <td>business</td>\n",
       "      <td>world</td>\n",
       "      <td>3</td>\n",
       "      <td>0</td>\n",
       "      <td>1.308632</td>\n",
       "    </tr>\n",
       "    <tr>\n",
       "      <th>6</th>\n",
       "      <td>business</td>\n",
       "      <td>business</td>\n",
       "      <td>0</td>\n",
       "      <td>0</td>\n",
       "      <td>1.197235</td>\n",
       "    </tr>\n",
       "    <tr>\n",
       "      <th>10</th>\n",
       "      <td>business</td>\n",
       "      <td>world</td>\n",
       "      <td>3</td>\n",
       "      <td>0</td>\n",
       "      <td>1.342313</td>\n",
       "    </tr>\n",
       "    <tr>\n",
       "      <th>16</th>\n",
       "      <td>business</td>\n",
       "      <td>business</td>\n",
       "      <td>0</td>\n",
       "      <td>0</td>\n",
       "      <td>1.236719</td>\n",
       "    </tr>\n",
       "    <tr>\n",
       "      <th>18</th>\n",
       "      <td>business</td>\n",
       "      <td>business</td>\n",
       "      <td>0</td>\n",
       "      <td>0</td>\n",
       "      <td>1.354064</td>\n",
       "    </tr>\n",
       "    <tr>\n",
       "      <th>...</th>\n",
       "      <td>...</td>\n",
       "      <td>...</td>\n",
       "      <td>...</td>\n",
       "      <td>...</td>\n",
       "      <td>...</td>\n",
       "    </tr>\n",
       "    <tr>\n",
       "      <th>127588</th>\n",
       "      <td>science and technology</td>\n",
       "      <td>sports</td>\n",
       "      <td>2</td>\n",
       "      <td>1</td>\n",
       "      <td>1.217498</td>\n",
       "    </tr>\n",
       "    <tr>\n",
       "      <th>127592</th>\n",
       "      <td>world</td>\n",
       "      <td>business</td>\n",
       "      <td>0</td>\n",
       "      <td>3</td>\n",
       "      <td>1.264553</td>\n",
       "    </tr>\n",
       "    <tr>\n",
       "      <th>127593</th>\n",
       "      <td>sports</td>\n",
       "      <td>sports</td>\n",
       "      <td>2</td>\n",
       "      <td>2</td>\n",
       "      <td>1.324019</td>\n",
       "    </tr>\n",
       "    <tr>\n",
       "      <th>127595</th>\n",
       "      <td>world</td>\n",
       "      <td>business</td>\n",
       "      <td>0</td>\n",
       "      <td>3</td>\n",
       "      <td>1.390479</td>\n",
       "    </tr>\n",
       "    <tr>\n",
       "      <th>127599</th>\n",
       "      <td>business</td>\n",
       "      <td>world</td>\n",
       "      <td>3</td>\n",
       "      <td>0</td>\n",
       "      <td>1.273322</td>\n",
       "    </tr>\n",
       "  </tbody>\n",
       "</table>\n",
       "<p>50000 rows × 5 columns</p>\n",
       "</div>"
      ],
      "text/plain": [
       "                         class prediction  prediction_code  class_code  \\\n",
       "4                     business      world                3           0   \n",
       "6                     business   business                0           0   \n",
       "10                    business      world                3           0   \n",
       "16                    business   business                0           0   \n",
       "18                    business   business                0           0   \n",
       "...                        ...        ...              ...         ...   \n",
       "127588  science and technology     sports                2           1   \n",
       "127592                   world   business                0           3   \n",
       "127593                  sports     sports                2           2   \n",
       "127595                   world   business                0           3   \n",
       "127599                business      world                3           0   \n",
       "\n",
       "        top_probability  \n",
       "4              1.308632  \n",
       "6              1.197235  \n",
       "10             1.342313  \n",
       "16             1.236719  \n",
       "18             1.354064  \n",
       "...                 ...  \n",
       "127588         1.217498  \n",
       "127592         1.264553  \n",
       "127593         1.324019  \n",
       "127595         1.390479  \n",
       "127599         1.273322  \n",
       "\n",
       "[50000 rows x 5 columns]"
      ]
     },
     "execution_count": 12,
     "metadata": {},
     "output_type": "execute_result"
    }
   ],
   "source": []
  },
  {
   "cell_type": "code",
   "execution_count": null,
   "metadata": {},
   "outputs": [],
   "source": []
  }
 ],
 "metadata": {
  "kernelspec": {
   "display_name": "venv_zeroberto",
   "language": "python",
   "name": "python3"
  },
  "language_info": {
   "codemirror_mode": {
    "name": "ipython",
    "version": 3
   },
   "file_extension": ".py",
   "mimetype": "text/x-python",
   "name": "python",
   "nbconvert_exporter": "python",
   "pygments_lexer": "ipython3",
   "version": "3.10.9 (main, Jan 11 2023, 09:18:18) [Clang 14.0.6 ]"
  },
  "orig_nbformat": 4,
  "vscode": {
   "interpreter": {
    "hash": "b98a7e24f8a69e8a460c693288d2fe0565d17bd4bdd6eb6203258b225132cc92"
   }
  }
 },
 "nbformat": 4,
 "nbformat_minor": 2
}
