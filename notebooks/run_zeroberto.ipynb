{
  "cells": [
    {
      "cell_type": "code",
      "execution_count": 1,
      "metadata": {
        "colab": {
          "base_uri": "https://localhost:8080/"
        },
        "id": "QcRIbaP7p2VG",
        "outputId": "4a9e56d5-2607-47f2-f0eb-8d28f2ed114f"
      },
      "outputs": [],
      "source": [
        "# !git clone https://github.com/alealcoforado/ZeroBERTo.git"
      ]
    },
    {
      "cell_type": "code",
      "execution_count": 5,
      "metadata": {
        "colab": {
          "base_uri": "https://localhost:8080/"
        },
        "id": "mK8rnsJHqDmx",
        "outputId": "cd180ed1-c839-4d66-c2ff-a1f9f29bad0c"
      },
      "outputs": [
        {
          "name": "stdout",
          "output_type": "stream",
          "text": [
            "Collecting setfit==0.7.0 (from -r /Users/alealcoforado/Documents/Projetos/zeroberto/requirements.txt (line 1))\n",
            "  Downloading setfit-0.7.0-py3-none-any.whl (45 kB)\n",
            "\u001b[2K     \u001b[90m━━━━━━━━━━━━━━━━━━━━━━━━━━━━━━━━━━━━━━━\u001b[0m \u001b[32m45.9/45.9 kB\u001b[0m \u001b[31m561.4 kB/s\u001b[0m eta \u001b[36m0:00:00\u001b[0ma \u001b[36m0:00:01\u001b[0m\n",
            "\u001b[?25hCollecting sentence-transformers==2.2.2 (from -r /Users/alealcoforado/Documents/Projetos/zeroberto/requirements.txt (line 2))\n",
            "  Using cached sentence-transformers-2.2.2.tar.gz (85 kB)\n",
            "  Preparing metadata (setup.py) ... \u001b[?25ldone\n",
            "\u001b[?25hCollecting torch==2.0.0 (from -r /Users/alealcoforado/Documents/Projetos/zeroberto/requirements.txt (line 3))\n",
            "  Downloading torch-2.0.0-cp311-none-macosx_10_9_x86_64.whl (139.5 MB)\n",
            "\u001b[2K     \u001b[90m━━━━━━━━━━━━━━━━━━━━━━━━━━━━━━━━━━━━━━━\u001b[0m \u001b[32m139.5/139.5 MB\u001b[0m \u001b[31m2.9 MB/s\u001b[0m eta \u001b[36m0:00:00\u001b[0m00:01\u001b[0m00:02\u001b[0m\n",
            "\u001b[?25hCollecting transformers==4.28.1 (from -r /Users/alealcoforado/Documents/Projetos/zeroberto/requirements.txt (line 4))\n",
            "  Downloading transformers-4.28.1-py3-none-any.whl (7.0 MB)\n",
            "\u001b[2K     \u001b[90m━━━━━━━━━━━━━━━━━━━━━━━━━━━━━━━━━━━━━━━━\u001b[0m \u001b[32m7.0/7.0 MB\u001b[0m \u001b[31m4.0 MB/s\u001b[0m eta \u001b[36m0:00:00\u001b[0m00:01\u001b[0m00:01\u001b[0m\n",
            "\u001b[?25hCollecting datasets==2.11.0 (from -r /Users/alealcoforado/Documents/Projetos/zeroberto/requirements.txt (line 5))\n",
            "  Downloading datasets-2.11.0-py3-none-any.whl (468 kB)\n",
            "\u001b[2K     \u001b[90m━━━━━━━━━━━━━━━━━━━━━━━━━━━━━━━━━━━━━━━\u001b[0m \u001b[32m468.7/468.7 kB\u001b[0m \u001b[31m2.8 MB/s\u001b[0m eta \u001b[36m0:00:00\u001b[0ma \u001b[36m0:00:01\u001b[0m\n",
            "\u001b[?25hCollecting optuna==3.1.1 (from -r /Users/alealcoforado/Documents/Projetos/zeroberto/requirements.txt (line 6))\n",
            "  Downloading optuna-3.1.1-py3-none-any.whl (365 kB)\n",
            "\u001b[2K     \u001b[90m━━━━━━━━━━━━━━━━━━━━━━━━━━━━━━━━━━━━━━━\u001b[0m \u001b[32m365.7/365.7 kB\u001b[0m \u001b[31m2.2 MB/s\u001b[0m eta \u001b[36m0:00:00\u001b[0ma \u001b[36m0:00:01\u001b[0m\n",
            "\u001b[?25hCollecting evaluate>=0.3.0 (from setfit==0.7.0->-r /Users/alealcoforado/Documents/Projetos/zeroberto/requirements.txt (line 1))\n",
            "  Using cached evaluate-0.4.0-py3-none-any.whl (81 kB)\n",
            "Collecting tqdm (from sentence-transformers==2.2.2->-r /Users/alealcoforado/Documents/Projetos/zeroberto/requirements.txt (line 2))\n",
            "  Downloading tqdm-4.65.0-py3-none-any.whl (77 kB)\n",
            "\u001b[2K     \u001b[90m━━━━━━━━━━━━━━━━━━━━━━━━━━━━━━━━━━━━━━━━\u001b[0m \u001b[32m77.1/77.1 kB\u001b[0m \u001b[31m1.7 MB/s\u001b[0m eta \u001b[36m0:00:00\u001b[0ma \u001b[36m0:00:01\u001b[0m\n",
            "\u001b[?25hCollecting torchvision (from sentence-transformers==2.2.2->-r /Users/alealcoforado/Documents/Projetos/zeroberto/requirements.txt (line 2))\n",
            "  Downloading torchvision-0.15.1-cp311-cp311-macosx_10_9_x86_64.whl (1.5 MB)\n",
            "\u001b[2K     \u001b[90m━━━━━━━━━━━━━━━━━━━━━━━━━━━━━━━━━━━━━━━━\u001b[0m \u001b[32m1.5/1.5 MB\u001b[0m \u001b[31m4.3 MB/s\u001b[0m eta \u001b[36m0:00:00\u001b[0ma \u001b[36m0:00:01\u001b[0m\n",
            "\u001b[?25hCollecting numpy (from sentence-transformers==2.2.2->-r /Users/alealcoforado/Documents/Projetos/zeroberto/requirements.txt (line 2))\n",
            "  Downloading numpy-1.24.3-cp311-cp311-macosx_10_9_x86_64.whl (19.8 MB)\n",
            "\u001b[2K     \u001b[90m━━━━━━━━━━━━━━━━━━━━━━━━━━━━━━━━━━━━━━━━\u001b[0m \u001b[32m19.8/19.8 MB\u001b[0m \u001b[31m4.2 MB/s\u001b[0m eta \u001b[36m0:00:00\u001b[0m00:01\u001b[0m00:01\u001b[0m\n",
            "\u001b[?25hCollecting scikit-learn (from sentence-transformers==2.2.2->-r /Users/alealcoforado/Documents/Projetos/zeroberto/requirements.txt (line 2))\n",
            "  Downloading scikit_learn-1.2.2-cp311-cp311-macosx_10_9_x86_64.whl (9.0 MB)\n",
            "\u001b[2K     \u001b[90m━━━━━━━━━━━━━━━━━━━━━━━━━━━━━━━━━━━━━━━━\u001b[0m \u001b[32m9.0/9.0 MB\u001b[0m \u001b[31m3.8 MB/s\u001b[0m eta \u001b[36m0:00:00\u001b[0m00:01\u001b[0m00:01\u001b[0m\n",
            "\u001b[?25hCollecting scipy (from sentence-transformers==2.2.2->-r /Users/alealcoforado/Documents/Projetos/zeroberto/requirements.txt (line 2))\n",
            "  Downloading scipy-1.10.1-cp311-cp311-macosx_10_9_x86_64.whl (35.0 MB)\n",
            "\u001b[2K     \u001b[90m━━━━━━━━━━━━━━━━━━━━━━━━━━━━━━━━━━━━━━━━\u001b[0m \u001b[32m35.0/35.0 MB\u001b[0m \u001b[31m3.9 MB/s\u001b[0m eta \u001b[36m0:00:00\u001b[0m00:01\u001b[0m00:01\u001b[0m\n",
            "\u001b[?25hCollecting nltk (from sentence-transformers==2.2.2->-r /Users/alealcoforado/Documents/Projetos/zeroberto/requirements.txt (line 2))\n",
            "  Using cached nltk-3.8.1-py3-none-any.whl (1.5 MB)\n",
            "Collecting sentencepiece (from sentence-transformers==2.2.2->-r /Users/alealcoforado/Documents/Projetos/zeroberto/requirements.txt (line 2))\n",
            "  Downloading sentencepiece-0.1.99-cp311-cp311-macosx_10_9_x86_64.whl (1.2 MB)\n",
            "\u001b[2K     \u001b[90m━━━━━━━━━━━━━━━━━━━━━━━━━━━━━━━━━━━━━━━━\u001b[0m \u001b[32m1.2/1.2 MB\u001b[0m \u001b[31m3.9 MB/s\u001b[0m eta \u001b[36m0:00:00\u001b[0m00:01\u001b[0m00:01\u001b[0m\n",
            "\u001b[?25hCollecting huggingface-hub>=0.4.0 (from sentence-transformers==2.2.2->-r /Users/alealcoforado/Documents/Projetos/zeroberto/requirements.txt (line 2))\n",
            "  Downloading huggingface_hub-0.14.1-py3-none-any.whl (224 kB)\n",
            "\u001b[2K     \u001b[90m━━━━━━━━━━━━━━━━━━━━━━━━━━━━━━━━━━━━━━━\u001b[0m \u001b[32m224.5/224.5 kB\u001b[0m \u001b[31m3.4 MB/s\u001b[0m eta \u001b[36m0:00:00\u001b[0ma \u001b[36m0:00:01\u001b[0m\n",
            "\u001b[?25hCollecting filelock (from torch==2.0.0->-r /Users/alealcoforado/Documents/Projetos/zeroberto/requirements.txt (line 3))\n",
            "  Downloading filelock-3.12.0-py3-none-any.whl (10 kB)\n",
            "Requirement already satisfied: typing-extensions in /Users/alealcoforado/opt/anaconda3/envs/venv_zeroberto/lib/python3.11/site-packages (from torch==2.0.0->-r /Users/alealcoforado/Documents/Projetos/zeroberto/requirements.txt (line 3)) (4.5.0)\n",
            "Collecting sympy (from torch==2.0.0->-r /Users/alealcoforado/Documents/Projetos/zeroberto/requirements.txt (line 3))\n",
            "  Downloading sympy-1.11.1-py3-none-any.whl (6.5 MB)\n",
            "\u001b[2K     \u001b[90m━━━━━━━━━━━━━━━━━━━━━━━━━━━━━━━━━━━━━━━━\u001b[0m \u001b[32m6.5/6.5 MB\u001b[0m \u001b[31m3.6 MB/s\u001b[0m eta \u001b[36m0:00:00\u001b[0m00:01\u001b[0m00:01\u001b[0m\n",
            "\u001b[?25hCollecting networkx (from torch==2.0.0->-r /Users/alealcoforado/Documents/Projetos/zeroberto/requirements.txt (line 3))\n",
            "  Downloading networkx-3.1-py3-none-any.whl (2.1 MB)\n",
            "\u001b[2K     \u001b[90m━━━━━━━━━━━━━━━━━━━━━━━━━━━━━━━━━━━━━━━━\u001b[0m \u001b[32m2.1/2.1 MB\u001b[0m \u001b[31m3.6 MB/s\u001b[0m eta \u001b[36m0:00:00\u001b[0m00:01\u001b[0m00:01\u001b[0m\n",
            "\u001b[?25hCollecting jinja2 (from torch==2.0.0->-r /Users/alealcoforado/Documents/Projetos/zeroberto/requirements.txt (line 3))\n",
            "  Using cached Jinja2-3.1.2-py3-none-any.whl (133 kB)\n",
            "Requirement already satisfied: packaging>=20.0 in /Users/alealcoforado/opt/anaconda3/envs/venv_zeroberto/lib/python3.11/site-packages (from transformers==4.28.1->-r /Users/alealcoforado/Documents/Projetos/zeroberto/requirements.txt (line 4)) (23.1)\n",
            "Collecting pyyaml>=5.1 (from transformers==4.28.1->-r /Users/alealcoforado/Documents/Projetos/zeroberto/requirements.txt (line 4))\n",
            "  Downloading PyYAML-6.0-cp311-cp311-macosx_10_9_x86_64.whl (188 kB)\n",
            "\u001b[2K     \u001b[90m━━━━━━━━━━━━━━━━━━━━━━━━━━━━━━━━━━━━━━━\u001b[0m \u001b[32m188.6/188.6 kB\u001b[0m \u001b[31m2.7 MB/s\u001b[0m eta \u001b[36m0:00:00\u001b[0ma \u001b[36m0:00:01\u001b[0m\n",
            "\u001b[?25hCollecting regex!=2019.12.17 (from transformers==4.28.1->-r /Users/alealcoforado/Documents/Projetos/zeroberto/requirements.txt (line 4))\n",
            "  Downloading regex-2023.5.5-cp311-cp311-macosx_10_9_x86_64.whl (294 kB)\n",
            "\u001b[2K     \u001b[90m━━━━━━━━━━━━━━━━━━━━━━━━━━━━━━━━━━━━━━━\u001b[0m \u001b[32m294.5/294.5 kB\u001b[0m \u001b[31m2.2 MB/s\u001b[0m eta \u001b[36m0:00:00\u001b[0ma \u001b[36m0:00:01\u001b[0m\n",
            "\u001b[?25hCollecting requests (from transformers==4.28.1->-r /Users/alealcoforado/Documents/Projetos/zeroberto/requirements.txt (line 4))\n",
            "  Downloading requests-2.30.0-py3-none-any.whl (62 kB)\n",
            "\u001b[2K     \u001b[90m━━━━━━━━━━━━━━━━━━━━━━━━━━━━━━━━━━━━━━━\u001b[0m \u001b[32m62.5/62.5 kB\u001b[0m \u001b[31m340.1 kB/s\u001b[0m eta \u001b[36m0:00:00\u001b[0ma \u001b[36m0:00:01\u001b[0m\n",
            "\u001b[?25hCollecting tokenizers!=0.11.3,<0.14,>=0.11.1 (from transformers==4.28.1->-r /Users/alealcoforado/Documents/Projetos/zeroberto/requirements.txt (line 4))\n",
            "  Downloading tokenizers-0.13.3-cp311-cp311-macosx_10_11_universal2.whl (4.0 MB)\n",
            "\u001b[2K     \u001b[90m━━━━━━━━━━━━━━━━━━━━━━━━━━━━━━━━━━━━━━━━\u001b[0m \u001b[32m4.0/4.0 MB\u001b[0m \u001b[31m4.0 MB/s\u001b[0m eta \u001b[36m0:00:00\u001b[0m00:01\u001b[0m00:01\u001b[0m\n",
            "\u001b[?25hCollecting pyarrow>=8.0.0 (from datasets==2.11.0->-r /Users/alealcoforado/Documents/Projetos/zeroberto/requirements.txt (line 5))\n",
            "  Downloading pyarrow-12.0.0-cp311-cp311-macosx_10_14_x86_64.whl (24.7 MB)\n",
            "\u001b[2K     \u001b[90m━━━━━━━━━━━━━━━━━━━━━━━━━━━━━━━━━━━━━━━━\u001b[0m \u001b[32m24.7/24.7 MB\u001b[0m \u001b[31m4.8 MB/s\u001b[0m eta \u001b[36m0:00:00\u001b[0m00:01\u001b[0m00:01\u001b[0m\n",
            "\u001b[?25hCollecting dill<0.3.7,>=0.3.0 (from datasets==2.11.0->-r /Users/alealcoforado/Documents/Projetos/zeroberto/requirements.txt (line 5))\n",
            "  Using cached dill-0.3.6-py3-none-any.whl (110 kB)\n",
            "Collecting pandas (from datasets==2.11.0->-r /Users/alealcoforado/Documents/Projetos/zeroberto/requirements.txt (line 5))\n",
            "  Downloading pandas-2.0.1-cp311-cp311-macosx_10_9_x86_64.whl (11.6 MB)\n",
            "\u001b[2K     \u001b[90m━━━━━━━━━━━━━━━━━━━━━━━━━━━━━━━━━━━━━━━━\u001b[0m \u001b[32m11.6/11.6 MB\u001b[0m \u001b[31m3.7 MB/s\u001b[0m eta \u001b[36m0:00:00\u001b[0m00:01\u001b[0m00:01\u001b[0m\n",
            "\u001b[?25hCollecting xxhash (from datasets==2.11.0->-r /Users/alealcoforado/Documents/Projetos/zeroberto/requirements.txt (line 5))\n",
            "  Downloading xxhash-3.2.0-cp311-cp311-macosx_10_9_x86_64.whl (35 kB)\n",
            "Collecting multiprocess (from datasets==2.11.0->-r /Users/alealcoforado/Documents/Projetos/zeroberto/requirements.txt (line 5))\n",
            "  Using cached multiprocess-0.70.14-py310-none-any.whl (134 kB)\n",
            "Collecting fsspec[http]>=2021.11.1 (from datasets==2.11.0->-r /Users/alealcoforado/Documents/Projetos/zeroberto/requirements.txt (line 5))\n",
            "  Downloading fsspec-2023.5.0-py3-none-any.whl (160 kB)\n",
            "\u001b[2K     \u001b[90m━━━━━━━━━━━━━━━━━━━━━━━━━━━━━━━━━━━━━━━\u001b[0m \u001b[32m160.1/160.1 kB\u001b[0m \u001b[31m1.5 MB/s\u001b[0m eta \u001b[36m0:00:00\u001b[0ma \u001b[36m0:00:01\u001b[0m\n",
            "\u001b[?25hCollecting aiohttp (from datasets==2.11.0->-r /Users/alealcoforado/Documents/Projetos/zeroberto/requirements.txt (line 5))\n",
            "  Downloading aiohttp-3.8.4-cp311-cp311-macosx_10_9_x86_64.whl (355 kB)\n",
            "\u001b[2K     \u001b[90m━━━━━━━━━━━━━━━━━━━━━━━━━━━━━━━━━━━━━━━\u001b[0m \u001b[32m355.1/355.1 kB\u001b[0m \u001b[31m1.6 MB/s\u001b[0m eta \u001b[36m0:00:00\u001b[0ma \u001b[36m0:00:01\u001b[0m\n",
            "\u001b[?25hCollecting responses<0.19 (from datasets==2.11.0->-r /Users/alealcoforado/Documents/Projetos/zeroberto/requirements.txt (line 5))\n",
            "  Using cached responses-0.18.0-py3-none-any.whl (38 kB)\n",
            "Collecting alembic>=1.5.0 (from optuna==3.1.1->-r /Users/alealcoforado/Documents/Projetos/zeroberto/requirements.txt (line 6))\n",
            "  Downloading alembic-1.10.4-py3-none-any.whl (212 kB)\n",
            "\u001b[2K     \u001b[90m━━━━━━━━━━━━━━━━━━━━━━━━━━━━━━━━━━━━━━━\u001b[0m \u001b[32m212.9/212.9 kB\u001b[0m \u001b[31m1.9 MB/s\u001b[0m eta \u001b[36m0:00:00\u001b[0ma \u001b[36m0:00:01\u001b[0m\n",
            "\u001b[?25hCollecting cmaes>=0.9.1 (from optuna==3.1.1->-r /Users/alealcoforado/Documents/Projetos/zeroberto/requirements.txt (line 6))\n",
            "  Downloading cmaes-0.9.1-py3-none-any.whl (21 kB)\n",
            "Collecting colorlog (from optuna==3.1.1->-r /Users/alealcoforado/Documents/Projetos/zeroberto/requirements.txt (line 6))\n",
            "  Downloading colorlog-6.7.0-py2.py3-none-any.whl (11 kB)\n",
            "Collecting sqlalchemy>=1.3.0 (from optuna==3.1.1->-r /Users/alealcoforado/Documents/Projetos/zeroberto/requirements.txt (line 6))\n",
            "  Downloading SQLAlchemy-2.0.12-cp311-cp311-macosx_10_9_x86_64.whl (2.0 MB)\n",
            "\u001b[2K     \u001b[90m━━━━━━━━━━━━━━━━━━━━━━━━━━━━━━━━━━━━━━━━\u001b[0m \u001b[32m2.0/2.0 MB\u001b[0m \u001b[31m3.5 MB/s\u001b[0m eta \u001b[36m0:00:00\u001b[0m00:01\u001b[0m00:01\u001b[0m\n",
            "\u001b[?25hCollecting Mako (from alembic>=1.5.0->optuna==3.1.1->-r /Users/alealcoforado/Documents/Projetos/zeroberto/requirements.txt (line 6))\n",
            "  Downloading Mako-1.2.4-py3-none-any.whl (78 kB)\n",
            "\u001b[2K     \u001b[90m━━━━━━━━━━━━━━━━━━━━━━━━━━━━━━━━━━━━━━━━\u001b[0m \u001b[32m78.7/78.7 kB\u001b[0m \u001b[31m2.1 MB/s\u001b[0m eta \u001b[36m0:00:00\u001b[0m\n",
            "\u001b[?25hCollecting attrs>=17.3.0 (from aiohttp->datasets==2.11.0->-r /Users/alealcoforado/Documents/Projetos/zeroberto/requirements.txt (line 5))\n",
            "  Downloading attrs-23.1.0-py3-none-any.whl (61 kB)\n",
            "\u001b[2K     \u001b[90m━━━━━━━━━━━━━━━━━━━━━━━━━━━━━━━━━━━━━━━━\u001b[0m \u001b[32m61.2/61.2 kB\u001b[0m \u001b[31m2.3 MB/s\u001b[0m eta \u001b[36m0:00:00\u001b[0m\n",
            "\u001b[?25hCollecting charset-normalizer<4.0,>=2.0 (from aiohttp->datasets==2.11.0->-r /Users/alealcoforado/Documents/Projetos/zeroberto/requirements.txt (line 5))\n",
            "  Downloading charset_normalizer-3.1.0-cp311-cp311-macosx_10_9_x86_64.whl (123 kB)\n",
            "\u001b[2K     \u001b[90m━━━━━━━━━━━━━━━━━━━━━━━━━━━━━━━━━━━━━━━\u001b[0m \u001b[32m123.7/123.7 kB\u001b[0m \u001b[31m1.3 MB/s\u001b[0m eta \u001b[36m0:00:00\u001b[0ma \u001b[36m0:00:01\u001b[0m\n",
            "\u001b[?25hCollecting multidict<7.0,>=4.5 (from aiohttp->datasets==2.11.0->-r /Users/alealcoforado/Documents/Projetos/zeroberto/requirements.txt (line 5))\n",
            "  Downloading multidict-6.0.4-cp311-cp311-macosx_10_9_x86_64.whl (29 kB)\n",
            "Collecting async-timeout<5.0,>=4.0.0a3 (from aiohttp->datasets==2.11.0->-r /Users/alealcoforado/Documents/Projetos/zeroberto/requirements.txt (line 5))\n",
            "  Using cached async_timeout-4.0.2-py3-none-any.whl (5.8 kB)\n",
            "Collecting yarl<2.0,>=1.0 (from aiohttp->datasets==2.11.0->-r /Users/alealcoforado/Documents/Projetos/zeroberto/requirements.txt (line 5))\n",
            "  Downloading yarl-1.9.2-cp311-cp311-macosx_10_9_x86_64.whl (64 kB)\n",
            "\u001b[2K     \u001b[90m━━━━━━━━━━━━━━━━━━━━━━━━━━━━━━━━━━━━━━━━\u001b[0m \u001b[32m64.4/64.4 kB\u001b[0m \u001b[31m2.5 MB/s\u001b[0m eta \u001b[36m0:00:00\u001b[0m\n",
            "\u001b[?25hCollecting frozenlist>=1.1.1 (from aiohttp->datasets==2.11.0->-r /Users/alealcoforado/Documents/Projetos/zeroberto/requirements.txt (line 5))\n",
            "  Downloading frozenlist-1.3.3-cp311-cp311-macosx_10_9_x86_64.whl (35 kB)\n",
            "Collecting aiosignal>=1.1.2 (from aiohttp->datasets==2.11.0->-r /Users/alealcoforado/Documents/Projetos/zeroberto/requirements.txt (line 5))\n",
            "  Using cached aiosignal-1.3.1-py3-none-any.whl (7.6 kB)\n",
            "Collecting idna<4,>=2.5 (from requests->transformers==4.28.1->-r /Users/alealcoforado/Documents/Projetos/zeroberto/requirements.txt (line 4))\n",
            "  Using cached idna-3.4-py3-none-any.whl (61 kB)\n",
            "Collecting urllib3<3,>=1.21.1 (from requests->transformers==4.28.1->-r /Users/alealcoforado/Documents/Projetos/zeroberto/requirements.txt (line 4))\n",
            "  Downloading urllib3-2.0.2-py3-none-any.whl (123 kB)\n",
            "\u001b[2K     \u001b[90m━━━━━━━━━━━━━━━━━━━━━━━━━━━━━━━━━━━━━━━\u001b[0m \u001b[32m123.2/123.2 kB\u001b[0m \u001b[31m5.6 MB/s\u001b[0m eta \u001b[36m0:00:00\u001b[0m00:01\u001b[0m\n",
            "\u001b[?25hCollecting certifi>=2017.4.17 (from requests->transformers==4.28.1->-r /Users/alealcoforado/Documents/Projetos/zeroberto/requirements.txt (line 4))\n",
            "  Downloading certifi-2023.5.7-py3-none-any.whl (156 kB)\n",
            "\u001b[2K     \u001b[90m━━━━━━━━━━━━━━━━━━━━━━━━━━━━━━━━━━━━━━━\u001b[0m \u001b[32m157.0/157.0 kB\u001b[0m \u001b[31m1.4 MB/s\u001b[0m eta \u001b[36m0:00:00\u001b[0ma \u001b[36m0:00:01\u001b[0m\n",
            "\u001b[?25hCollecting greenlet!=0.4.17 (from sqlalchemy>=1.3.0->optuna==3.1.1->-r /Users/alealcoforado/Documents/Projetos/zeroberto/requirements.txt (line 6))\n",
            "  Downloading greenlet-2.0.2-cp311-cp311-macosx_10_9_universal2.whl (243 kB)\n",
            "\u001b[2K     \u001b[90m━━━━━━━━━━━━━━━━━━━━━━━━━━━━━━━━━━━━━━━\u001b[0m \u001b[32m243.0/243.0 kB\u001b[0m \u001b[31m1.8 MB/s\u001b[0m eta \u001b[36m0:00:00\u001b[0ma \u001b[36m0:00:01\u001b[0m\n",
            "\u001b[?25hCollecting MarkupSafe>=2.0 (from jinja2->torch==2.0.0->-r /Users/alealcoforado/Documents/Projetos/zeroberto/requirements.txt (line 3))\n",
            "  Downloading MarkupSafe-2.1.2-cp311-cp311-macosx_10_9_x86_64.whl (13 kB)\n",
            "Collecting click (from nltk->sentence-transformers==2.2.2->-r /Users/alealcoforado/Documents/Projetos/zeroberto/requirements.txt (line 2))\n",
            "  Using cached click-8.1.3-py3-none-any.whl (96 kB)\n",
            "Collecting joblib (from nltk->sentence-transformers==2.2.2->-r /Users/alealcoforado/Documents/Projetos/zeroberto/requirements.txt (line 2))\n",
            "  Using cached joblib-1.2.0-py3-none-any.whl (297 kB)\n",
            "Requirement already satisfied: python-dateutil>=2.8.2 in /Users/alealcoforado/opt/anaconda3/envs/venv_zeroberto/lib/python3.11/site-packages (from pandas->datasets==2.11.0->-r /Users/alealcoforado/Documents/Projetos/zeroberto/requirements.txt (line 5)) (2.8.2)\n",
            "Collecting pytz>=2020.1 (from pandas->datasets==2.11.0->-r /Users/alealcoforado/Documents/Projetos/zeroberto/requirements.txt (line 5))\n",
            "  Downloading pytz-2023.3-py2.py3-none-any.whl (502 kB)\n",
            "\u001b[2K     \u001b[90m━━━━━━━━━━━━━━━━━━━━━━━━━━━━━━━━━━━━━━━\u001b[0m \u001b[32m502.3/502.3 kB\u001b[0m \u001b[31m3.3 MB/s\u001b[0m eta \u001b[36m0:00:00\u001b[0ma \u001b[36m0:00:01\u001b[0m\n",
            "\u001b[?25hCollecting tzdata>=2022.1 (from pandas->datasets==2.11.0->-r /Users/alealcoforado/Documents/Projetos/zeroberto/requirements.txt (line 5))\n",
            "  Downloading tzdata-2023.3-py2.py3-none-any.whl (341 kB)\n",
            "\u001b[2K     \u001b[90m━━━━━━━━━━━━━━━━━━━━━━━━━━━━━━━━━━━━━━━\u001b[0m \u001b[32m341.8/341.8 kB\u001b[0m \u001b[31m3.8 MB/s\u001b[0m eta \u001b[36m0:00:00\u001b[0ma \u001b[36m0:00:01\u001b[0m\n",
            "\u001b[?25hCollecting threadpoolctl>=2.0.0 (from scikit-learn->sentence-transformers==2.2.2->-r /Users/alealcoforado/Documents/Projetos/zeroberto/requirements.txt (line 2))\n",
            "  Using cached threadpoolctl-3.1.0-py3-none-any.whl (14 kB)\n",
            "Collecting mpmath>=0.19 (from sympy->torch==2.0.0->-r /Users/alealcoforado/Documents/Projetos/zeroberto/requirements.txt (line 3))\n",
            "  Downloading mpmath-1.3.0-py3-none-any.whl (536 kB)\n",
            "\u001b[2K     \u001b[90m━━━━━━━━━━━━━━━━━━━━━━━━━━━━━━━━━━━━━━━\u001b[0m \u001b[32m536.2/536.2 kB\u001b[0m \u001b[31m3.0 MB/s\u001b[0m eta \u001b[36m0:00:00\u001b[0ma \u001b[36m0:00:01\u001b[0m\n",
            "\u001b[?25hCollecting pillow!=8.3.*,>=5.3.0 (from torchvision->sentence-transformers==2.2.2->-r /Users/alealcoforado/Documents/Projetos/zeroberto/requirements.txt (line 2))\n",
            "  Downloading Pillow-9.5.0-cp311-cp311-macosx_10_10_x86_64.whl (3.4 MB)\n",
            "\u001b[2K     \u001b[90m━━━━━━━━━━━━━━━━━━━━━━━━━━━━━━━━━━━━━━━━\u001b[0m \u001b[32m3.4/3.4 MB\u001b[0m \u001b[31m3.2 MB/s\u001b[0m eta \u001b[36m0:00:00\u001b[0m00:01\u001b[0m00:01\u001b[0m\n",
            "\u001b[?25hRequirement already satisfied: six>=1.5 in /Users/alealcoforado/opt/anaconda3/envs/venv_zeroberto/lib/python3.11/site-packages (from python-dateutil>=2.8.2->pandas->datasets==2.11.0->-r /Users/alealcoforado/Documents/Projetos/zeroberto/requirements.txt (line 5)) (1.16.0)\n",
            "Building wheels for collected packages: sentence-transformers\n",
            "  Building wheel for sentence-transformers (setup.py) ... \u001b[?25ldone\n",
            "\u001b[?25h  Created wheel for sentence-transformers: filename=sentence_transformers-2.2.2-py3-none-any.whl size=125926 sha256=878a715fc2ca7dc2908777607dd8fe74989a260cd26785e016a30ce0289401c8\n",
            "  Stored in directory: /Users/alealcoforado/Library/Caches/pip/wheels/ff/27/bf/ffba8b318b02d7f691a57084ee154e26ed24d012b0c7805881\n",
            "Successfully built sentence-transformers\n",
            "Installing collected packages: tokenizers, sentencepiece, pytz, mpmath, xxhash, urllib3, tzdata, tqdm, threadpoolctl, sympy, regex, pyyaml, pillow, numpy, networkx, multidict, MarkupSafe, joblib, idna, greenlet, fsspec, frozenlist, filelock, dill, colorlog, click, charset-normalizer, certifi, attrs, async-timeout, yarl, sqlalchemy, scipy, requests, pyarrow, pandas, nltk, multiprocess, Mako, jinja2, cmaes, aiosignal, torch, scikit-learn, responses, huggingface-hub, alembic, aiohttp, transformers, torchvision, optuna, sentence-transformers, datasets, evaluate, setfit\n",
            "Successfully installed Mako-1.2.4 MarkupSafe-2.1.2 aiohttp-3.8.4 aiosignal-1.3.1 alembic-1.10.4 async-timeout-4.0.2 attrs-23.1.0 certifi-2023.5.7 charset-normalizer-3.1.0 click-8.1.3 cmaes-0.9.1 colorlog-6.7.0 datasets-2.11.0 dill-0.3.6 evaluate-0.4.0 filelock-3.12.0 frozenlist-1.3.3 fsspec-2023.5.0 greenlet-2.0.2 huggingface-hub-0.14.1 idna-3.4 jinja2-3.1.2 joblib-1.2.0 mpmath-1.3.0 multidict-6.0.4 multiprocess-0.70.14 networkx-3.1 nltk-3.8.1 numpy-1.24.3 optuna-3.1.1 pandas-2.0.1 pillow-9.5.0 pyarrow-12.0.0 pytz-2023.3 pyyaml-6.0 regex-2023.5.5 requests-2.30.0 responses-0.18.0 scikit-learn-1.2.2 scipy-1.10.1 sentence-transformers-2.2.2 sentencepiece-0.1.99 setfit-0.7.0 sqlalchemy-2.0.12 sympy-1.11.1 threadpoolctl-3.1.0 tokenizers-0.13.3 torch-2.0.0 torchvision-0.15.1 tqdm-4.65.0 transformers-4.28.1 tzdata-2023.3 urllib3-2.0.2 xxhash-3.2.0 yarl-1.9.2\n"
          ]
        }
      ],
      "source": [
        "# !pip install -r /Users/alealcoforado/Documents/Projetos/zeroberto/requirements.txt"
      ]
    },
    {
      "cell_type": "code",
      "execution_count": 31,
      "metadata": {},
      "outputs": [
        {
          "name": "stderr",
          "output_type": "stream",
          "text": [
            "/Users/alealcoforado/opt/anaconda3/envs/venv_zeroberto/lib/python3.11/site-packages/tqdm/auto.py:21: TqdmWarning: IProgress not found. Please update jupyter and ipywidgets. See https://ipywidgets.readthedocs.io/en/stable/user_install.html\n",
            "  from .autonotebook import tqdm as notebook_tqdm\n"
          ]
        }
      ],
      "source": [
        "import hdbscan\n",
        "from datasets import load_dataset\n",
        "import numpy as np\n",
        "dataset = load_dataset(\"ag_news\")\n",
        "train_dataset = dataset['train'].select(range(0,100))\n",
        "probs = np.arange(0,100,1) * np.arange(100,0,-1) / 1000\n",
        "len(probs)\n"
      ]
    },
    {
      "cell_type": "code",
      "execution_count": 36,
      "metadata": {},
      "outputs": [
        {
          "name": "stderr",
          "output_type": "stream",
          "text": [
            "Found cached dataset ag_news (/Users/alealcoforado/.cache/huggingface/datasets/ag_news/default/0.0.0/bc2bcb40336ace1a0374767fc29bb0296cdaf8a6da7298436239c54d79180548)\n",
            "100%|██████████| 2/2 [00:00<00:00, 346.32it/s]\n"
          ]
        }
      ],
      "source": []
    },
    {
      "cell_type": "code",
      "execution_count": 80,
      "metadata": {},
      "outputs": [
        {
          "data": {
            "text/plain": [
              "100"
            ]
          },
          "execution_count": 80,
          "metadata": {},
          "output_type": "execute_result"
        }
      ],
      "source": []
    },
    {
      "cell_type": "code",
      "execution_count": 99,
      "metadata": {},
      "outputs": [
        {
          "data": {
            "text/plain": [
              "[(2.5, -1),\n",
              " (2.499, -1),\n",
              " (2.499, 4),\n",
              " (2.496, -1),\n",
              " (2.496, -1),\n",
              " (2.491, -1),\n",
              " (2.491, 4),\n",
              " (2.484, -1),\n",
              " (2.484, -1),\n",
              " (2.475, -1),\n",
              " (2.475, -1)]"
            ]
          },
          "execution_count": 99,
          "metadata": {},
          "output_type": "execute_result"
        }
      ],
      "source": [
        "# def select_n_highest_probs(probabilities, labels, n):\n",
        "#     label_probs = {}\n",
        "#     for i, prob in enumerate(probabilities):\n",
        "#         label = labels[i]\n",
        "#         if label not in label_probs:\n",
        "#             label_probs[label] = []\n",
        "#         label_probs[label].append(prob)\n",
        "\n",
        "#     sorted_labels = sorted(label_probs.keys())\n",
        "#     sorted_probs = [sorted(label_probs[label], reverse=True) for label in sorted_labels]\n",
        "\n",
        "#     result = []\n",
        "#     num_picked = 0\n",
        "#     while num_picked < n:\n",
        "#         max_prob = 0\n",
        "#         max_label = None\n",
        "#         for i, label in enumerate(sorted_labels):\n",
        "#             if not sorted_probs[i]:\n",
        "#                 continue\n",
        "#             if sorted_probs[i][0] > max_prob:\n",
        "#                 max_prob = sorted_probs[i][0]\n",
        "#                 max_label = label\n",
        "\n",
        "#         if max_prob is None:\n",
        "#             break\n",
        "\n",
        "#         result.append((max_prob, max_label))\n",
        "#         sorted_probs[sorted_labels.index(max_label)].pop(0)\n",
        "#         num_picked += 1\n",
        "\n",
        "#     return result\n",
        "\n",
        "# select_n_highest_probs(probs,y_predictions,11)"
      ]
    },
    {
      "cell_type": "code",
      "execution_count": null,
      "metadata": {},
      "outputs": [],
      "source": []
    },
    {
      "cell_type": "code",
      "execution_count": 41,
      "metadata": {},
      "outputs": [],
      "source": [
        "from sentence_transformers import SentenceTransformer\n",
        "\n",
        "st = SentenceTransformer('all-roberta-large-v1')\n",
        "embeddings = st.encode(train_dataset['text'])\n",
        "\n"
      ]
    },
    {
      "cell_type": "code",
      "execution_count": 51,
      "metadata": {},
      "outputs": [],
      "source": [
        "clusterer = hdbscan.HDBSCAN(leaf_size=40, min_cluster_size=4)\n"
      ]
    },
    {
      "cell_type": "code",
      "execution_count": 49,
      "metadata": {},
      "outputs": [],
      "source": [
        "y_predictions = clusterer.fit_predict(embeddings)"
      ]
    },
    {
      "cell_type": "code",
      "execution_count": 76,
      "metadata": {},
      "outputs": [
        {
          "data": {
            "text/plain": [
              "100"
            ]
          },
          "execution_count": 76,
          "metadata": {},
          "output_type": "execute_result"
        }
      ],
      "source": [
        "len(y_predictions)"
      ]
    },
    {
      "cell_type": "code",
      "execution_count": null,
      "metadata": {},
      "outputs": [],
      "source": []
    },
    {
      "attachments": {},
      "cell_type": "markdown",
      "metadata": {},
      "source": [
        "# Testes"
      ]
    },
    {
      "cell_type": "code",
      "execution_count": 103,
      "metadata": {
        "colab": {
          "base_uri": "https://localhost:8080/"
        },
        "id": "8pqz6npZqEKX",
        "outputId": "3f666233-5e77-41bc-ed21-dbd0751e9a53"
      },
      "outputs": [
        {
          "name": "stdout",
          "output_type": "stream",
          "text": [
            "huggingface/tokenizers: The current process just got forked, after parallelism has already been used. Disabling parallelism to avoid deadlocks...\n",
            "To disable this warning, you can either:\n",
            "\t- Avoid using `tokenizers` before the fork if possible\n",
            "\t- Explicitly set the environment variable TOKENIZERS_PARALLELISM=(true | false)\n",
            "Downloading readme: 100%|███████████████████████| 176/176 [00:00<00:00, 327kB/s]\n",
            "Downloading and preparing dataset json/SetFit--enron_spam to /Users/alealcoforado/.cache/huggingface/datasets/SetFit___json/SetFit--enron_spam-dfe3f29b8d121b65/0.0.0/fe5dd6ea2639a6df622901539cb550cf8797e5a6b2dd7af1cf934bed8e233e6e...\n",
            "Downloading data files:   0%|                             | 0/2 [00:00<?, ?it/s]\n",
            "Downloading data:   0%|                              | 0.00/101M [00:00<?, ?B/s]\u001b[A\n",
            "Downloading data:   0%|                      | 32.8k/101M [00:00<06:01, 279kB/s]\u001b[A\n",
            "Downloading data:   0%|                      | 98.3k/101M [00:00<04:01, 418kB/s]\u001b[A\n",
            "Downloading data:   0%|                       | 196k/101M [00:00<02:38, 636kB/s]\u001b[A\n",
            "Downloading data:   0%|                       | 310k/101M [00:00<02:13, 755kB/s]\u001b[A\n",
            "Downloading data:   0%|                      | 474k/101M [00:00<01:38, 1.03MB/s]\u001b[A\n",
            "Downloading data:   1%|▏                     | 638k/101M [00:00<01:22, 1.21MB/s]\u001b[A\n",
            "Downloading data:   1%|▏                     | 763k/101M [00:00<01:28, 1.13MB/s]\u001b[A\n",
            "Downloading data:   1%|▏                     | 936k/101M [00:00<01:17, 1.30MB/s]\u001b[A\n",
            "Downloading data:   1%|▏                    | 1.13M/101M [00:01<01:10, 1.42MB/s]\u001b[A\n",
            "Downloading data:   1%|▎                    | 1.28M/101M [00:01<01:21, 1.22MB/s]\u001b[A\n",
            "Downloading data:   2%|▎                    | 1.53M/101M [00:01<01:04, 1.54MB/s]\u001b[A\n",
            "Downloading data:   2%|▍                    | 1.82M/101M [00:01<00:53, 1.87MB/s]\u001b[A\n",
            "Downloading data:   2%|▍                    | 2.10M/101M [00:01<00:46, 2.11MB/s]\u001b[A\n",
            "Downloading data:   2%|▍                    | 2.39M/101M [00:01<00:42, 2.35MB/s]\u001b[A\n",
            "Downloading data:   3%|▌                    | 2.64M/101M [00:01<00:42, 2.33MB/s]\u001b[A\n",
            "Downloading data:   3%|▌                    | 2.95M/101M [00:01<00:38, 2.52MB/s]\u001b[A\n",
            "Downloading data:   3%|▋                    | 3.27M/101M [00:01<00:35, 2.73MB/s]\u001b[A\n",
            "Downloading data:   4%|▋                    | 3.55M/101M [00:02<00:35, 2.74MB/s]\u001b[A\n",
            "Downloading data:   4%|▊                    | 3.83M/101M [00:02<00:35, 2.74MB/s]\u001b[A\n",
            "Downloading data:   4%|▊                    | 4.15M/101M [00:02<00:34, 2.83MB/s]\u001b[A\n",
            "Downloading data:   4%|▉                    | 4.53M/101M [00:02<00:31, 3.10MB/s]\u001b[A\n",
            "Downloading data:   5%|█                    | 4.84M/101M [00:02<00:31, 3.06MB/s]\u001b[A\n",
            "Downloading data:   5%|█                    | 5.23M/101M [00:02<00:28, 3.31MB/s]\u001b[A\n",
            "Downloading data:   6%|█▏                   | 5.56M/101M [00:02<00:30, 3.09MB/s]\u001b[A\n",
            "Downloading data:   6%|█▏                   | 5.87M/101M [00:02<00:35, 2.69MB/s]\u001b[A\n",
            "Downloading data:   6%|█▎                   | 6.21M/101M [00:02<00:33, 2.87MB/s]\u001b[A\n",
            "Downloading data:   6%|█▎                   | 6.51M/101M [00:03<00:33, 2.86MB/s]\u001b[A\n",
            "Downloading data:   7%|█▍                   | 6.91M/101M [00:03<00:30, 3.11MB/s]\u001b[A\n",
            "Downloading data:   7%|█▌                   | 7.26M/101M [00:03<00:29, 3.19MB/s]\u001b[A\n",
            "Downloading data:   8%|█▌                   | 7.59M/101M [00:03<00:29, 3.18MB/s]\u001b[A\n",
            "Downloading data:   8%|█▋                   | 8.00M/101M [00:03<00:26, 3.45MB/s]\u001b[A\n",
            "Downloading data:   8%|█▋                   | 8.41M/101M [00:03<00:25, 3.63MB/s]\u001b[A\n",
            "Downloading data:   9%|█▊                   | 8.77M/101M [00:03<00:25, 3.58MB/s]\u001b[A\n",
            "Downloading data:   9%|█▉                   | 9.16M/101M [00:03<00:25, 3.61MB/s]\u001b[A\n",
            "Downloading data:   9%|█▉                   | 9.52M/101M [00:03<00:25, 3.59MB/s]\u001b[A\n",
            "Downloading data:  10%|██                   | 9.92M/101M [00:03<00:24, 3.69MB/s]\u001b[A\n",
            "Downloading data:  10%|██▏                  | 10.3M/101M [00:04<00:24, 3.63MB/s]\u001b[A\n",
            "Downloading data:  11%|██▏                  | 10.7M/101M [00:04<00:24, 3.75MB/s]\u001b[A\n",
            "Downloading data:  11%|██▎                  | 11.1M/101M [00:04<00:23, 3.86MB/s]\u001b[A\n",
            "Downloading data:  11%|██▍                  | 11.5M/101M [00:04<00:24, 3.73MB/s]\u001b[A\n",
            "Downloading data:  12%|██▍                  | 11.9M/101M [00:04<00:24, 3.65MB/s]\u001b[A\n",
            "Downloading data:  12%|██▌                  | 12.2M/101M [00:04<00:38, 2.33MB/s]\u001b[A\n",
            "Downloading data:  12%|██▌                  | 12.5M/101M [00:04<00:37, 2.39MB/s]\u001b[A\n",
            "Downloading data:  13%|██▋                  | 12.8M/101M [00:04<00:36, 2.45MB/s]\u001b[A\n",
            "Downloading data:  13%|██▋                  | 13.1M/101M [00:05<00:34, 2.58MB/s]\u001b[A\n",
            "Downloading data:  13%|██▊                  | 13.4M/101M [00:05<00:32, 2.68MB/s]\u001b[A\n",
            "Downloading data:  14%|██▊                  | 13.7M/101M [00:05<00:32, 2.71MB/s]\u001b[A\n",
            "Downloading data:  14%|██▉                  | 14.0M/101M [00:05<00:32, 2.72MB/s]\u001b[A\n",
            "Downloading data:  14%|██▉                  | 14.3M/101M [00:05<00:31, 2.74MB/s]\u001b[A\n",
            "Downloading data:  15%|███                  | 14.8M/101M [00:05<00:25, 3.37MB/s]\u001b[A\n",
            "Downloading data:  15%|███▏                 | 15.1M/101M [00:05<00:25, 3.35MB/s]\u001b[A\n",
            "Downloading data:  15%|███▏                 | 15.5M/101M [00:05<00:24, 3.51MB/s]\u001b[A\n",
            "Downloading data:  16%|███▎                 | 15.9M/101M [00:05<00:24, 3.53MB/s]\u001b[A\n",
            "Downloading data:  16%|███▍                 | 16.3M/101M [00:06<00:25, 3.28MB/s]\u001b[A\n",
            "Downloading data:  16%|███▍                 | 16.6M/101M [00:06<00:26, 3.16MB/s]\u001b[A\n",
            "Downloading data:  17%|███▌                 | 16.9M/101M [00:06<00:29, 2.90MB/s]\u001b[A\n",
            "Downloading data:  17%|███▌                 | 17.2M/101M [00:06<00:28, 2.96MB/s]\u001b[A\n",
            "Downloading data:  17%|███▋                 | 17.6M/101M [00:06<00:27, 3.07MB/s]\u001b[A\n",
            "Downloading data:  18%|███▋                 | 18.0M/101M [00:06<00:24, 3.45MB/s]\u001b[A^C\n",
            "Downloading data:  18%|███▊                 | 18.1M/101M [00:06<00:30, 2.70MB/s]\n",
            "Traceback (most recent call last):\n",
            "  File \"/Users/alealcoforado/Documents/Projetos/zeroberto/train_eval.py\", line 141, in <module>\n",
            "    main()\n",
            "  File \"/Users/alealcoforado/Documents/Projetos/zeroberto/train_eval.py\", line 76, in main\n",
            "    dataset = load_dataset(args.dataset)\n",
            "              ^^^^^^^^^^^^^^^^^^^^^^^^^^\n",
            "  File \"/Users/alealcoforado/opt/anaconda3/envs/venv_zeroberto/lib/python3.11/site-packages/datasets/load.py\", line 1791, in load_dataset\n",
            "    builder_instance.download_and_prepare(\n",
            "  File \"/Users/alealcoforado/opt/anaconda3/envs/venv_zeroberto/lib/python3.11/site-packages/datasets/builder.py\", line 891, in download_and_prepare\n",
            "    self._download_and_prepare(\n",
            "  File \"/Users/alealcoforado/opt/anaconda3/envs/venv_zeroberto/lib/python3.11/site-packages/datasets/builder.py\", line 964, in _download_and_prepare\n",
            "    split_generators = self._split_generators(dl_manager, **split_generators_kwargs)\n",
            "                       ^^^^^^^^^^^^^^^^^^^^^^^^^^^^^^^^^^^^^^^^^^^^^^^^^^^^^^^^^^^^^\n",
            "  File \"/Users/alealcoforado/opt/anaconda3/envs/venv_zeroberto/lib/python3.11/site-packages/datasets/packaged_modules/json/json.py\", line 49, in _split_generators\n",
            "    data_files = dl_manager.download_and_extract(self.config.data_files)\n",
            "                 ^^^^^^^^^^^^^^^^^^^^^^^^^^^^^^^^^^^^^^^^^^^^^^^^^^^^^^^\n",
            "  File \"/Users/alealcoforado/opt/anaconda3/envs/venv_zeroberto/lib/python3.11/site-packages/datasets/download/download_manager.py\", line 564, in download_and_extract\n",
            "    return self.extract(self.download(url_or_urls))\n",
            "                        ^^^^^^^^^^^^^^^^^^^^^^^^^^\n",
            "  File \"/Users/alealcoforado/opt/anaconda3/envs/venv_zeroberto/lib/python3.11/site-packages/datasets/download/download_manager.py\", line 427, in download\n",
            "    downloaded_path_or_paths = map_nested(\n",
            "                               ^^^^^^^^^^^\n",
            "  File \"/Users/alealcoforado/opt/anaconda3/envs/venv_zeroberto/lib/python3.11/site-packages/datasets/utils/py_utils.py\", line 443, in map_nested\n",
            "    mapped = [\n",
            "             ^\n",
            "  File \"/Users/alealcoforado/opt/anaconda3/envs/venv_zeroberto/lib/python3.11/site-packages/datasets/utils/py_utils.py\", line 444, in <listcomp>\n",
            "    _single_map_nested((function, obj, types, None, True, None))\n",
            "  File \"/Users/alealcoforado/opt/anaconda3/envs/venv_zeroberto/lib/python3.11/site-packages/datasets/utils/py_utils.py\", line 363, in _single_map_nested\n",
            "    mapped = [_single_map_nested((function, v, types, None, True, None)) for v in pbar]\n",
            "             ^^^^^^^^^^^^^^^^^^^^^^^^^^^^^^^^^^^^^^^^^^^^^^^^^^^^^^^^^^^^^^^^^^^^^^^^^^\n",
            "  File \"/Users/alealcoforado/opt/anaconda3/envs/venv_zeroberto/lib/python3.11/site-packages/datasets/utils/py_utils.py\", line 363, in <listcomp>\n",
            "    mapped = [_single_map_nested((function, v, types, None, True, None)) for v in pbar]\n",
            "              ^^^^^^^^^^^^^^^^^^^^^^^^^^^^^^^^^^^^^^^^^^^^^^^^^^^^^^^^^^\n",
            "  File \"/Users/alealcoforado/opt/anaconda3/envs/venv_zeroberto/lib/python3.11/site-packages/datasets/utils/py_utils.py\", line 346, in _single_map_nested\n",
            "    return function(data_struct)\n",
            "           ^^^^^^^^^^^^^^^^^^^^^\n",
            "  File \"/Users/alealcoforado/opt/anaconda3/envs/venv_zeroberto/lib/python3.11/site-packages/datasets/download/download_manager.py\", line 453, in _download\n",
            "    return cached_path(url_or_filename, download_config=download_config)\n",
            "           ^^^^^^^^^^^^^^^^^^^^^^^^^^^^^^^^^^^^^^^^^^^^^^^^^^^^^^^^^^^^^\n",
            "  File \"/Users/alealcoforado/opt/anaconda3/envs/venv_zeroberto/lib/python3.11/site-packages/datasets/utils/file_utils.py\", line 183, in cached_path\n",
            "    output_path = get_from_cache(\n",
            "                  ^^^^^^^^^^^^^^^\n",
            "  File \"/Users/alealcoforado/opt/anaconda3/envs/venv_zeroberto/lib/python3.11/site-packages/datasets/utils/file_utils.py\", line 611, in get_from_cache\n",
            "    http_get(\n",
            "  File \"/Users/alealcoforado/opt/anaconda3/envs/venv_zeroberto/lib/python3.11/site-packages/datasets/utils/file_utils.py\", line 403, in http_get\n",
            "    for chunk in response.iter_content(chunk_size=1024):\n",
            "  File \"/Users/alealcoforado/opt/anaconda3/envs/venv_zeroberto/lib/python3.11/site-packages/requests/models.py\", line 816, in generate\n",
            "    yield from self.raw.stream(chunk_size, decode_content=True)\n",
            "  File \"/Users/alealcoforado/opt/anaconda3/envs/venv_zeroberto/lib/python3.11/site-packages/urllib3/response.py\", line 935, in stream\n",
            "    data = self.read(amt=amt, decode_content=decode_content)\n",
            "           ^^^^^^^^^^^^^^^^^^^^^^^^^^^^^^^^^^^^^^^^^^^^^^^^^\n",
            "  File \"/Users/alealcoforado/opt/anaconda3/envs/venv_zeroberto/lib/python3.11/site-packages/urllib3/response.py\", line 874, in read\n",
            "    data = self._raw_read(amt)\n",
            "           ^^^^^^^^^^^^^^^^^^^\n",
            "  File \"/Users/alealcoforado/opt/anaconda3/envs/venv_zeroberto/lib/python3.11/site-packages/urllib3/response.py\", line 809, in _raw_read\n",
            "    data = self._fp_read(amt) if not fp_closed else b\"\"\n",
            "           ^^^^^^^^^^^^^^^^^^\n",
            "  File \"/Users/alealcoforado/opt/anaconda3/envs/venv_zeroberto/lib/python3.11/site-packages/urllib3/response.py\", line 794, in _fp_read\n",
            "    return self._fp.read(amt) if amt is not None else self._fp.read()\n",
            "           ^^^^^^^^^^^^^^^^^^\n",
            "  File \"/Users/alealcoforado/opt/anaconda3/envs/venv_zeroberto/lib/python3.11/http/client.py\", line 466, in read\n",
            "    s = self.fp.read(amt)\n",
            "        ^^^^^^^^^^^^^^^^^\n",
            "  File \"/Users/alealcoforado/opt/anaconda3/envs/venv_zeroberto/lib/python3.11/socket.py\", line 706, in readinto\n",
            "    return self._sock.recv_into(b)\n",
            "           ^^^^^^^^^^^^^^^^^^^^^^^\n",
            "  File \"/Users/alealcoforado/opt/anaconda3/envs/venv_zeroberto/lib/python3.11/ssl.py\", line 1278, in recv_into\n",
            "    return self.read(nbytes, buffer)\n",
            "           ^^^^^^^^^^^^^^^^^^^^^^^^^\n",
            "  File \"/Users/alealcoforado/opt/anaconda3/envs/venv_zeroberto/lib/python3.11/ssl.py\", line 1134, in read\n",
            "    return self._sslobj.read(len, buffer)\n",
            "           ^^^^^^^^^^^^^^^^^^^^^^^^^^^^^^\n",
            "KeyboardInterrupt\n",
            "Downloading data files:   0%|                             | 0/2 [00:09<?, ?it/s]\n"
          ]
        }
      ],
      "source": [
        "!python train_eval.py --model_name_or_path='all-roberta-large-v1' --dataset='SetFit/enron_spam' --num_iterations=10 --samples_per_label=8"
      ]
    },
    {
      "cell_type": "code",
      "execution_count": null,
      "metadata": {},
      "outputs": [],
      "source": []
    },
    {
      "cell_type": "code",
      "execution_count": null,
      "metadata": {},
      "outputs": [],
      "source": []
    }
  ],
  "metadata": {
    "accelerator": "GPU",
    "colab": {
      "gpuType": "T4",
      "provenance": []
    },
    "gpuClass": "standard",
    "kernelspec": {
      "display_name": "Python 3",
      "name": "python3"
    },
    "language_info": {
      "codemirror_mode": {
        "name": "ipython",
        "version": 3
      },
      "file_extension": ".py",
      "mimetype": "text/x-python",
      "name": "python",
      "nbconvert_exporter": "python",
      "pygments_lexer": "ipython3",
      "version": "3.11.3"
    }
  },
  "nbformat": 4,
  "nbformat_minor": 0
}
