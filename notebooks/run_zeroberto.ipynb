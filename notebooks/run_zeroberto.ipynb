{
  "cells": [
    {
      "cell_type": "code",
      "execution_count": 4,
      "metadata": {
        "colab": {
          "base_uri": "https://localhost:8080/"
        },
        "id": "QcRIbaP7p2VG",
        "outputId": "4a9e56d5-2607-47f2-f0eb-8d28f2ed114f"
      },
      "outputs": [],
      "source": [
        "# !git clone https://github.com/alealcoforado/ZeroBERTo.git"
      ]
    },
    {
      "cell_type": "code",
      "execution_count": 5,
      "metadata": {
        "colab": {
          "base_uri": "https://localhost:8080/"
        },
        "id": "mK8rnsJHqDmx",
        "outputId": "cd180ed1-c839-4d66-c2ff-a1f9f29bad0c"
      },
      "outputs": [],
      "source": [
        "# !pip install -r /Users/alealcoforado/Documents/Projetos/zeroberto/requirements.txt"
      ]
    },
    {
      "attachments": {},
      "cell_type": "markdown",
      "metadata": {},
      "source": [
        "# Testes"
      ]
    },
    {
      "cell_type": "code",
      "execution_count": 120,
      "metadata": {},
      "outputs": [
        {
          "name": "stdout",
          "output_type": "stream",
          "text": [
            "huggingface/tokenizers: The current process just got forked, after parallelism has already been used. Disabling parallelism to avoid deadlocks...\n",
            "To disable this warning, you can either:\n",
            "\t- Avoid using `tokenizers` before the fork if possible\n",
            "\t- Explicitly set the environment variable TOKENIZERS_PARALLELISM=(true | false)\n",
            "Found cached dataset ag_news (/Users/alealcoforado/.cache/huggingface/datasets/ag_news/default/0.0.0/bc2bcb40336ace1a0374767fc29bb0296cdaf8a6da7298436239c54d79180548)\n",
            "100%|████████████████████████████████████████████| 2/2 [00:00<00:00, 269.04it/s]\n",
            "1e-05 2e-05\n",
            "Start training\n",
            "Running First-Shot on 5000 documents.\n",
            "^C\n"
          ]
        }
      ],
      "source": [
        "!python train_eval.py --dataset='ag_news' --num_iterations=5 --num_setfit_iterations=4 --var_samples_per_label 1 2 3 12 --body_learning_rate=5e-6"
      ]
    },
    {
      "cell_type": "code",
      "execution_count": null,
      "metadata": {},
      "outputs": [],
      "source": []
    },
    {
      "cell_type": "code",
      "execution_count": null,
      "metadata": {},
      "outputs": [],
      "source": []
    }
  ],
  "metadata": {
    "accelerator": "GPU",
    "colab": {
      "gpuType": "T4",
      "provenance": []
    },
    "gpuClass": "standard",
    "kernelspec": {
      "display_name": "Python 3",
      "name": "python3"
    },
    "language_info": {
      "codemirror_mode": {
        "name": "ipython",
        "version": 3
      },
      "file_extension": ".py",
      "mimetype": "text/x-python",
      "name": "python",
      "nbconvert_exporter": "python",
      "pygments_lexer": "ipython3",
      "version": "3.11.3"
    }
  },
  "nbformat": 4,
  "nbformat_minor": 0
}
