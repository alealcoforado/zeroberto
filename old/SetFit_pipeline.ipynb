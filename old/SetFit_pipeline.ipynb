{
  "cells": [
    {
      "attachments": {},
      "cell_type": "markdown",
      "metadata": {},
      "source": [
        "# === ZeroBERTo Fit ==="
      ]
    },
    {
      "cell_type": "markdown",
      "metadata": {
        "id": "K8DWxQYlwxsf"
      },
      "source": [
        "# Dependencies"
      ]
    },
    {
      "cell_type": "code",
      "execution_count": 134,
      "metadata": {
        "colab": {
          "base_uri": "https://localhost:8080/"
        },
        "id": "9zW0h_35BS49",
        "outputId": "313f83c9-5ac6-4fb7-888f-21ee26cfd45e"
      },
      "outputs": [
        {
          "name": "stdout",
          "output_type": "stream",
          "text": [
            "The autoreload extension is already loaded. To reload it, use:\n",
            "  %reload_ext autoreload\n"
          ]
        }
      ],
      "source": [
        "# !pip install setfit\n",
        "# !pip install datasets\n",
        "%load_ext autoreload\n",
        "%autoreload 2"
      ]
    },
    {
      "cell_type": "code",
      "execution_count": 135,
      "metadata": {
        "colab": {
          "base_uri": "https://localhost:8080/"
        },
        "id": "kjQjQp46somO",
        "outputId": "6e5f963d-57e6-40a2-9021-83d9829d5d8f"
      },
      "outputs": [],
      "source": [
        "# from google.colab import drive\n",
        "# import pandas as pd\n",
        "\n",
        "# drive.mount('/content/drive')"
      ]
    },
    {
      "cell_type": "code",
      "execution_count": 136,
      "metadata": {},
      "outputs": [],
      "source": [
        "import pandas as pd\n",
        "import datasets_handler\n",
        "import datasets\n",
        "from datasets import Dataset\n",
        "from tqdm import tqdm\n",
        "from sklearn.preprocessing import LabelEncoder\n",
        "from sentence_transformers.losses import CosineSimilarityLoss\n",
        "from setfit import SetFitModel, SetFitTrainer, sample_dataset\n",
        "import evaluation_metrics\n",
        "import gc\n",
        "import zeroberto\n",
        "from zeroberto import ZeroBERTo\n",
        "tqdm.pandas()\n"
      ]
    },
    {
      "cell_type": "code",
      "execution_count": null,
      "metadata": {},
      "outputs": [],
      "source": []
    },
    {
      "cell_type": "markdown",
      "metadata": {
        "id": "t2NJFz1jw8iy"
      },
      "source": [
        "# Data Prep"
      ]
    },
    {
      "cell_type": "code",
      "execution_count": 137,
      "metadata": {},
      "outputs": [],
      "source": [
        "use_zeroshot_previous_step = True\n",
        "exec_time = '2023_02_17__04_03_23'\n",
        "\n",
        "# which_dataset = 'folhauol'\n",
        "# which_dataset = 'bbc-news'\n",
        "which_dataset = 'ag_news'\n",
        "\n",
        "\n",
        "split = \"zeroshot\" if use_zeroshot_previous_step else \"fewshot\"\n",
        "n = 16\n",
        "test_dataset_sample_size = 1/32\n",
        "## 1/64 ---> <6 min\n",
        "## 1/32 ---> <12 min\n",
        "## 1/16 ---> <22 min\n",
        "random_state = 422"
      ]
    },
    {
      "cell_type": "code",
      "execution_count": 138,
      "metadata": {},
      "outputs": [],
      "source": [
        "top_n = 16"
      ]
    },
    {
      "attachments": {},
      "cell_type": "markdown",
      "metadata": {},
      "source": [
        "## Import Data"
      ]
    },
    {
      "cell_type": "code",
      "execution_count": 139,
      "metadata": {},
      "outputs": [
        {
          "name": "stderr",
          "output_type": "stream",
          "text": [
            "Found cached dataset ag_news (/Users/alealcoforado/.cache/huggingface/datasets/ag_news/default/0.0.0/bc2bcb40336ace1a0374767fc29bb0296cdaf8a6da7298436239c54d79180548)\n"
          ]
        },
        {
          "data": {
            "application/vnd.jupyter.widget-view+json": {
              "model_id": "59e37f278ae94b1a875c1a743270fcc1",
              "version_major": 2,
              "version_minor": 0
            },
            "text/plain": [
              "  0%|          | 0/2 [00:00<?, ?it/s]"
            ]
          },
          "metadata": {},
          "output_type": "display_data"
        }
      ],
      "source": [
        "raw_data, data_col, class_col = datasets_handler.getDataset(which_dataset)\n"
      ]
    },
    {
      "cell_type": "code",
      "execution_count": null,
      "metadata": {},
      "outputs": [],
      "source": []
    },
    {
      "cell_type": "markdown",
      "metadata": {
        "id": "FohkG6IXxXdu"
      },
      "source": [
        "### Data from Zero-Shot previous step"
      ]
    },
    {
      "cell_type": "code",
      "execution_count": null,
      "metadata": {},
      "outputs": [],
      "source": []
    },
    {
      "cell_type": "code",
      "execution_count": 140,
      "metadata": {},
      "outputs": [
        {
          "data": {
            "text/plain": [
              "Index(['index', 'text', 'label', 'class', 'prediction', 'prediction_code',\n",
              "       'top_probability', 'new_class', 'new_class_code'],\n",
              "      dtype='object')"
            ]
          },
          "execution_count": 140,
          "metadata": {},
          "output_type": "execute_result"
        }
      ],
      "source": [
        "if use_zeroshot_previous_step == True:\n",
        "    zeroshot_previous_data = datasets_handler.getZeroshotPreviousData(which_dataset,class_col,top_n=top_n,exec_time=exec_time)\n",
        "    raw_data_final, new_class_col = datasets_handler.mergeLabelingToDataset(raw_data,zeroshot_previous_data,class_col)\n",
        "\n",
        "if use_zeroshot_previous_step == False:\n",
        "    raw_data_final = raw_data.copy()\n",
        "    new_class_col = class_col\n",
        "    raw_data_final[new_class_col] = raw_data_final[class_col]\n",
        "    raw_data_final = evaluation_metrics.Encoder(raw_data,[new_class_col])\n",
        "\n",
        "\n",
        "raw_data_final.columns\n",
        "\n"
      ]
    },
    {
      "cell_type": "markdown",
      "metadata": {},
      "source": [
        "## Dataset Split"
      ]
    },
    {
      "attachments": {},
      "cell_type": "markdown",
      "metadata": {
        "id": "z9kRpSikxbRM"
      },
      "source": [
        "### Standard SetFit (Few-Shot)"
      ]
    },
    {
      "cell_type": "code",
      "execution_count": 141,
      "metadata": {
        "id": "mh5qXFj7CfpV"
      },
      "outputs": [],
      "source": [
        "### divide dataframe em treino e teste, com n samples para few-shot\n",
        "\n",
        "if (split==\"fewshot\"):\n",
        "  df_train = raw_data_final.groupby(new_class_col)[[data_col,new_class_col+\"_code\"]].apply(lambda s: s.sample(min(len(s),n)))\n",
        "  keys = list(df_train.columns.values)\n",
        "  i1 = raw_data_final.set_index(keys).index\n",
        "  i2 = df_train.set_index(keys).index\n",
        "  df_test = raw_data_final[~i1.isin(i2)]\n",
        "  df_test = df_test.groupby(new_class_col)[[data_col,new_class_col+\"_code\"]].apply(lambda x:x.sample(int(len(x)*test_dataset_sample_size)))\n",
        "  df_train[data_col] = df_train[data_col].astype(str)\n",
        "  df_test[data_col] = df_test[data_col].astype(str)\n",
        "  print(df_train.shape,df_test.shape)"
      ]
    },
    {
      "attachments": {},
      "cell_type": "markdown",
      "metadata": {
        "id": "SJn98MXKWMXc"
      },
      "source": [
        "### Zeroberto SetFit"
      ]
    },
    {
      "cell_type": "code",
      "execution_count": 142,
      "metadata": {
        "id": "a72aFoc_WL4E"
      },
      "outputs": [
        {
          "name": "stdout",
          "output_type": "stream",
          "text": [
            "(64, 2) (3984, 2)\n"
          ]
        }
      ],
      "source": [
        "if (split == \"zeroshot\"):\n",
        "  df_train = raw_data_final[~raw_data_final['prediction'].isna()].groupby(new_class_col+\"_code\")[[data_col,new_class_col+\"_code\"]].apply(lambda s: s.sample(min(len(s),top_n),random_state=random_state))\n",
        "\n",
        "  keys = list(df_train.columns.values)\n",
        "\n",
        "  i1 = raw_data_final.set_index(keys).index\n",
        "  i2 = df_train.set_index(keys).index\n",
        "\n",
        "  df_test = raw_data_final[~i1.isin(i2)]\n",
        "\n",
        "  df_test = df_test.groupby(new_class_col+\"_code\")[[data_col,new_class_col+\"_code\"]].apply(lambda x:x.sample(int(len(x)*test_dataset_sample_size),random_state=random_state))\n",
        "\n",
        "  df_train[data_col] = df_train[data_col].astype(str)\n",
        "  df_test[data_col] = df_test[data_col].astype(str)\n",
        "  print(df_train.shape,df_test.shape)"
      ]
    },
    {
      "attachments": {},
      "cell_type": "markdown",
      "metadata": {
        "id": "FSIDHKhNX3eg"
      },
      "source": [
        "### Build Dataset Dict"
      ]
    },
    {
      "cell_type": "code",
      "execution_count": 143,
      "metadata": {
        "colab": {
          "base_uri": "https://localhost:8080/"
        },
        "id": "HGFTobZKCOWh",
        "outputId": "362e82dd-5e0e-437b-83f8-516e8c9fd7fa"
      },
      "outputs": [
        {
          "data": {
            "text/plain": [
              "DatasetDict({\n",
              "    train: Dataset({\n",
              "        features: ['text', 'new_class_code'],\n",
              "        num_rows: 64\n",
              "    })\n",
              "    test: Dataset({\n",
              "        features: ['text', 'new_class_code'],\n",
              "        num_rows: 3984\n",
              "    })\n",
              "})"
            ]
          },
          "execution_count": 143,
          "metadata": {},
          "output_type": "execute_result"
        }
      ],
      "source": [
        "### transforma dataframes em datasetdict\n",
        "\n",
        "train_dataset = Dataset.from_dict(df_train)\n",
        "test_dataset = Dataset.from_dict(df_test)\n",
        "dataset_dict = datasets.DatasetDict({\"train\":train_dataset,\"test\":test_dataset})\n",
        "dataset = dataset_dict\n",
        "dataset"
      ]
    },
    {
      "attachments": {},
      "cell_type": "markdown",
      "metadata": {
        "id": "xKmLNNx-qGdM"
      },
      "source": [
        "# SetFit"
      ]
    },
    {
      "cell_type": "code",
      "execution_count": null,
      "metadata": {},
      "outputs": [],
      "source": []
    },
    {
      "attachments": {},
      "cell_type": "markdown",
      "metadata": {
        "id": "zP8cTH9ZxLuJ"
      },
      "source": [
        "## Model"
      ]
    },
    {
      "cell_type": "code",
      "execution_count": 144,
      "metadata": {},
      "outputs": [],
      "source": [
        "# model = saved_model\n"
      ]
    },
    {
      "cell_type": "code",
      "execution_count": null,
      "metadata": {},
      "outputs": [],
      "source": []
    },
    {
      "cell_type": "code",
      "execution_count": 145,
      "metadata": {},
      "outputs": [
        {
          "name": "stderr",
          "output_type": "stream",
          "text": [
            "model_head.pkl not found on HuggingFace Hub, initialising classification head with random weights. You should TRAIN this model on a downstream task to use it for predictions and inference.\n"
          ]
        }
      ],
      "source": [
        "# model_name = \"sentence-transformers/nli-roberta-base-v2\"\n",
        "# model_name = \"ricardo-filho/bert-base-portuguese-cased-nli-assin-2\"\n",
        "model_name = 'sentence-transformers/stsb-xlm-r-multilingual'\n",
        "\n",
        "#### Models\n",
        "# \"sentence-transformers/paraphrase-mpnet-base-v2\"\n",
        "# \"ricardo-filho/bert-base-portuguese-cased-nli-assin-2\"\n",
        "# \"ricardo-filho/bert-portuguese-cased-nli-assin-2\"\n",
        "# \"sentence-transformers/nli-roberta-base-v2\"\n",
        "# \"neuralmind/bert-large-portuguese-cased\"\n",
        "# \"joeddav/xlm-roberta-large-xnli\"\n",
        "# \"openai-gpt\"\n",
        "\n",
        "model = SetFitModel.from_pretrained(model_name,\n",
        "                                    use_differentiable_head=True,\n",
        "                                    head_params={\"out_features\":len(raw_data[class_col].drop_duplicates())})"
      ]
    },
    {
      "attachments": {},
      "cell_type": "markdown",
      "metadata": {},
      "source": [
        "## Parameters"
      ]
    },
    {
      "cell_type": "code",
      "execution_count": 146,
      "metadata": {},
      "outputs": [],
      "source": [
        "batch_size = 8\n",
        "num_text_pairs = 10\n",
        "num_epochs = 1\n",
        "\n",
        "setfit_config = {\n",
        "    \"model\":model_name,\n",
        "    \"dataset\":which_dataset,\n",
        "    \"batch_size\":batch_size,\n",
        "    \"num_pairs\":num_text_pairs,\n",
        "    \"num_epochs\":num_epochs,\n",
        "    \"dataset_sample_size\":test_dataset_sample_size,\n",
        "    \"N_examples\":n,\n",
        "    \"split\":split,\n",
        "    \"0shot_data\":exec_time\n",
        "}\n",
        "\n",
        "# Create trainer\n",
        "trainer = SetFitTrainer(\n",
        "    model=model,\n",
        "    train_dataset=train_dataset,\n",
        "    eval_dataset=test_dataset,\n",
        "    loss_class=CosineSimilarityLoss,\n",
        "    batch_size=setfit_config[\"batch_size\"],\n",
        "    num_iterations=setfit_config[\"num_pairs\"], # Number of text pairs to generate for contrastive learning\n",
        "    num_epochs=setfit_config[\"num_epochs\"], # Number of epochs to use for contrastive learning\n",
        "    column_mapping = {data_col: \"text\", new_class_col+\"_code\": \"label\"} # NÃO mudar\n",
        ")"
      ]
    },
    {
      "cell_type": "code",
      "execution_count": null,
      "metadata": {},
      "outputs": [],
      "source": []
    },
    {
      "cell_type": "code",
      "execution_count": null,
      "metadata": {},
      "outputs": [],
      "source": []
    },
    {
      "cell_type": "code",
      "execution_count": 147,
      "metadata": {
        "id": "at8v7NZuBsTc"
      },
      "outputs": [
        {
          "name": "stderr",
          "output_type": "stream",
          "text": [
            "Applying column mapping to training dataset\n",
            "The `max_length` is `None`. Using the maximum acceptable length according to the current model body: 128.\n"
          ]
        },
        {
          "data": {
            "application/vnd.jupyter.widget-view+json": {
              "model_id": "9bdd18abc6e14a9ea3a61d2d9868f94f",
              "version_major": 2,
              "version_minor": 0
            },
            "text/plain": [
              "Epoch:   0%|          | 0/20 [00:00<?, ?it/s]"
            ]
          },
          "metadata": {},
          "output_type": "display_data"
        },
        {
          "name": "stdout",
          "output_type": "stream",
          "text": [
            "{'model': 'sentence-transformers/stsb-xlm-r-multilingual', 'dataset': 'ag_news', 'batch_size': 8, 'num_pairs': 10, 'num_epochs': 1, 'dataset_sample_size': 0.03125, 'N_examples': 16, 'split': 'zeroshot', '0shot_data': '2023_02_17__04_03_23'}\n",
            "CPU times: user 8min 55s, sys: 12min 28s, total: 21min 24s\n",
            "Wall time: 9min 28s\n"
          ]
        },
        {
          "ename": "",
          "evalue": "",
          "output_type": "error",
          "traceback": [
            "\u001b[1;31mThe Kernel crashed while executing code in the the current cell or a previous cell. Please review the code in the cell(s) to identify a possible cause of the failure. Click <a href='https://aka.ms/vscodeJupyterKernelCrash'>here</a> for more info. View Jupyter <a href='command:jupyter.viewOutput'>log</a> for further details."
          ]
        }
      ],
      "source": [
        "%%time\n",
        "# Train and evaluate\n",
        "# trainer.freeze() # Freeze the head\n",
        "# trainer.train() # Train only the body\n",
        "\n",
        "# Unfreeze the head and freeze the body -> head-only training\n",
        "# trainer.unfreeze(keep_body_frozen=True)\n",
        "\n",
        "# Unfreeze the head and unfreeze the body -> end-to-end training\n",
        "trainer.unfreeze(keep_body_frozen=False)\n",
        "\n",
        "trainer.train(\n",
        "    num_epochs=20, # The number of epochs to train the head or the whole model (body and head)\n",
        "    batch_size=16,\n",
        "    body_learning_rate=1e-5, # The body's learning rate\n",
        "    learning_rate=1e-2, # The head's learning rate\n",
        "    l2_weight=0.0, # Weight decay on **both** the body and head. If `None`, will use 0.01.\n",
        ")\n",
        "\n",
        "print(setfit_config)"
      ]
    },
    {
      "cell_type": "markdown",
      "metadata": {
        "id": "CkLC8HLsZxv7"
      },
      "source": [
        "## Training"
      ]
    },
    {
      "cell_type": "code",
      "execution_count": 84,
      "metadata": {
        "colab": {
          "base_uri": "https://localhost:8080/",
          "height": 703,
          "referenced_widgets": [
            "2589bd733c51433da691b4c7f38b8d0e",
            "d12bf941fabb4f069f90b69931fdb47c",
            "5373d1f2507643b98ff9a7301bbe07b1",
            "8811585c4f514484bc709fbe79cda464",
            "bde968c5739648cea2c78cb44f9efe43",
            "4ca09aea630644519998d0eedf46533b",
            "a067c1ae053a4671bb0df88516003baf",
            "4f016aa1a50240618345a11e3a3d5a22",
            "a45d104969904a8d9c6ad2b1321cb551",
            "6cce7d01d13944298de49b6708608047",
            "614148306c98475384f2f6675e76c949",
            "6cd322ec42994ec6a89e02ce27198c84",
            "e1d32c5c521e43518891fc8a8cc5c228",
            "799f907a811645f49d1365ec36648d7a",
            "594ae3cd34ad4a25b1002a89bee91f79",
            "92334509722542d8b3d67c036afbfb36",
            "b1f3660d72184ee8bcc83e9d4a61edb3",
            "f9fec4ecaec04b4a883555343e0ec597",
            "0b073ac91d504f41a189e0c812de56f5",
            "c874e790ca01432cb4043d96d8961734",
            "1f7d487c683f42c7afe9d13040f63291",
            "1b39eb1b21894318a14615a8b1b2b23e"
          ]
        },
        "id": "y4HXDGx2OoSl",
        "outputId": "1beaa051-43af-4f59-bd06-68855ab93b83"
      },
      "outputs": [
        {
          "name": "stdout",
          "output_type": "stream",
          "text": [
            "CPU times: user 73.3 ms, sys: 101 ms, total: 175 ms\n",
            "Wall time: 427 ms\n"
          ]
        },
        {
          "data": {
            "text/plain": [
              "4862"
            ]
          },
          "execution_count": 84,
          "metadata": {},
          "output_type": "execute_result"
        }
      ],
      "source": [
        "%%time\n",
        "# trainer.unfreeze(keep_body_frozen=True)\n",
        "\n",
        "# trainer.train()\n",
        "gc.collect()"
      ]
    },
    {
      "cell_type": "code",
      "execution_count": 85,
      "metadata": {},
      "outputs": [],
      "source": [
        "# model([\"oi\",\"sports\",\"business and economics\"])\n",
        "# trainer.evaluate()"
      ]
    },
    {
      "attachments": {},
      "cell_type": "markdown",
      "metadata": {},
      "source": [
        "## Inference"
      ]
    },
    {
      "cell_type": "code",
      "execution_count": 86,
      "metadata": {},
      "outputs": [
        {
          "name": "stdout",
          "output_type": "stream",
          "text": [
            "Running predictions on 3984 sentences.\n",
            "CPU times: user 5min 3s, sys: 35.6 s, total: 5min 38s\n",
            "Wall time: 2min 8s\n"
          ]
        }
      ],
      "source": [
        "%%time\n",
        "y_pred = zeroberto.getPredictions(trainer)\n",
        "# y_pred = zeroberto.getProbabilities(trainer)\n",
        "\n",
        "#### folhauol: aprox. 4 predicoes por segundo\n",
        "#### bbcnews: aprox. 4 preds por segundo\n",
        "#### ag_news: aprox. 33 preds por segundo"
      ]
    },
    {
      "cell_type": "code",
      "execution_count": 87,
      "metadata": {},
      "outputs": [],
      "source": [
        "import numpy as np"
      ]
    },
    {
      "cell_type": "code",
      "execution_count": 88,
      "metadata": {},
      "outputs": [],
      "source": [
        "# trainer.model.predict_proba(np.ndarray([\"oi\"]))"
      ]
    },
    {
      "cell_type": "code",
      "execution_count": 103,
      "metadata": {},
      "outputs": [
        {
          "data": {
            "text/plain": [
              "0                    business\n",
              "78     science and technology\n",
              "448                    sports\n",
              "492                     world\n",
              "Name: class, dtype: object"
            ]
          },
          "execution_count": 103,
          "metadata": {},
          "output_type": "execute_result"
        }
      ],
      "source": []
    },
    {
      "cell_type": "code",
      "execution_count": null,
      "metadata": {},
      "outputs": [],
      "source": []
    },
    {
      "cell_type": "code",
      "execution_count": 113,
      "metadata": {},
      "outputs": [
        {
          "data": {
            "text/plain": [
              "(32, 3)"
            ]
          },
          "execution_count": 113,
          "metadata": {},
          "output_type": "execute_result"
        }
      ],
      "source": [
        "second_test_df = raw_data_final.sample(3000,random_state=422).sort_index()"
      ]
    },
    {
      "cell_type": "code",
      "execution_count": 131,
      "metadata": {},
      "outputs": [],
      "source": [
        "zeroberto_model = ZeroBERTo(raw_data_final['class'].drop_duplicates().to_list(),embeddingModel=trainer.model.model_body,\n",
        "                            train_dataset=second_test_df)"
      ]
    },
    {
      "cell_type": "code",
      "execution_count": 124,
      "metadata": {},
      "outputs": [],
      "source": []
    },
    {
      "cell_type": "code",
      "execution_count": 120,
      "metadata": {},
      "outputs": [],
      "source": []
    },
    {
      "cell_type": "code",
      "execution_count": 127,
      "metadata": {},
      "outputs": [
        {
          "name": "stdout",
          "output_type": "stream",
          "text": [
            "Preds: 50  - Total time: 2.65 seconds - ETA: 2.7 minutes\n",
            "Preds: 100  - Total time: 5.2 seconds - ETA: 2.6 minutes\n",
            "Preds: 150  - Total time: 7.8 seconds - ETA: 2.6 minutes\n",
            "Preds: 200  - Total time: 10.44 seconds - ETA: 2.6 minutes\n",
            "Preds: 250  - Total time: 13.07 seconds - ETA: 2.6 minutes\n",
            "Preds: 300  - Total time: 15.71 seconds - ETA: 2.6 minutes\n",
            "Preds: 350  - Total time: 18.35 seconds - ETA: 2.6 minutes\n",
            "Preds: 400  - Total time: 20.9 seconds - ETA: 2.6 minutes\n",
            "Preds: 450  - Total time: 23.55 seconds - ETA: 2.6 minutes\n",
            "Preds: 500  - Total time: 26.11 seconds - ETA: 2.6 minutes\n",
            "Preds: 550  - Total time: 28.6 seconds - ETA: 2.6 minutes\n",
            "Preds: 600  - Total time: 31.15 seconds - ETA: 2.6 minutes\n",
            "Preds: 650  - Total time: 33.71 seconds - ETA: 2.6 minutes\n",
            "Preds: 700  - Total time: 36.17 seconds - ETA: 2.6 minutes\n",
            "Preds: 750  - Total time: 38.55 seconds - ETA: 2.6 minutes\n",
            "Preds: 800  - Total time: 40.99 seconds - ETA: 2.6 minutes\n",
            "Preds: 850  - Total time: 43.34 seconds - ETA: 2.5 minutes\n",
            "Preds: 900  - Total time: 45.86 seconds - ETA: 2.5 minutes\n",
            "Preds: 950  - Total time: 48.35 seconds - ETA: 2.5 minutes\n",
            "Preds: 1000  - Total time: 50.77 seconds - ETA: 2.5 minutes\n",
            "Preds: 1050  - Total time: 53.3 seconds - ETA: 2.5 minutes\n",
            "Preds: 1100  - Total time: 55.76 seconds - ETA: 2.5 minutes\n",
            "Preds: 1150  - Total time: 58.41 seconds - ETA: 2.5 minutes\n",
            "Preds: 1200  - Total time: 60.99 seconds - ETA: 2.5 minutes\n",
            "Preds: 1250  - Total time: 63.54 seconds - ETA: 2.5 minutes\n",
            "Preds: 1300  - Total time: 66.36 seconds - ETA: 2.6 minutes\n",
            "Preds: 1350  - Total time: 68.94 seconds - ETA: 2.6 minutes\n",
            "Preds: 1400  - Total time: 71.45 seconds - ETA: 2.6 minutes\n",
            "Preds: 1450  - Total time: 73.85 seconds - ETA: 2.5 minutes\n",
            "Preds: 1500  - Total time: 76.35 seconds - ETA: 2.5 minutes\n",
            "Preds: 1550  - Total time: 78.83 seconds - ETA: 2.5 minutes\n",
            "Preds: 1600  - Total time: 81.47 seconds - ETA: 2.5 minutes\n",
            "Preds: 1650  - Total time: 84.41 seconds - ETA: 2.6 minutes\n",
            "Preds: 1700  - Total time: 87.66 seconds - ETA: 2.6 minutes\n",
            "Preds: 1750  - Total time: 90.66 seconds - ETA: 2.6 minutes\n",
            "Preds: 1800  - Total time: 93.59 seconds - ETA: 2.6 minutes\n",
            "Preds: 1850  - Total time: 96.04 seconds - ETA: 2.6 minutes\n",
            "Preds: 1900  - Total time: 98.46 seconds - ETA: 2.6 minutes\n",
            "Preds: 1950  - Total time: 100.81 seconds - ETA: 2.6 minutes\n",
            "Preds: 2000  - Total time: 103.2 seconds - ETA: 2.6 minutes\n",
            "Preds: 2050  - Total time: 105.49 seconds - ETA: 2.6 minutes\n",
            "Preds: 2100  - Total time: 107.81 seconds - ETA: 2.6 minutes\n",
            "Preds: 2150  - Total time: 110.14 seconds - ETA: 2.6 minutes\n",
            "Preds: 2200  - Total time: 112.48 seconds - ETA: 2.6 minutes\n",
            "Preds: 2250  - Total time: 114.84 seconds - ETA: 2.6 minutes\n",
            "Preds: 2300  - Total time: 117.26 seconds - ETA: 2.5 minutes\n",
            "Preds: 2350  - Total time: 119.83 seconds - ETA: 2.5 minutes\n",
            "Preds: 2400  - Total time: 122.11 seconds - ETA: 2.5 minutes\n",
            "Preds: 2450  - Total time: 124.4 seconds - ETA: 2.5 minutes\n",
            "Preds: 2500  - Total time: 126.69 seconds - ETA: 2.5 minutes\n",
            "Preds: 2550  - Total time: 129.08 seconds - ETA: 2.5 minutes\n",
            "Preds: 2600  - Total time: 131.46 seconds - ETA: 2.5 minutes\n",
            "Preds: 2650  - Total time: 133.74 seconds - ETA: 2.5 minutes\n",
            "Preds: 2700  - Total time: 136.12 seconds - ETA: 2.5 minutes\n",
            "Preds: 2750  - Total time: 138.45 seconds - ETA: 2.5 minutes\n",
            "Preds: 2800  - Total time: 140.87 seconds - ETA: 2.5 minutes\n",
            "Preds: 2850  - Total time: 143.21 seconds - ETA: 2.5 minutes\n",
            "Preds: 2900  - Total time: 145.47 seconds - ETA: 2.5 minutes\n",
            "Preds: 2950  - Total time: 147.78 seconds - ETA: 2.5 minutes\n",
            "Preds: 3000  - Total time: 150.1 seconds - ETA: 2.5 minutes\n"
          ]
        }
      ],
      "source": [
        "zeroshot_results = zeroberto.runZeroberto(zeroberto_model,second_test_df['text'],None)  ##X## COMENTAR AQUI \n"
      ]
    },
    {
      "cell_type": "code",
      "execution_count": 132,
      "metadata": {},
      "outputs": [
        {
          "name": "stdout",
          "output_type": "stream",
          "text": [
            "top 1: {'accuracy': 0.75}\n",
            "top 2: {'accuracy': 0.75}\n",
            "top 3: {'accuracy': 0.6666666666666666}\n",
            "top 4: {'accuracy': 0.75}\n",
            "top 5: {'accuracy': 0.8}\n",
            "top 6: {'accuracy': 0.8333333333333334}\n",
            "top 7: {'accuracy': 0.8214285714285714}\n",
            "top 8: {'accuracy': 0.8125}\n",
            "top 9: {'accuracy': 0.8055555555555556}\n",
            "top 10: {'accuracy': 0.825}\n",
            "top 11: {'accuracy': 0.7954545454545454}\n",
            "top 12: {'accuracy': 0.7916666666666666}\n",
            "top 13: {'accuracy': 0.8076923076923077}\n",
            "top 14: {'accuracy': 0.8214285714285714}\n",
            "top 15: {'accuracy': 0.8166666666666667}\n",
            "top 16: {'accuracy': 0.828125}\n",
            "top 3000: {'accuracy': 0.658}\n"
          ]
        }
      ],
      "source": [
        "df_results = zeroberto_model.evaluateLabeling(zeroshot_results)"
      ]
    },
    {
      "cell_type": "code",
      "execution_count": 133,
      "metadata": {},
      "outputs": [
        {
          "name": "stdout",
          "output_type": "stream",
          "text": [
            "{'weighted': [{'accuracy': 0.658}, {'precision': 0.6625285465311167}, {'recall': 0.658}, {'f1': 0.6571961559436302}], 'macro': [{'accuracy': 0.658}, {'precision': 0.6635544905870477}, {'recall': 0.6593758310172948}, {'f1': 0.6584169120317461}]}\n"
          ]
        }
      ],
      "source": [
        "all_metrics = evaluation_metrics.get_metrics(df_results['prediction_code'].to_list(),df_results['class_code'].to_list())\n",
        "print(all_metrics)"
      ]
    },
    {
      "attachments": {},
      "cell_type": "markdown",
      "metadata": {
        "id": "c76dcxZcqQiF"
      },
      "source": [
        "# Evaluation"
      ]
    },
    {
      "attachments": {},
      "cell_type": "markdown",
      "metadata": {},
      "source": [
        "## Metrics"
      ]
    },
    {
      "cell_type": "code",
      "execution_count": 89,
      "metadata": {
        "colab": {
          "base_uri": "https://localhost:8080/",
          "height": 407
        },
        "id": "GGIXbhEJXp2D",
        "outputId": "e30955f8-91b0-4789-8114-ff925881d0cf"
      },
      "outputs": [
        {
          "name": "stdout",
          "output_type": "stream",
          "text": [
            "{'weighted': [{'accuracy': 0.6603915662650602}, {'precision': 0.7123584970780007}, {'recall': 0.6603915662650602}, {'f1': 0.6399341962236867}], 'macro': [{'accuracy': 0.6603915662650602}, {'precision': 0.7123584970780007}, {'recall': 0.6603915662650602}, {'f1': 0.6399341962236867}]}\n",
            "{'weighted': [{'accuracy': 0.6636546184738956}, {'precision': 0.7142491479964926}, {'recall': 0.6636546184738956}, {'f1': 0.6450966749572223}], 'macro': [{'accuracy': 0.6636546184738956}, {'precision': 0.7142491479964928}, {'recall': 0.6636546184738956}, {'f1': 0.6450966749572222}]}\n"
          ]
        }
      ],
      "source": [
        "try: print(all_metrics)\n",
        "except: pass\n",
        "all_metrics = evaluation_metrics.get_metrics(y_pred ,test_dataset[new_class_col+\"_code\"])\n",
        "print(all_metrics)"
      ]
    },
    {
      "attachments": {},
      "cell_type": "markdown",
      "metadata": {},
      "source": [
        "## Save Results"
      ]
    },
    {
      "cell_type": "code",
      "execution_count": 81,
      "metadata": {},
      "outputs": [
        {
          "name": "stdout",
          "output_type": "stream",
          "text": [
            "metrics_setfit_2023_02_17__03_01_11.csv\n",
            "config_setfit_2023_02_17__03_01_11.csv\n",
            "{'model': 'sentence-transformers/stsb-xlm-r-multilingual', 'dataset': 'ag_news', 'batch_size': 8, 'num_pairs': 20, 'num_epochs': 1, 'dataset_sample_size': 0.03125, 'N_examples': 8, 'split': 'zeroshot', '0shot_data': '2023_02_17__01_35_09'}\n"
          ]
        }
      ],
      "source": [
        "setfit_exec_time  = evaluation_metrics.saveResults(setfit_config,all_metrics)\n",
        "print(setfit_config)"
      ]
    },
    {
      "attachments": {},
      "cell_type": "markdown",
      "metadata": {},
      "source": [
        "# Save Model"
      ]
    },
    {
      "cell_type": "code",
      "execution_count": null,
      "metadata": {},
      "outputs": [],
      "source": [
        "model_path = \"/Users/alealcoforado/Documents/Projetos/Modelos/{exec}\".format(exec=setfit_exec_time)\n",
        "print(model_path)\n",
        "trainer.model._save_pretrained(save_directory=model_path)"
      ]
    },
    {
      "attachments": {},
      "cell_type": "markdown",
      "metadata": {},
      "source": [
        "## Load Model"
      ]
    },
    {
      "cell_type": "code",
      "execution_count": null,
      "metadata": {
        "colab": {
          "base_uri": "https://localhost:8080/",
          "height": 568
        },
        "id": "DgTU5d43kc-y",
        "outputId": "648210d6-5209-427d-9df7-91957b2dc3f6"
      },
      "outputs": [],
      "source": [
        "load_path = r'/Users/alealcoforado/Documents/Projetos/Modelos/setfit_top_n=4_n=8_15pairs_v1'\n",
        "\n",
        "saved_model = SetFitModel._from_pretrained(load_path)\n",
        "model_name = load_path"
      ]
    },
    {
      "cell_type": "code",
      "execution_count": null,
      "metadata": {},
      "outputs": [],
      "source": []
    },
    {
      "cell_type": "code",
      "execution_count": null,
      "metadata": {},
      "outputs": [],
      "source": []
    },
    {
      "attachments": {},
      "cell_type": "markdown",
      "metadata": {},
      "source": [
        "{'weighted': [{'accuracy': 0.7208791208791209},\n",
        "  {'precision': 0.7966533533828771},\n",
        "  {'recall': 0.7208791208791209},\n",
        "  {'f1': 0.7383634133416869}],\n",
        " 'macro': [{'accuracy': 0.7208791208791209},\n",
        "  {'precision': 0.47294791260373964},\n",
        "  {'recall': 0.6956977371368128},\n",
        "  {'f1': 0.5148314501574386}]}\n",
        "\n",
        "  {'weighted': [{'accuracy': 0.7088331515812432},\n",
        "  {'precision': 0.8112290505989518},\n",
        "  {'recall': 0.7088331515812432},\n",
        "  {'f1': 0.7416526123050681}],\n",
        " 'macro': [{'accuracy': 0.7088331515812432},\n",
        "  {'precision': 0.5086466490124514},\n",
        "  {'recall': 0.7260511792805407},\n",
        "  {'f1': 0.5487853669870654}]}\n",
        "\n",
        "1/4 dataset\n",
        "  {'weighted': [{'accuracy': 0.712040293517433},\n",
        "  {'precision': 0.7969596487586078},\n",
        "  {'recall': 0.712040293517433},\n",
        "  {'f1': 0.7365853189562236}],\n",
        " 'macro': [{'accuracy': 0.712040293517433},\n",
        "  {'precision': 0.4964842305418267},\n",
        "  {'recall': 0.7028323441240695},\n",
        "  {'f1': 0.5374745594204607}]}\n",
        "\n",
        "full dataset\n",
        "{'weighted': [{'accuracy': 0.7090563785338325},\n",
        "  {'precision': 0.7967113724849181},\n",
        "  {'recall': 0.7090563785338325},\n",
        "  {'f1': 0.734316306685027}],\n",
        " 'macro': [{'accuracy': 0.7090563785338325},\n",
        "  {'precision': 0.4954781686924334},\n",
        "  {'recall': 0.7020811904269998},\n",
        "  {'f1': 0.5360406756304892}]}"
      ]
    }
  ],
  "metadata": {
    "colab": {
      "provenance": [],
      "toc_visible": true
    },
    "gpuClass": "standard",
    "kernelspec": {
      "display_name": "venv_zeroberto",
      "language": "python",
      "name": "python3"
    },
    "language_info": {
      "codemirror_mode": {
        "name": "ipython",
        "version": 3
      },
      "file_extension": ".py",
      "mimetype": "text/x-python",
      "name": "python",
      "nbconvert_exporter": "python",
      "pygments_lexer": "ipython3",
      "version": "3.10.9"
    },
    "vscode": {
      "interpreter": {
        "hash": "b98a7e24f8a69e8a460c693288d2fe0565d17bd4bdd6eb6203258b225132cc92"
      }
    },
    "widgets": {
      "application/vnd.jupyter.widget-state+json": {
        "0b073ac91d504f41a189e0c812de56f5": {
          "model_module": "@jupyter-widgets/base",
          "model_module_version": "1.2.0",
          "model_name": "LayoutModel",
          "state": {
            "_model_module": "@jupyter-widgets/base",
            "_model_module_version": "1.2.0",
            "_model_name": "LayoutModel",
            "_view_count": null,
            "_view_module": "@jupyter-widgets/base",
            "_view_module_version": "1.2.0",
            "_view_name": "LayoutView",
            "align_content": null,
            "align_items": null,
            "align_self": null,
            "border": null,
            "bottom": null,
            "display": null,
            "flex": null,
            "flex_flow": null,
            "grid_area": null,
            "grid_auto_columns": null,
            "grid_auto_flow": null,
            "grid_auto_rows": null,
            "grid_column": null,
            "grid_gap": null,
            "grid_row": null,
            "grid_template_areas": null,
            "grid_template_columns": null,
            "grid_template_rows": null,
            "height": null,
            "justify_content": null,
            "justify_items": null,
            "left": null,
            "margin": null,
            "max_height": null,
            "max_width": null,
            "min_height": null,
            "min_width": null,
            "object_fit": null,
            "object_position": null,
            "order": null,
            "overflow": null,
            "overflow_x": null,
            "overflow_y": null,
            "padding": null,
            "right": null,
            "top": null,
            "visibility": null,
            "width": null
          }
        },
        "1b39eb1b21894318a14615a8b1b2b23e": {
          "model_module": "@jupyter-widgets/controls",
          "model_module_version": "1.5.0",
          "model_name": "DescriptionStyleModel",
          "state": {
            "_model_module": "@jupyter-widgets/controls",
            "_model_module_version": "1.5.0",
            "_model_name": "DescriptionStyleModel",
            "_view_count": null,
            "_view_module": "@jupyter-widgets/base",
            "_view_module_version": "1.2.0",
            "_view_name": "StyleView",
            "description_width": ""
          }
        },
        "1f7d487c683f42c7afe9d13040f63291": {
          "model_module": "@jupyter-widgets/base",
          "model_module_version": "1.2.0",
          "model_name": "LayoutModel",
          "state": {
            "_model_module": "@jupyter-widgets/base",
            "_model_module_version": "1.2.0",
            "_model_name": "LayoutModel",
            "_view_count": null,
            "_view_module": "@jupyter-widgets/base",
            "_view_module_version": "1.2.0",
            "_view_name": "LayoutView",
            "align_content": null,
            "align_items": null,
            "align_self": null,
            "border": null,
            "bottom": null,
            "display": null,
            "flex": null,
            "flex_flow": null,
            "grid_area": null,
            "grid_auto_columns": null,
            "grid_auto_flow": null,
            "grid_auto_rows": null,
            "grid_column": null,
            "grid_gap": null,
            "grid_row": null,
            "grid_template_areas": null,
            "grid_template_columns": null,
            "grid_template_rows": null,
            "height": null,
            "justify_content": null,
            "justify_items": null,
            "left": null,
            "margin": null,
            "max_height": null,
            "max_width": null,
            "min_height": null,
            "min_width": null,
            "object_fit": null,
            "object_position": null,
            "order": null,
            "overflow": null,
            "overflow_x": null,
            "overflow_y": null,
            "padding": null,
            "right": null,
            "top": null,
            "visibility": null,
            "width": null
          }
        },
        "2589bd733c51433da691b4c7f38b8d0e": {
          "model_module": "@jupyter-widgets/controls",
          "model_module_version": "1.5.0",
          "model_name": "HBoxModel",
          "state": {
            "_dom_classes": [],
            "_model_module": "@jupyter-widgets/controls",
            "_model_module_version": "1.5.0",
            "_model_name": "HBoxModel",
            "_view_count": null,
            "_view_module": "@jupyter-widgets/controls",
            "_view_module_version": "1.5.0",
            "_view_name": "HBoxView",
            "box_style": "",
            "children": [
              "IPY_MODEL_d12bf941fabb4f069f90b69931fdb47c",
              "IPY_MODEL_5373d1f2507643b98ff9a7301bbe07b1",
              "IPY_MODEL_8811585c4f514484bc709fbe79cda464"
            ],
            "layout": "IPY_MODEL_bde968c5739648cea2c78cb44f9efe43"
          }
        },
        "4ca09aea630644519998d0eedf46533b": {
          "model_module": "@jupyter-widgets/base",
          "model_module_version": "1.2.0",
          "model_name": "LayoutModel",
          "state": {
            "_model_module": "@jupyter-widgets/base",
            "_model_module_version": "1.2.0",
            "_model_name": "LayoutModel",
            "_view_count": null,
            "_view_module": "@jupyter-widgets/base",
            "_view_module_version": "1.2.0",
            "_view_name": "LayoutView",
            "align_content": null,
            "align_items": null,
            "align_self": null,
            "border": null,
            "bottom": null,
            "display": null,
            "flex": null,
            "flex_flow": null,
            "grid_area": null,
            "grid_auto_columns": null,
            "grid_auto_flow": null,
            "grid_auto_rows": null,
            "grid_column": null,
            "grid_gap": null,
            "grid_row": null,
            "grid_template_areas": null,
            "grid_template_columns": null,
            "grid_template_rows": null,
            "height": null,
            "justify_content": null,
            "justify_items": null,
            "left": null,
            "margin": null,
            "max_height": null,
            "max_width": null,
            "min_height": null,
            "min_width": null,
            "object_fit": null,
            "object_position": null,
            "order": null,
            "overflow": null,
            "overflow_x": null,
            "overflow_y": null,
            "padding": null,
            "right": null,
            "top": null,
            "visibility": null,
            "width": null
          }
        },
        "4f016aa1a50240618345a11e3a3d5a22": {
          "model_module": "@jupyter-widgets/base",
          "model_module_version": "1.2.0",
          "model_name": "LayoutModel",
          "state": {
            "_model_module": "@jupyter-widgets/base",
            "_model_module_version": "1.2.0",
            "_model_name": "LayoutModel",
            "_view_count": null,
            "_view_module": "@jupyter-widgets/base",
            "_view_module_version": "1.2.0",
            "_view_name": "LayoutView",
            "align_content": null,
            "align_items": null,
            "align_self": null,
            "border": null,
            "bottom": null,
            "display": null,
            "flex": null,
            "flex_flow": null,
            "grid_area": null,
            "grid_auto_columns": null,
            "grid_auto_flow": null,
            "grid_auto_rows": null,
            "grid_column": null,
            "grid_gap": null,
            "grid_row": null,
            "grid_template_areas": null,
            "grid_template_columns": null,
            "grid_template_rows": null,
            "height": null,
            "justify_content": null,
            "justify_items": null,
            "left": null,
            "margin": null,
            "max_height": null,
            "max_width": null,
            "min_height": null,
            "min_width": null,
            "object_fit": null,
            "object_position": null,
            "order": null,
            "overflow": null,
            "overflow_x": null,
            "overflow_y": null,
            "padding": null,
            "right": null,
            "top": null,
            "visibility": null,
            "width": null
          }
        },
        "5373d1f2507643b98ff9a7301bbe07b1": {
          "model_module": "@jupyter-widgets/controls",
          "model_module_version": "1.5.0",
          "model_name": "FloatProgressModel",
          "state": {
            "_dom_classes": [],
            "_model_module": "@jupyter-widgets/controls",
            "_model_module_version": "1.5.0",
            "_model_name": "FloatProgressModel",
            "_view_count": null,
            "_view_module": "@jupyter-widgets/controls",
            "_view_module_version": "1.5.0",
            "_view_name": "ProgressView",
            "bar_style": "danger",
            "description": "",
            "description_tooltip": null,
            "layout": "IPY_MODEL_4f016aa1a50240618345a11e3a3d5a22",
            "max": 1,
            "min": 0,
            "orientation": "horizontal",
            "style": "IPY_MODEL_a45d104969904a8d9c6ad2b1321cb551",
            "value": 0
          }
        },
        "594ae3cd34ad4a25b1002a89bee91f79": {
          "model_module": "@jupyter-widgets/controls",
          "model_module_version": "1.5.0",
          "model_name": "HTMLModel",
          "state": {
            "_dom_classes": [],
            "_model_module": "@jupyter-widgets/controls",
            "_model_module_version": "1.5.0",
            "_model_name": "HTMLModel",
            "_view_count": null,
            "_view_module": "@jupyter-widgets/controls",
            "_view_module_version": "1.5.0",
            "_view_name": "HTMLView",
            "description": "",
            "description_tooltip": null,
            "layout": "IPY_MODEL_1f7d487c683f42c7afe9d13040f63291",
            "placeholder": "​",
            "style": "IPY_MODEL_1b39eb1b21894318a14615a8b1b2b23e",
            "value": " 4/768 [03:39&lt;11:19:21, 53.35s/it]"
          }
        },
        "614148306c98475384f2f6675e76c949": {
          "model_module": "@jupyter-widgets/controls",
          "model_module_version": "1.5.0",
          "model_name": "DescriptionStyleModel",
          "state": {
            "_model_module": "@jupyter-widgets/controls",
            "_model_module_version": "1.5.0",
            "_model_name": "DescriptionStyleModel",
            "_view_count": null,
            "_view_module": "@jupyter-widgets/base",
            "_view_module_version": "1.2.0",
            "_view_name": "StyleView",
            "description_width": ""
          }
        },
        "6cce7d01d13944298de49b6708608047": {
          "model_module": "@jupyter-widgets/base",
          "model_module_version": "1.2.0",
          "model_name": "LayoutModel",
          "state": {
            "_model_module": "@jupyter-widgets/base",
            "_model_module_version": "1.2.0",
            "_model_name": "LayoutModel",
            "_view_count": null,
            "_view_module": "@jupyter-widgets/base",
            "_view_module_version": "1.2.0",
            "_view_name": "LayoutView",
            "align_content": null,
            "align_items": null,
            "align_self": null,
            "border": null,
            "bottom": null,
            "display": null,
            "flex": null,
            "flex_flow": null,
            "grid_area": null,
            "grid_auto_columns": null,
            "grid_auto_flow": null,
            "grid_auto_rows": null,
            "grid_column": null,
            "grid_gap": null,
            "grid_row": null,
            "grid_template_areas": null,
            "grid_template_columns": null,
            "grid_template_rows": null,
            "height": null,
            "justify_content": null,
            "justify_items": null,
            "left": null,
            "margin": null,
            "max_height": null,
            "max_width": null,
            "min_height": null,
            "min_width": null,
            "object_fit": null,
            "object_position": null,
            "order": null,
            "overflow": null,
            "overflow_x": null,
            "overflow_y": null,
            "padding": null,
            "right": null,
            "top": null,
            "visibility": null,
            "width": null
          }
        },
        "6cd322ec42994ec6a89e02ce27198c84": {
          "model_module": "@jupyter-widgets/controls",
          "model_module_version": "1.5.0",
          "model_name": "HBoxModel",
          "state": {
            "_dom_classes": [],
            "_model_module": "@jupyter-widgets/controls",
            "_model_module_version": "1.5.0",
            "_model_name": "HBoxModel",
            "_view_count": null,
            "_view_module": "@jupyter-widgets/controls",
            "_view_module_version": "1.5.0",
            "_view_name": "HBoxView",
            "box_style": "",
            "children": [
              "IPY_MODEL_e1d32c5c521e43518891fc8a8cc5c228",
              "IPY_MODEL_799f907a811645f49d1365ec36648d7a",
              "IPY_MODEL_594ae3cd34ad4a25b1002a89bee91f79"
            ],
            "layout": "IPY_MODEL_92334509722542d8b3d67c036afbfb36"
          }
        },
        "799f907a811645f49d1365ec36648d7a": {
          "model_module": "@jupyter-widgets/controls",
          "model_module_version": "1.5.0",
          "model_name": "FloatProgressModel",
          "state": {
            "_dom_classes": [],
            "_model_module": "@jupyter-widgets/controls",
            "_model_module_version": "1.5.0",
            "_model_name": "FloatProgressModel",
            "_view_count": null,
            "_view_module": "@jupyter-widgets/controls",
            "_view_module_version": "1.5.0",
            "_view_name": "ProgressView",
            "bar_style": "danger",
            "description": "",
            "description_tooltip": null,
            "layout": "IPY_MODEL_0b073ac91d504f41a189e0c812de56f5",
            "max": 768,
            "min": 0,
            "orientation": "horizontal",
            "style": "IPY_MODEL_c874e790ca01432cb4043d96d8961734",
            "value": 4
          }
        },
        "8811585c4f514484bc709fbe79cda464": {
          "model_module": "@jupyter-widgets/controls",
          "model_module_version": "1.5.0",
          "model_name": "HTMLModel",
          "state": {
            "_dom_classes": [],
            "_model_module": "@jupyter-widgets/controls",
            "_model_module_version": "1.5.0",
            "_model_name": "HTMLModel",
            "_view_count": null,
            "_view_module": "@jupyter-widgets/controls",
            "_view_module_version": "1.5.0",
            "_view_name": "HTMLView",
            "description": "",
            "description_tooltip": null,
            "layout": "IPY_MODEL_6cce7d01d13944298de49b6708608047",
            "placeholder": "​",
            "style": "IPY_MODEL_614148306c98475384f2f6675e76c949",
            "value": " 0/1 [03:39&lt;?, ?it/s]"
          }
        },
        "92334509722542d8b3d67c036afbfb36": {
          "model_module": "@jupyter-widgets/base",
          "model_module_version": "1.2.0",
          "model_name": "LayoutModel",
          "state": {
            "_model_module": "@jupyter-widgets/base",
            "_model_module_version": "1.2.0",
            "_model_name": "LayoutModel",
            "_view_count": null,
            "_view_module": "@jupyter-widgets/base",
            "_view_module_version": "1.2.0",
            "_view_name": "LayoutView",
            "align_content": null,
            "align_items": null,
            "align_self": null,
            "border": null,
            "bottom": null,
            "display": null,
            "flex": null,
            "flex_flow": null,
            "grid_area": null,
            "grid_auto_columns": null,
            "grid_auto_flow": null,
            "grid_auto_rows": null,
            "grid_column": null,
            "grid_gap": null,
            "grid_row": null,
            "grid_template_areas": null,
            "grid_template_columns": null,
            "grid_template_rows": null,
            "height": null,
            "justify_content": null,
            "justify_items": null,
            "left": null,
            "margin": null,
            "max_height": null,
            "max_width": null,
            "min_height": null,
            "min_width": null,
            "object_fit": null,
            "object_position": null,
            "order": null,
            "overflow": null,
            "overflow_x": null,
            "overflow_y": null,
            "padding": null,
            "right": null,
            "top": null,
            "visibility": null,
            "width": null
          }
        },
        "a067c1ae053a4671bb0df88516003baf": {
          "model_module": "@jupyter-widgets/controls",
          "model_module_version": "1.5.0",
          "model_name": "DescriptionStyleModel",
          "state": {
            "_model_module": "@jupyter-widgets/controls",
            "_model_module_version": "1.5.0",
            "_model_name": "DescriptionStyleModel",
            "_view_count": null,
            "_view_module": "@jupyter-widgets/base",
            "_view_module_version": "1.2.0",
            "_view_name": "StyleView",
            "description_width": ""
          }
        },
        "a45d104969904a8d9c6ad2b1321cb551": {
          "model_module": "@jupyter-widgets/controls",
          "model_module_version": "1.5.0",
          "model_name": "ProgressStyleModel",
          "state": {
            "_model_module": "@jupyter-widgets/controls",
            "_model_module_version": "1.5.0",
            "_model_name": "ProgressStyleModel",
            "_view_count": null,
            "_view_module": "@jupyter-widgets/base",
            "_view_module_version": "1.2.0",
            "_view_name": "StyleView",
            "bar_color": null,
            "description_width": ""
          }
        },
        "b1f3660d72184ee8bcc83e9d4a61edb3": {
          "model_module": "@jupyter-widgets/base",
          "model_module_version": "1.2.0",
          "model_name": "LayoutModel",
          "state": {
            "_model_module": "@jupyter-widgets/base",
            "_model_module_version": "1.2.0",
            "_model_name": "LayoutModel",
            "_view_count": null,
            "_view_module": "@jupyter-widgets/base",
            "_view_module_version": "1.2.0",
            "_view_name": "LayoutView",
            "align_content": null,
            "align_items": null,
            "align_self": null,
            "border": null,
            "bottom": null,
            "display": null,
            "flex": null,
            "flex_flow": null,
            "grid_area": null,
            "grid_auto_columns": null,
            "grid_auto_flow": null,
            "grid_auto_rows": null,
            "grid_column": null,
            "grid_gap": null,
            "grid_row": null,
            "grid_template_areas": null,
            "grid_template_columns": null,
            "grid_template_rows": null,
            "height": null,
            "justify_content": null,
            "justify_items": null,
            "left": null,
            "margin": null,
            "max_height": null,
            "max_width": null,
            "min_height": null,
            "min_width": null,
            "object_fit": null,
            "object_position": null,
            "order": null,
            "overflow": null,
            "overflow_x": null,
            "overflow_y": null,
            "padding": null,
            "right": null,
            "top": null,
            "visibility": null,
            "width": null
          }
        },
        "bde968c5739648cea2c78cb44f9efe43": {
          "model_module": "@jupyter-widgets/base",
          "model_module_version": "1.2.0",
          "model_name": "LayoutModel",
          "state": {
            "_model_module": "@jupyter-widgets/base",
            "_model_module_version": "1.2.0",
            "_model_name": "LayoutModel",
            "_view_count": null,
            "_view_module": "@jupyter-widgets/base",
            "_view_module_version": "1.2.0",
            "_view_name": "LayoutView",
            "align_content": null,
            "align_items": null,
            "align_self": null,
            "border": null,
            "bottom": null,
            "display": null,
            "flex": null,
            "flex_flow": null,
            "grid_area": null,
            "grid_auto_columns": null,
            "grid_auto_flow": null,
            "grid_auto_rows": null,
            "grid_column": null,
            "grid_gap": null,
            "grid_row": null,
            "grid_template_areas": null,
            "grid_template_columns": null,
            "grid_template_rows": null,
            "height": null,
            "justify_content": null,
            "justify_items": null,
            "left": null,
            "margin": null,
            "max_height": null,
            "max_width": null,
            "min_height": null,
            "min_width": null,
            "object_fit": null,
            "object_position": null,
            "order": null,
            "overflow": null,
            "overflow_x": null,
            "overflow_y": null,
            "padding": null,
            "right": null,
            "top": null,
            "visibility": null,
            "width": null
          }
        },
        "c874e790ca01432cb4043d96d8961734": {
          "model_module": "@jupyter-widgets/controls",
          "model_module_version": "1.5.0",
          "model_name": "ProgressStyleModel",
          "state": {
            "_model_module": "@jupyter-widgets/controls",
            "_model_module_version": "1.5.0",
            "_model_name": "ProgressStyleModel",
            "_view_count": null,
            "_view_module": "@jupyter-widgets/base",
            "_view_module_version": "1.2.0",
            "_view_name": "StyleView",
            "bar_color": null,
            "description_width": ""
          }
        },
        "d12bf941fabb4f069f90b69931fdb47c": {
          "model_module": "@jupyter-widgets/controls",
          "model_module_version": "1.5.0",
          "model_name": "HTMLModel",
          "state": {
            "_dom_classes": [],
            "_model_module": "@jupyter-widgets/controls",
            "_model_module_version": "1.5.0",
            "_model_name": "HTMLModel",
            "_view_count": null,
            "_view_module": "@jupyter-widgets/controls",
            "_view_module_version": "1.5.0",
            "_view_name": "HTMLView",
            "description": "",
            "description_tooltip": null,
            "layout": "IPY_MODEL_4ca09aea630644519998d0eedf46533b",
            "placeholder": "​",
            "style": "IPY_MODEL_a067c1ae053a4671bb0df88516003baf",
            "value": "Epoch:   0%"
          }
        },
        "e1d32c5c521e43518891fc8a8cc5c228": {
          "model_module": "@jupyter-widgets/controls",
          "model_module_version": "1.5.0",
          "model_name": "HTMLModel",
          "state": {
            "_dom_classes": [],
            "_model_module": "@jupyter-widgets/controls",
            "_model_module_version": "1.5.0",
            "_model_name": "HTMLModel",
            "_view_count": null,
            "_view_module": "@jupyter-widgets/controls",
            "_view_module_version": "1.5.0",
            "_view_name": "HTMLView",
            "description": "",
            "description_tooltip": null,
            "layout": "IPY_MODEL_b1f3660d72184ee8bcc83e9d4a61edb3",
            "placeholder": "​",
            "style": "IPY_MODEL_f9fec4ecaec04b4a883555343e0ec597",
            "value": "Iteration:   1%"
          }
        },
        "f9fec4ecaec04b4a883555343e0ec597": {
          "model_module": "@jupyter-widgets/controls",
          "model_module_version": "1.5.0",
          "model_name": "DescriptionStyleModel",
          "state": {
            "_model_module": "@jupyter-widgets/controls",
            "_model_module_version": "1.5.0",
            "_model_name": "DescriptionStyleModel",
            "_view_count": null,
            "_view_module": "@jupyter-widgets/base",
            "_view_module_version": "1.2.0",
            "_view_name": "StyleView",
            "description_width": ""
          }
        }
      }
    }
  },
  "nbformat": 4,
  "nbformat_minor": 0
}
