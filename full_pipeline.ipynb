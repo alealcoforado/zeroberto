{
 "cells": [
  {
   "attachments": {},
   "cell_type": "markdown",
   "metadata": {},
   "source": [
    "# Dependencies"
   ]
  },
  {
   "cell_type": "code",
   "execution_count": 1,
   "metadata": {},
   "outputs": [
    {
     "name": "stderr",
     "output_type": "stream",
     "text": [
      "/Users/alealcoforado/Documents/Projetos/ZeroBERTo/zeroberto/datasets_handler.py:165: FutureWarning: The default dtype for empty Series will be 'object' instead of 'float64' in a future version. Specify a dtype explicitly to silence this warning.\n",
      "  def splitDocuments(docs: pd.Series()) -> list():\n",
      "0it [00:00, ?it/s]\n"
     ]
    }
   ],
   "source": [
    "%load_ext autoreload\n",
    "%autoreload 2\n",
    "import nltk\n",
    "import ipywidgets\n",
    "import pandas as pd\n",
    "import numpy as np\n",
    "import time\n",
    "from tqdm import tqdm\n",
    "tqdm.pandas()\n",
    "# from pandarallel import pandarallel\n",
    "# pandarallel.initialize(progress_bar=True)\n",
    "import torch\n",
    "import datetime\n",
    "import os\n",
    "import datasets_handler\n",
    "import evaluation_metrics\n",
    "import zeroberto\n",
    "from zeroberto import ZeroBERTo\n",
    "# import datasets\n",
    "# from datasets import Dataset\n",
    "from tqdm import tqdm\n",
    "from sklearn.preprocessing import LabelEncoder\n",
    "from sentence_transformers.losses import CosineSimilarityLoss\n",
    "from setfit import SetFitModel, SetFitTrainer\n",
    "import gc"
   ]
  },
  {
   "attachments": {},
   "cell_type": "markdown",
   "metadata": {},
   "source": [
    "# Dataset"
   ]
  },
  {
   "cell_type": "code",
   "execution_count": 16,
   "metadata": {},
   "outputs": [
    {
     "name": "stdout",
     "output_type": "stream",
     "text": [
      "['Poder e Política no Brasil', 'Mercado', 'Notícias de fora do Brasil', 'Esporte', 'Tecnologia', 'Meio Ambiente', 'Equilíbrio e Saúde', 'Educação', 'TV, Televisão e Entretenimento', 'Ciência', 'Turismo', 'Comida']\n"
     ]
    }
   ],
   "source": [
    "which_dataset = 'folhauol' \n",
    "# which_dataset = 'bbc-news'\n",
    "# which_dataset = 'ag_news'\n",
    "# which_dataset = 'imdb'\n",
    "\n",
    "hyp_template = \"{}\"\n",
    "# hyp_template = \"Esse texto está relacionado a {}.\"\n",
    "# hyp_template = \"O tema principal deste texto é {}.\"\n",
    "# hyp_template = \"this text is about {}.\"\n",
    "# hyp_template = \"this article is about {}.\"\n",
    "\n",
    "raw_data, data_col, class_col = datasets_handler.getDataset(which_dataset)\n",
    "classes_list = list(raw_data[class_col].unique())\n",
    "print(classes_list)"
   ]
  },
  {
   "cell_type": "code",
   "execution_count": null,
   "metadata": {},
   "outputs": [],
   "source": []
  },
  {
   "attachments": {},
   "cell_type": "markdown",
   "metadata": {},
   "source": [
    "# ZeroBERTo"
   ]
  },
  {
   "attachments": {},
   "cell_type": "markdown",
   "metadata": {},
   "source": [
    "## Parameters"
   ]
  },
  {
   "cell_type": "code",
   "execution_count": 17,
   "metadata": {},
   "outputs": [
    {
     "data": {
      "text/plain": [
       "{'dataset': 'folhauol',\n",
       " 'class_col': 'class',\n",
       " 'data_col': 'text',\n",
       " 'split': 'zeroshot',\n",
       " 'method': 'dotproduct',\n",
       " 'max_inferences': 1000,\n",
       " 'classes': ['Poder e Política no Brasil',\n",
       "  'Mercado',\n",
       "  'Notícias de fora do Brasil',\n",
       "  'Esporte',\n",
       "  'Tecnologia',\n",
       "  'Meio Ambiente',\n",
       "  'Equilíbrio e Saúde',\n",
       "  'Educação',\n",
       "  'TV, Televisão e Entretenimento',\n",
       "  'Ciência',\n",
       "  'Turismo',\n",
       "  'Comida'],\n",
       " 'template': '{}',\n",
       " 'random_state': 422}"
      ]
     },
     "execution_count": 17,
     "metadata": {},
     "output_type": "execute_result"
    }
   ],
   "source": [
    "# max_inferences = len(train) #estava em 5000\n",
    "max_inferences = 1000\n",
    "\n",
    "# zeroshot_method = \"probability_threshold\"\n",
    "# probability_goal = 0.9\n",
    "# top_n_goal = 8\n",
    "\n",
    "zeroshot_method = \"dotproduct\"  \n",
    "# zeroshot_method = \"kmeans\"  \n",
    "\n",
    "zeroshot_config = {\n",
    "    'dataset':which_dataset,\n",
    "    'class_col':class_col,\n",
    "    'data_col':data_col,\n",
    "    'split':\"zeroshot\",\n",
    "    'method':zeroshot_method,\n",
    "    # 'prob_goal':probability_goal,\n",
    "    # 'top_n_goal':top_n_goal,\n",
    "    'max_inferences':max_inferences,\n",
    "    'classes':classes_list,#list(dict_classes_folha.values())\n",
    "    'template': hyp_template,\n",
    "    'random_state':422,\n",
    "    # 'trainings_done':0\n",
    "}\n",
    "zeroshot_config"
   ]
  },
  {
   "cell_type": "code",
   "execution_count": 4,
   "metadata": {},
   "outputs": [
    {
     "data": {
      "text/plain": [
       "1000"
      ]
     },
     "execution_count": 4,
     "metadata": {},
     "output_type": "execute_result"
    }
   ],
   "source": [
    "train_data = raw_data.sample(zeroshot_config['max_inferences'],random_state=zeroshot_config['random_state']).sort_index()\n",
    "len(train_data)"
   ]
  },
  {
   "attachments": {},
   "cell_type": "markdown",
   "metadata": {},
   "source": [
    "## Model"
   ]
  },
  {
   "cell_type": "code",
   "execution_count": 53,
   "metadata": {},
   "outputs": [],
   "source": [
    "zeroshot_config['similarity_model'] = 'sentence-transformers/stsb-xlm-r-multilingual'\n",
    "zeroshot_config['setfit_model'] = 'ricardo-filho/bert-base-portuguese-cased-nli-assin-2'\n",
    "\n",
    "model = ZeroBERTo(classes_list=zeroshot_config['classes'],hypothesis_template=zeroshot_config['template'],\n",
    "                  train_dataset=train_data,labeling_method=zeroshot_config['method'],embeddingModel=zeroshot_config['similarity_model'])"
   ]
  },
  {
   "cell_type": "code",
   "execution_count": null,
   "metadata": {},
   "outputs": [],
   "source": []
  },
  {
   "cell_type": "code",
   "execution_count": 12,
   "metadata": {},
   "outputs": [
    {
     "data": {
      "text/plain": [
       "SentenceTransformer(\n",
       "  (0): Transformer({'max_seq_length': 128, 'do_lower_case': False}) with Transformer model: XLMRobertaModel \n",
       "  (1): Pooling({'word_embedding_dimension': 768, 'pooling_mode_cls_token': False, 'pooling_mode_mean_tokens': True, 'pooling_mode_max_tokens': False, 'pooling_mode_mean_sqrt_len_tokens': False})\n",
       ")"
      ]
     },
     "execution_count": 12,
     "metadata": {},
     "output_type": "execute_result"
    }
   ],
   "source": [
    "model.embeddingModel"
   ]
  },
  {
   "attachments": {},
   "cell_type": "markdown",
   "metadata": {},
   "source": [
    "## Inference"
   ]
  },
  {
   "cell_type": "code",
   "execution_count": 13,
   "metadata": {},
   "outputs": [
    {
     "name": "stdout",
     "output_type": "stream",
     "text": [
      "Preds: 100  - Total time: 7.13 seconds - ETA: 1.2 minutes\n",
      "Preds: 200  - Total time: 14.2 seconds - ETA: 1.2 minutes\n",
      "Preds: 300  - Total time: 21.32 seconds - ETA: 1.2 minutes\n",
      "Preds: 400  - Total time: 28.37 seconds - ETA: 1.2 minutes\n",
      "Preds: 500  - Total time: 35.44 seconds - ETA: 1.2 minutes\n",
      "Preds: 600  - Total time: 42.46 seconds - ETA: 1.2 minutes\n",
      "Preds: 700  - Total time: 49.57 seconds - ETA: 1.2 minutes\n",
      "Preds: 800  - Total time: 56.98 seconds - ETA: 1.2 minutes\n",
      "Preds: 900  - Total time: 63.8 seconds - ETA: 1.2 minutes\n",
      "Preds: 1000  - Total time: 70.55 seconds - ETA: 1.2 minutes\n"
     ]
    }
   ],
   "source": [
    "results = zeroberto.runZeroberto(model,train_data[data_col].to_list(),zeroshot_config)  ##X## COMENTAR AQUI "
   ]
  },
  {
   "attachments": {},
   "cell_type": "markdown",
   "metadata": {},
   "source": [
    "## Evaluation"
   ]
  },
  {
   "cell_type": "code",
   "execution_count": 15,
   "metadata": {},
   "outputs": [
    {
     "data": {
      "text/plain": [
       "1000"
      ]
     },
     "execution_count": 15,
     "metadata": {},
     "output_type": "execute_result"
    }
   ],
   "source": [
    "len(results)"
   ]
  },
  {
   "cell_type": "code",
   "execution_count": null,
   "metadata": {},
   "outputs": [],
   "source": []
  },
  {
   "cell_type": "code",
   "execution_count": 18,
   "metadata": {},
   "outputs": [
    {
     "name": "stdout",
     "output_type": "stream",
     "text": [
      "top 1: {'accuracy': 0.4166666666666667}\n",
      "top 2: {'accuracy': 0.375}\n",
      "top 3: {'accuracy': 0.3888888888888889}\n",
      "top 4: {'accuracy': 0.40425531914893614}\n",
      "top 5: {'accuracy': 0.39655172413793105}\n",
      "top 6: {'accuracy': 0.391304347826087}\n",
      "top 7: {'accuracy': 0.3625}\n",
      "top 8: {'accuracy': 0.31868131868131866}\n",
      "top 9: {'accuracy': 0.3137254901960784}\n",
      "top 10: {'accuracy': 0.33035714285714285}\n",
      "top 11: {'accuracy': 0.319672131147541}\n",
      "top 12: {'accuracy': 0.3409090909090909}\n",
      "top 13: {'accuracy': 0.3380281690140845}\n",
      "top 14: {'accuracy': 0.3355263157894737}\n",
      "top 15: {'accuracy': 0.32098765432098764}\n",
      "top 16: {'accuracy': 0.30409356725146197}\n",
      "top 1000: {'accuracy': 0.3}\n"
     ]
    }
   ],
   "source": [
    "df_results = model.evaluateLabeling(results)"
   ]
  },
  {
   "cell_type": "code",
   "execution_count": null,
   "metadata": {},
   "outputs": [],
   "source": []
  },
  {
   "cell_type": "code",
   "execution_count": 19,
   "metadata": {},
   "outputs": [
    {
     "name": "stdout",
     "output_type": "stream",
     "text": [
      "{'weighted': [{'accuracy': 0.011}, {'precision': 0.002404475272890803}, {'recall': 0.011}, {'f1': 0.0018934333681255703}], 'macro': [{'accuracy': 0.011}, {'precision': 0.010743698414212582}, {'recall': 0.0973731884057971}, {'f1': 0.010337181335813345}]}\n",
      "{'weighted': [{'accuracy': 0.3}, {'precision': 0.4301732537629209}, {'recall': 0.3}, {'f1': 0.22531228268187875}], 'macro': [{'accuracy': 0.3}, {'precision': 0.2734849261648797}, {'recall': 0.2971967721787631}, {'f1': 0.21590448967919532}]}\n"
     ]
    }
   ],
   "source": [
    "try: print(zeroshot_metrics)\n",
    "except: pass\n",
    "zeroshot_metrics = evaluation_metrics.get_metrics(df_results['prediction_code'].to_list(),df_results['class_code'].to_list())\n",
    "print(zeroshot_metrics)"
   ]
  },
  {
   "cell_type": "code",
   "execution_count": null,
   "metadata": {},
   "outputs": [],
   "source": []
  },
  {
   "attachments": {},
   "cell_type": "markdown",
   "metadata": {},
   "source": [
    "## Save Labeling Results"
   ]
  },
  {
   "cell_type": "code",
   "execution_count": 20,
   "metadata": {},
   "outputs": [
    {
     "name": "stdout",
     "output_type": "stream",
     "text": [
      "predictions_and_probabilities_test_2023_04_07__15_56_16.csv\n",
      "zeroshot_config_test_2023_04_07__15_56_16.csv\n"
     ]
    }
   ],
   "source": [
    "save_time = evaluation_metrics.saveZeroshotResults(zeroshot_config,df_results)"
   ]
  },
  {
   "attachments": {},
   "cell_type": "markdown",
   "metadata": {},
   "source": [
    "# ST Training"
   ]
  },
  {
   "cell_type": "code",
   "execution_count": null,
   "metadata": {},
   "outputs": [],
   "source": []
  },
  {
   "cell_type": "code",
   "execution_count": 21,
   "metadata": {},
   "outputs": [],
   "source": [
    "# save_time = '2023_04_07__00_10_47'"
   ]
  },
  {
   "cell_type": "code",
   "execution_count": 22,
   "metadata": {},
   "outputs": [],
   "source": [
    "use_zeroshot_previous_step = True\n",
    "n = 8\n",
    "top_n = 8\n",
    "\n",
    "batch_size = 4\n",
    "num_text_pairs = 10\n",
    "num_epochs = 5\n",
    "\n",
    "zeroshot_config['top_n'] = top_n\n",
    "zeroshot_config['n_examples'] = n\n",
    "zeroshot_config['exec_time'] = save_time\n",
    "\n",
    "zeroshot_config[\"batch_size\"] = batch_size\n",
    "zeroshot_config[\"num_pairs\"] = num_text_pairs\n",
    "zeroshot_config[\"num_epochs\"] = num_epochs\n",
    "\n",
    "zeroshot_config['st_train_epochs'] = 10\n",
    "zeroshot_config['st_train_batch_size'] = 20\n",
    "\n",
    "split = \"zeroshot\" if use_zeroshot_previous_step else \"fewshot\"\n"
   ]
  },
  {
   "cell_type": "code",
   "execution_count": 23,
   "metadata": {},
   "outputs": [],
   "source": [
    "zeroshot_previous_data = datasets_handler.getZeroshotPreviousData(which_dataset,class_col,top_n=top_n,exec_time=zeroshot_config['exec_time'])\n",
    "raw_data_final, zeroshot_config['new_class_col'] = datasets_handler.mergeLabelingToDataset(raw_data,zeroshot_previous_data,class_col)"
   ]
  },
  {
   "cell_type": "code",
   "execution_count": 24,
   "metadata": {},
   "outputs": [
    {
     "name": "stdout",
     "output_type": "stream",
     "text": [
      "83\n"
     ]
    },
    {
     "data": {
      "text/plain": [
       "1985"
      ]
     },
     "execution_count": 24,
     "metadata": {},
     "output_type": "execute_result"
    }
   ],
   "source": [
    "df_train, df_test = datasets_handler.splitDataset(raw_data_final,zeroshot_config)\n",
    "train_dataset,test_dataset = datasets_handler.buildDatasetDict(df_train,df_test)\n",
    "train_documents = datasets_handler.splitDocuments(df_train[data_col])\n",
    "len(train_documents)"
   ]
  },
  {
   "cell_type": "code",
   "execution_count": 25,
   "metadata": {},
   "outputs": [],
   "source": [
    "# df_test"
   ]
  },
  {
   "attachments": {},
   "cell_type": "markdown",
   "metadata": {},
   "source": [
    "## Treinamento do Corpo do Modelo -- não descomentar"
   ]
  },
  {
   "cell_type": "code",
   "execution_count": 26,
   "metadata": {},
   "outputs": [],
   "source": [
    "# model.fit(train_documents,batch_size=zeroshot_config['st_train_batch_size'],epochs=zeroshot_config['st_train_epochs'])"
   ]
  },
  {
   "cell_type": "code",
   "execution_count": null,
   "metadata": {},
   "outputs": [],
   "source": []
  },
  {
   "attachments": {},
   "cell_type": "markdown",
   "metadata": {},
   "source": [
    "# Fine-Tuning (SetFit)"
   ]
  },
  {
   "attachments": {},
   "cell_type": "markdown",
   "metadata": {},
   "source": [
    "## Model"
   ]
  },
  {
   "cell_type": "code",
   "execution_count": 30,
   "metadata": {},
   "outputs": [
    {
     "data": {
      "text/plain": [
       "'ricardo-filho/bert-base-portuguese-cased-nli-assin-2'"
      ]
     },
     "execution_count": 30,
     "metadata": {},
     "output_type": "execute_result"
    }
   ],
   "source": [
    "zeroshot_config['setfit_model']"
   ]
  },
  {
   "cell_type": "code",
   "execution_count": 31,
   "metadata": {},
   "outputs": [
    {
     "name": "stderr",
     "output_type": "stream",
     "text": [
      "model_head.pkl not found on HuggingFace Hub, initialising classification head with random weights. You should TRAIN this model on a downstream task to use it for predictions and inference.\n"
     ]
    }
   ],
   "source": [
    "# setfit_model.model_body = model.embeddingModel\n",
    "\n",
    "setfit_model = SetFitModel.from_pretrained(zeroshot_config['setfit_model'],\n",
    "                                    use_differentiable_head=True,\n",
    "                                    head_params={\"out_features\":len(zeroshot_config['classes'])})"
   ]
  },
  {
   "cell_type": "code",
   "execution_count": 45,
   "metadata": {},
   "outputs": [],
   "source": [
    "# setfit_model.model_head.temperature = 1.0"
   ]
  },
  {
   "cell_type": "code",
   "execution_count": 46,
   "metadata": {},
   "outputs": [
    {
     "data": {
      "text/plain": [
       "{'dataset': 'folhauol',\n",
       " 'class_col': 'class',\n",
       " 'data_col': 'text',\n",
       " 'split': 'zeroshot',\n",
       " 'method': 'dotproduct',\n",
       " 'max_inferences': 1000,\n",
       " 'classes': ['Poder e Política no Brasil',\n",
       "  'Mercado',\n",
       "  'Notícias de fora do Brasil',\n",
       "  'Esporte',\n",
       "  'Tecnologia',\n",
       "  'Meio Ambiente',\n",
       "  'Equilíbrio e Saúde',\n",
       "  'Educação',\n",
       "  'TV, Televisão e Entretenimento',\n",
       "  'Ciência',\n",
       "  'Turismo',\n",
       "  'Comida'],\n",
       " 'template': '{}',\n",
       " 'random_state': 422,\n",
       " 'top_n': 8,\n",
       " 'n_examples': 8,\n",
       " 'exec_time': '2023_04_07__15_56_16',\n",
       " 'batch_size': 4,\n",
       " 'num_pairs': 10,\n",
       " 'num_epochs': 5,\n",
       " 'st_train_epochs': 10,\n",
       " 'st_train_batch_size': 20,\n",
       " 'new_class_col': 'new_class',\n",
       " 'setfit_model': 'ricardo-filho/bert-base-portuguese-cased-nli-assin-2'}"
      ]
     },
     "execution_count": 46,
     "metadata": {},
     "output_type": "execute_result"
    }
   ],
   "source": [
    "# Create trainer\n",
    "trainer = SetFitTrainer(\n",
    "    model=setfit_model,\n",
    "    train_dataset=train_dataset,\n",
    "    eval_dataset=test_dataset,\n",
    "    loss_class=CosineSimilarityLoss,\n",
    "    batch_size=zeroshot_config[\"batch_size\"],\n",
    "    num_iterations=zeroshot_config[\"num_pairs\"], # Number of text pairs to generate for contrastive learning\n",
    "    num_epochs=zeroshot_config[\"num_epochs\"], # Number of epochs to use for contrastive learning\n",
    "    column_mapping = {data_col: \"text\", 'class_code': \"label\"} # NÃO mudar\n",
    ")\n",
    "zeroshot_config"
   ]
  },
  {
   "cell_type": "code",
   "execution_count": 47,
   "metadata": {},
   "outputs": [
    {
     "name": "stderr",
     "output_type": "stream",
     "text": [
      "Applying column mapping to training dataset\n",
      "The `max_length` is `None`. Using the maximum acceptable length according to the current model body: 512.\n"
     ]
    },
    {
     "name": "stdout",
     "output_type": "stream",
     "text": [
      "{'dataset': 'folhauol', 'class_col': 'class', 'data_col': 'text', 'split': 'zeroshot', 'method': 'dotproduct', 'max_inferences': 1000, 'classes': ['Poder e Política no Brasil', 'Mercado', 'Notícias de fora do Brasil', 'Esporte', 'Tecnologia', 'Meio Ambiente', 'Equilíbrio e Saúde', 'Educação', 'TV, Televisão e Entretenimento', 'Ciência', 'Turismo', 'Comida'], 'template': '{}', 'random_state': 422, 'top_n': 8, 'n_examples': 8, 'exec_time': '2023_04_07__15_56_16', 'batch_size': 4, 'num_pairs': 10, 'num_epochs': 5, 'st_train_epochs': 10, 'st_train_batch_size': 20, 'new_class_col': 'new_class', 'setfit_model': 'ricardo-filho/bert-base-portuguese-cased-nli-assin-2', 'keep_body_frozen_setfit': False}\n"
     ]
    },
    {
     "data": {
      "application/vnd.jupyter.widget-view+json": {
       "model_id": "644dd60c129944a0a680721c531e93b7",
       "version_major": 2,
       "version_minor": 0
      },
      "text/plain": [
       "Epoch:   0%|          | 0/5 [00:00<?, ?it/s]"
      ]
     },
     "metadata": {},
     "output_type": "display_data"
    },
    {
     "name": "stdout",
     "output_type": "stream",
     "text": [
      "CPU times: user 14min 25s, sys: 8min 44s, total: 23min 9s\n",
      "Wall time: 9min 14s\n"
     ]
    }
   ],
   "source": [
    "%%time\n",
    "# Train and evaluate\n",
    "# trainer.freeze() # Freeze the head\n",
    "# trainer.train() # Train only the body\n",
    "\n",
    "\n",
    "# Unfreeze the head and freeze the body -> head-only training\n",
    "# zeroshot_config['keep_body_frozen_setfit'] = True\n",
    "\n",
    "# Unfreeze the head and unfreeze the body -> end-to-end training\n",
    "zeroshot_config['keep_body_frozen_setfit'] = False\n",
    "\n",
    "print(zeroshot_config)\n",
    "\n",
    "\n",
    "trainer.unfreeze(keep_body_frozen=zeroshot_config['keep_body_frozen_setfit'])\n",
    "\n",
    "\n",
    "trainer.train(\n",
    "    num_epochs=zeroshot_config[\"num_epochs\"], # The number of epochs to train the head or the whole model (body and head)\n",
    "    batch_size=zeroshot_config[\"batch_size\"],\n",
    "    body_learning_rate=1e-5, # The body's learning rate\n",
    "    learning_rate=1e-2, # The head's learning rate\n",
    "    l2_weight=0.1, # Weight decay on **both** the body and head. If `None`, will use 0.01.\n",
    ")\n",
    "# zeroshot_config['trainings_done'] += 1"
   ]
  },
  {
   "cell_type": "code",
   "execution_count": 48,
   "metadata": {},
   "outputs": [
    {
     "name": "stdout",
     "output_type": "stream",
     "text": [
      "Running predictions on 996 sentences.\n"
     ]
    }
   ],
   "source": [
    "gc.collect()\n",
    "\n",
    "y_pred = zeroberto.getPredictions(trainer)\n",
    "# 5000 sentences --- 4min40s\n",
    "# 10000 sentences ---"
   ]
  },
  {
   "attachments": {},
   "cell_type": "markdown",
   "metadata": {},
   "source": [
    "## Evaluation"
   ]
  },
  {
   "cell_type": "code",
   "execution_count": 49,
   "metadata": {},
   "outputs": [
    {
     "name": "stderr",
     "output_type": "stream",
     "text": [
      "/Users/alealcoforado/opt/anaconda3/envs/venv_zeroberto/lib/python3.10/site-packages/sklearn/metrics/_classification.py:1344: UndefinedMetricWarning: Precision is ill-defined and being set to 0.0 in labels with no predicted samples. Use `zero_division` parameter to control this behavior.\n",
      "  _warn_prf(average, modifier, msg_start, len(result))\n",
      "/Users/alealcoforado/opt/anaconda3/envs/venv_zeroberto/lib/python3.10/site-packages/sklearn/metrics/_classification.py:1344: UndefinedMetricWarning: Precision is ill-defined and being set to 0.0 in labels with no predicted samples. Use `zero_division` parameter to control this behavior.\n",
      "  _warn_prf(average, modifier, msg_start, len(result))\n"
     ]
    },
    {
     "name": "stdout",
     "output_type": "stream",
     "text": [
      "{'weighted': [{'accuracy': 0.3092369477911647}, {'precision': 0.28463838415115295}, {'recall': 0.3092369477911647}, {'f1': 0.2434155908262449}], 'macro': [{'accuracy': 0.3092369477911647}, {'precision': 0.28463838415115295}, {'recall': 0.3092369477911647}, {'f1': 0.2434155908262449}]}\n"
     ]
    }
   ],
   "source": [
    "try: print(setfit_all_metrics)\n",
    "except: pass\n",
    "setfit_all_metrics = evaluation_metrics.get_metrics(y_pred ,test_dataset[\"class_code\"])\n",
    "print(setfit_all_metrics)"
   ]
  },
  {
   "cell_type": "code",
   "execution_count": 50,
   "metadata": {},
   "outputs": [],
   "source": [
    "# new_embeddingModel = trainer.model.model_body"
   ]
  },
  {
   "attachments": {},
   "cell_type": "markdown",
   "metadata": {},
   "source": [
    "## Save CL results"
   ]
  },
  {
   "cell_type": "code",
   "execution_count": 51,
   "metadata": {},
   "outputs": [
    {
     "name": "stdout",
     "output_type": "stream",
     "text": [
      "metrics_setfit_2023_04_07__16_12_23.csv\n",
      "config_setfit_2023_04_07__16_12_23.csv\n",
      "{'dataset': 'folhauol', 'class_col': 'class', 'data_col': 'text', 'split': 'zeroshot', 'method': 'dotproduct', 'max_inferences': 1000, 'classes': ['Poder e Política no Brasil', 'Mercado', 'Notícias de fora do Brasil', 'Esporte', 'Tecnologia', 'Meio Ambiente', 'Equilíbrio e Saúde', 'Educação', 'TV, Televisão e Entretenimento', 'Ciência', 'Turismo', 'Comida'], 'template': '{}', 'random_state': 422, 'top_n': 8, 'n_examples': 8, 'exec_time': '2023_04_07__15_56_16', 'batch_size': 4, 'num_pairs': 10, 'num_epochs': 5, 'st_train_epochs': 10, 'st_train_batch_size': 20, 'new_class_col': 'new_class', 'setfit_model': 'ricardo-filho/bert-base-portuguese-cased-nli-assin-2', 'keep_body_frozen_setfit': False}\n"
     ]
    }
   ],
   "source": [
    "setfit_exec_time  = evaluation_metrics.saveResults(zeroshot_config,setfit_all_metrics)\n",
    "print(zeroshot_config)"
   ]
  },
  {
   "cell_type": "code",
   "execution_count": null,
   "metadata": {},
   "outputs": [],
   "source": []
  },
  {
   "cell_type": "code",
   "execution_count": null,
   "metadata": {},
   "outputs": [],
   "source": []
  },
  {
   "attachments": {},
   "cell_type": "markdown",
   "metadata": {},
   "source": [
    "## Save Model"
   ]
  },
  {
   "cell_type": "code",
   "execution_count": null,
   "metadata": {},
   "outputs": [
    {
     "name": "stdout",
     "output_type": "stream",
     "text": [
      "/Users/alealcoforado/Documents/Projetos/Modelos/2023_03_09__14_05_21\n"
     ]
    }
   ],
   "source": [
    "# model_path = \"/Users/alealcoforado/Documents/Projetos/Modelos/{exec}\".format(exec=setfit_exec_time)\n",
    "# print(model_path)\n",
    "# trainer.model._save_pretrained(save_directory=model_path)"
   ]
  },
  {
   "cell_type": "code",
   "execution_count": null,
   "metadata": {},
   "outputs": [],
   "source": []
  }
 ],
 "metadata": {
  "kernelspec": {
   "display_name": "venv_zeroberto",
   "language": "python",
   "name": "python3"
  },
  "language_info": {
   "codemirror_mode": {
    "name": "ipython",
    "version": 3
   },
   "file_extension": ".py",
   "mimetype": "text/x-python",
   "name": "python",
   "nbconvert_exporter": "python",
   "pygments_lexer": "ipython3",
   "version": "3.10.9"
  },
  "orig_nbformat": 4,
  "vscode": {
   "interpreter": {
    "hash": "b98a7e24f8a69e8a460c693288d2fe0565d17bd4bdd6eb6203258b225132cc92"
   }
  }
 },
 "nbformat": 4,
 "nbformat_minor": 2
}
