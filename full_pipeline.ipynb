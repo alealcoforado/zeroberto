{
 "cells": [
  {
   "attachments": {},
   "cell_type": "markdown",
   "metadata": {},
   "source": [
    "# Dependencies"
   ]
  },
  {
   "cell_type": "code",
   "execution_count": 20,
   "metadata": {},
   "outputs": [
    {
     "name": "stdout",
     "output_type": "stream",
     "text": [
      "The autoreload extension is already loaded. To reload it, use:\n",
      "  %reload_ext autoreload\n"
     ]
    }
   ],
   "source": [
    "%load_ext autoreload\n",
    "%autoreload 2\n",
    "import nltk\n",
    "import ipywidgets\n",
    "import pandas as pd\n",
    "import numpy as np\n",
    "import time\n",
    "from tqdm import tqdm\n",
    "tqdm.pandas()\n",
    "# from pandarallel import pandarallel\n",
    "# pandarallel.initialize(progress_bar=True)\n",
    "import torch\n",
    "import datetime\n",
    "import os\n",
    "import datasets_handler\n",
    "import evaluation_metrics\n",
    "import zeroberto\n",
    "from zeroberto import ZeroBERTo\n",
    "# import datasets\n",
    "# from datasets import Dataset\n",
    "from tqdm import tqdm\n",
    "from sklearn.preprocessing import LabelEncoder\n",
    "from sentence_transformers.losses import CosineSimilarityLoss\n",
    "from setfit import SetFitModel, SetFitTrainer\n",
    "import gc"
   ]
  },
  {
   "attachments": {},
   "cell_type": "markdown",
   "metadata": {},
   "source": [
    "# Dataset"
   ]
  },
  {
   "cell_type": "code",
   "execution_count": 21,
   "metadata": {},
   "outputs": [
    {
     "name": "stderr",
     "output_type": "stream",
     "text": [
      "Found cached dataset ag_news (/Users/alealcoforado/.cache/huggingface/datasets/ag_news/default/0.0.0/bc2bcb40336ace1a0374767fc29bb0296cdaf8a6da7298436239c54d79180548)\n"
     ]
    },
    {
     "data": {
      "application/vnd.jupyter.widget-view+json": {
       "model_id": "a863534657b6475698b6e8ab030097e4",
       "version_major": 2,
       "version_minor": 0
      },
      "text/plain": [
       "  0%|          | 0/2 [00:00<?, ?it/s]"
      ]
     },
     "metadata": {},
     "output_type": "display_data"
    },
    {
     "name": "stdout",
     "output_type": "stream",
     "text": [
      "['business', 'science and technology', 'sports', 'world']\n"
     ]
    }
   ],
   "source": [
    "# which_dataset = 'folhauol' \n",
    "# which_dataset = 'bbc-news'\n",
    "which_dataset = 'ag_news'\n",
    "\n",
    "hyp_template = \"{}\"\n",
    "# hyp_template = \"O tema principal deste texto é {}.\"\n",
    "# hyp_template = \"this text is about {}.\"\n",
    "# hyp_template = \"this article is about {}.\"\n",
    "\n",
    "raw_data, data_col, class_col = datasets_handler.getDataset(which_dataset)\n",
    "classes_list = list(raw_data[class_col].unique())\n",
    "print(classes_list)"
   ]
  },
  {
   "attachments": {},
   "cell_type": "markdown",
   "metadata": {},
   "source": [
    "# ZeroBERTo"
   ]
  },
  {
   "attachments": {},
   "cell_type": "markdown",
   "metadata": {},
   "source": [
    "## Parameters"
   ]
  },
  {
   "cell_type": "code",
   "execution_count": 22,
   "metadata": {},
   "outputs": [
    {
     "data": {
      "text/plain": [
       "{'dataset': 'ag_news',\n",
       " 'class_col': 'class',\n",
       " 'data_col': 'text',\n",
       " 'split': 'zeroshot',\n",
       " 'method': 'dotproduct',\n",
       " 'prob_goal': 0.9,\n",
       " 'top_n_goal': 8,\n",
       " 'max_inferences': 5000,\n",
       " 'classes': ['business', 'science and technology', 'sports', 'world'],\n",
       " 'template': '{}',\n",
       " 'random_state': 422,\n",
       " 'trainings_done': 0}"
      ]
     },
     "execution_count": 22,
     "metadata": {},
     "output_type": "execute_result"
    }
   ],
   "source": [
    "# max_inferences = len(train) #estava em 5000\n",
    "max_inferences = 5000\n",
    "\n",
    "# zeroshot_method = \"probability_threshold\"\n",
    "probability_goal = 0.9\n",
    "top_n_goal = 8\n",
    "\n",
    "zeroshot_method = \"dotproduct\"  \n",
    "# zeroshot_method = \"kmeans\"  \n",
    "\n",
    "zeroshot_config = {\n",
    "    'dataset':which_dataset,\n",
    "    'class_col':class_col,\n",
    "    'data_col':data_col,\n",
    "    'split':\"zeroshot\",\n",
    "    'method':zeroshot_method,\n",
    "    'prob_goal':probability_goal,\n",
    "    'top_n_goal':top_n_goal,\n",
    "    'max_inferences':max_inferences,\n",
    "    'classes':classes_list,#list(dict_classes_folha.values())\n",
    "    'template': hyp_template,\n",
    "    'random_state':422,\n",
    "    'trainings_done':0\n",
    "}\n",
    "zeroshot_config"
   ]
  },
  {
   "cell_type": "code",
   "execution_count": 23,
   "metadata": {},
   "outputs": [
    {
     "data": {
      "text/plain": [
       "5000"
      ]
     },
     "execution_count": 23,
     "metadata": {},
     "output_type": "execute_result"
    }
   ],
   "source": [
    "train_data = raw_data.sample(zeroshot_config['max_inferences'],random_state=zeroshot_config['random_state']).sort_index()\n",
    "len(train_data)"
   ]
  },
  {
   "attachments": {},
   "cell_type": "markdown",
   "metadata": {},
   "source": [
    "## Model"
   ]
  },
  {
   "cell_type": "code",
   "execution_count": 24,
   "metadata": {},
   "outputs": [],
   "source": [
    "model = ZeroBERTo(classes_list=zeroshot_config['classes'],hypothesis_template=zeroshot_config['template'],\n",
    "                  train_dataset=train_data,labeling_method=zeroshot_config['method'])"
   ]
  },
  {
   "cell_type": "code",
   "execution_count": 25,
   "metadata": {},
   "outputs": [
    {
     "data": {
      "text/plain": [
       "SentenceTransformer(\n",
       "  (0): Transformer({'max_seq_length': 128, 'do_lower_case': False}) with Transformer model: XLMRobertaModel \n",
       "  (1): Pooling({'word_embedding_dimension': 768, 'pooling_mode_cls_token': False, 'pooling_mode_mean_tokens': True, 'pooling_mode_max_tokens': False, 'pooling_mode_mean_sqrt_len_tokens': False})\n",
       ")"
      ]
     },
     "execution_count": 25,
     "metadata": {},
     "output_type": "execute_result"
    }
   ],
   "source": [
    "model.embeddingModel"
   ]
  },
  {
   "cell_type": "code",
   "execution_count": null,
   "metadata": {},
   "outputs": [],
   "source": []
  },
  {
   "cell_type": "code",
   "execution_count": 26,
   "metadata": {},
   "outputs": [],
   "source": [
    "# model.embeddingModel = new_embeddingModel"
   ]
  },
  {
   "cell_type": "code",
   "execution_count": null,
   "metadata": {},
   "outputs": [],
   "source": []
  },
  {
   "attachments": {},
   "cell_type": "markdown",
   "metadata": {},
   "source": [
    "## Inference"
   ]
  },
  {
   "cell_type": "code",
   "execution_count": 27,
   "metadata": {},
   "outputs": [
    {
     "name": "stdout",
     "output_type": "stream",
     "text": [
      "Preds: 100  - Total time: 5.1 seconds - ETA: 4.3 minutes\n",
      "Preds: 200  - Total time: 10.23 seconds - ETA: 4.3 minutes\n",
      "Preds: 300  - Total time: 15.17 seconds - ETA: 4.2 minutes\n",
      "Preds: 400  - Total time: 20.46 seconds - ETA: 4.3 minutes\n",
      "Preds: 500  - Total time: 25.35 seconds - ETA: 4.2 minutes\n",
      "Preds: 600  - Total time: 30.42 seconds - ETA: 4.2 minutes\n",
      "Preds: 700  - Total time: 35.48 seconds - ETA: 4.2 minutes\n",
      "Preds: 800  - Total time: 41.05 seconds - ETA: 4.3 minutes\n",
      "Preds: 900  - Total time: 46.35 seconds - ETA: 4.3 minutes\n",
      "Preds: 1000  - Total time: 51.66 seconds - ETA: 4.3 minutes\n",
      "Preds: 1100  - Total time: 56.8 seconds - ETA: 4.3 minutes\n",
      "Preds: 1200  - Total time: 61.54 seconds - ETA: 4.3 minutes\n",
      "Preds: 1300  - Total time: 66.28 seconds - ETA: 4.2 minutes\n",
      "Preds: 1400  - Total time: 70.99 seconds - ETA: 4.2 minutes\n",
      "Preds: 1500  - Total time: 75.6 seconds - ETA: 4.2 minutes\n",
      "Preds: 1600  - Total time: 80.36 seconds - ETA: 4.2 minutes\n",
      "Preds: 1700  - Total time: 84.9 seconds - ETA: 4.2 minutes\n",
      "Preds: 1800  - Total time: 89.57 seconds - ETA: 4.1 minutes\n",
      "Preds: 1900  - Total time: 94.29 seconds - ETA: 4.1 minutes\n",
      "Preds: 2000  - Total time: 99.03 seconds - ETA: 4.1 minutes\n",
      "Preds: 2100  - Total time: 103.75 seconds - ETA: 4.1 minutes\n",
      "Preds: 2200  - Total time: 108.44 seconds - ETA: 4.1 minutes\n",
      "Preds: 2300  - Total time: 113.11 seconds - ETA: 4.1 minutes\n",
      "Preds: 2400  - Total time: 117.8 seconds - ETA: 4.1 minutes\n",
      "Preds: 2500  - Total time: 122.43 seconds - ETA: 4.1 minutes\n",
      "Preds: 2600  - Total time: 127.32 seconds - ETA: 4.1 minutes\n",
      "Preds: 2700  - Total time: 132.09 seconds - ETA: 4.1 minutes\n",
      "Preds: 2800  - Total time: 136.78 seconds - ETA: 4.1 minutes\n",
      "Preds: 2900  - Total time: 141.49 seconds - ETA: 4.1 minutes\n",
      "Preds: 3000  - Total time: 146.08 seconds - ETA: 4.1 minutes\n",
      "Preds: 3100  - Total time: 150.75 seconds - ETA: 4.1 minutes\n",
      "Preds: 3200  - Total time: 155.38 seconds - ETA: 4.0 minutes\n",
      "Preds: 3300  - Total time: 160.01 seconds - ETA: 4.0 minutes\n",
      "Preds: 3400  - Total time: 164.63 seconds - ETA: 4.0 minutes\n",
      "Preds: 3500  - Total time: 169.27 seconds - ETA: 4.0 minutes\n",
      "Preds: 3600  - Total time: 174.02 seconds - ETA: 4.0 minutes\n",
      "Preds: 3700  - Total time: 178.72 seconds - ETA: 4.0 minutes\n",
      "Preds: 3800  - Total time: 183.42 seconds - ETA: 4.0 minutes\n",
      "Preds: 3900  - Total time: 188.12 seconds - ETA: 4.0 minutes\n",
      "Preds: 4000  - Total time: 192.66 seconds - ETA: 4.0 minutes\n",
      "Preds: 4100  - Total time: 197.73 seconds - ETA: 4.0 minutes\n",
      "Preds: 4200  - Total time: 202.74 seconds - ETA: 4.0 minutes\n",
      "Preds: 4300  - Total time: 207.41 seconds - ETA: 4.0 minutes\n",
      "Preds: 4400  - Total time: 211.91 seconds - ETA: 4.0 minutes\n",
      "Preds: 4500  - Total time: 216.38 seconds - ETA: 4.0 minutes\n",
      "Preds: 4600  - Total time: 220.95 seconds - ETA: 4.0 minutes\n",
      "Preds: 4700  - Total time: 225.52 seconds - ETA: 4.0 minutes\n",
      "Preds: 4800  - Total time: 229.95 seconds - ETA: 4.0 minutes\n",
      "Preds: 4900  - Total time: 234.37 seconds - ETA: 4.0 minutes\n",
      "Preds: 5000  - Total time: 238.8 seconds - ETA: 4.0 minutes\n"
     ]
    }
   ],
   "source": [
    "results = zeroberto.runZeroberto(model,train_data[data_col].to_list(),zeroshot_config)  ##X## COMENTAR AQUI "
   ]
  },
  {
   "attachments": {},
   "cell_type": "markdown",
   "metadata": {},
   "source": [
    "## Evaluation"
   ]
  },
  {
   "cell_type": "code",
   "execution_count": null,
   "metadata": {},
   "outputs": [],
   "source": []
  },
  {
   "cell_type": "code",
   "execution_count": 28,
   "metadata": {},
   "outputs": [
    {
     "name": "stdout",
     "output_type": "stream",
     "text": [
      "top 1: {'accuracy': 0.75}\n",
      "top 2: {'accuracy': 0.625}\n",
      "top 3: {'accuracy': 0.6666666666666666}\n",
      "top 4: {'accuracy': 0.6875}\n",
      "top 5: {'accuracy': 0.75}\n",
      "top 6: {'accuracy': 0.75}\n",
      "top 7: {'accuracy': 0.75}\n",
      "top 8: {'accuracy': 0.75}\n",
      "top 9: {'accuracy': 0.7777777777777778}\n",
      "top 10: {'accuracy': 0.775}\n",
      "top 11: {'accuracy': 0.7727272727272727}\n",
      "top 12: {'accuracy': 0.7916666666666666}\n",
      "top 13: {'accuracy': 0.8076923076923077}\n",
      "top 14: {'accuracy': 0.8214285714285714}\n",
      "top 15: {'accuracy': 0.8166666666666667}\n",
      "top 16: {'accuracy': 0.8125}\n",
      "top 5000: {'accuracy': 0.4622}\n"
     ]
    }
   ],
   "source": [
    "df_results = model.evaluateLabeling(results)"
   ]
  },
  {
   "cell_type": "code",
   "execution_count": null,
   "metadata": {},
   "outputs": [],
   "source": []
  },
  {
   "cell_type": "code",
   "execution_count": 29,
   "metadata": {},
   "outputs": [
    {
     "name": "stdout",
     "output_type": "stream",
     "text": [
      "{'weighted': [{'accuracy': 0.2566}, {'precision': 0.34315285977983395}, {'recall': 0.2566}, {'f1': 0.1811666095543678}], 'macro': [{'accuracy': 0.2566}, {'precision': 0.23457328628089882}, {'recall': 0.2842195836131744}, {'f1': 0.19852673184153743}]}\n",
      "{'weighted': [{'accuracy': 0.4622}, {'precision': 0.5792903125778271}, {'recall': 0.4622}, {'f1': 0.43187721978652643}], 'macro': [{'accuracy': 0.4622}, {'precision': 0.5773179133000164}, {'recall': 0.4658197788181281}, {'f1': 0.4330675116801649}]}\n"
     ]
    }
   ],
   "source": [
    "try: print(zeroshot_metrics)\n",
    "except: pass\n",
    "zeroshot_metrics = evaluation_metrics.get_metrics(df_results['prediction_code'].to_list(),df_results['class_code'].to_list())\n",
    "print(zeroshot_metrics)"
   ]
  },
  {
   "attachments": {},
   "cell_type": "markdown",
   "metadata": {},
   "source": [
    "## Save Results"
   ]
  },
  {
   "cell_type": "code",
   "execution_count": 30,
   "metadata": {},
   "outputs": [
    {
     "name": "stdout",
     "output_type": "stream",
     "text": [
      "predictions_and_probabilities_test_2023_03_09__13_53_41.csv\n",
      "zeroshot_config_test_2023_03_09__13_53_41.csv\n"
     ]
    }
   ],
   "source": [
    "save_time = evaluation_metrics.saveZeroshotResults(zeroshot_config,df_results)"
   ]
  },
  {
   "attachments": {},
   "cell_type": "markdown",
   "metadata": {},
   "source": [
    "# ST Training"
   ]
  },
  {
   "cell_type": "code",
   "execution_count": null,
   "metadata": {},
   "outputs": [],
   "source": []
  },
  {
   "cell_type": "code",
   "execution_count": null,
   "metadata": {},
   "outputs": [],
   "source": []
  },
  {
   "cell_type": "code",
   "execution_count": 31,
   "metadata": {},
   "outputs": [],
   "source": [
    "use_zeroshot_previous_step = True\n",
    "n = 8\n",
    "top_n = 8\n",
    "zeroshot_config['top_n'] = top_n\n",
    "zeroshot_config['n_examples'] = n\n",
    "zeroshot_config['exec_time'] = save_time\n",
    "\n",
    "zeroshot_config['st_train_epochs'] = 10\n",
    "zeroshot_config['st_train_batch_size'] = 20\n",
    "\n",
    "\n",
    "split = \"zeroshot\" if use_zeroshot_previous_step else \"fewshot\"\n"
   ]
  },
  {
   "cell_type": "code",
   "execution_count": 32,
   "metadata": {},
   "outputs": [],
   "source": [
    "zeroshot_previous_data = datasets_handler.getZeroshotPreviousData(which_dataset,class_col,top_n=top_n,exec_time=zeroshot_config['exec_time'])\n",
    "raw_data_final, zeroshot_config['new_class_col'] = datasets_handler.mergeLabelingToDataset(raw_data,zeroshot_previous_data,class_col)"
   ]
  },
  {
   "cell_type": "code",
   "execution_count": 33,
   "metadata": {},
   "outputs": [
    {
     "data": {
      "text/plain": [
       "54"
      ]
     },
     "execution_count": 33,
     "metadata": {},
     "output_type": "execute_result"
    }
   ],
   "source": [
    "df_train, df_test = datasets_handler.splitDataset(raw_data_final,zeroshot_config)\n",
    "train_dataset,test_dataset = datasets_handler.buildDatasetDict(df_train,df_test)\n",
    "train_documents = datasets_handler.splitDocuments(df_train[data_col])\n",
    "len(train_documents)"
   ]
  },
  {
   "cell_type": "code",
   "execution_count": null,
   "metadata": {},
   "outputs": [],
   "source": []
  },
  {
   "attachments": {},
   "cell_type": "markdown",
   "metadata": {},
   "source": [
    "## Treinamento do Corpo do Modelo -- não descomentar"
   ]
  },
  {
   "cell_type": "code",
   "execution_count": 34,
   "metadata": {},
   "outputs": [],
   "source": [
    "# model.fit(train_documents,batch_size=zeroshot_config['st_train_batch_size'],epochs=zeroshot_config['st_train_epochs'])"
   ]
  },
  {
   "cell_type": "code",
   "execution_count": null,
   "metadata": {},
   "outputs": [],
   "source": []
  },
  {
   "attachments": {},
   "cell_type": "markdown",
   "metadata": {},
   "source": [
    "# Fine-Tuning (SetFit)"
   ]
  },
  {
   "attachments": {},
   "cell_type": "markdown",
   "metadata": {},
   "source": [
    "## Model"
   ]
  },
  {
   "cell_type": "code",
   "execution_count": 35,
   "metadata": {},
   "outputs": [
    {
     "name": "stderr",
     "output_type": "stream",
     "text": [
      "model_head.pkl not found on HuggingFace Hub, initialising classification head with random weights. You should TRAIN this model on a downstream task to use it for predictions and inference.\n"
     ]
    }
   ],
   "source": [
    "zeroshot_config['setfit_model'] = 'sentence-transformers/stsb-xlm-r-multilingual'\n",
    "\n",
    "setfit_model = SetFitModel.from_pretrained(zeroshot_config['setfit_model'],\n",
    "                                    use_differentiable_head=True,\n",
    "                                    head_params={\"out_features\":len(zeroshot_config['classes'])})"
   ]
  },
  {
   "cell_type": "code",
   "execution_count": 36,
   "metadata": {},
   "outputs": [],
   "source": [
    "setfit_model.model_body = model.embeddingModel"
   ]
  },
  {
   "cell_type": "code",
   "execution_count": 37,
   "metadata": {},
   "outputs": [
    {
     "data": {
      "text/plain": [
       "{'dataset': 'ag_news',\n",
       " 'class_col': 'class',\n",
       " 'data_col': 'text',\n",
       " 'split': 'zeroshot',\n",
       " 'method': 'dotproduct',\n",
       " 'prob_goal': 0.9,\n",
       " 'top_n_goal': 8,\n",
       " 'max_inferences': 5000,\n",
       " 'classes': ['business', 'science and technology', 'sports', 'world'],\n",
       " 'template': '{}',\n",
       " 'random_state': 422,\n",
       " 'trainings_done': 0,\n",
       " 'top_n': 8,\n",
       " 'n_examples': 8,\n",
       " 'exec_time': '2023_03_09__13_53_41',\n",
       " 'st_train_epochs': 10,\n",
       " 'st_train_batch_size': 20,\n",
       " 'new_class_col': 'new_class',\n",
       " 'setfit_model': 'sentence-transformers/stsb-xlm-r-multilingual',\n",
       " 'batch_size': 8,\n",
       " 'num_pairs': 15,\n",
       " 'num_epochs': 30}"
      ]
     },
     "execution_count": 37,
     "metadata": {},
     "output_type": "execute_result"
    }
   ],
   "source": [
    "batch_size = 8\n",
    "num_text_pairs = 15\n",
    "num_epochs = 30\n",
    "\n",
    "zeroshot_config[\"batch_size\"] = batch_size\n",
    "zeroshot_config[\"num_pairs\"] = num_text_pairs\n",
    "zeroshot_config[\"num_epochs\"] = num_epochs\n",
    "# Create trainer\n",
    "trainer = SetFitTrainer(\n",
    "    model=setfit_model,\n",
    "    train_dataset=train_dataset,\n",
    "    eval_dataset=test_dataset,\n",
    "    loss_class=CosineSimilarityLoss,\n",
    "    batch_size=zeroshot_config[\"batch_size\"],\n",
    "    num_iterations=zeroshot_config[\"num_pairs\"], # Number of text pairs to generate for contrastive learning\n",
    "    num_epochs=zeroshot_config[\"num_epochs\"], # Number of epochs to use for contrastive learning\n",
    "    column_mapping = {data_col: \"text\", 'class_code': \"label\"} # NÃO mudar\n",
    ")\n",
    "zeroshot_config"
   ]
  },
  {
   "cell_type": "code",
   "execution_count": 38,
   "metadata": {},
   "outputs": [
    {
     "name": "stderr",
     "output_type": "stream",
     "text": [
      "Applying column mapping to training dataset\n",
      "The `max_length` is `None`. Using the maximum acceptable length according to the current model body: 128.\n"
     ]
    },
    {
     "data": {
      "application/vnd.jupyter.widget-view+json": {
       "model_id": "c9bbdec3a07f46d38678435064415604",
       "version_major": 2,
       "version_minor": 0
      },
      "text/plain": [
       "Epoch:   0%|          | 0/30 [00:00<?, ?it/s]"
      ]
     },
     "metadata": {},
     "output_type": "display_data"
    },
    {
     "name": "stdout",
     "output_type": "stream",
     "text": [
      "{'dataset': 'ag_news', 'class_col': 'class', 'data_col': 'text', 'split': 'zeroshot', 'method': 'dotproduct', 'prob_goal': 0.9, 'top_n_goal': 8, 'max_inferences': 5000, 'classes': ['business', 'science and technology', 'sports', 'world'], 'template': '{}', 'random_state': 422, 'trainings_done': 1, 'top_n': 8, 'n_examples': 8, 'exec_time': '2023_03_09__13_53_41', 'st_train_epochs': 10, 'st_train_batch_size': 20, 'new_class_col': 'new_class', 'setfit_model': 'sentence-transformers/stsb-xlm-r-multilingual', 'batch_size': 8, 'num_pairs': 15, 'num_epochs': 30}\n",
      "CPU times: user 8min 11s, sys: 14min 32s, total: 22min 43s\n",
      "Wall time: 8min 22s\n"
     ]
    }
   ],
   "source": [
    "%%time\n",
    "# Train and evaluate\n",
    "# trainer.freeze() # Freeze the head\n",
    "# trainer.train() # Train only the body\n",
    "\n",
    "# Unfreeze the head and freeze the body -> head-only training\n",
    "# trainer.unfreeze(keep_body_frozen=True)\n",
    "\n",
    "# Unfreeze the head and unfreeze the body -> end-to-end training\n",
    "trainer.unfreeze(keep_body_frozen=False)\n",
    "\n",
    "trainer.train(\n",
    "    num_epochs=zeroshot_config[\"num_epochs\"], # The number of epochs to train the head or the whole model (body and head)\n",
    "    batch_size=zeroshot_config[\"batch_size\"],\n",
    "    body_learning_rate=1e-5, # The body's learning rate\n",
    "    learning_rate=1e-2, # The head's learning rate\n",
    "    l2_weight=0.1, # Weight decay on **both** the body and head. If `None`, will use 0.01.\n",
    ")\n",
    "\n",
    "zeroshot_config['trainings_done'] += 1\n",
    "\n",
    "print(zeroshot_config)"
   ]
  },
  {
   "cell_type": "code",
   "execution_count": 39,
   "metadata": {},
   "outputs": [
    {
     "name": "stdout",
     "output_type": "stream",
     "text": [
      "Running predictions on 5000 sentences.\n"
     ]
    }
   ],
   "source": [
    "gc.collect()\n",
    "\n",
    "y_pred = zeroberto.getPredictions(trainer)"
   ]
  },
  {
   "cell_type": "code",
   "execution_count": null,
   "metadata": {},
   "outputs": [],
   "source": []
  },
  {
   "attachments": {},
   "cell_type": "markdown",
   "metadata": {},
   "source": [
    "## Evaluation"
   ]
  },
  {
   "cell_type": "code",
   "execution_count": 40,
   "metadata": {},
   "outputs": [
    {
     "name": "stdout",
     "output_type": "stream",
     "text": [
      "{'weighted': [{'accuracy': 0.6106}, {'precision': 0.6488292796466635}, {'recall': 0.6106}, {'f1': 0.5883676759060359}], 'macro': [{'accuracy': 0.6106}, {'precision': 0.6488292796466635}, {'recall': 0.6106}, {'f1': 0.5883676759060359}]}\n"
     ]
    }
   ],
   "source": [
    "try: print(setfit_all_metrics)\n",
    "except: pass\n",
    "setfit_all_metrics = evaluation_metrics.get_metrics(y_pred ,test_dataset[\"class_code\"])\n",
    "print(setfit_all_metrics)"
   ]
  },
  {
   "cell_type": "code",
   "execution_count": 41,
   "metadata": {},
   "outputs": [],
   "source": [
    "# new_embeddingModel = trainer.model.model_body"
   ]
  },
  {
   "cell_type": "code",
   "execution_count": 42,
   "metadata": {},
   "outputs": [
    {
     "name": "stdout",
     "output_type": "stream",
     "text": [
      "metrics_setfit_2023_03_09__14_05_21.csv\n",
      "config_setfit_2023_03_09__14_05_21.csv\n",
      "{'dataset': 'ag_news', 'class_col': 'class', 'data_col': 'text', 'split': 'zeroshot', 'method': 'dotproduct', 'prob_goal': 0.9, 'top_n_goal': 8, 'max_inferences': 5000, 'classes': ['business', 'science and technology', 'sports', 'world'], 'template': '{}', 'random_state': 422, 'trainings_done': 1, 'top_n': 8, 'n_examples': 8, 'exec_time': '2023_03_09__13_53_41', 'st_train_epochs': 10, 'st_train_batch_size': 20, 'new_class_col': 'new_class', 'setfit_model': 'sentence-transformers/stsb-xlm-r-multilingual', 'batch_size': 8, 'num_pairs': 15, 'num_epochs': 30}\n"
     ]
    }
   ],
   "source": [
    "setfit_exec_time  = evaluation_metrics.saveResults(zeroshot_config,setfit_all_metrics)\n",
    "print(zeroshot_config)"
   ]
  },
  {
   "cell_type": "code",
   "execution_count": null,
   "metadata": {},
   "outputs": [],
   "source": []
  },
  {
   "cell_type": "code",
   "execution_count": null,
   "metadata": {},
   "outputs": [],
   "source": []
  },
  {
   "cell_type": "code",
   "execution_count": 43,
   "metadata": {},
   "outputs": [
    {
     "name": "stdout",
     "output_type": "stream",
     "text": [
      "/Users/alealcoforado/Documents/Projetos/Modelos/2023_03_09__14_05_21\n"
     ]
    }
   ],
   "source": [
    "model_path = \"/Users/alealcoforado/Documents/Projetos/Modelos/{exec}\".format(exec=setfit_exec_time)\n",
    "print(model_path)\n",
    "trainer.model._save_pretrained(save_directory=model_path)"
   ]
  },
  {
   "attachments": {},
   "cell_type": "markdown",
   "metadata": {},
   "source": [
    "# ZeroBERTo 2nd run"
   ]
  },
  {
   "cell_type": "code",
   "execution_count": null,
   "metadata": {},
   "outputs": [],
   "source": [
    "model = ZeroBERTo(classes_list=zeroshot_config['classes'],hypothesis_template=zeroshot_config['template'],\n",
    "                  train_dataset=train_data,labeling_method=zeroshot_config['method'],embeddingModel=new_embeddingModel)"
   ]
  },
  {
   "cell_type": "code",
   "execution_count": null,
   "metadata": {},
   "outputs": [
    {
     "name": "stdout",
     "output_type": "stream",
     "text": [
      "Preds: 100  - Total time: 9.34 seconds - ETA: 3.1 minutes\n",
      "Preds: 200  - Total time: 18.15 seconds - ETA: 3.0 minutes\n",
      "Preds: 300  - Total time: 27.15 seconds - ETA: 3.0 minutes\n",
      "Preds: 400  - Total time: 35.55 seconds - ETA: 3.0 minutes\n",
      "Preds: 500  - Total time: 43.84 seconds - ETA: 2.9 minutes\n",
      "Preds: 600  - Total time: 52.08 seconds - ETA: 2.9 minutes\n",
      "Preds: 700  - Total time: 60.36 seconds - ETA: 2.9 minutes\n",
      "Preds: 800  - Total time: 66.73 seconds - ETA: 2.8 minutes\n",
      "Preds: 900  - Total time: 72.23 seconds - ETA: 2.7 minutes\n",
      "Preds: 1000  - Total time: 77.5 seconds - ETA: 2.6 minutes\n",
      "Preds: 1100  - Total time: 82.88 seconds - ETA: 2.5 minutes\n",
      "Preds: 1200  - Total time: 94.68 seconds - ETA: 2.6 minutes\n",
      "Preds: 1300  - Total time: 114.98 seconds - ETA: 2.9 minutes\n",
      "Preds: 1400  - Total time: 129.69 seconds - ETA: 3.1 minutes\n",
      "Preds: 1500  - Total time: 142.77 seconds - ETA: 3.2 minutes\n",
      "Preds: 1600  - Total time: 150.28 seconds - ETA: 3.1 minutes\n",
      "Preds: 1700  - Total time: 155.36 seconds - ETA: 3.0 minutes\n",
      "Preds: 1800  - Total time: 161.7 seconds - ETA: 3.0 minutes\n",
      "Preds: 1900  - Total time: 169.96 seconds - ETA: 3.0 minutes\n",
      "Preds: 2000  - Total time: 178.05 seconds - ETA: 3.0 minutes\n"
     ]
    }
   ],
   "source": [
    "results = zeroberto.runZeroberto(model,train_data['text'],zeroshot_config)  ##X## COMENTAR AQUI \n"
   ]
  },
  {
   "cell_type": "code",
   "execution_count": null,
   "metadata": {},
   "outputs": [
    {
     "name": "stdout",
     "output_type": "stream",
     "text": [
      "top 1: {'accuracy': 0.5}\n",
      "top 2: {'accuracy': 0.75}\n",
      "top 3: {'accuracy': 0.8333333333333334}\n",
      "top 4: {'accuracy': 0.75}\n",
      "top 5: {'accuracy': 0.75}\n",
      "top 6: {'accuracy': 0.7083333333333334}\n",
      "top 7: {'accuracy': 0.75}\n",
      "top 8: {'accuracy': 0.78125}\n",
      "top 9: {'accuracy': 0.7777777777777778}\n",
      "top 10: {'accuracy': 0.8}\n",
      "top 11: {'accuracy': 0.7954545454545454}\n",
      "top 12: {'accuracy': 0.8125}\n",
      "top 13: {'accuracy': 0.8269230769230769}\n",
      "top 14: {'accuracy': 0.8392857142857143}\n",
      "top 15: {'accuracy': 0.8333333333333334}\n",
      "top 16: {'accuracy': 0.828125}\n",
      "top 2000: {'accuracy': 0.5915}\n",
      "predictions_and_probabilities_test_2023_02_17__07_30_06.csv\n",
      "zeroshot_config_test_2023_02_17__07_30_06.csv\n"
     ]
    }
   ],
   "source": [
    "df_results = model.evaluateLabeling(results)\n",
    "all_metrics = evaluation_metrics.get_metrics(df_results['prediction_code'].to_list(),df_results['class_code'].to_list())\n",
    "zeroshot_config['trainings_done'] += 1\n",
    "save_time = evaluation_metrics.saveZeroshotResults(zeroshot_config,df_results)\n"
   ]
  },
  {
   "cell_type": "code",
   "execution_count": null,
   "metadata": {},
   "outputs": [],
   "source": [
    "zeroshot_config['exec_time'] = save_time\n",
    "\n",
    "zeroshot_previous_data = datasets_handler.getZeroshotPreviousData(which_dataset,class_col,top_n=top_n,exec_time=zeroshot_config['exec_time'])\n",
    "raw_data_final, zeroshot_config['new_class_col'] = datasets_handler.mergeLabelingToDataset(raw_data,zeroshot_previous_data,class_col)"
   ]
  },
  {
   "cell_type": "code",
   "execution_count": null,
   "metadata": {},
   "outputs": [],
   "source": [
    "df_train, df_test = datasets_handler.splitDataset(raw_data_final,zeroshot_config)\n",
    "train_dataset,test_dataset = datasets_handler.buildDatasetDict(df_train,df_test)"
   ]
  },
  {
   "cell_type": "code",
   "execution_count": null,
   "metadata": {},
   "outputs": [
    {
     "name": "stderr",
     "output_type": "stream",
     "text": [
      "Applying column mapping to training dataset\n",
      "The `max_length` is `None`. Using the maximum acceptable length according to the current model body: 128.\n"
     ]
    },
    {
     "data": {
      "application/vnd.jupyter.widget-view+json": {
       "model_id": "df02d164277e4ce3b52e0f358b2d1f73",
       "version_major": 2,
       "version_minor": 0
      },
      "text/plain": [
       "Epoch:   0%|          | 0/20 [00:00<?, ?it/s]"
      ]
     },
     "metadata": {},
     "output_type": "display_data"
    }
   ],
   "source": [
    "trainer.train_dataset = train_dataset\n",
    "trainer.test_dataset = test_dataset\n",
    "\n",
    "trainer.unfreeze(keep_body_frozen=False)\n",
    "\n",
    "trainer.train(\n",
    "    num_epochs=zeroshot_config[\"num_epochs\"], # The number of epochs to train the head or the whole model (body and head)\n",
    "    batch_size=zeroshot_config[\"batch_size\"],\n",
    "    body_learning_rate=1e-5, # The body's learning rate\n",
    "    learning_rate=1e-2, # The head's learning rate\n",
    "    l2_weight=0.1, # Weight decay on **both** the body and head. If `None`, will use 0.01.\n",
    ")\n"
   ]
  },
  {
   "cell_type": "code",
   "execution_count": null,
   "metadata": {},
   "outputs": [
    {
     "name": "stdout",
     "output_type": "stream",
     "text": [
      "Running predictions on 2000 sentences.\n"
     ]
    }
   ],
   "source": [
    "gc.collect()\n",
    "\n",
    "y_pred = zeroberto.getPredictions(trainer)"
   ]
  },
  {
   "cell_type": "code",
   "execution_count": null,
   "metadata": {},
   "outputs": [
    {
     "name": "stdout",
     "output_type": "stream",
     "text": [
      "{'weighted': [{'accuracy': 0.6045}, {'precision': 0.6950742046267486}, {'recall': 0.6045}, {'f1': 0.5852444221212971}], 'macro': [{'accuracy': 0.6045}, {'precision': 0.6950742046267486}, {'recall': 0.6045}, {'f1': 0.5852444221212971}]}\n"
     ]
    }
   ],
   "source": [
    "all_metrics = evaluation_metrics.get_metrics(y_pred ,test_dataset[\"class_code\"])\n",
    "print(all_metrics)"
   ]
  },
  {
   "cell_type": "code",
   "execution_count": null,
   "metadata": {},
   "outputs": [],
   "source": []
  }
 ],
 "metadata": {
  "kernelspec": {
   "display_name": "venv_zeroberto",
   "language": "python",
   "name": "python3"
  },
  "language_info": {
   "codemirror_mode": {
    "name": "ipython",
    "version": 3
   },
   "file_extension": ".py",
   "mimetype": "text/x-python",
   "name": "python",
   "nbconvert_exporter": "python",
   "pygments_lexer": "ipython3",
   "version": "3.10.9"
  },
  "orig_nbformat": 4,
  "vscode": {
   "interpreter": {
    "hash": "b98a7e24f8a69e8a460c693288d2fe0565d17bd4bdd6eb6203258b225132cc92"
   }
  }
 },
 "nbformat": 4,
 "nbformat_minor": 2
}
