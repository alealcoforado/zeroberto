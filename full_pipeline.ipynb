{
 "cells": [
  {
   "attachments": {},
   "cell_type": "markdown",
   "metadata": {},
   "source": [
    "# Dependencies"
   ]
  },
  {
   "cell_type": "code",
   "execution_count": 65,
   "metadata": {},
   "outputs": [
    {
     "name": "stdout",
     "output_type": "stream",
     "text": [
      "The autoreload extension is already loaded. To reload it, use:\n",
      "  %reload_ext autoreload\n"
     ]
    }
   ],
   "source": [
    "%load_ext autoreload\n",
    "%autoreload 2\n",
    "import nltk\n",
    "import ipywidgets\n",
    "import pandas as pd\n",
    "import numpy as np\n",
    "import time\n",
    "from tqdm import tqdm\n",
    "tqdm.pandas()\n",
    "# from pandarallel import pandarallel\n",
    "# pandarallel.initialize(progress_bar=True)\n",
    "import torch\n",
    "import datetime\n",
    "import os\n",
    "import datasets_handler\n",
    "import evaluation_metrics\n",
    "import zeroberto\n",
    "from zeroberto import ZeroBERTo\n",
    "# import datasets\n",
    "# from datasets import Dataset\n",
    "from tqdm import tqdm\n",
    "from sklearn.preprocessing import LabelEncoder\n",
    "from sentence_transformers.losses import CosineSimilarityLoss\n",
    "from setfit import SetFitModel, SetFitTrainer\n",
    "import gc"
   ]
  },
  {
   "attachments": {},
   "cell_type": "markdown",
   "metadata": {},
   "source": [
    "# Dataset"
   ]
  },
  {
   "cell_type": "code",
   "execution_count": 3,
   "metadata": {},
   "outputs": [
    {
     "name": "stderr",
     "output_type": "stream",
     "text": [
      "Found cached dataset ag_news (/Users/alealcoforado/.cache/huggingface/datasets/ag_news/default/0.0.0/bc2bcb40336ace1a0374767fc29bb0296cdaf8a6da7298436239c54d79180548)\n"
     ]
    },
    {
     "data": {
      "application/vnd.jupyter.widget-view+json": {
       "model_id": "07c3573697454fb4854cc8dfe585a8e7",
       "version_major": 2,
       "version_minor": 0
      },
      "text/plain": [
       "  0%|          | 0/2 [00:00<?, ?it/s]"
      ]
     },
     "metadata": {},
     "output_type": "display_data"
    },
    {
     "name": "stdout",
     "output_type": "stream",
     "text": [
      "['business', 'science and technology', 'sports', 'world']\n"
     ]
    }
   ],
   "source": [
    "# which_dataset = 'folhauol' \n",
    "# which_dataset = 'bbc-news'\n",
    "which_dataset = 'ag_news'\n",
    "\n",
    "hyp_template = \"{}.\"\n",
    "# hyp_template = \"O tema principal deste texto é {}.\"\n",
    "# hyp_template = \"this text is about {}.\"\n",
    "# hyp_template = \"this article is about {}.\"\n",
    "\n",
    "raw_data, data_col, class_col = datasets_handler.getDataset(which_dataset)\n",
    "classes_list = list(raw_data[class_col].unique())\n",
    "print(classes_list)"
   ]
  },
  {
   "cell_type": "code",
   "execution_count": null,
   "metadata": {},
   "outputs": [],
   "source": []
  },
  {
   "attachments": {},
   "cell_type": "markdown",
   "metadata": {},
   "source": [
    "# Parameters"
   ]
  },
  {
   "cell_type": "code",
   "execution_count": 27,
   "metadata": {},
   "outputs": [
    {
     "data": {
      "text/plain": [
       "{'dataset': 'ag_news',\n",
       " 'class_col': 'class',\n",
       " 'data_col': 'text',\n",
       " 'split': 'zeroshot',\n",
       " 'method': 'dotproduct',\n",
       " 'prob_goal': 0.9,\n",
       " 'top_n_goal': 8,\n",
       " 'max_inferences': 3000,\n",
       " 'classes': ['business', 'science and technology', 'sports', 'world'],\n",
       " 'template': '{}.',\n",
       " 'random_state': 422,\n",
       " 'trainings_done': 0}"
      ]
     },
     "execution_count": 27,
     "metadata": {},
     "output_type": "execute_result"
    }
   ],
   "source": [
    "# max_inferences = len(train) #estava em 5000\n",
    "max_inferences = 3000\n",
    "\n",
    "# zeroshot_method = \"probability_threshold\"\n",
    "probability_goal = 0.9\n",
    "top_n_goal = 8\n",
    "\n",
    "zeroshot_method = \"dotproduct\"  \n",
    "# zeroshot_method = \"kmeans\"  \n",
    "\n",
    "zeroshot_config = {\n",
    "    'dataset':which_dataset,\n",
    "    'class_col':class_col,\n",
    "    'data_col':data_col,\n",
    "    'split':\"zeroshot\",\n",
    "    'method':zeroshot_method,\n",
    "    'prob_goal':probability_goal,\n",
    "    'top_n_goal':top_n_goal,\n",
    "    'max_inferences':max_inferences,\n",
    "    'classes':classes_list,#list(dict_classes_folha.values())\n",
    "    'template': hyp_template,\n",
    "    'random_state':422,\n",
    "    'trainings_done':0\n",
    "}\n",
    "zeroshot_config"
   ]
  },
  {
   "cell_type": "code",
   "execution_count": 6,
   "metadata": {},
   "outputs": [
    {
     "data": {
      "text/plain": [
       "3000"
      ]
     },
     "execution_count": 6,
     "metadata": {},
     "output_type": "execute_result"
    }
   ],
   "source": [
    "train_data = raw_data.sample(zeroshot_config['max_inferences'],random_state=zeroshot_config['random_state']).sort_index()\n",
    "len(train_data)"
   ]
  },
  {
   "cell_type": "code",
   "execution_count": null,
   "metadata": {},
   "outputs": [],
   "source": []
  },
  {
   "attachments": {},
   "cell_type": "markdown",
   "metadata": {},
   "source": [
    "# Model"
   ]
  },
  {
   "cell_type": "code",
   "execution_count": 9,
   "metadata": {},
   "outputs": [],
   "source": [
    "model = ZeroBERTo(classes_list=zeroshot_config['classes'],hypothesis_template=zeroshot_config['template'],\n",
    "                  train_dataset=train_data,labeling_method=zeroshot_config['method'])"
   ]
  },
  {
   "cell_type": "code",
   "execution_count": 10,
   "metadata": {},
   "outputs": [
    {
     "name": "stdout",
     "output_type": "stream",
     "text": [
      "Preds: 50  - Total time: 2.94 seconds - ETA: 2.9 minutes\n",
      "Preds: 100  - Total time: 5.98 seconds - ETA: 3.0 minutes\n",
      "Preds: 150  - Total time: 8.95 seconds - ETA: 3.0 minutes\n",
      "Preds: 200  - Total time: 11.55 seconds - ETA: 2.9 minutes\n",
      "Preds: 250  - Total time: 14.74 seconds - ETA: 2.9 minutes\n",
      "Preds: 300  - Total time: 17.42 seconds - ETA: 2.9 minutes\n",
      "Preds: 350  - Total time: 20.06 seconds - ETA: 2.9 minutes\n",
      "Preds: 400  - Total time: 22.53 seconds - ETA: 2.8 minutes\n",
      "Preds: 450  - Total time: 25.25 seconds - ETA: 2.8 minutes\n",
      "Preds: 500  - Total time: 28.33 seconds - ETA: 2.8 minutes\n",
      "Preds: 550  - Total time: 31.23 seconds - ETA: 2.8 minutes\n",
      "Preds: 600  - Total time: 34.14 seconds - ETA: 2.8 minutes\n",
      "Preds: 650  - Total time: 37.09 seconds - ETA: 2.9 minutes\n",
      "Preds: 700  - Total time: 39.94 seconds - ETA: 2.9 minutes\n",
      "Preds: 750  - Total time: 42.82 seconds - ETA: 2.9 minutes\n",
      "Preds: 800  - Total time: 45.54 seconds - ETA: 2.8 minutes\n",
      "Preds: 850  - Total time: 48.16 seconds - ETA: 2.8 minutes\n",
      "Preds: 900  - Total time: 50.81 seconds - ETA: 2.8 minutes\n",
      "Preds: 950  - Total time: 53.6 seconds - ETA: 2.8 minutes\n",
      "Preds: 1000  - Total time: 56.25 seconds - ETA: 2.8 minutes\n",
      "Preds: 1050  - Total time: 58.81 seconds - ETA: 2.8 minutes\n",
      "Preds: 1100  - Total time: 61.42 seconds - ETA: 2.8 minutes\n",
      "Preds: 1150  - Total time: 64.1 seconds - ETA: 2.8 minutes\n",
      "Preds: 1200  - Total time: 66.59 seconds - ETA: 2.8 minutes\n",
      "Preds: 1250  - Total time: 69.13 seconds - ETA: 2.8 minutes\n",
      "Preds: 1300  - Total time: 71.65 seconds - ETA: 2.8 minutes\n",
      "Preds: 1350  - Total time: 74.43 seconds - ETA: 2.8 minutes\n",
      "Preds: 1400  - Total time: 77.16 seconds - ETA: 2.8 minutes\n",
      "Preds: 1450  - Total time: 80.05 seconds - ETA: 2.8 minutes\n",
      "Preds: 1500  - Total time: 82.76 seconds - ETA: 2.8 minutes\n",
      "Preds: 1550  - Total time: 85.51 seconds - ETA: 2.8 minutes\n",
      "Preds: 1600  - Total time: 88.46 seconds - ETA: 2.8 minutes\n",
      "Preds: 1650  - Total time: 91.11 seconds - ETA: 2.8 minutes\n",
      "Preds: 1700  - Total time: 93.81 seconds - ETA: 2.8 minutes\n",
      "Preds: 1750  - Total time: 96.55 seconds - ETA: 2.8 minutes\n",
      "Preds: 1800  - Total time: 99.19 seconds - ETA: 2.8 minutes\n",
      "Preds: 1850  - Total time: 102.06 seconds - ETA: 2.8 minutes\n",
      "Preds: 1900  - Total time: 104.76 seconds - ETA: 2.8 minutes\n",
      "Preds: 1950  - Total time: 107.54 seconds - ETA: 2.8 minutes\n",
      "Preds: 2000  - Total time: 110.44 seconds - ETA: 2.8 minutes\n",
      "Preds: 2050  - Total time: 112.88 seconds - ETA: 2.8 minutes\n",
      "Preds: 2100  - Total time: 115.43 seconds - ETA: 2.7 minutes\n",
      "Preds: 2150  - Total time: 117.96 seconds - ETA: 2.7 minutes\n",
      "Preds: 2200  - Total time: 120.43 seconds - ETA: 2.7 minutes\n",
      "Preds: 2250  - Total time: 122.91 seconds - ETA: 2.7 minutes\n",
      "Preds: 2300  - Total time: 125.51 seconds - ETA: 2.7 minutes\n",
      "Preds: 2350  - Total time: 128.14 seconds - ETA: 2.7 minutes\n",
      "Preds: 2400  - Total time: 130.6 seconds - ETA: 2.7 minutes\n",
      "Preds: 2450  - Total time: 133.12 seconds - ETA: 2.7 minutes\n",
      "Preds: 2500  - Total time: 135.69 seconds - ETA: 2.7 minutes\n",
      "Preds: 2550  - Total time: 138.44 seconds - ETA: 2.7 minutes\n",
      "Preds: 2600  - Total time: 141.44 seconds - ETA: 2.7 minutes\n",
      "Preds: 2650  - Total time: 144.23 seconds - ETA: 2.7 minutes\n",
      "Preds: 2700  - Total time: 146.79 seconds - ETA: 2.7 minutes\n",
      "Preds: 2750  - Total time: 149.52 seconds - ETA: 2.7 minutes\n",
      "Preds: 2800  - Total time: 152.26 seconds - ETA: 2.7 minutes\n",
      "Preds: 2850  - Total time: 155.19 seconds - ETA: 2.7 minutes\n",
      "Preds: 2900  - Total time: 158.32 seconds - ETA: 2.7 minutes\n",
      "Preds: 2950  - Total time: 161.03 seconds - ETA: 2.7 minutes\n",
      "Preds: 3000  - Total time: 163.56 seconds - ETA: 2.7 minutes\n"
     ]
    }
   ],
   "source": [
    "results = zeroberto.runZeroberto(model,train_data['text'],zeroshot_config)  ##X## COMENTAR AQUI \n"
   ]
  },
  {
   "attachments": {},
   "cell_type": "markdown",
   "metadata": {},
   "source": [
    "# Evaluation"
   ]
  },
  {
   "cell_type": "code",
   "execution_count": 12,
   "metadata": {},
   "outputs": [
    {
     "name": "stdout",
     "output_type": "stream",
     "text": [
      "top 1: {'accuracy': 0.5}\n",
      "top 2: {'accuracy': 0.75}\n",
      "top 3: {'accuracy': 0.75}\n",
      "top 4: {'accuracy': 0.6875}\n",
      "top 5: {'accuracy': 0.75}\n",
      "top 6: {'accuracy': 0.7916666666666666}\n",
      "top 7: {'accuracy': 0.7857142857142857}\n",
      "top 8: {'accuracy': 0.78125}\n",
      "top 9: {'accuracy': 0.8055555555555556}\n",
      "top 10: {'accuracy': 0.8}\n",
      "top 11: {'accuracy': 0.7954545454545454}\n",
      "top 12: {'accuracy': 0.7916666666666666}\n",
      "top 13: {'accuracy': 0.7884615384615384}\n",
      "top 14: {'accuracy': 0.7857142857142857}\n",
      "top 15: {'accuracy': 0.7833333333333333}\n",
      "top 16: {'accuracy': 0.78125}\n",
      "top 3000: {'accuracy': 0.4786666666666667}\n"
     ]
    }
   ],
   "source": [
    "df_results = model.evaluateLabeling(results)"
   ]
  },
  {
   "cell_type": "code",
   "execution_count": 13,
   "metadata": {},
   "outputs": [],
   "source": [
    "all_metrics = evaluation_metrics.get_metrics(df_results['prediction_code'].to_list(),df_results['class_code'].to_list())\n"
   ]
  },
  {
   "attachments": {},
   "cell_type": "markdown",
   "metadata": {},
   "source": [
    "## Save Results"
   ]
  },
  {
   "cell_type": "code",
   "execution_count": 17,
   "metadata": {},
   "outputs": [
    {
     "name": "stdout",
     "output_type": "stream",
     "text": [
      "predictions_and_probabilities_test_2023_02_17__04_08_05.csv\n",
      "zeroshot_config_test_2023_02_17__04_08_05.csv\n"
     ]
    }
   ],
   "source": [
    "zeroshot_config['trainings_done'] += 1\n",
    "save_time = evaluation_metrics.saveZeroshotResults(zeroshot_config,df_results)"
   ]
  },
  {
   "attachments": {},
   "cell_type": "markdown",
   "metadata": {},
   "source": [
    "# Fine-Tuning (SetFit)"
   ]
  },
  {
   "cell_type": "code",
   "execution_count": 33,
   "metadata": {},
   "outputs": [],
   "source": [
    "use_zeroshot_previous_step = True\n",
    "n = 16\n",
    "top_n = 16\n",
    "zeroshot_config['top_n'] = top_n\n",
    "zeroshot_config['n_examples'] = n\n",
    "zeroshot_config['exec_time'] = save_time\n",
    "\n",
    "split = \"zeroshot\" if use_zeroshot_previous_step else \"fewshot\"\n"
   ]
  },
  {
   "cell_type": "code",
   "execution_count": 67,
   "metadata": {},
   "outputs": [
    {
     "data": {
      "text/plain": [
       "{'dataset': 'ag_news',\n",
       " 'class_col': 'class',\n",
       " 'data_col': 'text',\n",
       " 'split': 'zeroshot',\n",
       " 'method': 'dotproduct',\n",
       " 'prob_goal': 0.9,\n",
       " 'top_n_goal': 8,\n",
       " 'max_inferences': 3000,\n",
       " 'classes': ['business', 'science and technology', 'sports', 'world'],\n",
       " 'template': '{}.',\n",
       " 'random_state': 422,\n",
       " 'trainings_done': 0,\n",
       " 'top_n': 16,\n",
       " 'n_examples': 16}"
      ]
     },
     "execution_count": 67,
     "metadata": {},
     "output_type": "execute_result"
    }
   ],
   "source": [
    "zeroshot_config"
   ]
  },
  {
   "cell_type": "code",
   "execution_count": 88,
   "metadata": {},
   "outputs": [],
   "source": [
    "zeroshot_previous_data = datasets_handler.getZeroshotPreviousData(which_dataset,class_col,top_n=top_n,exec_time=exec_time)\n",
    "raw_data_final, zeroshot_config['new_class_col'] = datasets_handler.mergeLabelingToDataset(raw_data,zeroshot_previous_data,class_col)"
   ]
  },
  {
   "cell_type": "code",
   "execution_count": 89,
   "metadata": {},
   "outputs": [],
   "source": [
    "df_train, df_test = datasets_handler.splitDataset(raw_data_final,zeroshot_config)\n",
    "train_dataset,test_dataset = datasets_handler.buildDatasetDict(df_train,df_test)"
   ]
  },
  {
   "cell_type": "code",
   "execution_count": null,
   "metadata": {},
   "outputs": [],
   "source": []
  },
  {
   "attachments": {},
   "cell_type": "markdown",
   "metadata": {},
   "source": [
    "## Model"
   ]
  },
  {
   "cell_type": "code",
   "execution_count": 91,
   "metadata": {},
   "outputs": [
    {
     "name": "stderr",
     "output_type": "stream",
     "text": [
      "model_head.pkl not found on HuggingFace Hub, initialising classification head with random weights. You should TRAIN this model on a downstream task to use it for predictions and inference.\n"
     ]
    }
   ],
   "source": [
    "zeroshot_config['setfit_model'] = 'sentence-transformers/stsb-xlm-r-multilingual'\n",
    "\n",
    "model = SetFitModel.from_pretrained(zeroshot_config['setfit_model'],\n",
    "                                    use_differentiable_head=True,\n",
    "                                    head_params={\"out_features\":len(zeroshot_config['classes'])})"
   ]
  },
  {
   "cell_type": "code",
   "execution_count": 92,
   "metadata": {},
   "outputs": [
    {
     "data": {
      "text/plain": [
       "{'dataset': 'ag_news',\n",
       " 'class_col': 'class',\n",
       " 'data_col': 'text',\n",
       " 'split': 'zeroshot',\n",
       " 'method': 'dotproduct',\n",
       " 'prob_goal': 0.9,\n",
       " 'top_n_goal': 8,\n",
       " 'max_inferences': 3000,\n",
       " 'classes': ['business', 'science and technology', 'sports', 'world'],\n",
       " 'template': '{}.',\n",
       " 'random_state': 422,\n",
       " 'trainings_done': 0,\n",
       " 'top_n': 16,\n",
       " 'n_examples': 16,\n",
       " 'new_class_col': 'new_class',\n",
       " 'setfit_model': 'sentence-transformers/stsb-xlm-r-multilingual',\n",
       " 'batch_size': (8,),\n",
       " 'num_pairs': (10,),\n",
       " 'num_epochs': (20,)}"
      ]
     },
     "execution_count": 92,
     "metadata": {},
     "output_type": "execute_result"
    }
   ],
   "source": [
    "batch_size = 8\n",
    "num_text_pairs = 10\n",
    "num_epochs = 20\n",
    "\n",
    "zeroshot_config[\"batch_size\"] = batch_size,\n",
    "zeroshot_config[\"num_pairs\"] = num_text_pairs,\n",
    "zeroshot_config[\"num_epochs\"] = num_epochs,\n",
    "# Create trainer\n",
    "trainer = SetFitTrainer(\n",
    "    model=model,\n",
    "    train_dataset=train_dataset,\n",
    "    eval_dataset=test_dataset,\n",
    "    loss_class=CosineSimilarityLoss,\n",
    "    batch_size=zeroshot_config[\"batch_size\"],\n",
    "    num_iterations=zeroshot_config[\"num_pairs\"], # Number of text pairs to generate for contrastive learning\n",
    "    num_epochs=zeroshot_config[\"num_epochs\"], # Number of epochs to use for contrastive learning\n",
    "    column_mapping = {data_col: \"text\", class_col: \"label\"} # NÃO mudar\n",
    ")\n",
    "zeroshot_config"
   ]
  },
  {
   "cell_type": "code",
   "execution_count": 93,
   "metadata": {},
   "outputs": [
    {
     "ename": "ValueError",
     "evalue": "The following columns are missing from the dataset: {'new_class_code'}. Please provide a mapping for all required columns.",
     "output_type": "error",
     "traceback": [
      "\u001b[0;31m---------------------------------------------------------------------------\u001b[0m",
      "\u001b[0;31mValueError\u001b[0m                                Traceback (most recent call last)",
      "File \u001b[0;32m<timed exec>:11\u001b[0m\n",
      "File \u001b[0;32m~/opt/anaconda3/envs/venv_zeroberto/lib/python3.10/site-packages/setfit/trainer.py:305\u001b[0m, in \u001b[0;36mSetFitTrainer.train\u001b[0;34m(self, num_epochs, batch_size, learning_rate, body_learning_rate, l2_weight, max_length, trial, show_progress_bar)\u001b[0m\n\u001b[1;32m    302\u001b[0m \u001b[39mif\u001b[39;00m \u001b[39mself\u001b[39m\u001b[39m.\u001b[39mtrain_dataset \u001b[39mis\u001b[39;00m \u001b[39mNone\u001b[39;00m:\n\u001b[1;32m    303\u001b[0m     \u001b[39mraise\u001b[39;00m \u001b[39mValueError\u001b[39;00m(\u001b[39m\"\u001b[39m\u001b[39mTraining requires a `train_dataset` given to the `SetFitTrainer` initialization.\u001b[39m\u001b[39m\"\u001b[39m)\n\u001b[0;32m--> 305\u001b[0m \u001b[39mself\u001b[39;49m\u001b[39m.\u001b[39;49m_validate_column_mapping(\u001b[39mself\u001b[39;49m\u001b[39m.\u001b[39;49mtrain_dataset)\n\u001b[1;32m    306\u001b[0m train_dataset \u001b[39m=\u001b[39m \u001b[39mself\u001b[39m\u001b[39m.\u001b[39mtrain_dataset\n\u001b[1;32m    307\u001b[0m \u001b[39mif\u001b[39;00m \u001b[39mself\u001b[39m\u001b[39m.\u001b[39mcolumn_mapping \u001b[39mis\u001b[39;00m \u001b[39mnot\u001b[39;00m \u001b[39mNone\u001b[39;00m:\n",
      "File \u001b[0;32m~/opt/anaconda3/envs/venv_zeroberto/lib/python3.10/site-packages/setfit/trainer.py:151\u001b[0m, in \u001b[0;36mSetFitTrainer._validate_column_mapping\u001b[0;34m(self, dataset)\u001b[0m\n\u001b[1;32m    147\u001b[0m     \u001b[39mraise\u001b[39;00m \u001b[39mValueError\u001b[39;00m(\n\u001b[1;32m    148\u001b[0m         \u001b[39mf\u001b[39m\u001b[39m\"\u001b[39m\u001b[39mThe following columns are missing from the column mapping: \u001b[39m\u001b[39m{\u001b[39;00mmissing_columns\u001b[39m}\u001b[39;00m\u001b[39m. Please provide a mapping for all required columns.\u001b[39m\u001b[39m\"\u001b[39m\n\u001b[1;32m    149\u001b[0m     )\n\u001b[1;32m    150\u001b[0m \u001b[39mif\u001b[39;00m \u001b[39mnot\u001b[39;00m \u001b[39mset\u001b[39m(\u001b[39mself\u001b[39m\u001b[39m.\u001b[39mcolumn_mapping\u001b[39m.\u001b[39mkeys())\u001b[39m.\u001b[39missubset(column_names):\n\u001b[0;32m--> 151\u001b[0m     \u001b[39mraise\u001b[39;00m \u001b[39mValueError\u001b[39;00m(\n\u001b[1;32m    152\u001b[0m         \u001b[39mf\u001b[39m\u001b[39m\"\u001b[39m\u001b[39mThe following columns are missing from the dataset: \u001b[39m\u001b[39m{\u001b[39;00m\u001b[39mset\u001b[39m(\u001b[39mself\u001b[39m\u001b[39m.\u001b[39mcolumn_mapping\u001b[39m.\u001b[39mkeys())\u001b[39m.\u001b[39mdifference(column_names)\u001b[39m}\u001b[39;00m\u001b[39m. Please provide a mapping for all required columns.\u001b[39m\u001b[39m\"\u001b[39m\n\u001b[1;32m    153\u001b[0m     )\n",
      "\u001b[0;31mValueError\u001b[0m: The following columns are missing from the dataset: {'new_class_code'}. Please provide a mapping for all required columns."
     ]
    }
   ],
   "source": [
    "%%time\n",
    "# Train and evaluate\n",
    "# trainer.freeze() # Freeze the head\n",
    "# trainer.train() # Train only the body\n",
    "\n",
    "# Unfreeze the head and freeze the body -> head-only training\n",
    "# trainer.unfreeze(keep_body_frozen=True)\n",
    "\n",
    "# Unfreeze the head and unfreeze the body -> end-to-end training\n",
    "trainer.unfreeze(keep_body_frozen=False)\n",
    "\n",
    "trainer.train(\n",
    "    num_epochs=zeroshot_config[\"num_epochs\"], # The number of epochs to train the head or the whole model (body and head)\n",
    "    batch_size=zeroshot_config[\"batch_size\"],\n",
    "    body_learning_rate=1e-5, # The body's learning rate\n",
    "    learning_rate=1e-2, # The head's learning rate\n",
    "    l2_weight=0.1, # Weight decay on **both** the body and head. If `None`, will use 0.01.\n",
    ")\n",
    "\n",
    "print(zeroshot_config)"
   ]
  },
  {
   "cell_type": "code",
   "execution_count": null,
   "metadata": {},
   "outputs": [],
   "source": []
  }
 ],
 "metadata": {
  "kernelspec": {
   "display_name": "venv_zeroberto",
   "language": "python",
   "name": "python3"
  },
  "language_info": {
   "codemirror_mode": {
    "name": "ipython",
    "version": 3
   },
   "file_extension": ".py",
   "mimetype": "text/x-python",
   "name": "python",
   "nbconvert_exporter": "python",
   "pygments_lexer": "ipython3",
   "version": "3.10.9"
  },
  "orig_nbformat": 4,
  "vscode": {
   "interpreter": {
    "hash": "b98a7e24f8a69e8a460c693288d2fe0565d17bd4bdd6eb6203258b225132cc92"
   }
  }
 },
 "nbformat": 4,
 "nbformat_minor": 2
}
