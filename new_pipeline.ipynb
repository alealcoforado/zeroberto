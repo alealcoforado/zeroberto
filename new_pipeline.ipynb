{
 "cells": [
  {
   "cell_type": "code",
   "execution_count": 1,
   "metadata": {},
   "outputs": [],
   "source": [
    "%load_ext autoreload\n",
    "%autoreload 2"
   ]
  },
  {
   "attachments": {},
   "cell_type": "markdown",
   "metadata": {},
   "source": [
    "# Dependencies"
   ]
  },
  {
   "cell_type": "code",
   "execution_count": 2,
   "metadata": {},
   "outputs": [
    {
     "name": "stderr",
     "output_type": "stream",
     "text": [
      "/Users/alealcoforado/Documents/Projetos/ZeroBERTo/zeroberto/datasets_handler.py:181: FutureWarning: The default dtype for empty Series will be 'object' instead of 'float64' in a future version. Specify a dtype explicitly to silence this warning.\n",
      "  def splitDocuments(docs: pd.Series()) -> list():\n",
      "0it [00:00, ?it/s]\n"
     ]
    }
   ],
   "source": [
    "import datasets_handler\n",
    "import evaluation_metrics\n",
    "from zeroberto import ZeroBERTo\n",
    "import gc\n",
    "import pandas as pd\n",
    "from datasets import load_dataset, Dataset\n",
    "from sklearn.preprocessing import LabelEncoder\n",
    "\n",
    "google_colab = False"
   ]
  },
  {
   "cell_type": "code",
   "execution_count": 3,
   "metadata": {},
   "outputs": [],
   "source": [
    "if google_colab:\n",
    "    from google.colab import drive\n",
    "    drive.mount('/content/drive')\n",
    "    # dataset_path = '/content/drive/Othercomputers/My MacBook Pro/Datasets/folhauol/folhauol_clean_df_articles.csv'\n",
    "    # dataset_path = '/content/drive/MyDrive/Maquina de London/clean_df_articles_folhauol.csv'\n",
    "    zeroshot_data_path = './'\n",
    "else:\n",
    "    dataset_path = None\n",
    "    zeroshot_data_path = None"
   ]
  },
  {
   "attachments": {},
   "cell_type": "markdown",
   "metadata": {},
   "source": [
    "# Data"
   ]
  },
  {
   "cell_type": "code",
   "execution_count": 6,
   "metadata": {},
   "outputs": [],
   "source": [
    "which_dataset = 'folhauol' \n",
    "max_inferences = 2000\n",
    "random_state = 333\n",
    "le = LabelEncoder()\n",
    "\n",
    "raw_data, data_col, class_col = datasets_handler.getDataset(which_dataset,path=dataset_path)\n",
    "classes_list = list(raw_data[class_col].unique())\n",
    "le.fit(raw_data[class_col])\n",
    "raw_data = evaluation_metrics.Encoder(raw_data,labelEncoder=le,columnsToEncode=[class_col])\n",
    "data_to_label = raw_data.sample(max_inferences,random_state=random_state).sort_index()\n"
   ]
  },
  {
   "attachments": {},
   "cell_type": "markdown",
   "metadata": {},
   "source": [
    "# Parameters"
   ]
  },
  {
   "cell_type": "code",
   "execution_count": 7,
   "metadata": {},
   "outputs": [],
   "source": [
    "zeroshot_method = \"dotproduct\"  \n",
    "\n",
    "zeroshot_config = {\n",
    "    'similarity_model' : 'sentence-transformers/stsb-xlm-r-multilingual', # model for semantic similarity\n",
    "    'setfit_model' : 'sentence-transformers/stsb-xlm-r-multilingual',# 'ricardo-filho/bert-base-portuguese-cased-nli-assin-2' # model for contrastive learning and classification\n",
    "    'dataset':which_dataset, ### which dataset we are using\n",
    "    'class_col':class_col, ### which column of the dataset has the classes\n",
    "    'data_col':data_col, ### which column of the dataset has the data\n",
    "    'split':\"zeroshot\", ### fewshot (uses real training data) or zeroshot (uses previously selected training data)\n",
    "    'labeling_method':zeroshot_method, ### how the first labeling should be executed\n",
    "    'max_inferences':max_inferences, ### sample size from full dataset (number of records)\n",
    "    'classes':classes_list, ### classes from the dataset\n",
    "    'template': \"Esse texto está relacionado a {}.\", ### prompt that will be used for semantic search\n",
    "    'random_state':random_state, ### random state for reproducibility\n",
    "    'top_n': 4, ### how many best predictions from zeroshot should be recovered\n",
    "    'training_examples': 4, ### how many examples per class should be used for training\n",
    "    \"batch_size\" : 4, ### contrastive training batch size\n",
    "    \"num_pairs\" : 5, ### number of text pairs that will be generated in contrastive learning\n",
    "    \"num_epochs\" : 1, ### number of epochs training will be conducted\n",
    "    # 'keep_body_frozen_setfit': True,     # Unfreeze head and freeze body -> head-only training\n",
    "    'keep_body_frozen_setfit' : False, # Unfreeze head and body -> end-to-end training\n",
    "    'label_encoder' : le, ### label encoder to use for encoding categorial data into int\n",
    "\n",
    "    'st_train_epochs': 10, ### sentence-transformer TSDAE fine-tuning --- do not use\n",
    "    'st_train_batch_size': 20, ### sentence-transformer TSDAE fine-tuning --- do not use\n",
    "}\n",
    "\n"
   ]
  },
  {
   "attachments": {},
   "cell_type": "markdown",
   "metadata": {},
   "source": [
    "# Model"
   ]
  },
  {
   "cell_type": "code",
   "execution_count": 8,
   "metadata": {},
   "outputs": [
    {
     "name": "stderr",
     "output_type": "stream",
     "text": [
      "model_head.pkl not found on HuggingFace Hub, initialising classification head with random weights. You should TRAIN this model on a downstream task to use it for predictions and inference.\n"
     ]
    },
    {
     "name": "stdout",
     "output_type": "stream",
     "text": [
      "1\n",
      "queries\n",
      "3\n",
      "4\n"
     ]
    }
   ],
   "source": [
    "model = ZeroBERTo(classes_list=zeroshot_config['classes'],labeling_dataset=data_to_label,\n",
    "                embeddingModel=zeroshot_config['similarity_model'],config=zeroshot_config)\n",
    "       "
   ]
  },
  {
   "attachments": {},
   "cell_type": "markdown",
   "metadata": {},
   "source": [
    "# Labeling"
   ]
  },
  {
   "cell_type": "code",
   "execution_count": 9,
   "metadata": {},
   "outputs": [
    {
     "name": "stdout",
     "output_type": "stream",
     "text": [
      "Preds: 500  - Total time: 37.32 seconds - ETA: 2.5 minutes\n",
      "Preds: 1000  - Total time: 74.99 seconds - ETA: 2.5 minutes\n",
      "Preds: 1500  - Total time: 112.09 seconds - ETA: 2.5 minutes\n",
      "Preds: 2000  - Total time: 151.25 seconds - ETA: 2.5 minutes\n",
      "      prediction_code                      prediction\n",
      "90                 10                      Tecnologia\n",
      "94                  8      Poder e Política no Brasil\n",
      "134                 9  TV, Televisão e Entretenimento\n",
      "195                 0                         Ciência\n",
      "311                 7      Notícias de fora do Brasil\n",
      "499                11                         Turismo\n",
      "509                 1                          Comida\n",
      "1092                5                   Meio Ambiente\n",
      "1098                6                         Mercado\n",
      "2362                4                         Esporte\n",
      "2422                2                        Educação\n",
      "4392                3              Equilíbrio e Saúde\n",
      "top 1: {'accuracy': 0.6666666666666666}\n",
      "top 2: {'accuracy': 0.7083333333333334}\n",
      "top 3: {'accuracy': 0.6944444444444444}\n",
      "top 4: {'accuracy': 0.6875}\n",
      "top 5: {'accuracy': 0.65}\n",
      "top 6: {'accuracy': 0.625}\n",
      "top 7: {'accuracy': 0.5833333333333334}\n",
      "top 8: {'accuracy': 0.5625}\n",
      "top 9: {'accuracy': 0.5462962962962963}\n",
      "top 10: {'accuracy': 0.5333333333333333}\n",
      "top 11: {'accuracy': 0.5151515151515151}\n",
      "top 12: {'accuracy': 0.5}\n",
      "top 13: {'accuracy': 0.4935897435897436}\n",
      "top 14: {'accuracy': 0.49404761904761907}\n",
      "top 15: {'accuracy': 0.4888888888888889}\n",
      "top 16: {'accuracy': 0.4895833333333333}\n",
      "top 2000: {'accuracy': 0.3195}\n",
      "predictions_and_probabilities_test_2023_04_09__21_20_50.csv\n",
      "zeroshot_config_test_2023_04_09__21_20_50.csv\n",
      "CPU times: user 4min 38s, sys: 30.1 s, total: 5min 9s\n",
      "Wall time: 2min 57s\n"
     ]
    }
   ],
   "source": [
    "%%time\n",
    "if (model.config['split']=='zeroshot'): ###  selecting training data\n",
    "    model.runLabeling()\n",
    "    model.evaluateLabeling()\n",
    "    model.getLabelingMetrics()\n",
    "    model.saveLabelingResults(local_path=zeroshot_data_path)\n",
    "# model.config['exec_time'] = '2023_04_09__23_47_47' #### comment above and use this if labeling is already done"
   ]
  },
  {
   "attachments": {},
   "cell_type": "markdown",
   "metadata": {},
   "source": [
    "Constrative Learning Data"
   ]
  },
  {
   "cell_type": "code",
   "execution_count": 10,
   "metadata": {},
   "outputs": [
    {
     "name": "stdout",
     "output_type": "stream",
     "text": [
      "Unnamed: 0                                                   4244140\n",
      "title              'Em ciências, base curricular é trágica', aval...\n",
      "date               2017-06-042016-12-042015-11-102015-04-262016-0...\n",
      "link               http://www1.folha.uol.com.br/educacao/2017/04/...\n",
      "data               'Em ciências, base curricular é trágica', aval...\n",
      "text               'Em ciências, base curricular é trágica', aval...\n",
      "len                                                           145293\n",
      "prediction_code                                                  264\n",
      "top_probability                                             5.191695\n",
      "dtype: object\n"
     ]
    },
    {
     "name": "stderr",
     "output_type": "stream",
     "text": [
      "/Users/alealcoforado/Documents/Projetos/ZeroBERTo/zeroberto/datasets_handler.py:146: FutureWarning: The default value of numeric_only in DataFrame.sum is deprecated. In a future version, it will default to False. In addition, specifying 'numeric_only=None' is deprecated. Select only valid columns or specify the value of numeric_only to silence this warning.\n",
      "  print(train_data.sum())\n"
     ]
    }
   ],
   "source": [
    "df_train,df_test = datasets_handler.splitDataset(model.labeling_dataset,model.config) \n",
    "train_dataset,test_dataset = datasets_handler.buildDatasetDict(df_train,df_test)\n"
   ]
  },
  {
   "cell_type": "code",
   "execution_count": null,
   "metadata": {},
   "outputs": [],
   "source": []
  },
  {
   "attachments": {},
   "cell_type": "markdown",
   "metadata": {},
   "source": [
    "# Training"
   ]
  },
  {
   "cell_type": "code",
   "execution_count": 11,
   "metadata": {},
   "outputs": [
    {
     "name": "stderr",
     "output_type": "stream",
     "text": [
      "Applying column mapping to training dataset\n",
      "***** Running training *****\n",
      "  Num examples = 480\n",
      "  Num epochs = 1\n",
      "  Total optimization steps = 120\n",
      "  Total train batch size = 4\n"
     ]
    },
    {
     "data": {
      "application/vnd.jupyter.widget-view+json": {
       "model_id": "0853d93bbf324873a27d601c5cb8f72c",
       "version_major": 2,
       "version_minor": 0
      },
      "text/plain": [
       "Epoch:   0%|          | 0/1 [00:00<?, ?it/s]"
      ]
     },
     "metadata": {},
     "output_type": "display_data"
    },
    {
     "data": {
      "application/vnd.jupyter.widget-view+json": {
       "model_id": "e2c9cb1bd81d41b5bd7a9b1fd5ecc748",
       "version_major": 2,
       "version_minor": 0
      },
      "text/plain": [
       "Iteration:   0%|          | 0/120 [00:00<?, ?it/s]"
      ]
     },
     "metadata": {},
     "output_type": "display_data"
    },
    {
     "name": "stdout",
     "output_type": "stream",
     "text": [
      "Predicting 2000 documents\n"
     ]
    },
    {
     "data": {
      "text/plain": [
       "array([10,  9,  9, ...,  3, 10,  9])"
      ]
     },
     "execution_count": 11,
     "metadata": {},
     "output_type": "execute_result"
    }
   ],
   "source": [
    "### overrides config for looping second part of the model\n",
    "# model.config['num_epochs'] = 5\n",
    "# model.config['num_pairs'] = 20\n",
    "# # model.config['keep_body_frozen_setfit'] = False\n",
    "\n",
    "### build trainer for contrastive learning\n",
    "model.buildTrainer(train_dataset)\n",
    "\n",
    "### train\n",
    "model.contrastive_train()\n",
    "gc.collect()\n",
    "\n",
    "### predict labeling dataset with new classifier\n",
    "# model.getPredictions()\n",
    "\n",
    "model.predict(test_dataset['text'])\n",
    "# 5000 sentences --- 4min40s ---sts-xlm-rr\n",
    "# 5000 sentences ---  ---ricardo-filho/bert-portuguese\n"
   ]
  },
  {
   "cell_type": "code",
   "execution_count": 12,
   "metadata": {},
   "outputs": [
    {
     "name": "stdout",
     "output_type": "stream",
     "text": [
      "{'weighted': [{'accuracy': 0.3585}, {'precision': 0.5488870422989277}, {'recall': 0.3585}, {'f1': 0.40804812634285387}], 'macro': [{'accuracy': 0.3585}, {'precision': 0.357297964179099}, {'recall': 0.5268690588833739}, {'f1': 0.3588340208477577}]}\n",
      "metrics_setfit_2023_04_09__21_34_30.csv\n",
      "config_setfit_2023_04_09__21_34_30.csv\n",
      "{'similarity_model': 'sentence-transformers/stsb-xlm-r-multilingual', 'setfit_model': 'sentence-transformers/stsb-xlm-r-multilingual', 'dataset': 'folhauol', 'class_col': 'class', 'data_col': 'text', 'split': 'zeroshot', 'labeling_method': 'dotproduct', 'max_inferences': 2000, 'classes': ['Poder e Política no Brasil', 'Mercado', 'Notícias de fora do Brasil', 'Esporte', 'Tecnologia', 'Meio Ambiente', 'Equilíbrio e Saúde', 'Educação', 'TV, Televisão e Entretenimento', 'Ciência', 'Turismo', 'Comida'], 'template': 'Esse texto está relacionado a {}.', 'random_state': 333, 'top_n': 4, 'training_examples': 4, 'batch_size': 4, 'num_pairs': 5, 'num_epochs': 1, 'keep_body_frozen_setfit': False, 'label_encoder': LabelEncoder(), 'st_train_epochs': 10, 'st_train_batch_size': 20, 'exec_time': '2023_04_09__21_20_50'}\n"
     ]
    }
   ],
   "source": [
    "setfit_all_metrics = evaluation_metrics.get_metrics(model.y_pred, test_dataset[\"class_code\"])\n",
    "print(setfit_all_metrics)\n",
    "\n",
    "setfit_exec_time  = evaluation_metrics.saveResults(model.config,setfit_all_metrics,None)\n",
    "print(model.config)"
   ]
  },
  {
   "cell_type": "code",
   "execution_count": null,
   "metadata": {},
   "outputs": [],
   "source": []
  },
  {
   "cell_type": "code",
   "execution_count": null,
   "metadata": {},
   "outputs": [],
   "source": []
  }
 ],
 "metadata": {
  "kernelspec": {
   "display_name": "venv_zeroberto",
   "language": "python",
   "name": "python3"
  },
  "language_info": {
   "codemirror_mode": {
    "name": "ipython",
    "version": 3
   },
   "file_extension": ".py",
   "mimetype": "text/x-python",
   "name": "python",
   "nbconvert_exporter": "python",
   "pygments_lexer": "ipython3",
   "version": "3.10.9"
  },
  "orig_nbformat": 4
 },
 "nbformat": 4,
 "nbformat_minor": 2
}
