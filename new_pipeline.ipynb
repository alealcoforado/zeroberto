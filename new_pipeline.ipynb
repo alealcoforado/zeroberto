{
 "cells": [
  {
   "cell_type": "code",
   "execution_count": 38,
   "metadata": {},
   "outputs": [
    {
     "name": "stderr",
     "output_type": "stream",
     "text": [
      "0it [00:00, ?it/s]\n"
     ]
    },
    {
     "name": "stdout",
     "output_type": "stream",
     "text": [
      "The autoreload extension is already loaded. To reload it, use:\n",
      "  %reload_ext autoreload\n"
     ]
    }
   ],
   "source": [
    "%load_ext autoreload\n",
    "%autoreload 2"
   ]
  },
  {
   "attachments": {},
   "cell_type": "markdown",
   "metadata": {},
   "source": [
    "# Dependencies"
   ]
  },
  {
   "cell_type": "code",
   "execution_count": 39,
   "metadata": {},
   "outputs": [],
   "source": [
    "import datasets_handler\n",
    "import evaluation_metrics\n",
    "from zeroberto import ZeroBERTo\n",
    "import gc\n",
    "import pandas as pd\n",
    "from datasets import load_dataset, Dataset\n"
   ]
  },
  {
   "cell_type": "code",
   "execution_count": 40,
   "metadata": {},
   "outputs": [],
   "source": [
    "# df = pd.read_csv('/Users/alealcoforado/Documents/Projetos/Datasets/folhauol/folhauol_clean_df_articles.csv',nrows=4000)\n",
    "# df.to_csv('/Users/alealcoforado/Documents/Projetos/Datasets/folhauol/folhauol_4000examples_clean_df_articles.csv')"
   ]
  },
  {
   "cell_type": "code",
   "execution_count": 41,
   "metadata": {},
   "outputs": [],
   "source": [
    "which_dataset = 'folhauol' \n",
    "max_inferences = 2500\n",
    "\n",
    "hyp_template = \"Esse texto está relacionado a {}.\"\n",
    "\n",
    "raw_data, data_col, class_col = datasets_handler.getDataset(which_dataset)\n",
    "classes_list = list(raw_data[class_col].unique())"
   ]
  },
  {
   "cell_type": "code",
   "execution_count": 56,
   "metadata": {},
   "outputs": [],
   "source": [
    "zeroshot_method = \"dotproduct\"  \n",
    "\n",
    "zeroshot_config = {\n",
    "    'similarity_model' : 'sentence-transformers/stsb-xlm-r-multilingual',\n",
    "    'setfit_model' : 'sentence-transformers/stsb-xlm-r-multilingual',# 'ricardo-filho/bert-base-portuguese-cased-nli-assin-2'\n",
    "    'dataset':which_dataset,\n",
    "    'class_col':class_col,\n",
    "    'data_col':data_col,\n",
    "    'split':\"zeroshot\",\n",
    "    'labeling_method':zeroshot_method,\n",
    "    'max_inferences':max_inferences,\n",
    "    'classes':classes_list,\n",
    "    'template': hyp_template,\n",
    "    'random_state':422,\n",
    "    'top_n': 8,\n",
    "    'training_examples': 8,\n",
    "    \"batch_size\" : 4,\n",
    "    \"num_pairs\" : 5,\n",
    "    \"num_epochs\" : 1,\n",
    "    'st_train_epochs': 10,\n",
    "    'st_train_batch_size': 20,\n",
    "    # Unfreeze the head and freeze the body -> head-only training\n",
    "    'keep_body_frozen_setfit': False,\n",
    "    # Unfreeze the head and unfreeze the body -> end-to-end training\n",
    "    # zeroshot_config['keep_body_frozen_setfit'] = False\n",
    "}\n",
    "\n",
    "data_to_label = raw_data.sample(zeroshot_config['max_inferences'],random_state=zeroshot_config['random_state']).sort_index()\n"
   ]
  },
  {
   "cell_type": "code",
   "execution_count": 57,
   "metadata": {},
   "outputs": [
    {
     "name": "stderr",
     "output_type": "stream",
     "text": [
      "model_head.pkl not found on HuggingFace Hub, initialising classification head with random weights. You should TRAIN this model on a downstream task to use it for predictions and inference.\n"
     ]
    },
    {
     "name": "stdout",
     "output_type": "stream",
     "text": [
      "1\n",
      "queries\n",
      "3\n",
      "4\n"
     ]
    }
   ],
   "source": [
    "model = ZeroBERTo(classes_list=zeroshot_config['classes'],labeling_dataset=data_to_label,\n",
    "                embeddingModel=zeroshot_config['similarity_model'],config=zeroshot_config)\n",
    "       "
   ]
  },
  {
   "cell_type": "code",
   "execution_count": 58,
   "metadata": {},
   "outputs": [
    {
     "name": "stdout",
     "output_type": "stream",
     "text": [
      "Preds: 500  - Total time: 46.12 seconds - ETA: 3.8 minutes\n",
      "Preds: 1000  - Total time: 87.79 seconds - ETA: 3.7 minutes\n",
      "Preds: 1500  - Total time: 126.06 seconds - ETA: 3.5 minutes\n",
      "Preds: 2000  - Total time: 163.55 seconds - ETA: 3.4 minutes\n",
      "Preds: 2500  - Total time: 199.29 seconds - ETA: 3.3 minutes\n",
      "top 1: {'accuracy': 0.5}\n",
      "top 2: {'accuracy': 0.5833333333333334}\n",
      "top 3: {'accuracy': 0.6111111111111112}\n",
      "top 4: {'accuracy': 0.625}\n",
      "top 5: {'accuracy': 0.5666666666666667}\n",
      "top 6: {'accuracy': 0.5277777777777778}\n",
      "top 7: {'accuracy': 0.5119047619047619}\n",
      "top 8: {'accuracy': 0.5208333333333334}\n",
      "top 9: {'accuracy': 0.49074074074074076}\n",
      "top 10: {'accuracy': 0.49166666666666664}\n",
      "top 11: {'accuracy': 0.4772727272727273}\n",
      "top 12: {'accuracy': 0.4722222222222222}\n",
      "top 13: {'accuracy': 0.47435897435897434}\n",
      "top 14: {'accuracy': 0.47619047619047616}\n",
      "top 15: {'accuracy': 0.4722222222222222}\n",
      "top 16: {'accuracy': 0.4635416666666667}\n",
      "top 2500: {'accuracy': 0.3312}\n",
      "predictions_and_probabilities_test_2023_04_09__17_11_52.csv\n",
      "zeroshot_config_test_2023_04_09__17_11_52.csv\n"
     ]
    }
   ],
   "source": [
    "model.runLabeling()\n",
    "model.evaluateLabeling()\n",
    "\n",
    "model.getLabelingMetrics()\n",
    "model.saveLabelingResults()\n"
   ]
  },
  {
   "cell_type": "code",
   "execution_count": 43,
   "metadata": {},
   "outputs": [
    {
     "data": {
      "text/plain": [
       "{'weighted': [{'accuracy': 0.3312},\n",
       "  {'precision': 0.47446351511668045},\n",
       "  {'recall': 0.3312},\n",
       "  {'f1': 0.2857409631254401}],\n",
       " 'macro': [{'accuracy': 0.3312},\n",
       "  {'precision': 0.29801013834612505},\n",
       "  {'recall': 0.33676202779769193},\n",
       "  {'f1': 0.249588354980113}]}"
      ]
     },
     "execution_count": 43,
     "metadata": {},
     "output_type": "execute_result"
    }
   ],
   "source": [
    "model.labeling_metrics\n"
   ]
  },
  {
   "cell_type": "code",
   "execution_count": null,
   "metadata": {},
   "outputs": [],
   "source": []
  },
  {
   "cell_type": "code",
   "execution_count": 44,
   "metadata": {},
   "outputs": [],
   "source": [
    "### load results from labeling step and create training data for contrastive learning\n",
    "zeroshot_previous_data = datasets_handler.getZeroshotPreviousData(\n",
    "    model.config['dataset'],model.config['class_col'],top_n=model.config['top_n'],exec_time=model.config['exec_time'])"
   ]
  },
  {
   "cell_type": "code",
   "execution_count": 49,
   "metadata": {},
   "outputs": [
    {
     "name": "stderr",
     "output_type": "stream",
     "text": [
      "/Users/alealcoforado/Documents/Projetos/ZeroBERTo/zeroberto/datasets_handler.py:165: UserWarning: DataFrame columns are not unique, some columns will be omitted.\n",
      "  train_dataset = Dataset.from_dict(df_train[['text','class_code']].to_dict('list'))\n"
     ]
    }
   ],
   "source": [
    "df_train = datasets_handler.splitDataset(model.labeling_dataset,model.config) ### df_test will not be used\n",
    "train_dataset = datasets_handler.buildDatasetDict(df_train)\n",
    "test_dataset = datasets_handler.buildDatasetDict(model.labeling_dataset) # test will not be used"
   ]
  },
  {
   "cell_type": "code",
   "execution_count": null,
   "metadata": {},
   "outputs": [],
   "source": [
    "# raw_data_final, model.config['new_class_col'] = datasets_handler.mergeLabelingToDataset(\n",
    "#     raw_data,zeroshot_previous_data,model.config['class_col'])\n",
    "# df_train['']\n",
    "train_data = datasets_handler.buildDatasetDict(df_train)"
   ]
  },
  {
   "cell_type": "code",
   "execution_count": 59,
   "metadata": {},
   "outputs": [
    {
     "name": "stderr",
     "output_type": "stream",
     "text": [
      "Applying column mapping to training dataset\n",
      "***** Running training *****\n",
      "  Num examples = 960\n",
      "  Num epochs = 1\n",
      "  Total optimization steps = 120\n",
      "  Total train batch size = 8\n"
     ]
    },
    {
     "data": {
      "application/vnd.jupyter.widget-view+json": {
       "model_id": "d8479e4ee7aa40b4b0644d33bb03f48f",
       "version_major": 2,
       "version_minor": 0
      },
      "text/plain": [
       "Epoch:   0%|          | 0/1 [00:00<?, ?it/s]"
      ]
     },
     "metadata": {},
     "output_type": "display_data"
    },
    {
     "data": {
      "application/vnd.jupyter.widget-view+json": {
       "model_id": "d0304c8efad4489686abaa0a3de574af",
       "version_major": 2,
       "version_minor": 0
      },
      "text/plain": [
       "Iteration:   0%|          | 0/120 [00:00<?, ?it/s]"
      ]
     },
     "metadata": {},
     "output_type": "display_data"
    }
   ],
   "source": [
    "### overrides config for looping second part of the model\n",
    "# model.config['num_epochs'] = 5\n",
    "# model.config['num_pairs'] = 20\n",
    "# model.config['keep_body_frozen_setfit'] = False\n",
    "\n",
    "### build trainer for contrastive learning\n",
    "model.buildTrainer(train_dataset)\n",
    "\n",
    "### train\n",
    "model.contrastive_train()\n",
    "gc.collect()\n",
    "\n",
    "### predict labeling dataset with new classifier\n",
    "model.getPredictions()\n",
    "# 5000 sentences --- 4min40s ---sts-xlm-rr\n",
    "# 5000 sentences ---  ---ricardo-filho/bert-portuguese\n",
    "\n",
    "setfit_all_metrics = evaluation_metrics.get_metrics(model.y_pred, model.trainer.eval_dataset[\"class_code\"])\n",
    "print(setfit_all_metrics)\n",
    "\n",
    "setfit_exec_time  = evaluation_metrics.saveResults(model.config,setfit_all_metrics)\n",
    "print(model.config)"
   ]
  },
  {
   "cell_type": "code",
   "execution_count": null,
   "metadata": {},
   "outputs": [
    {
     "ename": "NameError",
     "evalue": "name 'model' is not defined",
     "output_type": "error",
     "traceback": [
      "\u001b[0;31m---------------------------------------------------------------------------\u001b[0m",
      "\u001b[0;31mNameError\u001b[0m                                 Traceback (most recent call last)",
      "Cell \u001b[0;32mIn[6], line 1\u001b[0m\n\u001b[0;32m----> 1\u001b[0m model\u001b[39m.\u001b[39my_pred\n",
      "\u001b[0;31mNameError\u001b[0m: name 'model' is not defined"
     ]
    }
   ],
   "source": [
    "model.y_pred"
   ]
  },
  {
   "cell_type": "code",
   "execution_count": null,
   "metadata": {},
   "outputs": [],
   "source": []
  },
  {
   "cell_type": "code",
   "execution_count": null,
   "metadata": {},
   "outputs": [],
   "source": []
  }
 ],
 "metadata": {
  "kernelspec": {
   "display_name": "venv_zeroberto",
   "language": "python",
   "name": "python3"
  },
  "language_info": {
   "codemirror_mode": {
    "name": "ipython",
    "version": 3
   },
   "file_extension": ".py",
   "mimetype": "text/x-python",
   "name": "python",
   "nbconvert_exporter": "python",
   "pygments_lexer": "ipython3",
   "version": "3.10.9"
  },
  "orig_nbformat": 4
 },
 "nbformat": 4,
 "nbformat_minor": 2
}
