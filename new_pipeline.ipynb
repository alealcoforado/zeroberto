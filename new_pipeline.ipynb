{
 "cells": [
  {
   "attachments": {},
   "cell_type": "markdown",
   "metadata": {},
   "source": [
    "### Use when in Colab"
   ]
  },
  {
   "cell_type": "code",
   "execution_count": 1,
   "metadata": {},
   "outputs": [],
   "source": [
    "# !git clone https://github.com/alealcoforado/zeroberto.git\n",
    "# %cd zeroberto"
   ]
  },
  {
   "cell_type": "code",
   "execution_count": 2,
   "metadata": {},
   "outputs": [],
   "source": [
    "google_colab = False"
   ]
  },
  {
   "attachments": {},
   "cell_type": "markdown",
   "metadata": {},
   "source": [
    "# Dependencies"
   ]
  },
  {
   "cell_type": "code",
   "execution_count": 3,
   "metadata": {},
   "outputs": [
    {
     "name": "stderr",
     "output_type": "stream",
     "text": [
      "/Users/alealcoforado/Documents/Projetos/ZeroBERTo/zeroberto/datasets_handler.py:246: FutureWarning: The default dtype for empty Series will be 'object' instead of 'float64' in a future version. Specify a dtype explicitly to silence this warning.\n",
      "  def splitDocuments(docs: pd.Series()) -> list():\n",
      "0it [00:00, ?it/s]\n"
     ]
    }
   ],
   "source": [
    "%load_ext autoreload\n",
    "%autoreload 2\n",
    "import datasets_handler\n",
    "import evaluation_metrics\n",
    "from zeroberto import ZeroBERTo\n",
    "import gc\n",
    "import pandas as pd\n",
    "from datasets import load_dataset, Dataset\n",
    "from sklearn.preprocessing import LabelEncoder\n",
    "from sklearn.metrics import classification_report"
   ]
  },
  {
   "cell_type": "code",
   "execution_count": 4,
   "metadata": {},
   "outputs": [],
   "source": [
    "if google_colab:\n",
    "    from google.colab import drive\n",
    "    drive.mount('/content/drive')\n",
    "    # dataset_path = '/content/drive/Othercomputers/My MacBook Pro/Datasets/folhauol/folhauol_clean_df_articles.csv'\n",
    "    # dataset_path = '/content/drive/MyDrive/Maquina de London/clean_df_articles_folhauol.csv'\n",
    "    zeroshot_data_path = './'\n",
    "else:\n",
    "    dataset_path = None\n",
    "    zeroshot_data_path = None"
   ]
  },
  {
   "attachments": {},
   "cell_type": "markdown",
   "metadata": {},
   "source": [
    "# Data"
   ]
  },
  {
   "cell_type": "code",
   "execution_count": 5,
   "metadata": {},
   "outputs": [
    {
     "name": "stderr",
     "output_type": "stream",
     "text": [
      "Found cached dataset ag_news (/Users/alealcoforado/.cache/huggingface/datasets/ag_news/default/0.0.0/bc2bcb40336ace1a0374767fc29bb0296cdaf8a6da7298436239c54d79180548)\n"
     ]
    },
    {
     "data": {
      "application/vnd.jupyter.widget-view+json": {
       "model_id": "c4052a11f7b2450cace871eb63729274",
       "version_major": 2,
       "version_minor": 0
      },
      "text/plain": [
       "  0%|          | 0/2 [00:00<?, ?it/s]"
      ]
     },
     "metadata": {},
     "output_type": "display_data"
    },
    {
     "name": "stdout",
     "output_type": "stream",
     "text": [
      "['business', 'science and technology', 'sports', 'world'] (100, 4)\n"
     ]
    }
   ],
   "source": [
    "which_dataset = 'ag_news' \n",
    "max_inferences = 100\n",
    "random_state = 333\n",
    "le = LabelEncoder()\n",
    "\n",
    "raw_data, data_col, class_col = datasets_handler.getDataset(which_dataset,path=dataset_path,test_only=True)\n",
    "classes_list = list(raw_data[class_col].unique())\n",
    "le.fit(raw_data[class_col])\n",
    "raw_data = evaluation_metrics.Encoder(raw_data,labelEncoder=le,columnsToEncode=[class_col])\n",
    "data_to_label = raw_data.sample(max_inferences,random_state=random_state).sort_index()\n",
    "print(classes_list,data_to_label.shape)"
   ]
  },
  {
   "attachments": {},
   "cell_type": "markdown",
   "metadata": {},
   "source": [
    "# Parameters"
   ]
  },
  {
   "cell_type": "code",
   "execution_count": 6,
   "metadata": {},
   "outputs": [],
   "source": [
    "zeroshot_method = \"dotproduct\"  \n",
    "\n",
    "zeroshot_config = {\n",
    "    'similarity_model' : 'sentence-transformers/all-roberta-large-v1', #'sentence-transformers/stsb-xlm-r-multilingual', # model for semantic similarity\n",
    "    'setfit_model' :  'sentence-transformers/all-roberta-large-v1',#'sentence-transformers/stsb-xlm-r-multilingual',# 'ricardo-filho/bert-base-portuguese-cased-nli-assin-2' # model for contrastive learning and classification\n",
    "    'split':\"zeroshot\", ### fewshot (uses real training data) or zeroshot (uses previously selected training data)\n",
    "    \n",
    "    'class_col':class_col, ### which column of the dataset has the classes\n",
    "    'data_col':data_col, ### which column of the dataset has the data\n",
    "    'dataset':which_dataset, ### which dataset we are using\n",
    "    'labeling_method':zeroshot_method, ### how the first labeling should be executed\n",
    "    'max_inferences':max_inferences, ### sample size from full dataset (number of records)\n",
    "    'classes':classes_list, ### classes from the dataset\n",
    "    'template': \"this text is mainly about {}.\", ### prompt that will be used for semantic search\n",
    "    'random_state':random_state, ### random state for reproducibility\n",
    "    'top_n': 2, ### how many best predictions from zeroshot should be recovered\n",
    "    'training_examples': 2, ### how many examples per class should be used for training\n",
    "    \"batch_size\" : 4, ### contrastive training batch size\n",
    "    \"num_pairs\" : 2, ### number of text pairs that will be generated in contrastive learning\n",
    "    \"num_epochs\" : 1, ### number of epochs training will be conducted\n",
    "    # 'keep_body_frozen_setfit': True,     # Unfreeze head and freeze body -> head-only training\n",
    "    'keep_body_frozen_setfit' : False, # Unfreeze head and body -> end-to-end training\n",
    "    'label_encoder' : le, ### label encoder to use for encoding categorial data into int\n",
    "    'average_sentence_embeddings':False, ### whether documents should be split by . and their embeddings be a mean of sentences embeddings\n",
    "    'self_training_epochs' : 0, ### how many ZeroBERTo training steps have been executed\n",
    "\n",
    "    'st_train_epochs': 10, ### sentence-transformer TSDAE fine-tuning --- do not use\n",
    "    'st_train_batch_size': 20, ### sentence-transformer TSDAE fine-tuning --- do not use\n",
    "}"
   ]
  },
  {
   "attachments": {},
   "cell_type": "markdown",
   "metadata": {},
   "source": [
    "# Model"
   ]
  },
  {
   "cell_type": "code",
   "execution_count": 7,
   "metadata": {},
   "outputs": [
    {
     "name": "stderr",
     "output_type": "stream",
     "text": [
      "model_head.pkl not found on HuggingFace Hub, initialising classification head with random weights. You should TRAIN this model on a downstream task to use it for predictions and inference.\n"
     ]
    },
    {
     "name": "stdout",
     "output_type": "stream",
     "text": [
      "queries\n",
      "3\n",
      "4\n"
     ]
    }
   ],
   "source": [
    "model = ZeroBERTo(classes_list=zeroshot_config['classes'],labeling_dataset=data_to_label,\n",
    "                embeddingModel=zeroshot_config['similarity_model'],config=zeroshot_config)\n",
    "       "
   ]
  },
  {
   "attachments": {},
   "cell_type": "markdown",
   "metadata": {},
   "source": [
    "# Labeling"
   ]
  },
  {
   "cell_type": "code",
   "execution_count": 8,
   "metadata": {},
   "outputs": [
    {
     "name": "stdout",
     "output_type": "stream",
     "text": [
      "     prediction_code              prediction\n",
      "122                1  science and technology\n",
      "549                0                business\n",
      "678                3                   world\n",
      "747                2                  sports\n",
      "top 1: {'accuracy': 0.75}\n",
      "top 2: {'accuracy': 0.875}\n",
      "top 3: {'accuracy': 0.8333333333333334}\n",
      "top 4: {'accuracy': 0.875}\n",
      "top 5: {'accuracy': 0.85}\n",
      "top 6: {'accuracy': 0.8333333333333334}\n",
      "top 7: {'accuracy': 0.8214285714285714}\n",
      "top 8: {'accuracy': 0.8125}\n",
      "top 9: {'accuracy': 0.8333333333333334}\n",
      "top 10: {'accuracy': 0.825}\n",
      "top 11: {'accuracy': 0.7954545454545454}\n",
      "top 12: {'accuracy': 0.7916666666666666}\n",
      "top 13: {'accuracy': 0.7884615384615384}\n",
      "top 14: {'accuracy': 0.8}\n",
      "top 15: {'accuracy': 0.8103448275862069}\n",
      "top 16: {'accuracy': 0.8032786885245902}\n",
      "top 100: {'accuracy': 0.75}\n",
      "predictions_and_probabilities_test_2023_04_17__20_20_25.csv\n",
      "zeroshot_config_test_2023_04_17__20_20_25.csv\n",
      "CPU times: user 23 s, sys: 2.03 s, total: 25 s\n",
      "Wall time: 41.8 s\n"
     ]
    }
   ],
   "source": [
    "%%time\n",
    "if (model.config['split']=='zeroshot'): ###  selecting training data\n",
    "    model.runLabeling()\n",
    "    model.evaluateLabeling()\n",
    "    model.getLabelingMetrics()\n",
    "    model.saveLabelingResults(local_path=zeroshot_data_path)\n",
    "# model.config['exec_time'] = '2023_04_16__11_48_09' #### comment above and use this if labeling is already done"
   ]
  },
  {
   "attachments": {},
   "cell_type": "markdown",
   "metadata": {},
   "source": [
    "Constrative Learning Data for First Training"
   ]
  },
  {
   "cell_type": "code",
   "execution_count": 9,
   "metadata": {},
   "outputs": [
    {
     "name": "stdout",
     "output_type": "stream",
     "text": [
      "(8, 2) (92, 2)\n"
     ]
    },
    {
     "name": "stderr",
     "output_type": "stream",
     "text": [
      "/Users/alealcoforado/Documents/Projetos/ZeroBERTo/zeroberto/datasets_handler.py:246: FutureWarning: The default dtype for empty Series will be 'object' instead of 'float64' in a future version. Specify a dtype explicitly to silence this warning.\n",
      "  def splitDocuments(docs: pd.Series()) -> list():\n",
      "/Users/alealcoforado/Documents/Projetos/ZeroBERTo/zeroberto/datasets_handler.py:214: SettingWithCopyWarning: \n",
      "A value is trying to be set on a copy of a slice from a DataFrame.\n",
      "Try using .loc[row_indexer,col_indexer] = value instead\n",
      "\n",
      "See the caveats in the documentation: https://pandas.pydata.org/pandas-docs/stable/user_guide/indexing.html#returning-a-view-versus-a-copy\n",
      "  test_data[data_col] = test_data[data_col].apply(str)\n",
      "/Users/alealcoforado/Documents/Projetos/ZeroBERTo/zeroberto/datasets_handler.py:215: SettingWithCopyWarning: \n",
      "A value is trying to be set on a copy of a slice from a DataFrame.\n",
      "Try using .loc[row_indexer,col_indexer] = value instead\n",
      "\n",
      "See the caveats in the documentation: https://pandas.pydata.org/pandas-docs/stable/user_guide/indexing.html#returning-a-view-versus-a-copy\n",
      "  test_data['class_code'] = test_data['class_code'].apply(int)\n"
     ]
    },
    {
     "data": {
      "text/html": [
       "<div>\n",
       "<style scoped>\n",
       "    .dataframe tbody tr th:only-of-type {\n",
       "        vertical-align: middle;\n",
       "    }\n",
       "\n",
       "    .dataframe tbody tr th {\n",
       "        vertical-align: top;\n",
       "    }\n",
       "\n",
       "    .dataframe thead th {\n",
       "        text-align: right;\n",
       "    }\n",
       "</style>\n",
       "<table border=\"1\" class=\"dataframe\">\n",
       "  <thead>\n",
       "    <tr style=\"text-align: right;\">\n",
       "      <th></th>\n",
       "      <th>text</th>\n",
       "      <th>class_code</th>\n",
       "    </tr>\n",
       "    <tr>\n",
       "      <th>Unnamed: 0</th>\n",
       "      <th></th>\n",
       "      <th></th>\n",
       "    </tr>\n",
       "  </thead>\n",
       "  <tbody>\n",
       "    <tr>\n",
       "      <th>3325</th>\n",
       "      <td>Computer Associates to buy Netegrity Corporate...</td>\n",
       "      <td>0</td>\n",
       "    </tr>\n",
       "    <tr>\n",
       "      <th>2600</th>\n",
       "      <td>Fannie Mae agrees to accounting changes Fannie...</td>\n",
       "      <td>0</td>\n",
       "    </tr>\n",
       "    <tr>\n",
       "      <th>7421</th>\n",
       "      <td>HP Shifting Last of Itanium Engineers Hewlett-...</td>\n",
       "      <td>1</td>\n",
       "    </tr>\n",
       "    <tr>\n",
       "      <th>6167</th>\n",
       "      <td>US Spacecraft to Probe Origin of Gamma Rays Fa...</td>\n",
       "      <td>1</td>\n",
       "    </tr>\n",
       "    <tr>\n",
       "      <th>3520</th>\n",
       "      <td>Yanks shock Twins, earn date with Sox: Another...</td>\n",
       "      <td>2</td>\n",
       "    </tr>\n",
       "    <tr>\n",
       "      <th>747</th>\n",
       "      <td>Argentina Beats U.S. Men's Basketball Team Arg...</td>\n",
       "      <td>2</td>\n",
       "    </tr>\n",
       "    <tr>\n",
       "      <th>5287</th>\n",
       "      <td>Ivory Coast Leader Urges End to Violence  ABID...</td>\n",
       "      <td>3</td>\n",
       "    </tr>\n",
       "    <tr>\n",
       "      <th>4813</th>\n",
       "      <td>Thai PM to Address Nation as More Bombs Hit So...</td>\n",
       "      <td>3</td>\n",
       "    </tr>\n",
       "  </tbody>\n",
       "</table>\n",
       "</div>"
      ],
      "text/plain": [
       "                                                         text  class_code\n",
       "Unnamed: 0                                                               \n",
       "3325        Computer Associates to buy Netegrity Corporate...           0\n",
       "2600        Fannie Mae agrees to accounting changes Fannie...           0\n",
       "7421        HP Shifting Last of Itanium Engineers Hewlett-...           1\n",
       "6167        US Spacecraft to Probe Origin of Gamma Rays Fa...           1\n",
       "3520        Yanks shock Twins, earn date with Sox: Another...           2\n",
       "747         Argentina Beats U.S. Men's Basketball Team Arg...           2\n",
       "5287        Ivory Coast Leader Urges End to Violence  ABID...           3\n",
       "4813        Thai PM to Address Nation as More Bombs Hit So...           3"
      ]
     },
     "execution_count": 9,
     "metadata": {},
     "output_type": "execute_result"
    }
   ],
   "source": [
    "df_train,df_test = datasets_handler.splitDataset(model.labeling_dataset,model.config) \n",
    "train_dataset,test_dataset = datasets_handler.buildDatasetDict(df_train,df_test)\n",
    "print(train_dataset.shape,test_dataset.shape)\n",
    "df_train\n",
    "# print(type(df_test)==type(pd.DataFrame()))"
   ]
  },
  {
   "attachments": {},
   "cell_type": "markdown",
   "metadata": {},
   "source": [
    "# First Training "
   ]
  },
  {
   "cell_type": "code",
   "execution_count": 12,
   "metadata": {},
   "outputs": [
    {
     "name": "stderr",
     "output_type": "stream",
     "text": [
      "0it [00:00, ?it/s]\n",
      "Applying column mapping to training dataset\n",
      "***** Running training *****\n",
      "  Num examples = 32\n",
      "  Num epochs = 1\n",
      "  Total optimization steps = 8\n",
      "  Total train batch size = 4\n"
     ]
    },
    {
     "data": {
      "application/vnd.jupyter.widget-view+json": {
       "model_id": "9fee5e21049443b0af68151ba0cb686b",
       "version_major": 2,
       "version_minor": 0
      },
      "text/plain": [
       "Epoch:   0%|          | 0/1 [00:00<?, ?it/s]"
      ]
     },
     "metadata": {},
     "output_type": "display_data"
    },
    {
     "data": {
      "application/vnd.jupyter.widget-view+json": {
       "model_id": "b88db7e85f9d40289b78da07b7374f35",
       "version_major": 2,
       "version_minor": 0
      },
      "text/plain": [
       "Iteration:   0%|          | 0/8 [00:00<?, ?it/s]"
      ]
     },
     "metadata": {},
     "output_type": "display_data"
    },
    {
     "name": "stdout",
     "output_type": "stream",
     "text": [
      "Predicting probabilities of 92 documents\n"
     ]
    }
   ],
   "source": [
    "### build trainer for contrastive learning\n",
    "model.buildTrainer(train_dataset)\n",
    "\n",
    "### train\n",
    "model.contrastive_train(train_dataset=train_dataset)\n",
    "gc.collect()\n",
    "\n",
    "# model.predict(test_dataset['text'])\n",
    "y_probs = model.predict_proba(test_dataset['text'])\n"
   ]
  },
  {
   "cell_type": "code",
   "execution_count": 13,
   "metadata": {},
   "outputs": [
    {
     "name": "stdout",
     "output_type": "stream",
     "text": [
      "{'weighted': [{'accuracy': 0.6847826086956522}, {'precision': 0.695311167945439}, {'recall': 0.6847826086956522}, {'f1': 0.6797277037157097}], 'macro': [{'accuracy': 0.6847826086956522}, {'precision': 0.7006410256410256}, {'recall': 0.6811334498834499}, {'f1': 0.6804251200802924}]}\n",
      "                        precision    recall  f1-score   support\n",
      "\n",
      "              business       0.79      0.56      0.66        34\n",
      "science and technology       0.36      0.53      0.43        15\n",
      "                sports       0.80      0.94      0.86        17\n",
      "                 world       0.77      0.77      0.77        26\n",
      "\n",
      "              accuracy                           0.68        92\n",
      "             macro avg       0.68      0.70      0.68        92\n",
      "          weighted avg       0.72      0.68      0.69        92\n",
      "\n",
      "metrics_setfit_2023_04_17__20_28_56.csv\n",
      "config_setfit_2023_04_17__20_28_56.csv\n",
      "{'similarity_model': 'sentence-transformers/all-roberta-large-v1', 'setfit_model': 'sentence-transformers/all-roberta-large-v1', 'split': 'zeroshot', 'class_col': 'class', 'data_col': 'text', 'dataset': 'ag_news', 'labeling_method': 'dotproduct', 'max_inferences': 100, 'classes': ['business', 'science and technology', 'sports', 'world'], 'template': 'this text is mainly about {}.', 'random_state': 333, 'top_n': 2, 'training_examples': 2, 'batch_size': 4, 'num_pairs': 2, 'num_epochs': 1, 'keep_body_frozen_setfit': False, 'label_encoder': LabelEncoder(), 'average_sentence_embeddings': False, 'self_training_epochs': 1, 'st_train_epochs': 10, 'st_train_batch_size': 20, 'exec_time': '2023_04_17__20_20_25'}\n"
     ]
    }
   ],
   "source": [
    "setfit_all_metrics = evaluation_metrics.get_metrics(model.y_pred, test_dataset[\"class_code\"])\n",
    "print(setfit_all_metrics)\n",
    "print(classification_report(model.y_pred, test_dataset['class_code'],target_names=classes_list))\n",
    "setfit_exec_time  = evaluation_metrics.saveResults(model.config,setfit_all_metrics,None)\n",
    "print(model.config)"
   ]
  },
  {
   "attachments": {},
   "cell_type": "markdown",
   "metadata": {},
   "source": [
    "# Next Training"
   ]
  },
  {
   "cell_type": "code",
   "execution_count": 16,
   "metadata": {},
   "outputs": [
    {
     "name": "stdout",
     "output_type": "stream",
     "text": [
      "top 1: {'accuracy': 1.0}\n",
      "top 2: {'accuracy': 0.875}\n",
      "top 3: {'accuracy': 0.9166666666666666}\n",
      "top 4: {'accuracy': 0.9375}\n",
      "top 5: {'accuracy': 0.9}\n",
      "top 6: {'accuracy': 0.8333333333333334}\n",
      "top 7: {'accuracy': 0.7857142857142857}\n",
      "top 8: {'accuracy': 0.8125}\n",
      "top 9: {'accuracy': 0.8055555555555556}\n",
      "top 10: {'accuracy': 0.775}\n",
      "top 11: {'accuracy': 0.7727272727272727}\n",
      "top 12: {'accuracy': 0.7708333333333334}\n",
      "top 13: {'accuracy': 0.7692307692307693}\n",
      "top 14: {'accuracy': 0.7678571428571429}\n",
      "top 15: {'accuracy': 0.75}\n",
      "top 16: {'accuracy': 0.7619047619047619}\n",
      "top 92: {'accuracy': 0.6847826086956522}\n",
      "Data selected for training: \n",
      "top 4: {'accuracy': 0.9375}\n"
     ]
    },
    {
     "data": {
      "text/plain": [
       "Dataset({\n",
       "    features: ['text', 'class_code'],\n",
       "    num_rows: 16\n",
       "})"
      ]
     },
     "execution_count": 16,
     "metadata": {},
     "output_type": "execute_result"
    }
   ],
   "source": [
    "new_train_data = model.selectTrainingData(evaluate=True, y_test=test_dataset['class_code'],method='top_n',top_n=4)\n",
    "df_train = pd.DataFrame(test_dataset).loc[new_train_data.index.to_list()]\n",
    "train_dataset, _ = datasets_handler.buildDatasetDict(df_train)\n",
    "train_dataset\n"
   ]
  },
  {
   "cell_type": "code",
   "execution_count": 17,
   "metadata": {},
   "outputs": [
    {
     "data": {
      "text/html": [
       "<div>\n",
       "<style scoped>\n",
       "    .dataframe tbody tr th:only-of-type {\n",
       "        vertical-align: middle;\n",
       "    }\n",
       "\n",
       "    .dataframe tbody tr th {\n",
       "        vertical-align: top;\n",
       "    }\n",
       "\n",
       "    .dataframe thead th {\n",
       "        text-align: right;\n",
       "    }\n",
       "</style>\n",
       "<table border=\"1\" class=\"dataframe\">\n",
       "  <thead>\n",
       "    <tr style=\"text-align: right;\">\n",
       "      <th></th>\n",
       "      <th>text</th>\n",
       "      <th>class_code</th>\n",
       "    </tr>\n",
       "  </thead>\n",
       "  <tbody>\n",
       "    <tr>\n",
       "      <th>38</th>\n",
       "      <td>Cardinals Outslug Astros to Take Opening Game ...</td>\n",
       "      <td>2</td>\n",
       "    </tr>\n",
       "    <tr>\n",
       "      <th>13</th>\n",
       "      <td>Amvescap reorganizes after settling The chairm...</td>\n",
       "      <td>0</td>\n",
       "    </tr>\n",
       "    <tr>\n",
       "      <th>50</th>\n",
       "      <td>Approval Expected for Big Cellphone Deal Feder...</td>\n",
       "      <td>1</td>\n",
       "    </tr>\n",
       "    <tr>\n",
       "      <th>10</th>\n",
       "      <td>Pope Prays for Beslan School Dead at Italy Mas...</td>\n",
       "      <td>3</td>\n",
       "    </tr>\n",
       "    <tr>\n",
       "      <th>11</th>\n",
       "      <td>Possible playoff preview A #39;s take a hit in...</td>\n",
       "      <td>2</td>\n",
       "    </tr>\n",
       "    <tr>\n",
       "      <th>31</th>\n",
       "      <td>Rapids Clinch MLS Playoff Berth (AP) AP - Dwya...</td>\n",
       "      <td>2</td>\n",
       "    </tr>\n",
       "    <tr>\n",
       "      <th>68</th>\n",
       "      <td>Pacers triumph in Harrington #39;s return Harr...</td>\n",
       "      <td>2</td>\n",
       "    </tr>\n",
       "    <tr>\n",
       "      <th>75</th>\n",
       "      <td>UK minister visits Arafat grave UK Foreign Sec...</td>\n",
       "      <td>3</td>\n",
       "    </tr>\n",
       "    <tr>\n",
       "      <th>58</th>\n",
       "      <td>Peru Rebel Chief Scores Publicity Coup in Cour...</td>\n",
       "      <td>3</td>\n",
       "    </tr>\n",
       "    <tr>\n",
       "      <th>24</th>\n",
       "      <td>US Airways wants court to cut pay Troubled car...</td>\n",
       "      <td>0</td>\n",
       "    </tr>\n",
       "    <tr>\n",
       "      <th>26</th>\n",
       "      <td>Supernova Warning System Will Give Astronomers...</td>\n",
       "      <td>1</td>\n",
       "    </tr>\n",
       "    <tr>\n",
       "      <th>47</th>\n",
       "      <td>Google Results Revive 'Dot-Com' Fervor  NEW YO...</td>\n",
       "      <td>0</td>\n",
       "    </tr>\n",
       "    <tr>\n",
       "      <th>52</th>\n",
       "      <td>Israeli Officer Arrested Over Killing of Gaza ...</td>\n",
       "      <td>3</td>\n",
       "    </tr>\n",
       "    <tr>\n",
       "      <th>7</th>\n",
       "      <td>Orion Debuts Cluster Workstation Orion Multisy...</td>\n",
       "      <td>1</td>\n",
       "    </tr>\n",
       "    <tr>\n",
       "      <th>0</th>\n",
       "      <td>AMD Ships Notebook Chips It wasn #39;t the fir...</td>\n",
       "      <td>1</td>\n",
       "    </tr>\n",
       "    <tr>\n",
       "      <th>85</th>\n",
       "      <td>Atheros reaches into electronics devices Chipm...</td>\n",
       "      <td>1</td>\n",
       "    </tr>\n",
       "  </tbody>\n",
       "</table>\n",
       "</div>"
      ],
      "text/plain": [
       "                                                 text  class_code\n",
       "38  Cardinals Outslug Astros to Take Opening Game ...           2\n",
       "13  Amvescap reorganizes after settling The chairm...           0\n",
       "50  Approval Expected for Big Cellphone Deal Feder...           1\n",
       "10  Pope Prays for Beslan School Dead at Italy Mas...           3\n",
       "11  Possible playoff preview A #39;s take a hit in...           2\n",
       "31  Rapids Clinch MLS Playoff Berth (AP) AP - Dwya...           2\n",
       "68  Pacers triumph in Harrington #39;s return Harr...           2\n",
       "75  UK minister visits Arafat grave UK Foreign Sec...           3\n",
       "58  Peru Rebel Chief Scores Publicity Coup in Cour...           3\n",
       "24  US Airways wants court to cut pay Troubled car...           0\n",
       "26  Supernova Warning System Will Give Astronomers...           1\n",
       "47  Google Results Revive 'Dot-Com' Fervor  NEW YO...           0\n",
       "52  Israeli Officer Arrested Over Killing of Gaza ...           3\n",
       "7   Orion Debuts Cluster Workstation Orion Multisy...           1\n",
       "0   AMD Ships Notebook Chips It wasn #39;t the fir...           1\n",
       "85  Atheros reaches into electronics devices Chipm...           1"
      ]
     },
     "execution_count": 17,
     "metadata": {},
     "output_type": "execute_result"
    }
   ],
   "source": [
    "df_train"
   ]
  },
  {
   "cell_type": "code",
   "execution_count": 18,
   "metadata": {},
   "outputs": [
    {
     "name": "stderr",
     "output_type": "stream",
     "text": [
      "Applying column mapping to training dataset\n",
      "***** Running training *****\n",
      "  Num examples = 64\n",
      "  Num epochs = 1\n",
      "  Total optimization steps = 16\n",
      "  Total train batch size = 4\n"
     ]
    },
    {
     "data": {
      "application/vnd.jupyter.widget-view+json": {
       "model_id": "ed5568177fef44f7b3249e02714b097c",
       "version_major": 2,
       "version_minor": 0
      },
      "text/plain": [
       "Epoch:   0%|          | 0/1 [00:00<?, ?it/s]"
      ]
     },
     "metadata": {},
     "output_type": "display_data"
    },
    {
     "data": {
      "application/vnd.jupyter.widget-view+json": {
       "model_id": "d987c513acab422abd9271ae573952ee",
       "version_major": 2,
       "version_minor": 0
      },
      "text/plain": [
       "Iteration:   0%|          | 0/16 [00:00<?, ?it/s]"
      ]
     },
     "metadata": {},
     "output_type": "display_data"
    },
    {
     "name": "stdout",
     "output_type": "stream",
     "text": [
      "Predicting probabilities of 92 documents\n"
     ]
    },
    {
     "data": {
      "text/plain": [
       "array([[0.1613198 , 0.63082488, 0.09959159, 0.10826372],\n",
       "       [0.17862996, 0.35241319, 0.24500873, 0.22394813],\n",
       "       [0.26222869, 0.39871494, 0.10941236, 0.22964401],\n",
       "       [0.14502072, 0.18460921, 0.1410485 , 0.52932157],\n",
       "       [0.16789531, 0.25031984, 0.19643049, 0.38535436],\n",
       "       [0.17250024, 0.29742212, 0.28099278, 0.24908486],\n",
       "       [0.21184902, 0.29497208, 0.15129715, 0.34188175],\n",
       "       [0.17010913, 0.61777496, 0.10147623, 0.11063968],\n",
       "       [0.10321494, 0.14128653, 0.62483142, 0.13066711],\n",
       "       [0.29873229, 0.40385709, 0.12960178, 0.16780884],\n",
       "       [0.10195986, 0.13416726, 0.13113685, 0.63273604],\n",
       "       [0.11822164, 0.14686209, 0.60519831, 0.12971797],\n",
       "       [0.12317564, 0.1935894 , 0.20333218, 0.47990278],\n",
       "       [0.44645636, 0.27635052, 0.12318874, 0.15400438],\n",
       "       [0.19483485, 0.50645699, 0.15185638, 0.14685178],\n",
       "       [0.17623696, 0.23708444, 0.35151165, 0.23516696],\n",
       "       [0.27689675, 0.4465292 , 0.13619857, 0.14037548],\n",
       "       [0.29526445, 0.44376727, 0.1314969 , 0.12947138],\n",
       "       [0.15503185, 0.22092102, 0.15537723, 0.4686699 ],\n",
       "       [0.28857876, 0.33740174, 0.17522995, 0.19878955],\n",
       "       [0.18669939, 0.20416144, 0.28027322, 0.32886595],\n",
       "       [0.16332122, 0.28798316, 0.17329827, 0.37539735],\n",
       "       [0.14724828, 0.22021506, 0.15586598, 0.47667069],\n",
       "       [0.16587726, 0.23633842, 0.34540079, 0.25238352],\n",
       "       [0.46606479, 0.27102571, 0.13312183, 0.12978767],\n",
       "       [0.19908582, 0.34161209, 0.18218452, 0.27711756],\n",
       "       [0.13167411, 0.59748274, 0.12605023, 0.14479293],\n",
       "       [0.21841898, 0.31783692, 0.18208076, 0.28166333],\n",
       "       [0.14582103, 0.20194967, 0.43779538, 0.21443391],\n",
       "       [0.34827453, 0.38161518, 0.13859429, 0.131516  ],\n",
       "       [0.19051421, 0.20265338, 0.33147128, 0.27536113],\n",
       "       [0.09547698, 0.12225306, 0.66051841, 0.12175155],\n",
       "       [0.18897385, 0.357796  , 0.21845071, 0.23477943],\n",
       "       [0.25032843, 0.47375701, 0.14034485, 0.13556971],\n",
       "       [0.12828211, 0.26701032, 0.209335  , 0.39537257],\n",
       "       [0.12144701, 0.1584137 , 0.56892564, 0.15121365],\n",
       "       [0.31201192, 0.35475012, 0.12920296, 0.20403499],\n",
       "       [0.24161658, 0.31793058, 0.19563481, 0.24481803],\n",
       "       [0.09372616, 0.1185421 , 0.67046091, 0.11727083],\n",
       "       [0.17715974, 0.3423343 , 0.23010679, 0.25039917],\n",
       "       [0.34877304, 0.3944042 , 0.12878221, 0.12804055],\n",
       "       [0.15960346, 0.31579743, 0.21291392, 0.31168519],\n",
       "       [0.13741777, 0.19868026, 0.42941782, 0.23448416],\n",
       "       [0.17767634, 0.22687321, 0.36538111, 0.23006934],\n",
       "       [0.26702335, 0.45000679, 0.13645013, 0.14651973],\n",
       "       [0.13544503, 0.20642403, 0.41151332, 0.24661761],\n",
       "       [0.25294103, 0.52515629, 0.10730274, 0.11459995],\n",
       "       [0.36884378, 0.38109571, 0.1239921 , 0.12606841],\n",
       "       [0.13047208, 0.19204858, 0.18922066, 0.48825868],\n",
       "       [0.15305695, 0.30192929, 0.19555453, 0.34945923],\n",
       "       [0.24017932, 0.5429995 , 0.10079037, 0.11603082],\n",
       "       [0.25313604, 0.37684454, 0.16031386, 0.20970556],\n",
       "       [0.11081367, 0.12972411, 0.11872923, 0.64073299],\n",
       "       [0.35725819, 0.38306653, 0.12556213, 0.13411315],\n",
       "       [0.15444346, 0.2066083 , 0.1597427 , 0.47920555],\n",
       "       [0.19605699, 0.26353452, 0.34149724, 0.19891126],\n",
       "       [0.19770397, 0.45073569, 0.16632862, 0.18523172],\n",
       "       [0.30679386, 0.40435345, 0.12441187, 0.16444082],\n",
       "       [0.11400637, 0.14467554, 0.11746312, 0.62385496],\n",
       "       [0.34216214, 0.39683238, 0.13076329, 0.13024219],\n",
       "       [0.29324109, 0.35541197, 0.12833494, 0.22301201],\n",
       "       [0.36581447, 0.38761063, 0.1202127 , 0.1263622 ],\n",
       "       [0.2479873 , 0.52282604, 0.10250298, 0.12668369],\n",
       "       [0.17254575, 0.29675799, 0.19389386, 0.3368024 ],\n",
       "       [0.19653202, 0.44390744, 0.16251069, 0.19704986],\n",
       "       [0.22312346, 0.51599106, 0.10896131, 0.15192418],\n",
       "       [0.1783363 , 0.25932325, 0.30960109, 0.25273936],\n",
       "       [0.18108016, 0.23931127, 0.35363428, 0.22597429],\n",
       "       [0.09445465, 0.11431908, 0.66980395, 0.12142232],\n",
       "       [0.21554257, 0.34855642, 0.16208443, 0.27381658],\n",
       "       [0.2671892 , 0.47985226, 0.13279069, 0.12016786],\n",
       "       [0.18173887, 0.31261536, 0.24596498, 0.25968079],\n",
       "       [0.16825498, 0.3314134 , 0.15154415, 0.34878747],\n",
       "       [0.30158436, 0.46288479, 0.11333659, 0.12219426],\n",
       "       [0.2181144 , 0.33150756, 0.16611164, 0.2842664 ],\n",
       "       [0.10257983, 0.16315927, 0.12067337, 0.61358753],\n",
       "       [0.27376281, 0.39599301, 0.1224241 , 0.20782008],\n",
       "       [0.32401048, 0.42154646, 0.130258  , 0.12418506],\n",
       "       [0.13268735, 0.24614848, 0.19634073, 0.42482343],\n",
       "       [0.16374384, 0.35639729, 0.19405865, 0.28580022],\n",
       "       [0.30304462, 0.45267186, 0.11292904, 0.13135448],\n",
       "       [0.26021486, 0.39695587, 0.15966748, 0.18316178],\n",
       "       [0.14939014, 0.36773252, 0.17391985, 0.30895749],\n",
       "       [0.25205376, 0.35602035, 0.1545698 , 0.2373561 ],\n",
       "       [0.30948912, 0.38604145, 0.13369288, 0.17077655],\n",
       "       [0.18412626, 0.6087392 , 0.09781953, 0.10931501],\n",
       "       [0.24603242, 0.45492869, 0.14532334, 0.15371556],\n",
       "       [0.11734213, 0.15150024, 0.57446307, 0.15669456],\n",
       "       [0.21316998, 0.25346738, 0.26228747, 0.27107517],\n",
       "       [0.17038579, 0.25543482, 0.16817456, 0.40600483],\n",
       "       [0.18274013, 0.29056146, 0.27036741, 0.256331  ],\n",
       "       [0.2488449 , 0.37478553, 0.20403106, 0.17233852]])"
      ]
     },
     "execution_count": 18,
     "metadata": {},
     "output_type": "execute_result"
    }
   ],
   "source": [
    "### build trainer for contrastive learning\n",
    "model.buildTrainer(train_dataset)\n",
    "### train\n",
    "model.contrastive_train()\n",
    "gc.collect()\n",
    "\n",
    "model.predict_proba(test_dataset['text'])"
   ]
  },
  {
   "cell_type": "code",
   "execution_count": 19,
   "metadata": {},
   "outputs": [
    {
     "name": "stdout",
     "output_type": "stream",
     "text": [
      "{'weighted': [{'accuracy': 0.6304347826086957}, {'precision': 0.808209906035993}, {'recall': 0.6304347826086957}, {'f1': 0.5865247585876633}], 'macro': [{'accuracy': 0.6304347826086957}, {'precision': 0.8081501831501832}, {'recall': 0.6467948717948717}, {'f1': 0.597690980669704}]}\n",
      "                        precision    recall  f1-score   support\n",
      "\n",
      "              business       0.08      1.00      0.15         2\n",
      "science and technology       1.00      0.42      0.59        52\n",
      "                sports       0.85      1.00      0.92        17\n",
      "                 world       0.65      0.81      0.72        21\n",
      "\n",
      "              accuracy                           0.63        92\n",
      "             macro avg       0.65      0.81      0.60        92\n",
      "          weighted avg       0.87      0.63      0.67        92\n",
      "\n",
      "metrics_setfit_2023_04_17__20_34_53.csv\n",
      "config_setfit_2023_04_17__20_34_53.csv\n",
      "{'similarity_model': 'sentence-transformers/all-roberta-large-v1', 'setfit_model': 'sentence-transformers/all-roberta-large-v1', 'split': 'zeroshot', 'class_col': 'class', 'data_col': 'text', 'dataset': 'ag_news', 'labeling_method': 'dotproduct', 'max_inferences': 100, 'classes': ['business', 'science and technology', 'sports', 'world'], 'template': 'this text is mainly about {}.', 'random_state': 333, 'top_n': 2, 'training_examples': 2, 'batch_size': 4, 'num_pairs': 2, 'num_epochs': 1, 'keep_body_frozen_setfit': False, 'label_encoder': LabelEncoder(), 'average_sentence_embeddings': False, 'self_training_epochs': 2, 'st_train_epochs': 10, 'st_train_batch_size': 20, 'exec_time': '2023_04_17__20_20_25'}\n"
     ]
    }
   ],
   "source": [
    "setfit_all_metrics = evaluation_metrics.get_metrics(model.y_pred, test_dataset[\"class_code\"])\n",
    "print(setfit_all_metrics)\n",
    "print(classification_report(model.y_pred, test_dataset['class_code'],target_names=classes_list))\n",
    "setfit_exec_time  = evaluation_metrics.saveResults(model.config,setfit_all_metrics,None)\n",
    "print(model.config)"
   ]
  }
 ],
 "metadata": {
  "kernelspec": {
   "display_name": "venv_zeroberto",
   "language": "python",
   "name": "python3"
  },
  "language_info": {
   "codemirror_mode": {
    "name": "ipython",
    "version": 3
   },
   "file_extension": ".py",
   "mimetype": "text/x-python",
   "name": "python",
   "nbconvert_exporter": "python",
   "pygments_lexer": "ipython3",
   "version": "3.10.9"
  },
  "orig_nbformat": 4
 },
 "nbformat": 4,
 "nbformat_minor": 2
}
