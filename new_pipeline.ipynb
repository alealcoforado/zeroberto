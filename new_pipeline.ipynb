{
 "cells": [
  {
   "cell_type": "code",
   "execution_count": 1,
   "metadata": {},
   "outputs": [],
   "source": [
    "%load_ext autoreload\n",
    "%autoreload 2"
   ]
  },
  {
   "cell_type": "code",
   "execution_count": null,
   "metadata": {},
   "outputs": [],
   "source": []
  },
  {
   "attachments": {},
   "cell_type": "markdown",
   "metadata": {},
   "source": [
    "# Dependencies"
   ]
  },
  {
   "cell_type": "code",
   "execution_count": 2,
   "metadata": {},
   "outputs": [
    {
     "name": "stderr",
     "output_type": "stream",
     "text": [
      "/Users/alealcoforado/Documents/Projetos/ZeroBERTo/zeroberto/datasets_handler.py:181: FutureWarning: The default dtype for empty Series will be 'object' instead of 'float64' in a future version. Specify a dtype explicitly to silence this warning.\n",
      "  def splitDocuments(docs: pd.Series()) -> list():\n",
      "0it [00:00, ?it/s]\n"
     ]
    }
   ],
   "source": [
    "import datasets_handler\n",
    "import evaluation_metrics\n",
    "from zeroberto import ZeroBERTo\n",
    "import gc\n",
    "import pandas as pd\n",
    "from datasets import load_dataset, Dataset\n",
    "from sklearn.preprocessing import LabelEncoder\n",
    "\n",
    "google_colab = False"
   ]
  },
  {
   "cell_type": "code",
   "execution_count": 3,
   "metadata": {},
   "outputs": [],
   "source": [
    "if google_colab:\n",
    "    from google.colab import drive\n",
    "    drive.mount('/content/drive')\n",
    "    # dataset_path = '/content/drive/Othercomputers/My MacBook Pro/Datasets/folhauol/folhauol_clean_df_articles.csv'\n",
    "    # dataset_path = '/content/drive/MyDrive/Maquina de London/clean_df_articles_folhauol.csv'\n",
    "    zeroshot_data_path = './'\n",
    "else:\n",
    "    dataset_path = None\n",
    "    zeroshot_data_path = None"
   ]
  },
  {
   "attachments": {},
   "cell_type": "markdown",
   "metadata": {},
   "source": [
    "# Data"
   ]
  },
  {
   "cell_type": "code",
   "execution_count": 4,
   "metadata": {},
   "outputs": [],
   "source": [
    "which_dataset = 'folhauol' \n",
    "max_inferences = 50000\n",
    "random_state = 333\n",
    "le = LabelEncoder()\n",
    "\n",
    "raw_data, data_col, class_col = datasets_handler.getDataset(which_dataset,path=dataset_path)\n",
    "classes_list = list(raw_data[class_col].unique())\n",
    "le.fit(raw_data[class_col])\n",
    "raw_data = evaluation_metrics.Encoder(raw_data,labelEncoder=le,columnsToEncode=[class_col])\n",
    "data_to_label = raw_data.sample(max_inferences,random_state=random_state).sort_index()\n"
   ]
  },
  {
   "attachments": {},
   "cell_type": "markdown",
   "metadata": {},
   "source": [
    "# Parameters"
   ]
  },
  {
   "cell_type": "code",
   "execution_count": 14,
   "metadata": {},
   "outputs": [],
   "source": [
    "zeroshot_method = \"dotproduct\"  \n",
    "\n",
    "zeroshot_config = {\n",
    "    'similarity_model' : 'sentence-transformers/stsb-xlm-r-multilingual', # model for semantic similarity\n",
    "    'setfit_model' : 'sentence-transformers/stsb-xlm-r-multilingual',# 'ricardo-filho/bert-base-portuguese-cased-nli-assin-2' # model for contrastive learning and classification\n",
    "    'dataset':which_dataset, ### which dataset we are using\n",
    "    'class_col':class_col, ### which column of the dataset has the classes\n",
    "    'data_col':data_col, ### which column of the dataset has the data\n",
    "    'split':\"zeroshot\", ### fewshot (uses real training data) or zeroshot (uses previously selected training data)\n",
    "    'labeling_method':zeroshot_method, ### how the first labeling should be executed\n",
    "    'max_inferences':max_inferences, ### sample size from full dataset (number of records)\n",
    "    'classes':classes_list, ### classes from the dataset\n",
    "    'template': \"Esse texto está relacionado a {}.\", ### prompt that will be used for semantic search\n",
    "    'random_state':random_state, ### random state for reproducibility\n",
    "    'top_n': 8, ### how many best predictions from zeroshot should be recovered\n",
    "    'training_examples': 8, ### how many examples per class should be used for training\n",
    "    \"batch_size\" : 4, ### contrastive training batch size\n",
    "    \"num_pairs\" : 10, ### number of text pairs that will be generated in contrastive learning\n",
    "    \"num_epochs\" : 3, ### number of epochs training will be conducted\n",
    "    # 'keep_body_frozen_setfit': True,     # Unfreeze head and freeze body -> head-only training\n",
    "    'keep_body_frozen_setfit' : False, # Unfreeze head and body -> end-to-end training\n",
    "    'label_encoder' : le, ### label encoder to use for encoding categorial data into int\n",
    "    'average_sentence_embeddings':False, ### whether documents should be split by . and their embeddings be a mean of sentences embeddings\n",
    "    'st_train_epochs': 10, ### sentence-transformer TSDAE fine-tuning --- do not use\n",
    "    'st_train_batch_size': 20, ### sentence-transformer TSDAE fine-tuning --- do not use\n",
    "}\n",
    "\n"
   ]
  },
  {
   "attachments": {},
   "cell_type": "markdown",
   "metadata": {},
   "source": [
    "# Model"
   ]
  },
  {
   "cell_type": "code",
   "execution_count": 15,
   "metadata": {},
   "outputs": [
    {
     "name": "stderr",
     "output_type": "stream",
     "text": [
      "model_head.pkl not found on HuggingFace Hub, initialising classification head with random weights. You should TRAIN this model on a downstream task to use it for predictions and inference.\n"
     ]
    },
    {
     "name": "stdout",
     "output_type": "stream",
     "text": [
      "1\n",
      "queries\n",
      "3\n",
      "4\n"
     ]
    }
   ],
   "source": [
    "model = ZeroBERTo(classes_list=zeroshot_config['classes'],labeling_dataset=data_to_label,\n",
    "                embeddingModel=zeroshot_config['similarity_model'],config=zeroshot_config)\n",
    "       "
   ]
  },
  {
   "cell_type": "code",
   "execution_count": 16,
   "metadata": {},
   "outputs": [
    {
     "data": {
      "text/plain": [
       "False"
      ]
     },
     "execution_count": 16,
     "metadata": {},
     "output_type": "execute_result"
    }
   ],
   "source": [
    "model.average_sentence_embeddings"
   ]
  },
  {
   "attachments": {},
   "cell_type": "markdown",
   "metadata": {},
   "source": [
    "# Labeling"
   ]
  },
  {
   "cell_type": "code",
   "execution_count": null,
   "metadata": {},
   "outputs": [],
   "source": []
  },
  {
   "cell_type": "code",
   "execution_count": 18,
   "metadata": {},
   "outputs": [
    {
     "name": "stdout",
     "output_type": "stream",
     "text": [
      "CPU times: user 5 µs, sys: 1e+03 ns, total: 6 µs\n",
      "Wall time: 5.72 µs\n"
     ]
    }
   ],
   "source": [
    "%%time\n",
    "# if (model.config['split']=='zeroshot'): ###  selecting training data\n",
    "    # model.runLabeling()\n",
    "    # model.evaluateLabeling()\n",
    "    # model.getLabelingMetrics()\n",
    "    # model.saveLabelingResults(local_path=zeroshot_data_path)\n",
    "model.config['exec_time'] = '2023_04_10__02_51_43' #### comment above and use this if labeling is already done"
   ]
  },
  {
   "attachments": {},
   "cell_type": "markdown",
   "metadata": {},
   "source": [
    "Constrative Learning Data"
   ]
  },
  {
   "cell_type": "code",
   "execution_count": 19,
   "metadata": {},
   "outputs": [
    {
     "name": "stderr",
     "output_type": "stream",
     "text": [
      "/Users/alealcoforado/Documents/Projetos/ZeroBERTo/zeroberto/datasets_handler.py:146: FutureWarning: The default value of numeric_only in DataFrame.sum is deprecated. In a future version, it will default to False. In addition, specifying 'numeric_only=None' is deprecated. Select only valid columns or specify the value of numeric_only to silence this warning.\n",
      "  print(train_data.sum())\n"
     ]
    },
    {
     "name": "stdout",
     "output_type": "stream",
     "text": [
      "Unnamed: 0                                                   7666957\n",
      "title              Cientistas estudam meios de acelerar os instin...\n",
      "date               2015-11-042015-09-192017-04-262017-07-172015-0...\n",
      "link               http://www1.folha.uol.com.br/ciencia/2015/04/1...\n",
      "data               Cientistas estudam meios de acelerar os instin...\n",
      "text               Cientistas estudam meios de acelerar os instin...\n",
      "len                                                           321446\n",
      "prediction_code                                                  528\n",
      "top_probability                                            11.063209\n",
      "dtype: object\n"
     ]
    }
   ],
   "source": [
    "df_train,df_test = datasets_handler.splitDataset(model.labeling_dataset,model.config) \n",
    "train_dataset,test_dataset = datasets_handler.buildDatasetDict(df_train,df_test)\n"
   ]
  },
  {
   "cell_type": "code",
   "execution_count": null,
   "metadata": {},
   "outputs": [],
   "source": []
  },
  {
   "attachments": {},
   "cell_type": "markdown",
   "metadata": {},
   "source": [
    "# Training"
   ]
  },
  {
   "cell_type": "code",
   "execution_count": 20,
   "metadata": {},
   "outputs": [
    {
     "name": "stderr",
     "output_type": "stream",
     "text": [
      "Applying column mapping to training dataset\n",
      "***** Running training *****\n",
      "  Num examples = 1920\n",
      "  Num epochs = 3\n",
      "  Total optimization steps = 1440\n",
      "  Total train batch size = 4\n"
     ]
    },
    {
     "data": {
      "application/vnd.jupyter.widget-view+json": {
       "model_id": "8a86063f9e754958be6f93d525b29821",
       "version_major": 2,
       "version_minor": 0
      },
      "text/plain": [
       "Epoch:   0%|          | 0/3 [00:00<?, ?it/s]"
      ]
     },
     "metadata": {},
     "output_type": "display_data"
    },
    {
     "data": {
      "application/vnd.jupyter.widget-view+json": {
       "model_id": "495bb72cc5584a65aad9b9f3c1d86185",
       "version_major": 2,
       "version_minor": 0
      },
      "text/plain": [
       "Iteration:   0%|          | 0/1440 [00:00<?, ?it/s]"
      ]
     },
     "metadata": {},
     "output_type": "display_data"
    },
    {
     "data": {
      "application/vnd.jupyter.widget-view+json": {
       "model_id": "ec45edc23d99488bae8581e293a596be",
       "version_major": 2,
       "version_minor": 0
      },
      "text/plain": [
       "Iteration:   0%|          | 0/1440 [00:00<?, ?it/s]"
      ]
     },
     "metadata": {},
     "output_type": "display_data"
    },
    {
     "data": {
      "application/vnd.jupyter.widget-view+json": {
       "model_id": "5f3926e90aab457fb5dcacc8bc637cc2",
       "version_major": 2,
       "version_minor": 0
      },
      "text/plain": [
       "Iteration:   0%|          | 0/1440 [00:00<?, ?it/s]"
      ]
     },
     "metadata": {},
     "output_type": "display_data"
    },
    {
     "name": "stdout",
     "output_type": "stream",
     "text": [
      "Predicting 50000 documents\n"
     ]
    },
    {
     "data": {
      "text/plain": [
       "array([10,  6,  8, ...,  8,  8,  7])"
      ]
     },
     "execution_count": 20,
     "metadata": {},
     "output_type": "execute_result"
    }
   ],
   "source": [
    "### overrides config for looping second part of the model\n",
    "# model.config['num_epochs'] = 5\n",
    "# model.config['num_pairs'] = 20\n",
    "# # model.config['keep_body_frozen_setfit'] = False\n",
    "\n",
    "### build trainer for contrastive learning\n",
    "model.buildTrainer(train_dataset)\n",
    "\n",
    "### train\n",
    "model.contrastive_train()\n",
    "gc.collect()\n",
    "\n",
    "### predict labeling dataset with new classifier\n",
    "# model.getPredictions()\n",
    "\n",
    "model.predict(test_dataset['text'])\n",
    "# 5000 sentences --- 4min40s ---sts-xlm-rr\n",
    "# 5000 sentences ---  ---ricardo-filho/bert-portuguese\n"
   ]
  },
  {
   "cell_type": "code",
   "execution_count": 21,
   "metadata": {},
   "outputs": [
    {
     "name": "stdout",
     "output_type": "stream",
     "text": [
      "{'weighted': [{'accuracy': 0.54862}, {'precision': 0.55511988723064}, {'recall': 0.54862}, {'f1': 0.5318512144614356}], 'macro': [{'accuracy': 0.54862}, {'precision': 0.4078972883851902}, {'recall': 0.5937672398467065}, {'f1': 0.44669122448790133}]}\n",
      "metrics_setfit_2023_04_10__15_32_12.csv\n",
      "config_setfit_2023_04_10__15_32_12.csv\n",
      "{'similarity_model': 'sentence-transformers/stsb-xlm-r-multilingual', 'setfit_model': 'sentence-transformers/stsb-xlm-r-multilingual', 'dataset': 'folhauol', 'class_col': 'class', 'data_col': 'text', 'split': 'zeroshot', 'labeling_method': 'dotproduct', 'max_inferences': 50000, 'classes': ['Poder e Política no Brasil', 'Mercado', 'Notícias de fora do Brasil', 'Esporte', 'Tecnologia', 'Meio Ambiente', 'Equilíbrio e Saúde', 'Educação', 'TV, Televisão e Entretenimento', 'Ciência', 'Turismo', 'Comida'], 'template': 'Esse texto está relacionado a {}.', 'random_state': 333, 'top_n': 8, 'training_examples': 8, 'batch_size': 4, 'num_pairs': 10, 'num_epochs': 3, 'keep_body_frozen_setfit': False, 'label_encoder': LabelEncoder(), 'average_sentence_embeddings': False, 'st_train_epochs': 10, 'st_train_batch_size': 20, 'exec_time': '2023_04_10__02_51_43'}\n"
     ]
    }
   ],
   "source": [
    "setfit_all_metrics = evaluation_metrics.get_metrics(model.y_pred, test_dataset[\"class_code\"])\n",
    "print(setfit_all_metrics)\n",
    "\n",
    "setfit_exec_time  = evaluation_metrics.saveResults(model.config,setfit_all_metrics,None)\n",
    "print(model.config)"
   ]
  },
  {
   "cell_type": "code",
   "execution_count": null,
   "metadata": {},
   "outputs": [],
   "source": []
  },
  {
   "cell_type": "code",
   "execution_count": null,
   "metadata": {},
   "outputs": [],
   "source": []
  }
 ],
 "metadata": {
  "kernelspec": {
   "display_name": "venv_zeroberto",
   "language": "python",
   "name": "python3"
  },
  "language_info": {
   "codemirror_mode": {
    "name": "ipython",
    "version": 3
   },
   "file_extension": ".py",
   "mimetype": "text/x-python",
   "name": "python",
   "nbconvert_exporter": "python",
   "pygments_lexer": "ipython3",
   "version": "3.10.9"
  },
  "orig_nbformat": 4
 },
 "nbformat": 4,
 "nbformat_minor": 2
}
