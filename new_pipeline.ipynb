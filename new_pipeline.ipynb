{
 "cells": [
  {
   "cell_type": "code",
   "execution_count": 1,
   "metadata": {},
   "outputs": [],
   "source": [
    "%load_ext autoreload\n",
    "%autoreload 2"
   ]
  },
  {
   "attachments": {},
   "cell_type": "markdown",
   "metadata": {},
   "source": [
    "# Dependencies"
   ]
  },
  {
   "cell_type": "code",
   "execution_count": 2,
   "metadata": {},
   "outputs": [
    {
     "name": "stderr",
     "output_type": "stream",
     "text": [
      "/Users/alealcoforado/Documents/Projetos/ZeroBERTo/zeroberto/datasets_handler.py:166: FutureWarning: The default dtype for empty Series will be 'object' instead of 'float64' in a future version. Specify a dtype explicitly to silence this warning.\n",
      "  def splitDocuments(docs: pd.Series()) -> list():\n",
      "0it [00:00, ?it/s]\n"
     ]
    }
   ],
   "source": [
    "import datasets_handler\n",
    "import evaluation_metrics\n",
    "import zeroberto\n",
    "from zeroberto import ZeroBERTo\n",
    "from sentence_transformers.losses import CosineSimilarityLoss\n",
    "from setfit import SetFitModel, SetFitTrainer\n",
    "import gc"
   ]
  },
  {
   "cell_type": "code",
   "execution_count": 6,
   "metadata": {},
   "outputs": [
    {
     "name": "stderr",
     "output_type": "stream",
     "text": [
      "model_head.pkl not found on HuggingFace Hub, initialising classification head with random weights. You should TRAIN this model on a downstream task to use it for predictions and inference.\n"
     ]
    }
   ],
   "source": [
    "which_dataset = 'folhauol' \n",
    "max_inferences = 5000\n",
    "\n",
    "hyp_template = \"Esse texto está relacionado a {}.\"\n",
    "\n",
    "raw_data, data_col, class_col = datasets_handler.getDataset(which_dataset)\n",
    "classes_list = list(raw_data[class_col].unique())\n",
    "\n",
    "zeroshot_method = \"dotproduct\"  \n",
    "\n",
    "zeroshot_config = {\n",
    "    'similarity_model' : 'sentence-transformers/stsb-xlm-r-multilingual',\n",
    "    'setfit_model' : 'sentence-transformers/stsb-xlm-r-multilingual',\n",
    "    'dataset':which_dataset,\n",
    "    'class_col':class_col,\n",
    "    'data_col':data_col,\n",
    "    'split':\"zeroshot\",\n",
    "    'method':zeroshot_method,\n",
    "    'max_inferences':max_inferences,\n",
    "    'classes':classes_list,\n",
    "    'template': hyp_template,\n",
    "    'random_state':422,\n",
    "    'top_n': 8,\n",
    "    'n_examples': 8,\n",
    "    \"batch_size\" : 4,\n",
    "    \"num_pairs\" : 20,\n",
    "    \"num_epochs\" : 1,\n",
    "    'st_train_epochs': 10,\n",
    "    'st_train_batch_size': 20,\n",
    "    # Unfreeze the head and freeze the body -> head-only training\n",
    "    'keep_body_frozen_setfit': True,\n",
    "    # Unfreeze the head and unfreeze the body -> end-to-end training\n",
    "    # zeroshot_config['keep_body_frozen_setfit'] = False\n",
    "}\n",
    "\n",
    "data_to_label = raw_data.sample(zeroshot_config['max_inferences'],random_state=zeroshot_config['random_state']).sort_index()\n",
    "\n",
    "model = ZeroBERTo(classes_list=zeroshot_config['classes'],hypothesis_template=zeroshot_config['template'],\n",
    "                  labeling_dataset=data_to_label,labeling_method=zeroshot_config['method'],\n",
    "                  embeddingModel=zeroshot_config['similarity_model'],config=zeroshot_config)\n",
    "                  \n",
    "model.runLabeling()\n",
    "model.evaluateLabeling()\n",
    "\n",
    "model.getLabelingMetrics()\n",
    "model.saveLabelingResults()\n",
    "\n",
    "### load results from labeling step and create training data for contrastive learning\n",
    "zeroshot_previous_data = datasets_handler.getZeroshotPreviousData(\n",
    "    model.config['dataset'],model.config['class_col'],top_n=model.config['top_n'],exec_time=model.config['exec_time'])\n",
    "raw_data_final, model.config['new_class_col'] = datasets_handler.mergeLabelingToDataset(\n",
    "    raw_data,zeroshot_previous_data,model.config['class_col'])\n",
    "\n",
    "df_train, df_test = datasets_handler.splitDataset(raw_data_final,model.config) ### df_test will not be used\n",
    "train_dataset = datasets_handler.buildDatasetDict(df_train)\n",
    "\n",
    "### build trainer for contrastive learning\n",
    "model.buildTrainer(train_dataset)\n",
    "\n",
    "### train\n",
    "model.contrastive_train()\n",
    "gc.collect()\n",
    "\n",
    "### predict labeling dataset with new classifier\n",
    "model.getPredictions()\n",
    "# 5000 sentences --- 4min40s ---sts-xlm-rr\n",
    "# 5000 sentences ---  ---ricardo-filho/bert-portuguese\n",
    "\n",
    "setfit_all_metrics = evaluation_metrics.get_metrics(model.y_pred, model.trainer.eval_dataset[\"class_code\"])\n",
    "print(setfit_all_metrics['weighted'][0])\n",
    "\n",
    "setfit_exec_time  = evaluation_metrics.saveResults(model.config,setfit_all_metrics)\n",
    "print(model.config)"
   ]
  },
  {
   "cell_type": "code",
   "execution_count": null,
   "metadata": {},
   "outputs": [],
   "source": []
  }
 ],
 "metadata": {
  "kernelspec": {
   "display_name": "venv_zeroberto",
   "language": "python",
   "name": "python3"
  },
  "language_info": {
   "codemirror_mode": {
    "name": "ipython",
    "version": 3
   },
   "file_extension": ".py",
   "mimetype": "text/x-python",
   "name": "python",
   "nbconvert_exporter": "python",
   "pygments_lexer": "ipython3",
   "version": "3.10.9"
  },
  "orig_nbformat": 4
 },
 "nbformat": 4,
 "nbformat_minor": 2
}
