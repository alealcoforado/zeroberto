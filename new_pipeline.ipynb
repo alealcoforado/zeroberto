{
 "cells": [
  {
   "cell_type": "code",
   "execution_count": 1,
   "metadata": {},
   "outputs": [],
   "source": [
    "%load_ext autoreload\n",
    "%autoreload 2"
   ]
  },
  {
   "cell_type": "code",
   "execution_count": null,
   "metadata": {},
   "outputs": [],
   "source": []
  },
  {
   "attachments": {},
   "cell_type": "markdown",
   "metadata": {},
   "source": [
    "# Dependencies"
   ]
  },
  {
   "cell_type": "code",
   "execution_count": 2,
   "metadata": {},
   "outputs": [
    {
     "name": "stderr",
     "output_type": "stream",
     "text": [
      "/Users/alealcoforado/Documents/Projetos/ZeroBERTo/zeroberto/datasets_handler.py:184: FutureWarning: The default dtype for empty Series will be 'object' instead of 'float64' in a future version. Specify a dtype explicitly to silence this warning.\n",
      "  def splitDocuments(docs: pd.Series()) -> list():\n",
      "0it [00:00, ?it/s]\n"
     ]
    }
   ],
   "source": [
    "import datasets_handler\n",
    "import evaluation_metrics\n",
    "from zeroberto import ZeroBERTo\n",
    "import gc\n",
    "import pandas as pd\n",
    "from datasets import load_dataset, Dataset\n",
    "from sklearn.preprocessing import LabelEncoder\n",
    "\n",
    "google_colab = False"
   ]
  },
  {
   "cell_type": "code",
   "execution_count": 3,
   "metadata": {},
   "outputs": [],
   "source": [
    "if google_colab:\n",
    "    from google.colab import drive\n",
    "    drive.mount('/content/drive')\n",
    "    # dataset_path = '/content/drive/Othercomputers/My MacBook Pro/Datasets/folhauol/folhauol_clean_df_articles.csv'\n",
    "    # dataset_path = '/content/drive/MyDrive/Maquina de London/clean_df_articles_folhauol.csv'\n",
    "    zeroshot_data_path = './'\n",
    "else:\n",
    "    dataset_path = None\n",
    "    zeroshot_data_path = None"
   ]
  },
  {
   "attachments": {},
   "cell_type": "markdown",
   "metadata": {},
   "source": [
    "# Data"
   ]
  },
  {
   "cell_type": "code",
   "execution_count": 4,
   "metadata": {},
   "outputs": [
    {
     "name": "stderr",
     "output_type": "stream",
     "text": [
      "Found cached dataset ag_news (/Users/alealcoforado/.cache/huggingface/datasets/ag_news/default/0.0.0/bc2bcb40336ace1a0374767fc29bb0296cdaf8a6da7298436239c54d79180548)\n"
     ]
    },
    {
     "data": {
      "application/vnd.jupyter.widget-view+json": {
       "model_id": "4ff09eb393b24c018081e9096c71bb32",
       "version_major": 2,
       "version_minor": 0
      },
      "text/plain": [
       "  0%|          | 0/2 [00:00<?, ?it/s]"
      ]
     },
     "metadata": {},
     "output_type": "display_data"
    }
   ],
   "source": [
    "which_dataset = 'ag_news' \n",
    "max_inferences = 5000\n",
    "random_state = 333\n",
    "le = LabelEncoder()\n",
    "\n",
    "raw_data, data_col, class_col = datasets_handler.getDataset(which_dataset,path=dataset_path)\n",
    "classes_list = list(raw_data[class_col].unique())\n",
    "le.fit(raw_data[class_col])\n",
    "raw_data = evaluation_metrics.Encoder(raw_data,labelEncoder=le,columnsToEncode=[class_col])\n",
    "data_to_label = raw_data.sample(max_inferences,random_state=random_state).sort_index()\n"
   ]
  },
  {
   "attachments": {},
   "cell_type": "markdown",
   "metadata": {},
   "source": [
    "# Parameters"
   ]
  },
  {
   "cell_type": "code",
   "execution_count": 12,
   "metadata": {},
   "outputs": [],
   "source": [
    "zeroshot_method = \"dotproduct\"  \n",
    "\n",
    "zeroshot_config = {\n",
    "    'similarity_model' : 'sentence-transformers/stsb-xlm-r-multilingual', # model for semantic similarity\n",
    "    'setfit_model' : 'sentence-transformers/stsb-xlm-r-multilingual',# 'ricardo-filho/bert-base-portuguese-cased-nli-assin-2' # model for contrastive learning and classification\n",
    "    'dataset':which_dataset, ### which dataset we are using\n",
    "    'class_col':class_col, ### which column of the dataset has the classes\n",
    "    'data_col':data_col, ### which column of the dataset has the data\n",
    "    'split':\"zeroshot\", ### fewshot (uses real training data) or zeroshot (uses previously selected training data)\n",
    "    'labeling_method':zeroshot_method, ### how the first labeling should be executed\n",
    "    'max_inferences':max_inferences, ### sample size from full dataset (number of records)\n",
    "    'classes':classes_list, ### classes from the dataset\n",
    "    'template': \"Esse texto está relacionado a {}.\", ### prompt that will be used for semantic search\n",
    "    'random_state':random_state, ### random state for reproducibility\n",
    "    'top_n': 8, ### how many best predictions from zeroshot should be recovered\n",
    "    'training_examples': 8, ### how many examples per class should be used for training\n",
    "    \"batch_size\" : 4, ### contrastive training batch size\n",
    "    \"num_pairs\" : 10, ### number of text pairs that will be generated in contrastive learning\n",
    "    \"num_epochs\" : 1, ### number of epochs training will be conducted\n",
    "    # 'keep_body_frozen_setfit': True,     # Unfreeze head and freeze body -> head-only training\n",
    "    'keep_body_frozen_setfit' : False, # Unfreeze head and body -> end-to-end training\n",
    "    'label_encoder' : le, ### label encoder to use for encoding categorial data into int\n",
    "    'average_sentence_embeddings':False, ### whether documents should be split by . and their embeddings be a mean of sentences embeddings\n",
    "    'st_train_epochs': 10, ### sentence-transformer TSDAE fine-tuning --- do not use\n",
    "    'st_train_batch_size': 20, ### sentence-transformer TSDAE fine-tuning --- do not use\n",
    "}\n",
    "\n"
   ]
  },
  {
   "attachments": {},
   "cell_type": "markdown",
   "metadata": {},
   "source": [
    "# Model"
   ]
  },
  {
   "cell_type": "code",
   "execution_count": 13,
   "metadata": {},
   "outputs": [
    {
     "name": "stderr",
     "output_type": "stream",
     "text": [
      "model_head.pkl not found on HuggingFace Hub, initialising classification head with random weights. You should TRAIN this model on a downstream task to use it for predictions and inference.\n"
     ]
    },
    {
     "name": "stdout",
     "output_type": "stream",
     "text": [
      "1\n",
      "queries\n",
      "3\n",
      "4\n"
     ]
    }
   ],
   "source": [
    "model = ZeroBERTo(classes_list=zeroshot_config['classes'],labeling_dataset=data_to_label,\n",
    "                embeddingModel=zeroshot_config['similarity_model'],config=zeroshot_config)\n",
    "       "
   ]
  },
  {
   "attachments": {},
   "cell_type": "markdown",
   "metadata": {},
   "source": [
    "# Labeling"
   ]
  },
  {
   "cell_type": "code",
   "execution_count": 14,
   "metadata": {},
   "outputs": [
    {
     "name": "stdout",
     "output_type": "stream",
     "text": [
      "CPU times: user 4 µs, sys: 1e+03 ns, total: 5 µs\n",
      "Wall time: 5.96 µs\n"
     ]
    }
   ],
   "source": [
    "%%time\n",
    "# if (model.config['split']=='zeroshot'): ###  selecting training data\n",
    "#     model.runLabeling()\n",
    "#     model.evaluateLabeling()\n",
    "#     model.getLabelingMetrics()\n",
    "#     model.saveLabelingResults(local_path=zeroshot_data_path)\n",
    "model.config['exec_time'] = '2023_04_10__17_26_04' #### comment above and use this if labeling is already done"
   ]
  },
  {
   "attachments": {},
   "cell_type": "markdown",
   "metadata": {},
   "source": [
    "Constrative Learning Data"
   ]
  },
  {
   "cell_type": "code",
   "execution_count": 15,
   "metadata": {},
   "outputs": [
    {
     "name": "stdout",
     "output_type": "stream",
     "text": [
      "Unnamed: 0                                                   2280775\n",
      "index                                                        1920775\n",
      "text               Business digest NEW YORK - Investors sent stoc...\n",
      "label                                                             48\n",
      "prediction_code                                                   48\n",
      "top_probability                                             9.995022\n",
      "dtype: object\n"
     ]
    }
   ],
   "source": [
    "df_train,df_test = datasets_handler.splitDataset(model.labeling_dataset,model.config) \n",
    "train_dataset,test_dataset = datasets_handler.buildDatasetDict(df_train,df_test)\n"
   ]
  },
  {
   "cell_type": "code",
   "execution_count": 16,
   "metadata": {},
   "outputs": [
    {
     "data": {
      "text/html": [
       "<div>\n",
       "<style scoped>\n",
       "    .dataframe tbody tr th:only-of-type {\n",
       "        vertical-align: middle;\n",
       "    }\n",
       "\n",
       "    .dataframe tbody tr th {\n",
       "        vertical-align: top;\n",
       "    }\n",
       "\n",
       "    .dataframe thead th {\n",
       "        text-align: right;\n",
       "    }\n",
       "</style>\n",
       "<table border=\"1\" class=\"dataframe\">\n",
       "  <thead>\n",
       "    <tr style=\"text-align: right;\">\n",
       "      <th></th>\n",
       "      <th></th>\n",
       "      <th>text</th>\n",
       "      <th>class_code</th>\n",
       "    </tr>\n",
       "    <tr>\n",
       "      <th>prediction_code</th>\n",
       "      <th>Unnamed: 0</th>\n",
       "      <th></th>\n",
       "      <th></th>\n",
       "    </tr>\n",
       "  </thead>\n",
       "  <tbody>\n",
       "    <tr>\n",
       "      <th rowspan=\"8\" valign=\"top\">0</th>\n",
       "      <th>61101</th>\n",
       "      <td>Business digest NEW YORK - Investors sent stoc...</td>\n",
       "      <td>0</td>\n",
       "    </tr>\n",
       "    <tr>\n",
       "      <th>20800</th>\n",
       "      <td>ADV: The New York Times Home Delivery Uncover ...</td>\n",
       "      <td>0</td>\n",
       "    </tr>\n",
       "    <tr>\n",
       "      <th>52254</th>\n",
       "      <td>DOJ, SEC charge Ex-Peregrine execs over accoun...</td>\n",
       "      <td>0</td>\n",
       "    </tr>\n",
       "    <tr>\n",
       "      <th>5409</th>\n",
       "      <td>Chain Store Sales Rise in the Latest Week  NEW...</td>\n",
       "      <td>0</td>\n",
       "    </tr>\n",
       "    <tr>\n",
       "      <th>116379</th>\n",
       "      <td>Business confidence dips in Japan Japan indust...</td>\n",
       "      <td>0</td>\n",
       "    </tr>\n",
       "    <tr>\n",
       "      <th>11298</th>\n",
       "      <td>Audit Body: Big 4 Firms Missed Problems  NEW Y...</td>\n",
       "      <td>0</td>\n",
       "    </tr>\n",
       "    <tr>\n",
       "      <th>118613</th>\n",
       "      <td>Regulators Adopt Tighter Rules on Accounting f...</td>\n",
       "      <td>0</td>\n",
       "    </tr>\n",
       "    <tr>\n",
       "      <th>126829</th>\n",
       "      <td>Dollar Steady Ahead of Jobs Report  LONDON (Re...</td>\n",
       "      <td>0</td>\n",
       "    </tr>\n",
       "    <tr>\n",
       "      <th rowspan=\"8\" valign=\"top\">1</th>\n",
       "      <th>106306</th>\n",
       "      <td>Mutating Bots May Save Lives Several research ...</td>\n",
       "      <td>1</td>\n",
       "    </tr>\n",
       "    <tr>\n",
       "      <th>80884</th>\n",
       "      <td>Cisco, MIT look from lab to market Cisco Syste...</td>\n",
       "      <td>1</td>\n",
       "    </tr>\n",
       "    <tr>\n",
       "      <th>66357</th>\n",
       "      <td>Rise of the Robots: Segway Platform Gives Mech...</td>\n",
       "      <td>1</td>\n",
       "    </tr>\n",
       "    <tr>\n",
       "      <th>120998</th>\n",
       "      <td>AMD dual-core demo pips Intel, IBM AMD has dem...</td>\n",
       "      <td>1</td>\n",
       "    </tr>\n",
       "    <tr>\n",
       "      <th>26465</th>\n",
       "      <td>No News is Open-Source Solaris News Steven Vau...</td>\n",
       "      <td>1</td>\n",
       "    </tr>\n",
       "    <tr>\n",
       "      <th>67418</th>\n",
       "      <td>Photo: NEC's new SX-8 supercomputer The SX-8 i...</td>\n",
       "      <td>1</td>\n",
       "    </tr>\n",
       "    <tr>\n",
       "      <th>121955</th>\n",
       "      <td>IBM fits PCs with new hardware-based security ...</td>\n",
       "      <td>1</td>\n",
       "    </tr>\n",
       "    <tr>\n",
       "      <th>117637</th>\n",
       "      <td>Intel Acquires Chip Designers From HP (AP) AP ...</td>\n",
       "      <td>1</td>\n",
       "    </tr>\n",
       "    <tr>\n",
       "      <th rowspan=\"8\" valign=\"top\">2</th>\n",
       "      <th>74272</th>\n",
       "      <td>Eagles' Westbrook Could Miss Some Time  PHILAD...</td>\n",
       "      <td>2</td>\n",
       "    </tr>\n",
       "    <tr>\n",
       "      <th>3708</th>\n",
       "      <td>American fouls out OLYMPIA, Greece - When this...</td>\n",
       "      <td>2</td>\n",
       "    </tr>\n",
       "    <tr>\n",
       "      <th>38516</th>\n",
       "      <td>Check this out Two 2-0 teams, Terrell Owens an...</td>\n",
       "      <td>2</td>\n",
       "    </tr>\n",
       "    <tr>\n",
       "      <th>80075</th>\n",
       "      <td>Jags QB Leftwich sidelined with sprained knee ...</td>\n",
       "      <td>2</td>\n",
       "    </tr>\n",
       "    <tr>\n",
       "      <th>74325</th>\n",
       "      <td>Eagles #39; Westbrook Could Miss Some Time PHI...</td>\n",
       "      <td>2</td>\n",
       "    </tr>\n",
       "    <tr>\n",
       "      <th>108954</th>\n",
       "      <td>Another good BCS debacle?  quot;The purpose of...</td>\n",
       "      <td>2</td>\n",
       "    </tr>\n",
       "    <tr>\n",
       "      <th>21396</th>\n",
       "      <td>Athletics not worth the price Big-time college...</td>\n",
       "      <td>2</td>\n",
       "    </tr>\n",
       "    <tr>\n",
       "      <th>92834</th>\n",
       "      <td>Loss Behind Them, Eagles Dominate Again (AP) A...</td>\n",
       "      <td>2</td>\n",
       "    </tr>\n",
       "    <tr>\n",
       "      <th rowspan=\"8\" valign=\"top\">3</th>\n",
       "      <th>61642</th>\n",
       "      <td>SOMALIA: New government gets African diplomati...</td>\n",
       "      <td>3</td>\n",
       "    </tr>\n",
       "    <tr>\n",
       "      <th>79118</th>\n",
       "      <td>Adams Urges Stronger UN Response to Darfur Cri...</td>\n",
       "      <td>3</td>\n",
       "    </tr>\n",
       "    <tr>\n",
       "      <th>3238</th>\n",
       "      <td>Egypt announces 'breakthrough' on Mideast peac...</td>\n",
       "      <td>3</td>\n",
       "    </tr>\n",
       "    <tr>\n",
       "      <th>101418</th>\n",
       "      <td>ASEAN eyes European model Vientiane (AsiaNews/...</td>\n",
       "      <td>3</td>\n",
       "    </tr>\n",
       "    <tr>\n",
       "      <th>64857</th>\n",
       "      <td>Israel, Egypt Move Toward Warm Relations (AP) ...</td>\n",
       "      <td>3</td>\n",
       "    </tr>\n",
       "    <tr>\n",
       "      <th>119738</th>\n",
       "      <td>Annan Seeks EU Support for U.N. Reforms (AP) A...</td>\n",
       "      <td>3</td>\n",
       "    </tr>\n",
       "    <tr>\n",
       "      <th>29201</th>\n",
       "      <td>Kofi Annan: Globally Popular Mainstay of the U...</td>\n",
       "      <td>3</td>\n",
       "    </tr>\n",
       "    <tr>\n",
       "      <th>106780</th>\n",
       "      <td>EU takes over Bosnia mission The EU is due to ...</td>\n",
       "      <td>3</td>\n",
       "    </tr>\n",
       "  </tbody>\n",
       "</table>\n",
       "</div>"
      ],
      "text/plain": [
       "                                                                         text  \\\n",
       "prediction_code Unnamed: 0                                                      \n",
       "0               61101       Business digest NEW YORK - Investors sent stoc...   \n",
       "                20800       ADV: The New York Times Home Delivery Uncover ...   \n",
       "                52254       DOJ, SEC charge Ex-Peregrine execs over accoun...   \n",
       "                5409        Chain Store Sales Rise in the Latest Week  NEW...   \n",
       "                116379      Business confidence dips in Japan Japan indust...   \n",
       "                11298       Audit Body: Big 4 Firms Missed Problems  NEW Y...   \n",
       "                118613      Regulators Adopt Tighter Rules on Accounting f...   \n",
       "                126829      Dollar Steady Ahead of Jobs Report  LONDON (Re...   \n",
       "1               106306      Mutating Bots May Save Lives Several research ...   \n",
       "                80884       Cisco, MIT look from lab to market Cisco Syste...   \n",
       "                66357       Rise of the Robots: Segway Platform Gives Mech...   \n",
       "                120998      AMD dual-core demo pips Intel, IBM AMD has dem...   \n",
       "                26465       No News is Open-Source Solaris News Steven Vau...   \n",
       "                67418       Photo: NEC's new SX-8 supercomputer The SX-8 i...   \n",
       "                121955      IBM fits PCs with new hardware-based security ...   \n",
       "                117637      Intel Acquires Chip Designers From HP (AP) AP ...   \n",
       "2               74272       Eagles' Westbrook Could Miss Some Time  PHILAD...   \n",
       "                3708        American fouls out OLYMPIA, Greece - When this...   \n",
       "                38516       Check this out Two 2-0 teams, Terrell Owens an...   \n",
       "                80075       Jags QB Leftwich sidelined with sprained knee ...   \n",
       "                74325       Eagles #39; Westbrook Could Miss Some Time PHI...   \n",
       "                108954      Another good BCS debacle?  quot;The purpose of...   \n",
       "                21396       Athletics not worth the price Big-time college...   \n",
       "                92834       Loss Behind Them, Eagles Dominate Again (AP) A...   \n",
       "3               61642       SOMALIA: New government gets African diplomati...   \n",
       "                79118       Adams Urges Stronger UN Response to Darfur Cri...   \n",
       "                3238        Egypt announces 'breakthrough' on Mideast peac...   \n",
       "                101418      ASEAN eyes European model Vientiane (AsiaNews/...   \n",
       "                64857       Israel, Egypt Move Toward Warm Relations (AP) ...   \n",
       "                119738      Annan Seeks EU Support for U.N. Reforms (AP) A...   \n",
       "                29201       Kofi Annan: Globally Popular Mainstay of the U...   \n",
       "                106780      EU takes over Bosnia mission The EU is due to ...   \n",
       "\n",
       "                            class_code  \n",
       "prediction_code Unnamed: 0              \n",
       "0               61101                0  \n",
       "                20800                0  \n",
       "                52254                0  \n",
       "                5409                 0  \n",
       "                116379               0  \n",
       "                11298                0  \n",
       "                118613               0  \n",
       "                126829               0  \n",
       "1               106306               1  \n",
       "                80884                1  \n",
       "                66357                1  \n",
       "                120998               1  \n",
       "                26465                1  \n",
       "                67418                1  \n",
       "                121955               1  \n",
       "                117637               1  \n",
       "2               74272                2  \n",
       "                3708                 2  \n",
       "                38516                2  \n",
       "                80075                2  \n",
       "                74325                2  \n",
       "                108954               2  \n",
       "                21396                2  \n",
       "                92834                2  \n",
       "3               61642                3  \n",
       "                79118                3  \n",
       "                3238                 3  \n",
       "                101418               3  \n",
       "                64857                3  \n",
       "                119738               3  \n",
       "                29201                3  \n",
       "                106780               3  "
      ]
     },
     "execution_count": 16,
     "metadata": {},
     "output_type": "execute_result"
    }
   ],
   "source": [
    "df_train"
   ]
  },
  {
   "cell_type": "code",
   "execution_count": null,
   "metadata": {},
   "outputs": [],
   "source": []
  },
  {
   "attachments": {},
   "cell_type": "markdown",
   "metadata": {},
   "source": [
    "# Training"
   ]
  },
  {
   "cell_type": "code",
   "execution_count": 17,
   "metadata": {},
   "outputs": [
    {
     "name": "stderr",
     "output_type": "stream",
     "text": [
      "Applying column mapping to training dataset\n",
      "***** Running training *****\n",
      "  Num examples = 640\n",
      "  Num epochs = 1\n",
      "  Total optimization steps = 160\n",
      "  Total train batch size = 4\n"
     ]
    },
    {
     "data": {
      "application/vnd.jupyter.widget-view+json": {
       "model_id": "de9f03e159e54ace97632995e5cb7651",
       "version_major": 2,
       "version_minor": 0
      },
      "text/plain": [
       "Epoch:   0%|          | 0/1 [00:00<?, ?it/s]"
      ]
     },
     "metadata": {},
     "output_type": "display_data"
    },
    {
     "data": {
      "application/vnd.jupyter.widget-view+json": {
       "model_id": "b7689cd1613040c7989ccaab861b3b1a",
       "version_major": 2,
       "version_minor": 0
      },
      "text/plain": [
       "Iteration:   0%|          | 0/160 [00:00<?, ?it/s]"
      ]
     },
     "metadata": {},
     "output_type": "display_data"
    },
    {
     "name": "stdout",
     "output_type": "stream",
     "text": [
      "Predicting 5000 documents\n"
     ]
    },
    {
     "data": {
      "text/plain": [
       "array([0, 0, 0, ..., 1, 0, 1])"
      ]
     },
     "execution_count": 17,
     "metadata": {},
     "output_type": "execute_result"
    }
   ],
   "source": [
    "### overrides config for looping second part of the model\n",
    "# model.config['num_epochs'] = 5\n",
    "# model.config['num_pairs'] = 20\n",
    "# # model.config['keep_body_frozen_setfit'] = False\n",
    "\n",
    "### build trainer for contrastive learning\n",
    "model.buildTrainer(train_dataset)\n",
    "\n",
    "### train\n",
    "model.contrastive_train()\n",
    "gc.collect()\n",
    "\n",
    "### predict labeling dataset with new classifier\n",
    "# model.getPredictions()\n",
    "\n",
    "model.predict(test_dataset['text'])\n",
    "# 5000 sentences --- 4min40s ---sts-xlm-rr\n",
    "# 5000 sentences ---  ---ricardo-filho/bert-portuguese\n"
   ]
  },
  {
   "cell_type": "code",
   "execution_count": 11,
   "metadata": {},
   "outputs": [
    {
     "name": "stdout",
     "output_type": "stream",
     "text": [
      "{'weighted': [{'accuracy': 0.7274}, {'precision': 0.7593511627168696}, {'recall': 0.7274}, {'f1': 0.7144892571190165}], 'macro': [{'accuracy': 0.7274}, {'precision': 0.7591079912108177}, {'recall': 0.7255513261086622}, {'f1': 0.71286686494949}]}\n",
      "metrics_setfit_2023_04_10__17_53_12.csv\n",
      "config_setfit_2023_04_10__17_53_12.csv\n",
      "{'similarity_model': 'sentence-transformers/stsb-xlm-r-multilingual', 'setfit_model': 'sentence-transformers/stsb-xlm-r-multilingual', 'dataset': 'ag_news', 'class_col': 'class', 'data_col': 'text', 'split': 'zeroshot', 'labeling_method': 'dotproduct', 'max_inferences': 5000, 'classes': ['business', 'science and technology', 'sports', 'world'], 'template': 'Esse texto está relacionado a {}.', 'random_state': 333, 'top_n': 4, 'training_examples': 4, 'batch_size': 4, 'num_pairs': 10, 'num_epochs': 1, 'keep_body_frozen_setfit': False, 'label_encoder': LabelEncoder(), 'average_sentence_embeddings': False, 'st_train_epochs': 10, 'st_train_batch_size': 20, 'exec_time': '2023_04_10__17_26_04'}\n"
     ]
    }
   ],
   "source": [
    "setfit_all_metrics = evaluation_metrics.get_metrics(model.y_pred, test_dataset[\"class_code\"])\n",
    "print(setfit_all_metrics)\n",
    "\n",
    "setfit_exec_time  = evaluation_metrics.saveResults(model.config,setfit_all_metrics,None)\n",
    "print(model.config)"
   ]
  },
  {
   "cell_type": "code",
   "execution_count": null,
   "metadata": {},
   "outputs": [],
   "source": []
  },
  {
   "cell_type": "code",
   "execution_count": null,
   "metadata": {},
   "outputs": [],
   "source": []
  }
 ],
 "metadata": {
  "kernelspec": {
   "display_name": "venv_zeroberto",
   "language": "python",
   "name": "python3"
  },
  "language_info": {
   "codemirror_mode": {
    "name": "ipython",
    "version": 3
   },
   "file_extension": ".py",
   "mimetype": "text/x-python",
   "name": "python",
   "nbconvert_exporter": "python",
   "pygments_lexer": "ipython3",
   "version": "3.10.9"
  },
  "orig_nbformat": 4
 },
 "nbformat": 4,
 "nbformat_minor": 2
}
