{
 "cells": [
  {
   "cell_type": "code",
   "execution_count": 1,
   "metadata": {},
   "outputs": [],
   "source": [
    "%load_ext autoreload\n",
    "%autoreload 2"
   ]
  },
  {
   "attachments": {},
   "cell_type": "markdown",
   "metadata": {},
   "source": [
    "# Dependencies"
   ]
  },
  {
   "cell_type": "code",
   "execution_count": 2,
   "metadata": {},
   "outputs": [
    {
     "name": "stderr",
     "output_type": "stream",
     "text": [
      "/Users/alealcoforado/Documents/Projetos/ZeroBERTo/zeroberto/datasets_handler.py:172: FutureWarning: The default dtype for empty Series will be 'object' instead of 'float64' in a future version. Specify a dtype explicitly to silence this warning.\n",
      "  def splitDocuments(docs: pd.Series()) -> list():\n",
      "0it [00:00, ?it/s]\n"
     ]
    }
   ],
   "source": [
    "import datasets_handler\n",
    "import evaluation_metrics\n",
    "from zeroberto import ZeroBERTo\n",
    "import gc\n",
    "import pandas as pd\n",
    "from datasets import load_dataset, Dataset\n",
    "from sklearn.preprocessing import LabelEncoder\n",
    "\n"
   ]
  },
  {
   "cell_type": "code",
   "execution_count": 3,
   "metadata": {},
   "outputs": [],
   "source": [
    "# df = pd.read_csv('/Users/alealcoforado/Documents/Projetos/Datasets/folhauol/folhauol_clean_df_articles.csv',nrows=4000)\n",
    "# df.to_csv('/Users/alealcoforado/Documents/Projetos/Datasets/folhauol/folhauol_4000examples_clean_df_articles.csv')"
   ]
  },
  {
   "attachments": {},
   "cell_type": "markdown",
   "metadata": {},
   "source": [
    "# Data"
   ]
  },
  {
   "cell_type": "code",
   "execution_count": 37,
   "metadata": {},
   "outputs": [],
   "source": [
    "which_dataset = 'folhauol' \n",
    "max_inferences = 100\n",
    "random_state = 422\n",
    "\n",
    "le = LabelEncoder()\n",
    "\n",
    "raw_data, data_col, class_col = datasets_handler.getDataset(which_dataset)\n",
    "classes_list = list(raw_data[class_col].unique())\n",
    "le.fit(raw_data[class_col])\n",
    "raw_data = evaluation_metrics.Encoder(raw_data,labelEncoder=le,columnsToEncode=[class_col])\n",
    "data_to_label = raw_data.sample(max_inferences,random_state=random_state).sort_index()\n"
   ]
  },
  {
   "attachments": {},
   "cell_type": "markdown",
   "metadata": {},
   "source": [
    "# Parameters"
   ]
  },
  {
   "cell_type": "code",
   "execution_count": 38,
   "metadata": {},
   "outputs": [],
   "source": [
    "zeroshot_method = \"dotproduct\"  \n",
    "\n",
    "zeroshot_config = {\n",
    "    'similarity_model' : 'sentence-transformers/stsb-xlm-r-multilingual', # model for semantic similarity\n",
    "    'setfit_model' : 'sentence-transformers/stsb-xlm-r-multilingual',# 'ricardo-filho/bert-base-portuguese-cased-nli-assin-2' # model for contrastive learning and classification\n",
    "    'dataset':which_dataset, ### which dataset we are using\n",
    "    'class_col':class_col, ### which column of the dataset has the classes\n",
    "    'data_col':data_col, ### which column of the dataset has the data\n",
    "    'split':\"zeroshot\", ### fewshot (uses real training data) or zeroshot (uses previously selected training data)\n",
    "    'labeling_method':zeroshot_method, ### how the first labeling should be executed\n",
    "    'max_inferences':max_inferences, ### sample size from full dataset (number of records)\n",
    "    'classes':classes_list, ### classes from the dataset\n",
    "    'template': \"Esse texto está relacionado a {}.\", ### prompt that will be used for semantic search\n",
    "    'random_state':random_state, ### random state for reproducibility\n",
    "    'top_n': 8, ### how many best predictions from zeroshot should be recovered\n",
    "    'training_examples': 4, ### how many examples per class should be used for training\n",
    "    \"batch_size\" : 4, ### contrastive training batch size\n",
    "    \"num_pairs\" : 5, ### number of text pairs that will be generated in contrastive learning\n",
    "    \"num_epochs\" : 1, ### number of epochs training will be conducted\n",
    "    # 'keep_body_frozen_setfit': True,     # Unfreeze head and freeze body -> head-only training\n",
    "    # 'keep_body_frozen_setfit' : False', # Unfreeze head and body -> end-to-end training\n",
    "    'label_encoder' : le, ### label encoder to use for encoding categorial data into int\n",
    "\n",
    "    'st_train_epochs': 10, ### sentence-transformer TSDAE fine-tuning --- do not use\n",
    "    'st_train_batch_size': 20, ### sentence-transformer TSDAE fine-tuning --- do not use\n",
    "}\n",
    "\n"
   ]
  },
  {
   "attachments": {},
   "cell_type": "markdown",
   "metadata": {},
   "source": [
    "# Model"
   ]
  },
  {
   "cell_type": "code",
   "execution_count": 15,
   "metadata": {},
   "outputs": [
    {
     "name": "stderr",
     "output_type": "stream",
     "text": [
      "model_head.pkl not found on HuggingFace Hub, initialising classification head with random weights. You should TRAIN this model on a downstream task to use it for predictions and inference.\n"
     ]
    },
    {
     "name": "stdout",
     "output_type": "stream",
     "text": [
      "1\n",
      "queries\n",
      "3\n",
      "4\n"
     ]
    }
   ],
   "source": [
    "model = ZeroBERTo(classes_list=zeroshot_config['classes'],labeling_dataset=data_to_label,\n",
    "                embeddingModel=zeroshot_config['similarity_model'],config=zeroshot_config)\n",
    "       "
   ]
  },
  {
   "attachments": {},
   "cell_type": "markdown",
   "metadata": {},
   "source": [
    "# Labeling"
   ]
  },
  {
   "cell_type": "code",
   "execution_count": 39,
   "metadata": {},
   "outputs": [
    {
     "name": "stdout",
     "output_type": "stream",
     "text": [
      "       prediction_code                      prediction\n",
      "343                  5                   Meio Ambiente\n",
      "1187                 8      Poder e Política no Brasil\n",
      "4533                 7      Notícias de fora do Brasil\n",
      "7146                 0                         Ciência\n",
      "12548                9  TV, Televisão e Entretenimento\n",
      "16772                4                         Esporte\n",
      "19535                3              Equilíbrio e Saúde\n",
      "25437               10                      Tecnologia\n",
      "44882                6                         Mercado\n",
      "55041               11                         Turismo\n",
      "80192                2                        Educação\n",
      "top 1: {'accuracy': 0.5454545454545454}\n",
      "top 2: {'accuracy': 0.35}\n",
      "top 3: {'accuracy': 0.36}\n",
      "top 4: {'accuracy': 0.3448275862068966}\n",
      "top 5: {'accuracy': 0.34375}\n",
      "top 6: {'accuracy': 0.3235294117647059}\n",
      "top 7: {'accuracy': 0.3055555555555556}\n",
      "top 8: {'accuracy': 0.3157894736842105}\n",
      "top 9: {'accuracy': 0.3}\n",
      "top 10: {'accuracy': 0.3333333333333333}\n",
      "top 11: {'accuracy': 0.3181818181818182}\n",
      "top 12: {'accuracy': 0.30434782608695654}\n",
      "top 13: {'accuracy': 0.2916666666666667}\n",
      "top 14: {'accuracy': 0.32}\n",
      "top 15: {'accuracy': 0.3076923076923077}\n",
      "top 16: {'accuracy': 0.3018867924528302}\n",
      "top 100: {'accuracy': 0.35}\n"
     ]
    },
    {
     "name": "stderr",
     "output_type": "stream",
     "text": [
      "/Users/alealcoforado/opt/anaconda3/envs/venv_zeroberto/lib/python3.10/site-packages/sklearn/metrics/_classification.py:1344: UndefinedMetricWarning: Precision is ill-defined and being set to 0.0 in labels with no predicted samples. Use `zero_division` parameter to control this behavior.\n",
      "  _warn_prf(average, modifier, msg_start, len(result))\n",
      "/Users/alealcoforado/opt/anaconda3/envs/venv_zeroberto/lib/python3.10/site-packages/sklearn/metrics/_classification.py:1344: UndefinedMetricWarning: Recall is ill-defined and being set to 0.0 in labels with no true samples. Use `zero_division` parameter to control this behavior.\n",
      "  _warn_prf(average, modifier, msg_start, len(result))\n",
      "/Users/alealcoforado/opt/anaconda3/envs/venv_zeroberto/lib/python3.10/site-packages/sklearn/metrics/_classification.py:1344: UndefinedMetricWarning: Precision is ill-defined and being set to 0.0 in labels with no predicted samples. Use `zero_division` parameter to control this behavior.\n",
      "  _warn_prf(average, modifier, msg_start, len(result))\n",
      "/Users/alealcoforado/opt/anaconda3/envs/venv_zeroberto/lib/python3.10/site-packages/sklearn/metrics/_classification.py:1344: UndefinedMetricWarning: Recall is ill-defined and being set to 0.0 in labels with no true samples. Use `zero_division` parameter to control this behavior.\n",
      "  _warn_prf(average, modifier, msg_start, len(result))\n"
     ]
    },
    {
     "name": "stdout",
     "output_type": "stream",
     "text": [
      "predictions_and_probabilities_test_2023_04_09__20_10_14.csv\n",
      "zeroshot_config_test_2023_04_09__20_10_14.csv\n",
      "CPU times: user 15.5 s, sys: 1.68 s, total: 17.2 s\n",
      "Wall time: 34.8 s\n"
     ]
    }
   ],
   "source": [
    "%%time\n",
    "if (model.config['split']=='zeroshot'): ###  selecting training data\n",
    "    model.runLabeling()\n",
    "    model.evaluateLabeling()\n",
    "    model.getLabelingMetrics()\n",
    "    model.saveLabelingResults()\n",
    "    zeroshot_previous_data = datasets_handler.getZeroshotPreviousData( ### load results from labeling step and create training data for contrastive learning\n",
    "        model.config['dataset'],model.config['class_col'],top_n=model.config['top_n'],exec_time=model.config['exec_time'])"
   ]
  },
  {
   "cell_type": "code",
   "execution_count": null,
   "metadata": {},
   "outputs": [],
   "source": []
  },
  {
   "attachments": {},
   "cell_type": "markdown",
   "metadata": {},
   "source": [
    "Constrative Learning Data"
   ]
  },
  {
   "cell_type": "code",
   "execution_count": 41,
   "metadata": {},
   "outputs": [
    {
     "name": "stderr",
     "output_type": "stream",
     "text": [
      "/Users/alealcoforado/Documents/Projetos/ZeroBERTo/zeroberto/datasets_handler.py:168: UserWarning: DataFrame columns are not unique, some columns will be omitted.\n",
      "  train_dataset = Dataset.from_dict(df_train[['text','class_code']].to_dict('list'))\n"
     ]
    }
   ],
   "source": [
    "df_train,df_test = datasets_handler.splitDataset(model.labeling_dataset,model.config) \n",
    "train_dataset,test_dataset = datasets_handler.buildDatasetDict(df_train,df_test)\n"
   ]
  },
  {
   "attachments": {},
   "cell_type": "markdown",
   "metadata": {},
   "source": [
    "# Training"
   ]
  },
  {
   "cell_type": "code",
   "execution_count": 43,
   "metadata": {},
   "outputs": [
    {
     "name": "stderr",
     "output_type": "stream",
     "text": [
      "/Users/alealcoforado/opt/anaconda3/envs/venv_zeroberto/lib/python3.10/site-packages/sklearn/metrics/_classification.py:1344: UndefinedMetricWarning: Precision is ill-defined and being set to 0.0 in labels with no predicted samples. Use `zero_division` parameter to control this behavior.\n",
      "  _warn_prf(average, modifier, msg_start, len(result))\n",
      "/Users/alealcoforado/opt/anaconda3/envs/venv_zeroberto/lib/python3.10/site-packages/sklearn/metrics/_classification.py:1344: UndefinedMetricWarning: Recall is ill-defined and being set to 0.0 in labels with no true samples. Use `zero_division` parameter to control this behavior.\n",
      "  _warn_prf(average, modifier, msg_start, len(result))\n",
      "/Users/alealcoforado/opt/anaconda3/envs/venv_zeroberto/lib/python3.10/site-packages/sklearn/metrics/_classification.py:1344: UndefinedMetricWarning: Precision is ill-defined and being set to 0.0 in labels with no predicted samples. Use `zero_division` parameter to control this behavior.\n",
      "  _warn_prf(average, modifier, msg_start, len(result))\n",
      "/Users/alealcoforado/opt/anaconda3/envs/venv_zeroberto/lib/python3.10/site-packages/sklearn/metrics/_classification.py:1344: UndefinedMetricWarning: Recall is ill-defined and being set to 0.0 in labels with no true samples. Use `zero_division` parameter to control this behavior.\n",
      "  _warn_prf(average, modifier, msg_start, len(result))\n"
     ]
    },
    {
     "name": "stdout",
     "output_type": "stream",
     "text": [
      "{'weighted': [{'accuracy': 0.35}, {'precision': 0.36908794326241146}, {'recall': 0.35}, {'f1': 0.28333559577677225}], 'macro': [{'accuracy': 0.35}, {'precision': 0.24956264775413714}, {'recall': 0.31519157088122607}, {'f1': 0.24773127199597786}]}\n",
      "metrics_setfit_2023_04_09__20_19_11.csv\n",
      "config_setfit_2023_04_09__20_19_11.csv\n",
      "{'similarity_model': 'sentence-transformers/stsb-xlm-r-multilingual', 'setfit_model': 'sentence-transformers/stsb-xlm-r-multilingual', 'dataset': 'folhauol', 'class_col': 'class', 'data_col': 'text', 'split': 'zeroshot', 'labeling_method': 'dotproduct', 'max_inferences': 100, 'classes': ['Poder e Política no Brasil', 'Mercado', 'Notícias de fora do Brasil', 'Esporte', 'Tecnologia', 'Meio Ambiente', 'Equilíbrio e Saúde', 'Educação', 'TV, Televisão e Entretenimento', 'Ciência', 'Turismo', 'Comida'], 'template': 'Esse texto está relacionado a {}.', 'random_state': 422, 'top_n': 8, 'training_examples': 8, 'batch_size': 4, 'num_pairs': 5, 'num_epochs': 1, 'st_train_epochs': 10, 'st_train_batch_size': 20, 'keep_body_frozen_setfit': False, 'label_encoder': LabelEncoder(), 'exec_time': '2023_04_09__20_10_14'}\n"
     ]
    }
   ],
   "source": [
    "### overrides config for looping second part of the model\n",
    "# model.config['num_epochs'] = 5\n",
    "# model.config['num_pairs'] = 20\n",
    "# # model.config['keep_body_frozen_setfit'] = False\n",
    "\n",
    "### build trainer for contrastive learning\n",
    "model.buildTrainer(train_dataset)\n",
    "\n",
    "### train\n",
    "model.contrastive_train()\n",
    "gc.collect()\n",
    "\n",
    "### predict labeling dataset with new classifier\n",
    "# model.getPredictions()\n",
    "\n",
    "model.predict(test_dataset['text'])\n",
    "# 5000 sentences --- 4min40s ---sts-xlm-rr\n",
    "# 5000 sentences ---  ---ricardo-filho/bert-portuguese\n"
   ]
  },
  {
   "cell_type": "code",
   "execution_count": null,
   "metadata": {},
   "outputs": [],
   "source": [
    "setfit_all_metrics = evaluation_metrics.get_metrics(model.y_pred, test_dataset[\"class_code\"])\n",
    "print(setfit_all_metrics)\n",
    "\n",
    "setfit_exec_time  = evaluation_metrics.saveResults(model.config,setfit_all_metrics,None)\n",
    "print(model.config)"
   ]
  },
  {
   "cell_type": "code",
   "execution_count": null,
   "metadata": {},
   "outputs": [],
   "source": []
  },
  {
   "cell_type": "code",
   "execution_count": null,
   "metadata": {},
   "outputs": [],
   "source": []
  }
 ],
 "metadata": {
  "kernelspec": {
   "display_name": "venv_zeroberto",
   "language": "python",
   "name": "python3"
  },
  "language_info": {
   "codemirror_mode": {
    "name": "ipython",
    "version": 3
   },
   "file_extension": ".py",
   "mimetype": "text/x-python",
   "name": "python",
   "nbconvert_exporter": "python",
   "pygments_lexer": "ipython3",
   "version": "3.10.9"
  },
  "orig_nbformat": 4
 },
 "nbformat": 4,
 "nbformat_minor": 2
}
