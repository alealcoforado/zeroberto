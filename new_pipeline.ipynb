{
 "cells": [
  {
   "cell_type": "code",
   "execution_count": 1,
   "metadata": {},
   "outputs": [],
   "source": [
    "%load_ext autoreload\n",
    "%autoreload 2"
   ]
  },
  {
   "attachments": {},
   "cell_type": "markdown",
   "metadata": {},
   "source": [
    "# Dependencies"
   ]
  },
  {
   "cell_type": "code",
   "execution_count": 2,
   "metadata": {},
   "outputs": [
    {
     "name": "stderr",
     "output_type": "stream",
     "text": [
      "/Users/alealcoforado/Documents/Projetos/ZeroBERTo/zeroberto/datasets_handler.py:162: FutureWarning: The default dtype for empty Series will be 'object' instead of 'float64' in a future version. Specify a dtype explicitly to silence this warning.\n",
      "  def splitDocuments(docs: pd.Series()) -> list():\n",
      "0it [00:00, ?it/s]\n"
     ]
    }
   ],
   "source": [
    "import datasets_handler\n",
    "import evaluation_metrics\n",
    "from zeroberto import ZeroBERTo\n",
    "import gc\n",
    "import pandas as pd"
   ]
  },
  {
   "cell_type": "code",
   "execution_count": 5,
   "metadata": {},
   "outputs": [],
   "source": [
    "# df = pd.read_csv('/Users/alealcoforado/Documents/Projetos/Datasets/folhauol/folhauol_clean_df_articles.csv',nrows=4000)\n",
    "# df.to_csv('/Users/alealcoforado/Documents/Projetos/Datasets/folhauol/folhauol_4000examples_clean_df_articles.csv')"
   ]
  },
  {
   "cell_type": "code",
   "execution_count": 3,
   "metadata": {},
   "outputs": [],
   "source": [
    "which_dataset = 'folhauol' \n",
    "max_inferences = 1000\n",
    "\n",
    "hyp_template = \"Esse texto está relacionado a {}.\"\n",
    "\n",
    "raw_data, data_col, class_col = datasets_handler.getDataset(which_dataset)\n",
    "classes_list = list(raw_data[class_col].unique())"
   ]
  },
  {
   "cell_type": "code",
   "execution_count": 4,
   "metadata": {},
   "outputs": [
    {
     "name": "stderr",
     "output_type": "stream",
     "text": [
      "model_head.pkl not found on HuggingFace Hub, initialising classification head with random weights. You should TRAIN this model on a downstream task to use it for predictions and inference.\n"
     ]
    },
    {
     "name": "stdout",
     "output_type": "stream",
     "text": [
      "Preds: 500  - Total time: 42.01 seconds - ETA: 1.4 minutes\n",
      "Preds: 1000  - Total time: 84.99 seconds - ETA: 1.4 minutes\n",
      "top 1: {'accuracy': 0.5833333333333334}\n",
      "top 2: {'accuracy': 0.5833333333333334}\n",
      "top 3: {'accuracy': 0.5}\n",
      "top 4: {'accuracy': 0.4791666666666667}\n",
      "top 5: {'accuracy': 0.45}\n",
      "top 6: {'accuracy': 0.4583333333333333}\n",
      "top 7: {'accuracy': 0.4523809523809524}\n",
      "top 8: {'accuracy': 0.46875}\n",
      "top 9: {'accuracy': 0.46296296296296297}\n",
      "top 10: {'accuracy': 0.43333333333333335}\n",
      "top 11: {'accuracy': 0.4318181818181818}\n",
      "top 12: {'accuracy': 0.4166666666666667}\n",
      "top 13: {'accuracy': 0.4230769230769231}\n",
      "top 14: {'accuracy': 0.4166666666666667}\n",
      "top 15: {'accuracy': 0.4}\n",
      "top 16: {'accuracy': 0.4031413612565445}\n",
      "top 1000: {'accuracy': 0.333}\n",
      "predictions_and_probabilities_test_2023_04_08__22_14_01.csv\n",
      "zeroshot_config_test_2023_04_08__22_14_01.csv\n"
     ]
    }
   ],
   "source": [
    "zeroshot_method = \"dotproduct\"  \n",
    "\n",
    "zeroshot_config = {\n",
    "    'similarity_model' : 'sentence-transformers/stsb-xlm-r-multilingual',\n",
    "    'setfit_model' : 'sentence-transformers/stsb-xlm-r-multilingual',# 'ricardo-filho/bert-base-portuguese-cased-nli-assin-2'\n",
    "    'dataset':which_dataset,\n",
    "    'class_col':class_col,\n",
    "    'data_col':data_col,\n",
    "    'split':\"zeroshot\",\n",
    "    'labeling_method':zeroshot_method,\n",
    "    'max_inferences':max_inferences,\n",
    "    'classes':classes_list,\n",
    "    'template': hyp_template,\n",
    "    'random_state':422,\n",
    "    'top_n': 8,\n",
    "    'training_examples': 8,\n",
    "    \"batch_size\" : 4,\n",
    "    \"num_pairs\" : 5,\n",
    "    \"num_epochs\" : 1,\n",
    "    'st_train_epochs': 10,\n",
    "    'st_train_batch_size': 20,\n",
    "    # Unfreeze the head and freeze the body -> head-only training\n",
    "    'keep_body_frozen_setfit': True,\n",
    "    # Unfreeze the head and unfreeze the body -> end-to-end training\n",
    "    # zeroshot_config['keep_body_frozen_setfit'] = False\n",
    "}\n",
    "\n",
    "data_to_label = raw_data.sample(zeroshot_config['max_inferences'],random_state=zeroshot_config['random_state']).sort_index()\n",
    "\n",
    "model = ZeroBERTo(classes_list=zeroshot_config['classes'],labeling_dataset=data_to_label,\n",
    "                embeddingModel=zeroshot_config['similarity_model'],config=zeroshot_config)\n",
    "                  \n",
    "model.runLabeling()\n",
    "model.evaluateLabeling()\n",
    "\n",
    "model.getLabelingMetrics()\n",
    "model.saveLabelingResults()\n"
   ]
  },
  {
   "cell_type": "code",
   "execution_count": 5,
   "metadata": {},
   "outputs": [],
   "source": [
    "### load results from labeling step and create training data for contrastive learning\n",
    "zeroshot_previous_data = datasets_handler.getZeroshotPreviousData(\n",
    "    model.config['dataset'],model.config['class_col'],top_n=model.config['top_n'],exec_time=model.config['exec_time'])"
   ]
  },
  {
   "cell_type": "code",
   "execution_count": 6,
   "metadata": {},
   "outputs": [],
   "source": [
    "df_train = datasets_handler.splitDataset(model.labeling_dataset,model.config) ### df_test will not be used"
   ]
  },
  {
   "cell_type": "code",
   "execution_count": 7,
   "metadata": {},
   "outputs": [],
   "source": [
    "# raw_data_final, model.config['new_class_col'] = datasets_handler.mergeLabelingToDataset(\n",
    "#     raw_data,zeroshot_previous_data,model.config['class_col'])\n",
    "# df_train['']\n",
    "train_data = datasets_handler.buildDatasetDict(df_train)"
   ]
  },
  {
   "cell_type": "code",
   "execution_count": 8,
   "metadata": {},
   "outputs": [
    {
     "name": "stderr",
     "output_type": "stream",
     "text": [
      "Applying column mapping to training dataset\n",
      "The `max_length` is `None`. Using the maximum acceptable length according to the current model body: 128.\n"
     ]
    },
    {
     "name": "stdout",
     "output_type": "stream",
     "text": [
      "<class 'dict'>\n"
     ]
    },
    {
     "data": {
      "application/vnd.jupyter.widget-view+json": {
       "model_id": "0455781075f94ac9b1b05a4893f29b61",
       "version_major": 2,
       "version_minor": 0
      },
      "text/plain": [
       "Epoch:   0%|          | 0/1 [00:00<?, ?it/s]"
      ]
     },
     "metadata": {},
     "output_type": "display_data"
    },
    {
     "name": "stdout",
     "output_type": "stream",
     "text": [
      "Running predictions on 1000 sentences.\n"
     ]
    },
    {
     "name": "stderr",
     "output_type": "stream",
     "text": [
      "/Users/alealcoforado/opt/anaconda3/envs/venv_zeroberto/lib/python3.10/site-packages/sklearn/metrics/_classification.py:1344: UndefinedMetricWarning: Precision is ill-defined and being set to 0.0 in labels with no predicted samples. Use `zero_division` parameter to control this behavior.\n",
      "  _warn_prf(average, modifier, msg_start, len(result))\n",
      "/Users/alealcoforado/opt/anaconda3/envs/venv_zeroberto/lib/python3.10/site-packages/sklearn/metrics/_classification.py:1344: UndefinedMetricWarning: Precision is ill-defined and being set to 0.0 in labels with no predicted samples. Use `zero_division` parameter to control this behavior.\n",
      "  _warn_prf(average, modifier, msg_start, len(result))\n"
     ]
    },
    {
     "name": "stdout",
     "output_type": "stream",
     "text": [
      "{'weighted': [{'accuracy': 0.036}, {'precision': 0.14999167194571073}, {'recall': 0.036}, {'f1': 0.05569551927793277}], 'macro': [{'accuracy': 0.036}, {'precision': 0.06193184719617203}, {'recall': 0.029464861379754997}, {'f1': 0.025705939817275425}]}\n",
      "metrics_setfit_2023_04_08__22_15_09.csv\n",
      "config_setfit_2023_04_08__22_15_09.csv\n",
      "{'similarity_model': 'sentence-transformers/stsb-xlm-r-multilingual', 'setfit_model': 'sentence-transformers/stsb-xlm-r-multilingual', 'dataset': 'folhauol', 'class_col': 'class', 'data_col': 'text', 'split': 'zeroshot', 'labeling_method': 'dotproduct', 'max_inferences': 1000, 'classes': ['Poder e Política no Brasil', 'Mercado', 'Notícias de fora do Brasil', 'Esporte', 'Tecnologia', 'Meio Ambiente', 'Equilíbrio e Saúde', 'Educação', 'TV, Televisão e Entretenimento', 'Ciência', 'Turismo', 'Comida'], 'template': 'Esse texto está relacionado a {}.', 'random_state': 422, 'top_n': 8, 'n_examples': 8, 'batch_size': 4, 'num_pairs': 5, 'num_epochs': 1, 'st_train_epochs': 10, 'st_train_batch_size': 20, 'keep_body_frozen_setfit': True, 'exec_time': '2023_04_08__22_14_01'}\n"
     ]
    }
   ],
   "source": [
    "### overrides config for looping second part of the model\n",
    "# model.config['num_epochs'] = 5\n",
    "# model.config['num_pairs'] = 20\n",
    "# model.config['keep_body_frozen_setfit'] = False\n",
    "\n",
    "### build trainer for contrastive learning\n",
    "model.buildTrainer(train_data)\n",
    "\n",
    "### train\n",
    "model.contrastive_train()\n",
    "gc.collect()\n",
    "\n",
    "### predict labeling dataset with new classifier\n",
    "model.getPredictions()\n",
    "# 5000 sentences --- 4min40s ---sts-xlm-rr\n",
    "# 5000 sentences ---  ---ricardo-filho/bert-portuguese\n",
    "\n",
    "setfit_all_metrics = evaluation_metrics.get_metrics(model.y_pred, model.trainer.eval_dataset[\"class_code\"])\n",
    "print(setfit_all_metrics)\n",
    "\n",
    "setfit_exec_time  = evaluation_metrics.saveResults(model.config,setfit_all_metrics)\n",
    "print(model.config)"
   ]
  },
  {
   "cell_type": "code",
   "execution_count": null,
   "metadata": {},
   "outputs": [],
   "source": []
  }
 ],
 "metadata": {
  "kernelspec": {
   "display_name": "venv_zeroberto",
   "language": "python",
   "name": "python3"
  },
  "language_info": {
   "codemirror_mode": {
    "name": "ipython",
    "version": 3
   },
   "file_extension": ".py",
   "mimetype": "text/x-python",
   "name": "python",
   "nbconvert_exporter": "python",
   "pygments_lexer": "ipython3",
   "version": "3.10.9"
  },
  "orig_nbformat": 4
 },
 "nbformat": 4,
 "nbformat_minor": 2
}
