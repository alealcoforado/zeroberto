{
 "cells": [
  {
   "attachments": {},
   "cell_type": "markdown",
   "metadata": {},
   "source": [
    "# *Contrastive Learning* pipeline"
   ]
  },
  {
   "cell_type": "code",
   "execution_count": 1,
   "metadata": {},
   "outputs": [
    {
     "name": "stderr",
     "output_type": "stream",
     "text": [
      "/Users/alealcoforado/Documents/Projetos/ZeroBERTo/zeroberto/datasets_handler.py:162: FutureWarning: The default dtype for empty Series will be 'object' instead of 'float64' in a future version. Specify a dtype explicitly to silence this warning.\n",
      "  def splitDocuments(docs: pd.Series()) -> list():\n",
      "0it [00:00, ?it/s]\n"
     ]
    }
   ],
   "source": [
    "%load_ext autoreload\n",
    "%autoreload 2\n",
    "import datasets_handler\n",
    "import evaluation_metrics\n",
    "from zeroberto import ZeroBERTo\n",
    "from sentence_transformers.losses import CosineSimilarityLoss\n",
    "from setfit import SetFitModel, SetFitTrainer\n",
    "import gc\n",
    "import pandas as pd"
   ]
  },
  {
   "cell_type": "code",
   "execution_count": 2,
   "metadata": {},
   "outputs": [],
   "source": [
    "which_dataset = 'folhauol' \n",
    "max_inferences = 1000\n",
    "\n",
    "hyp_template = \"Esse texto está relacionado a {}.\"\n",
    "\n",
    "raw_data, data_col, class_col = datasets_handler.getDataset(which_dataset)\n",
    "classes_list = list(raw_data[class_col].unique())"
   ]
  },
  {
   "cell_type": "code",
   "execution_count": 3,
   "metadata": {},
   "outputs": [
    {
     "name": "stderr",
     "output_type": "stream",
     "text": [
      "model_head.pkl not found on HuggingFace Hub, initialising classification head with random weights. You should TRAIN this model on a downstream task to use it for predictions and inference.\n"
     ]
    }
   ],
   "source": [
    "zeroshot_method = \"dotproduct\"  \n",
    "\n",
    "zeroshot_config = {\n",
    "    'similarity_model' : 'sentence-transformers/stsb-xlm-r-multilingual',\n",
    "    'setfit_model' : 'sentence-transformers/stsb-xlm-r-multilingual',# 'ricardo-filho/bert-base-portuguese-cased-nli-assin-2'\n",
    "    'dataset':which_dataset,\n",
    "    'class_col':class_col,\n",
    "    'data_col':data_col,\n",
    "    'split':\"fewshot\",\n",
    "    'labeling_method':zeroshot_method,\n",
    "    'max_inferences':max_inferences,\n",
    "    'classes':classes_list,\n",
    "    'template': hyp_template,\n",
    "    'random_state':422,\n",
    "    'top_n': 8,\n",
    "    'training_examples': 8,\n",
    "    \"batch_size\" : 8,\n",
    "    \"num_pairs\" : 4,\n",
    "    \"num_epochs\" : 1,\n",
    "    'st_train_epochs': 10,\n",
    "    'st_train_batch_size': 20,\n",
    "    # Unfreeze the head and freeze the body -> head-only training\n",
    "    # 'keep_body_frozen_setfit': True,\n",
    "    # Unfreeze the head and unfreeze the body -> end-to-end training\n",
    "    'keep_body_frozen_setfit': False,\n",
    "}\n",
    "\n",
    "data_to_label = raw_data.sample(zeroshot_config['max_inferences'],random_state=zeroshot_config['random_state']).sort_index()\n",
    "\n",
    "model = ZeroBERTo(classes_list=zeroshot_config['classes'],labeling_dataset=data_to_label,\n",
    "                embeddingModel=zeroshot_config['similarity_model'],config=zeroshot_config)\n",
    "                  "
   ]
  },
  {
   "cell_type": "code",
   "execution_count": 4,
   "metadata": {},
   "outputs": [
    {
     "name": "stderr",
     "output_type": "stream",
     "text": [
      "model_head.pkl not found on HuggingFace Hub, initialising classification head with random weights. You should TRAIN this model on a downstream task to use it for predictions and inference.\n"
     ]
    }
   ],
   "source": [
    "# setfit_model = SetFitModel.from_pretrained('ricardo-filho/bert-base-portuguese-cased-nli-assin-2')\n",
    "model.contrastiveModel  = SetFitModel.from_pretrained('ricardo-filho/bert-base-portuguese-cased-nli-assin-2', use_differentiable_head=True,\n",
    "                                        head_params={\"out_features\":len(classes_list)})"
   ]
  },
  {
   "cell_type": "code",
   "execution_count": 5,
   "metadata": {},
   "outputs": [],
   "source": [
    "train_dataframe = datasets_handler.splitDataset(model.labeling_dataset,model.config) ### df_test will not be used\n",
    "\n",
    "# train_data['class_code'] = train_data['class_code'].astype(int)\n",
    "# train_data['text'] = train_data['text'].astype(str)\n",
    "train_data = datasets_handler.buildDatasetDict(train_dataframe)\n"
   ]
  },
  {
   "cell_type": "code",
   "execution_count": 6,
   "metadata": {},
   "outputs": [
    {
     "name": "stderr",
     "output_type": "stream",
     "text": [
      "Applying column mapping to training dataset\n",
      "***** Running training *****\n",
      "  Num examples = 720\n",
      "  Num epochs = 1\n",
      "  Total optimization steps = 90\n",
      "  Total train batch size = 8\n"
     ]
    },
    {
     "name": "stdout",
     "output_type": "stream",
     "text": [
      "<class 'dict'>\n"
     ]
    },
    {
     "data": {
      "application/vnd.jupyter.widget-view+json": {
       "model_id": "f6f9da3ea29b42799b30462ff92d70c7",
       "version_major": 2,
       "version_minor": 0
      },
      "text/plain": [
       "Epoch:   0%|          | 0/1 [00:00<?, ?it/s]"
      ]
     },
     "metadata": {},
     "output_type": "display_data"
    },
    {
     "data": {
      "application/vnd.jupyter.widget-view+json": {
       "model_id": "3c412d1f7d2c41f286437b7c0c115199",
       "version_major": 2,
       "version_minor": 0
      },
      "text/plain": [
       "Iteration:   0%|          | 0/90 [00:00<?, ?it/s]"
      ]
     },
     "metadata": {},
     "output_type": "display_data"
    }
   ],
   "source": [
    "### build trainer for contrastive learning\n",
    "model.buildTrainer(train_data)\n",
    "\n",
    "### train\n",
    "model.contrastive_train()\n",
    "gc.collect()\n",
    "\n",
    "### predict labeling dataset with new classifier\n",
    "model.getPredictions()\n",
    "# 5000 sentences --- 4min40s ---sts-xlm-rr\n",
    "# 5000 sentences ---  ---ricardo-filho/bert-portuguese\n",
    "\n",
    "setfit_all_metrics = evaluation_metrics.get_metrics(model.y_pred, model.trainer.eval_dataset[\"class_code\"])\n",
    "print(setfit_all_metrics)\n",
    "\n",
    "setfit_exec_time  = evaluation_metrics.saveResults(model.config,setfit_all_metrics)\n",
    "print(model.config)"
   ]
  },
  {
   "cell_type": "code",
   "execution_count": null,
   "metadata": {},
   "outputs": [],
   "source": []
  }
 ],
 "metadata": {
  "kernelspec": {
   "display_name": "venv_zeroberto",
   "language": "python",
   "name": "python3"
  },
  "language_info": {
   "codemirror_mode": {
    "name": "ipython",
    "version": 3
   },
   "file_extension": ".py",
   "mimetype": "text/x-python",
   "name": "python",
   "nbconvert_exporter": "python",
   "pygments_lexer": "ipython3",
   "version": "3.10.9"
  },
  "orig_nbformat": 4
 },
 "nbformat": 4,
 "nbformat_minor": 2
}
