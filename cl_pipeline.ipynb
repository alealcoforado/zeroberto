{
 "cells": [
  {
   "attachments": {},
   "cell_type": "markdown",
   "metadata": {},
   "source": [
    "# *Contrastive Learning* pipeline"
   ]
  },
  {
   "cell_type": "code",
   "execution_count": 8,
   "metadata": {},
   "outputs": [
    {
     "name": "stdout",
     "output_type": "stream",
     "text": [
      "The autoreload extension is already loaded. To reload it, use:\n",
      "  %reload_ext autoreload\n"
     ]
    }
   ],
   "source": [
    "%load_ext autoreload\n",
    "%autoreload 2\n",
    "import datasets_handler\n",
    "import evaluation_metrics\n",
    "from zeroberto import ZeroBERTo\n",
    "from sentence_transformers.losses import CosineSimilarityLoss\n",
    "from setfit import SetFitModel, SetFitTrainer\n",
    "import gc\n",
    "import pandas as pd"
   ]
  },
  {
   "cell_type": "code",
   "execution_count": 9,
   "metadata": {},
   "outputs": [],
   "source": [
    "which_dataset = 'folhauol' \n",
    "max_inferences = 10000\n",
    "\n",
    "hyp_template = \"Esse texto está relacionado a {}.\"\n",
    "\n",
    "raw_data, data_col, class_col = datasets_handler.getDataset(which_dataset)\n",
    "classes_list = list(raw_data[class_col].unique())"
   ]
  },
  {
   "cell_type": "code",
   "execution_count": 10,
   "metadata": {},
   "outputs": [],
   "source": [
    "zeroshot_method = \"dotproduct\"  \n",
    "\n",
    "zeroshot_config = {\n",
    "    'similarity_model' : 'sentence-transformers/stsb-xlm-r-multilingual',\n",
    "    'setfit_model' : 'sentence-transformers/stsb-xlm-r-multilingual',# 'ricardo-filho/bert-base-portuguese-cased-nli-assin-2'\n",
    "    'dataset':which_dataset,\n",
    "    'class_col':class_col,\n",
    "    'data_col':data_col,\n",
    "    'split':\"fewshot\",\n",
    "    'labeling_method':zeroshot_method,\n",
    "    'max_inferences':max_inferences,\n",
    "    'classes':classes_list,\n",
    "    'template': hyp_template,\n",
    "    'random_state':422,\n",
    "    'top_n': 8,\n",
    "    'training_examples': 8,\n",
    "    \"batch_size\" : 8,\n",
    "    \"num_pairs\" : 4,\n",
    "    \"num_epochs\" : 1,\n",
    "    'st_train_epochs': 10,\n",
    "    'st_train_batch_size': 20,\n",
    "    # Unfreeze the head and freeze the body -> head-only training\n",
    "    # 'keep_body_frozen_setfit': True,\n",
    "    # Unfreeze the head and unfreeze the body -> end-to-end training\n",
    "    'keep_body_frozen_setfit': False,\n",
    "}\n",
    "\n",
    "data_to_label = raw_data.sample(zeroshot_config['max_inferences'],random_state=zeroshot_config['random_state']).sort_index()\n"
   ]
  },
  {
   "cell_type": "code",
   "execution_count": 11,
   "metadata": {},
   "outputs": [
    {
     "name": "stderr",
     "output_type": "stream",
     "text": [
      "model_head.pkl not found on HuggingFace Hub, initialising classification head with random weights. You should TRAIN this model on a downstream task to use it for predictions and inference.\n"
     ]
    },
    {
     "name": "stdout",
     "output_type": "stream",
     "text": [
      "1\n",
      "queries\n",
      "3\n",
      "4\n"
     ]
    }
   ],
   "source": [
    "\n",
    "model = ZeroBERTo(classes_list=zeroshot_config['classes'],labeling_dataset=data_to_label,\n",
    "                embeddingModel=zeroshot_config['similarity_model'],config=zeroshot_config)\n",
    "                  "
   ]
  },
  {
   "cell_type": "code",
   "execution_count": 12,
   "metadata": {},
   "outputs": [
    {
     "data": {
      "text/plain": [
       "SentenceTransformer(\n",
       "  (0): Transformer({'max_seq_length': 128, 'do_lower_case': False}) with Transformer model: XLMRobertaModel \n",
       "  (1): Pooling({'word_embedding_dimension': 768, 'pooling_mode_cls_token': False, 'pooling_mode_mean_tokens': True, 'pooling_mode_max_tokens': False, 'pooling_mode_mean_sqrt_len_tokens': False})\n",
       ")"
      ]
     },
     "execution_count": 12,
     "metadata": {},
     "output_type": "execute_result"
    }
   ],
   "source": [
    "model.embeddingModel"
   ]
  },
  {
   "cell_type": "code",
   "execution_count": 13,
   "metadata": {},
   "outputs": [
    {
     "data": {
      "text/html": [
       "<div>\n",
       "<style scoped>\n",
       "    .dataframe tbody tr th:only-of-type {\n",
       "        vertical-align: middle;\n",
       "    }\n",
       "\n",
       "    .dataframe tbody tr th {\n",
       "        vertical-align: top;\n",
       "    }\n",
       "\n",
       "    .dataframe thead th {\n",
       "        text-align: right;\n",
       "    }\n",
       "</style>\n",
       "<table border=\"1\" class=\"dataframe\">\n",
       "  <thead>\n",
       "    <tr style=\"text-align: right;\">\n",
       "      <th></th>\n",
       "      <th>Unnamed: 0</th>\n",
       "      <th>title</th>\n",
       "      <th>date</th>\n",
       "      <th>class</th>\n",
       "      <th>subcategory</th>\n",
       "      <th>link</th>\n",
       "      <th>data</th>\n",
       "      <th>text</th>\n",
       "      <th>len</th>\n",
       "      <th>class_code</th>\n",
       "    </tr>\n",
       "  </thead>\n",
       "  <tbody>\n",
       "    <tr>\n",
       "      <th>6</th>\n",
       "      <td>8</td>\n",
       "      <td>Supremo nega pedido para Senado analisar impea...</td>\n",
       "      <td>2017-09-10</td>\n",
       "      <td>Poder e Política no Brasil</td>\n",
       "      <td>NaN</td>\n",
       "      <td>http://www1.folha.uol.com.br/poder/2017/10/192...</td>\n",
       "      <td>Supremo nega pedido para Senado analisar impea...</td>\n",
       "      <td>Supremo nega pedido para Senado analisar impea...</td>\n",
       "      <td>1539</td>\n",
       "      <td>8</td>\n",
       "    </tr>\n",
       "    <tr>\n",
       "      <th>22</th>\n",
       "      <td>27</td>\n",
       "      <td>Plano de Energia Limpa de Obama será revogado,...</td>\n",
       "      <td>2017-09-10</td>\n",
       "      <td>Meio Ambiente</td>\n",
       "      <td>NaN</td>\n",
       "      <td>http://www1.folha.uol.com.br/ambiente/2017/10/...</td>\n",
       "      <td>Plano de Energia Limpa de Obama será revogado,...</td>\n",
       "      <td>Plano de Energia Limpa de Obama será revogado,...</td>\n",
       "      <td>3183</td>\n",
       "      <td>5</td>\n",
       "    </tr>\n",
       "    <tr>\n",
       "      <th>24</th>\n",
       "      <td>29</td>\n",
       "      <td>MPF pede que prisão de Nuzman seja prolongada ...</td>\n",
       "      <td>2017-09-10</td>\n",
       "      <td>Esporte</td>\n",
       "      <td>NaN</td>\n",
       "      <td>http://www1.folha.uol.com.br/esporte/2017/10/1...</td>\n",
       "      <td>MPF pede que prisão de Nuzman seja prolongada ...</td>\n",
       "      <td>MPF pede que prisão de Nuzman seja prolongada ...</td>\n",
       "      <td>2464</td>\n",
       "      <td>4</td>\n",
       "    </tr>\n",
       "    <tr>\n",
       "      <th>32</th>\n",
       "      <td>42</td>\n",
       "      <td>Nuzman tentou pagar advogado criminal com recu...</td>\n",
       "      <td>2017-09-10</td>\n",
       "      <td>Esporte</td>\n",
       "      <td>NaN</td>\n",
       "      <td>http://www1.folha.uol.com.br/esporte/2017/10/1...</td>\n",
       "      <td>Nuzman tentou pagar advogado criminal com recu...</td>\n",
       "      <td>Nuzman tentou pagar advogado criminal com recu...</td>\n",
       "      <td>2215</td>\n",
       "      <td>4</td>\n",
       "    </tr>\n",
       "    <tr>\n",
       "      <th>40</th>\n",
       "      <td>54</td>\n",
       "      <td>Adiada permissão para pagar boleto vencido até...</td>\n",
       "      <td>2017-09-10</td>\n",
       "      <td>Mercado</td>\n",
       "      <td>NaN</td>\n",
       "      <td>http://www1.folha.uol.com.br/mercado/2017/10/1...</td>\n",
       "      <td>Adiada permissão para pagar boleto vencido até...</td>\n",
       "      <td>Adiada permissão para pagar boleto vencido até...</td>\n",
       "      <td>2303</td>\n",
       "      <td>6</td>\n",
       "    </tr>\n",
       "    <tr>\n",
       "      <th>...</th>\n",
       "      <td>...</td>\n",
       "      <td>...</td>\n",
       "      <td>...</td>\n",
       "      <td>...</td>\n",
       "      <td>...</td>\n",
       "      <td>...</td>\n",
       "      <td>...</td>\n",
       "      <td>...</td>\n",
       "      <td>...</td>\n",
       "      <td>...</td>\n",
       "    </tr>\n",
       "    <tr>\n",
       "      <th>92202</th>\n",
       "      <td>166965</td>\n",
       "      <td>Veja as manchetes dos principais jornais desta...</td>\n",
       "      <td>2015-01-01</td>\n",
       "      <td>Poder e Política no Brasil</td>\n",
       "      <td>NaN</td>\n",
       "      <td>http://www1.folha.uol.com.br/poder/2015/01/156...</td>\n",
       "      <td>Veja as manchetes dos principais jornais desta...</td>\n",
       "      <td>Veja as manchetes dos principais jornais desta...</td>\n",
       "      <td>908</td>\n",
       "      <td>8</td>\n",
       "    </tr>\n",
       "    <tr>\n",
       "      <th>92211</th>\n",
       "      <td>167000</td>\n",
       "      <td>Em Miami, brasileiros gastam mais com compras ...</td>\n",
       "      <td>2015-01-01</td>\n",
       "      <td>Mercado</td>\n",
       "      <td>NaN</td>\n",
       "      <td>http://www1.folha.uol.com.br/mercado/2015/01/1...</td>\n",
       "      <td>Em Miami, brasileiros gastam mais com compras ...</td>\n",
       "      <td>Em Miami, brasileiros gastam mais com compras ...</td>\n",
       "      <td>972</td>\n",
       "      <td>6</td>\n",
       "    </tr>\n",
       "    <tr>\n",
       "      <th>92228</th>\n",
       "      <td>167033</td>\n",
       "      <td>Novo chanceler faz parte de grupo ligado a Amorim</td>\n",
       "      <td>2015-01-01</td>\n",
       "      <td>Poder e Política no Brasil</td>\n",
       "      <td>NaN</td>\n",
       "      <td>http://www1.folha.uol.com.br/poder/2015/01/156...</td>\n",
       "      <td>Novo chanceler faz parte de grupo ligado a Amo...</td>\n",
       "      <td>Novo chanceler faz parte de grupo ligado a Amo...</td>\n",
       "      <td>1318</td>\n",
       "      <td>8</td>\n",
       "    </tr>\n",
       "    <tr>\n",
       "      <th>92231</th>\n",
       "      <td>167040</td>\n",
       "      <td>Economista assume governo de PE e promete 'mod...</td>\n",
       "      <td>2015-01-01</td>\n",
       "      <td>Poder e Política no Brasil</td>\n",
       "      <td>NaN</td>\n",
       "      <td>http://www1.folha.uol.com.br/poder/2015/01/156...</td>\n",
       "      <td>Economista assume governo de PE e promete 'mod...</td>\n",
       "      <td>Economista assume governo de PE e promete 'mod...</td>\n",
       "      <td>2683</td>\n",
       "      <td>8</td>\n",
       "    </tr>\n",
       "    <tr>\n",
       "      <th>92236</th>\n",
       "      <td>167046</td>\n",
       "      <td>Apoiado pelos irmãos Gomes, petista toma posse...</td>\n",
       "      <td>2015-01-01</td>\n",
       "      <td>Poder e Política no Brasil</td>\n",
       "      <td>NaN</td>\n",
       "      <td>http://www1.folha.uol.com.br/poder/2015/01/156...</td>\n",
       "      <td>Apoiado pelos irmãos Gomes, petista toma posse...</td>\n",
       "      <td>Apoiado pelos irmãos Gomes, petista toma posse...</td>\n",
       "      <td>1890</td>\n",
       "      <td>8</td>\n",
       "    </tr>\n",
       "  </tbody>\n",
       "</table>\n",
       "<p>10000 rows × 10 columns</p>\n",
       "</div>"
      ],
      "text/plain": [
       "       Unnamed: 0                                              title  \\\n",
       "6               8  Supremo nega pedido para Senado analisar impea...   \n",
       "22             27  Plano de Energia Limpa de Obama será revogado,...   \n",
       "24             29  MPF pede que prisão de Nuzman seja prolongada ...   \n",
       "32             42  Nuzman tentou pagar advogado criminal com recu...   \n",
       "40             54  Adiada permissão para pagar boleto vencido até...   \n",
       "...           ...                                                ...   \n",
       "92202      166965  Veja as manchetes dos principais jornais desta...   \n",
       "92211      167000  Em Miami, brasileiros gastam mais com compras ...   \n",
       "92228      167033  Novo chanceler faz parte de grupo ligado a Amorim   \n",
       "92231      167040  Economista assume governo de PE e promete 'mod...   \n",
       "92236      167046  Apoiado pelos irmãos Gomes, petista toma posse...   \n",
       "\n",
       "             date                       class subcategory  \\\n",
       "6      2017-09-10  Poder e Política no Brasil         NaN   \n",
       "22     2017-09-10               Meio Ambiente         NaN   \n",
       "24     2017-09-10                     Esporte         NaN   \n",
       "32     2017-09-10                     Esporte         NaN   \n",
       "40     2017-09-10                     Mercado         NaN   \n",
       "...           ...                         ...         ...   \n",
       "92202  2015-01-01  Poder e Política no Brasil         NaN   \n",
       "92211  2015-01-01                     Mercado         NaN   \n",
       "92228  2015-01-01  Poder e Política no Brasil         NaN   \n",
       "92231  2015-01-01  Poder e Política no Brasil         NaN   \n",
       "92236  2015-01-01  Poder e Política no Brasil         NaN   \n",
       "\n",
       "                                                    link  \\\n",
       "6      http://www1.folha.uol.com.br/poder/2017/10/192...   \n",
       "22     http://www1.folha.uol.com.br/ambiente/2017/10/...   \n",
       "24     http://www1.folha.uol.com.br/esporte/2017/10/1...   \n",
       "32     http://www1.folha.uol.com.br/esporte/2017/10/1...   \n",
       "40     http://www1.folha.uol.com.br/mercado/2017/10/1...   \n",
       "...                                                  ...   \n",
       "92202  http://www1.folha.uol.com.br/poder/2015/01/156...   \n",
       "92211  http://www1.folha.uol.com.br/mercado/2015/01/1...   \n",
       "92228  http://www1.folha.uol.com.br/poder/2015/01/156...   \n",
       "92231  http://www1.folha.uol.com.br/poder/2015/01/156...   \n",
       "92236  http://www1.folha.uol.com.br/poder/2015/01/156...   \n",
       "\n",
       "                                                    data  \\\n",
       "6      Supremo nega pedido para Senado analisar impea...   \n",
       "22     Plano de Energia Limpa de Obama será revogado,...   \n",
       "24     MPF pede que prisão de Nuzman seja prolongada ...   \n",
       "32     Nuzman tentou pagar advogado criminal com recu...   \n",
       "40     Adiada permissão para pagar boleto vencido até...   \n",
       "...                                                  ...   \n",
       "92202  Veja as manchetes dos principais jornais desta...   \n",
       "92211  Em Miami, brasileiros gastam mais com compras ...   \n",
       "92228  Novo chanceler faz parte de grupo ligado a Amo...   \n",
       "92231  Economista assume governo de PE e promete 'mod...   \n",
       "92236  Apoiado pelos irmãos Gomes, petista toma posse...   \n",
       "\n",
       "                                                    text   len  class_code  \n",
       "6      Supremo nega pedido para Senado analisar impea...  1539           8  \n",
       "22     Plano de Energia Limpa de Obama será revogado,...  3183           5  \n",
       "24     MPF pede que prisão de Nuzman seja prolongada ...  2464           4  \n",
       "32     Nuzman tentou pagar advogado criminal com recu...  2215           4  \n",
       "40     Adiada permissão para pagar boleto vencido até...  2303           6  \n",
       "...                                                  ...   ...         ...  \n",
       "92202  Veja as manchetes dos principais jornais desta...   908           8  \n",
       "92211  Em Miami, brasileiros gastam mais com compras ...   972           6  \n",
       "92228  Novo chanceler faz parte de grupo ligado a Amo...  1318           8  \n",
       "92231  Economista assume governo de PE e promete 'mod...  2683           8  \n",
       "92236  Apoiado pelos irmãos Gomes, petista toma posse...  1890           8  \n",
       "\n",
       "[10000 rows x 10 columns]"
      ]
     },
     "execution_count": 13,
     "metadata": {},
     "output_type": "execute_result"
    }
   ],
   "source": [
    "data_to_label"
   ]
  },
  {
   "cell_type": "code",
   "execution_count": 14,
   "metadata": {},
   "outputs": [
    {
     "name": "stderr",
     "output_type": "stream",
     "text": [
      "model_head.pkl not found on HuggingFace Hub, initialising classification head with random weights. You should TRAIN this model on a downstream task to use it for predictions and inference.\n"
     ]
    }
   ],
   "source": [
    "# setfit_model = SetFitModel.from_pretrained('ricardo-filho/bert-base-portuguese-cased-nli-assin-2')\n",
    "model.contrastiveModel  = SetFitModel.from_pretrained('ricardo-filho/bert-base-portuguese-cased-nli-assin-2', use_differentiable_head=True,\n",
    "                                        head_params={\"out_features\":len(classes_list)})"
   ]
  },
  {
   "cell_type": "code",
   "execution_count": 22,
   "metadata": {},
   "outputs": [
    {
     "name": "stderr",
     "output_type": "stream",
     "text": [
      "/Users/alealcoforado/Documents/Projetos/ZeroBERTo/zeroberto/datasets_handler.py:156: SettingWithCopyWarning: \n",
      "A value is trying to be set on a copy of a slice from a DataFrame.\n",
      "Try using .loc[row_indexer,col_indexer] = value instead\n",
      "\n",
      "See the caveats in the documentation: https://pandas.pydata.org/pandas-docs/stable/user_guide/indexing.html#returning-a-view-versus-a-copy\n",
      "  test_data[data_col] = test_data[data_col].apply(str)\n",
      "/Users/alealcoforado/Documents/Projetos/ZeroBERTo/zeroberto/datasets_handler.py:157: SettingWithCopyWarning: \n",
      "A value is trying to be set on a copy of a slice from a DataFrame.\n",
      "Try using .loc[row_indexer,col_indexer] = value instead\n",
      "\n",
      "See the caveats in the documentation: https://pandas.pydata.org/pandas-docs/stable/user_guide/indexing.html#returning-a-view-versus-a-copy\n",
      "  test_data['class_code'] = test_data['class_code'].apply(int)\n"
     ]
    }
   ],
   "source": [
    "train_dataframe,test_dataframe = datasets_handler.splitDataset(model.labeling_dataset,model.config) ### df_test will not be used\n",
    "\n"
   ]
  },
  {
   "cell_type": "code",
   "execution_count": null,
   "metadata": {},
   "outputs": [],
   "source": []
  },
  {
   "cell_type": "code",
   "execution_count": 24,
   "metadata": {},
   "outputs": [],
   "source": [
    "train_data = datasets_handler.buildDatasetDict(train_dataframe)\n",
    "test_data =  datasets_handler.buildDatasetDict(test_dataframe)"
   ]
  },
  {
   "cell_type": "code",
   "execution_count": null,
   "metadata": {},
   "outputs": [],
   "source": []
  },
  {
   "cell_type": "code",
   "execution_count": null,
   "metadata": {},
   "outputs": [],
   "source": []
  },
  {
   "cell_type": "code",
   "execution_count": 25,
   "metadata": {},
   "outputs": [
    {
     "name": "stderr",
     "output_type": "stream",
     "text": [
      "Applying column mapping to training dataset\n",
      "***** Running training *****\n",
      "  Num examples = 960\n",
      "  Num epochs = 1\n",
      "  Total optimization steps = 120\n",
      "  Total train batch size = 8\n"
     ]
    },
    {
     "data": {
      "application/vnd.jupyter.widget-view+json": {
       "model_id": "83f750010011464c9f83445e9b885380",
       "version_major": 2,
       "version_minor": 0
      },
      "text/plain": [
       "Epoch:   0%|          | 0/1 [00:00<?, ?it/s]"
      ]
     },
     "metadata": {},
     "output_type": "display_data"
    },
    {
     "data": {
      "application/vnd.jupyter.widget-view+json": {
       "model_id": "97ee4ac68a23407ba0fdeacca448f27c",
       "version_major": 2,
       "version_minor": 0
      },
      "text/plain": [
       "Iteration:   0%|          | 0/120 [00:00<?, ?it/s]"
      ]
     },
     "metadata": {},
     "output_type": "display_data"
    },
    {
     "ename": "",
     "evalue": "",
     "output_type": "error",
     "traceback": [
      "\u001b[1;31mCanceled future for execute_request message before replies were done"
     ]
    },
    {
     "ename": "",
     "evalue": "",
     "output_type": "error",
     "traceback": [
      "\u001b[1;31mThe Kernel crashed while executing code in the the current cell or a previous cell. Please review the code in the cell(s) to identify a possible cause of the failure. Click <a href='https://aka.ms/vscodeJupyterKernelCrash'>here</a> for more info. View Jupyter <a href='command:jupyter.viewOutput'>log</a> for further details."
     ]
    }
   ],
   "source": [
    "### build trainer for contrastive learning\n",
    "model.buildTrainer(train_data)\n",
    "\n",
    "### train\n",
    "model.contrastive_train()\n",
    "gc.collect()\n",
    "\n",
    "### predict labeling dataset with new classifier\n",
    "model.getPredictions()\n",
    "# 5000 sentences --- 4min40s ---sts-xlm-rr\n",
    "# 5000 sentences ---  ---ricardo-filho/bert-portuguese\n",
    "\n",
    "setfit_all_metrics = evaluation_metrics.get_metrics(model.y_pred.cpu(), model.trainer.eval_dataset[\"class_code\"])\n",
    "print(setfit_all_metrics)\n",
    "\n",
    "setfit_exec_time  = evaluation_metrics.saveResults(model.config,setfit_all_metrics)\n",
    "print(model.config)"
   ]
  },
  {
   "cell_type": "code",
   "execution_count": null,
   "metadata": {},
   "outputs": [
    {
     "name": "stderr",
     "output_type": "stream",
     "text": [
      "/Users/alealcoforado/Documents/Projetos/ZeroBERTo/zeroberto/datasets_handler.py:162: FutureWarning: The default dtype for empty Series will be 'object' instead of 'float64' in a future version. Specify a dtype explicitly to silence this warning.\n",
      "  def splitDocuments(docs: pd.Series()) -> list():\n",
      "0it [00:00, ?it/s]\n"
     ]
    },
    {
     "data": {
      "text/plain": [
       "array([8, 8, 8, 8, 8, 8, 8, 8, 8, 8, 8, 8, 8, 8, 8, 8, 8, 8, 8, 8, 8, 8,\n",
       "       8, 8, 8, 8, 8, 8, 8, 8, 8, 8, 8, 8, 8, 8, 8, 8, 8, 8, 8, 8, 8, 8,\n",
       "       8, 8, 8, 8, 8, 8, 8, 8, 8, 8, 8, 8, 8, 8, 8, 8, 8, 8, 8, 8, 8, 8,\n",
       "       8, 8, 8, 8, 8, 8, 8, 8, 8, 8, 8, 8, 8, 8, 8, 8, 8, 8, 8, 8, 8, 8,\n",
       "       8, 8, 8, 8, 8, 8, 8, 8, 8, 8, 8, 8, 8, 8, 8, 8, 8, 8, 8, 8, 8, 8,\n",
       "       8, 8, 8, 8, 8, 8, 8, 8, 8, 8, 8, 8, 8, 8, 8, 8, 8, 8, 8, 8, 8, 8,\n",
       "       8, 8, 8, 8, 8, 8, 8, 8, 8, 8, 8, 8, 8, 8, 8, 8, 8, 8, 8, 8, 8, 8,\n",
       "       8, 8, 8, 8, 8, 8, 8, 8, 8, 8, 8, 8, 8, 8, 8, 8, 8, 8, 8, 8, 8, 8,\n",
       "       8, 8, 8, 8, 8, 8, 8, 8, 8, 8, 8, 8, 8, 8, 8, 8, 8, 8, 8, 8, 8, 8,\n",
       "       8, 8, 8, 8, 8, 8, 8, 8, 8, 8, 8, 8, 8, 8, 8, 8, 8, 8, 8, 8, 8, 8,\n",
       "       8, 8, 8, 8, 8, 8, 8, 8, 8, 8, 8, 8, 8, 8, 8, 8, 8, 8, 8, 8, 8, 8,\n",
       "       8, 8, 8, 8, 8, 8, 8, 8, 8, 8, 8, 8, 8, 8, 8, 8, 8, 8, 8, 8, 8, 8,\n",
       "       8, 8, 8, 8, 8, 8, 8, 8, 8, 8, 8, 8, 8, 8, 8, 8, 8, 8, 8, 8, 8, 8,\n",
       "       8, 8, 8, 8, 8, 8, 8, 8, 8, 8, 8, 8, 8, 8, 8, 8, 8, 8, 8, 8, 8, 8,\n",
       "       8, 8, 8, 8, 8, 8, 8, 8, 8, 8, 8, 8, 8, 8, 8, 8, 8, 8, 8, 8, 8, 8,\n",
       "       8, 8, 8, 8, 8, 8, 8, 8, 8, 8, 8, 8, 8, 8, 8, 8, 8, 8, 8, 8, 8, 8,\n",
       "       8, 8, 8, 8, 8, 8, 8, 8, 8, 8, 8, 8, 8, 8, 8, 8, 8, 8, 8, 8, 8, 8,\n",
       "       8, 8, 8, 8, 8, 8, 8, 8, 8, 8, 8, 8, 8, 8, 8, 8, 8, 8, 8, 8, 8, 8,\n",
       "       8, 8, 8, 8, 8, 8, 8, 8, 8, 8, 8, 8, 8, 8, 8, 8, 8, 8, 8, 8, 8, 8,\n",
       "       8, 8, 8, 8, 8, 8, 8, 8, 8, 8, 8, 8, 8, 8, 8, 8, 8, 8, 8, 8, 8, 8,\n",
       "       8, 8, 8, 8, 8, 8, 8, 8, 8, 8, 8, 8, 8, 8, 8, 8, 8, 8, 8, 8, 8, 8,\n",
       "       8, 8, 8, 8, 8, 8, 8, 8, 8, 8, 8, 8, 8, 8, 8, 8, 8, 8, 8, 8, 8, 8,\n",
       "       8, 8, 8, 8, 8, 8, 8, 8, 8, 8, 8, 8, 8, 8, 8, 8, 8, 8, 8, 8, 8, 8,\n",
       "       8, 8, 8, 8, 8, 8, 8, 8, 8, 8, 8, 8, 8, 8, 8, 8, 8, 8, 8, 8, 8, 8,\n",
       "       8, 8, 8, 8, 8, 8, 8, 8, 8, 8, 8, 8, 8, 8, 8, 8, 8, 8, 8, 8, 8, 8,\n",
       "       8, 8, 8, 8, 8, 8, 8, 8, 8, 8, 8, 8, 8, 8, 8, 8, 8, 8, 8, 8, 8, 8,\n",
       "       8, 8, 8, 8, 8, 8, 8, 8, 8, 8, 8, 8, 8, 8, 8, 8, 8, 8, 8, 8, 8, 8,\n",
       "       8, 8, 8, 8, 8, 8, 8, 8, 8, 8, 8, 8, 8, 8, 8, 8, 8, 8, 8, 8, 8, 8,\n",
       "       8, 8, 8, 8, 8, 8, 8, 8, 8, 8, 8, 8, 8, 8, 8, 8, 8, 8, 8, 8, 8, 8,\n",
       "       8, 8, 8, 8, 8, 8, 8, 8, 8, 8, 8, 8, 8, 8, 8, 8, 8, 8, 8, 8, 8, 8,\n",
       "       8, 8, 8, 8, 8, 8, 8, 8, 8, 8, 8, 8, 8, 8, 8, 8, 8, 8, 8, 8, 8, 8,\n",
       "       8, 8, 8, 8, 8, 8, 8, 8, 8, 8, 8, 8, 8, 8, 8, 8, 8, 8, 8, 8, 8, 8,\n",
       "       8, 8, 8, 8, 8, 8, 8, 8, 8, 8, 8, 8, 8, 8, 8, 8, 8, 8, 8, 8, 8, 8,\n",
       "       8, 8, 8, 8, 8, 8, 8, 8, 8, 8, 8, 8, 8, 8, 8, 8, 8, 8, 8, 8, 8, 8,\n",
       "       8, 8, 8, 8, 8, 8, 8, 8, 8, 8, 8, 8, 8, 8, 8, 8, 8, 8, 8, 8, 8, 8,\n",
       "       8, 8, 8, 8, 8, 8, 8, 8, 8, 8, 8, 8, 8, 8, 8, 8, 8, 8, 8, 8, 8, 8,\n",
       "       8, 8, 8, 8, 8, 8, 8, 8, 8, 8, 8, 8, 8, 8, 8, 8, 8, 8, 8, 8, 8, 8,\n",
       "       8, 8, 8, 8, 8, 8, 8, 8, 8, 8, 8, 8, 8, 8, 8, 8, 8, 8, 8, 8, 8, 8,\n",
       "       8, 8, 8, 8, 8, 8, 8, 8, 8, 8, 8, 8, 8, 8, 8, 8, 8, 8, 8, 8, 8, 8,\n",
       "       8, 8, 8, 8, 8, 8, 8, 8, 8, 8, 8, 8, 8, 8, 8, 8, 8, 8, 8, 8, 8, 8,\n",
       "       8, 8, 8, 8, 8, 8, 8, 8, 8, 8, 8, 8, 8, 8, 8, 8, 8, 8, 8, 8, 8, 8,\n",
       "       8, 8, 8, 8, 8, 8, 8, 8, 8, 8, 8, 8, 8, 8, 8, 8, 8, 8, 8, 8, 8, 8,\n",
       "       8, 8, 8, 8, 8, 8, 8, 8, 8, 8, 8, 8, 8, 8, 8, 8, 8, 8, 8, 8, 8, 8,\n",
       "       8, 8, 8, 8, 8, 8, 8, 8, 8, 8, 8, 8, 8, 8, 8, 8, 8, 8, 8, 8, 8, 8,\n",
       "       8, 8, 8, 8, 8, 8, 8, 8, 8, 8, 8, 8, 8, 8, 8, 8, 8, 8, 8, 8, 8, 8,\n",
       "       8, 8, 8, 8, 8, 8, 8, 8, 8, 8])"
      ]
     },
     "execution_count": 7,
     "metadata": {},
     "output_type": "execute_result"
    }
   ],
   "source": [
    "model.y_pred"
   ]
  },
  {
   "cell_type": "code",
   "execution_count": null,
   "metadata": {},
   "outputs": [
    {
     "ename": "NameError",
     "evalue": "name 'train_data' is not defined",
     "output_type": "error",
     "traceback": [
      "\u001b[0;31m---------------------------------------------------------------------------\u001b[0m",
      "\u001b[0;31mNameError\u001b[0m                                 Traceback (most recent call last)",
      "Cell \u001b[0;32mIn[6], line 1\u001b[0m\n\u001b[0;32m----> 1\u001b[0m train_data[\u001b[39m'\u001b[39m\u001b[39mclass_code\u001b[39m\u001b[39m'\u001b[39m]\n",
      "\u001b[0;31mNameError\u001b[0m: name 'train_data' is not defined"
     ]
    }
   ],
   "source": [
    "train_data['class_code']"
   ]
  },
  {
   "cell_type": "code",
   "execution_count": null,
   "metadata": {},
   "outputs": [
    {
     "name": "stderr",
     "output_type": "stream",
     "text": [
      "/Users/alealcoforado/Documents/Projetos/ZeroBERTo/zeroberto/datasets_handler.py:163: FutureWarning: The default dtype for empty Series will be 'object' instead of 'float64' in a future version. Specify a dtype explicitly to silence this warning.\n",
      "  all_sentences = np.array(docs.apply(lambda x : re.sub(r'(\\d+)(\\.)(\\d+)',r\"\\1\"+r\"\\3\", x)).str.split(\".\"))\n",
      "0it [00:00, ?it/s]\n",
      "Applying column mapping to evaluation dataset\n",
      "***** Running evaluation *****\n"
     ]
    },
    {
     "data": {
      "text/plain": [
       "{'accuracy': 0.253}"
      ]
     },
     "execution_count": 16,
     "metadata": {},
     "output_type": "execute_result"
    }
   ],
   "source": [
    "model.trainer.evaluate()"
   ]
  }
 ],
 "metadata": {
  "kernelspec": {
   "display_name": "venv_zeroberto",
   "language": "python",
   "name": "python3"
  },
  "language_info": {
   "codemirror_mode": {
    "name": "ipython",
    "version": 3
   },
   "file_extension": ".py",
   "mimetype": "text/x-python",
   "name": "python",
   "nbconvert_exporter": "python",
   "pygments_lexer": "ipython3",
   "version": "3.10.9"
  },
  "orig_nbformat": 4
 },
 "nbformat": 4,
 "nbformat_minor": 2
}
