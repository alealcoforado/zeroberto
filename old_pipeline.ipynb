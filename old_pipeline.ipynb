{
 "cells": [
  {
   "attachments": {},
   "cell_type": "markdown",
   "metadata": {},
   "source": [
    "# Dependencies"
   ]
  },
  {
   "cell_type": "code",
   "execution_count": 25,
   "metadata": {},
   "outputs": [],
   "source": [
    "# %load_ext autoreload\n",
    "# %autoreload 2\n",
    "# import nltk\n",
    "# import ipywidgets\n",
    "# import pandas as pd\n",
    "# import numpy as np\n",
    "# import time\n",
    "# from tqdm import tqdm\n",
    "# tqdm.pandas()\n",
    "# # from pandarallel import pandarallel\n",
    "# # pandarallel.initialize(progress_bar=True)\n",
    "# import torch\n",
    "# import datetime\n",
    "# import os\n",
    "import datasets_handler\n",
    "import evaluation_metrics\n",
    "import zeroberto\n",
    "from zeroberto import ZeroBERTo\n",
    "# # import datasets\n",
    "# # from datasets import Dataset\n",
    "# from tqdm import tqdm\n",
    "# from sklearn.preprocessing import LabelEncoder\n",
    "from sentence_transformers.losses import CosineSimilarityLoss\n",
    "from setfit import SetFitModel, SetFitTrainer\n",
    "import gc"
   ]
  },
  {
   "attachments": {},
   "cell_type": "markdown",
   "metadata": {},
   "source": [
    "# Dataset"
   ]
  },
  {
   "cell_type": "code",
   "execution_count": 8,
   "metadata": {},
   "outputs": [
    {
     "name": "stdout",
     "output_type": "stream",
     "text": [
      "['Poder e Política no Brasil', 'Mercado', 'Notícias de fora do Brasil', 'Esporte', 'Tecnologia', 'Meio Ambiente', 'Equilíbrio e Saúde', 'Educação', 'TV, Televisão e Entretenimento', 'Ciência', 'Turismo', 'Comida']\n"
     ]
    }
   ],
   "source": [
    "which_dataset = 'folhauol' \n",
    "# which_dataset = 'bbc-news'\n",
    "# which_dataset = 'ag_news'\n",
    "# which_dataset = 'imdb'\n",
    "\n",
    "# hyp_template = \"{}\"\n",
    "# hyp_template = \"Esse texto está relacionado a {}.\"\n",
    "hyp_template = \"O tema principal deste texto é {}.\"\n",
    "# hyp_template = \"this text is about {}.\"\n",
    "# hyp_template = \"this article is about {}.\"\n",
    "\n",
    "raw_data, data_col, class_col = datasets_handler.getDataset(which_dataset)\n",
    "classes_list = list(raw_data[class_col].unique())\n",
    "print(classes_list)"
   ]
  },
  {
   "cell_type": "code",
   "execution_count": null,
   "metadata": {},
   "outputs": [],
   "source": []
  },
  {
   "attachments": {},
   "cell_type": "markdown",
   "metadata": {},
   "source": [
    "# ZeroBERTo"
   ]
  },
  {
   "attachments": {},
   "cell_type": "markdown",
   "metadata": {},
   "source": [
    "## Parameters"
   ]
  },
  {
   "cell_type": "code",
   "execution_count": 9,
   "metadata": {},
   "outputs": [
    {
     "data": {
      "text/plain": [
       "{'dataset': 'folhauol',\n",
       " 'class_col': 'class',\n",
       " 'data_col': 'text',\n",
       " 'split': 'zeroshot',\n",
       " 'method': 'dotproduct',\n",
       " 'max_inferences': 5000,\n",
       " 'classes': ['Poder e Política no Brasil',\n",
       "  'Mercado',\n",
       "  'Notícias de fora do Brasil',\n",
       "  'Esporte',\n",
       "  'Tecnologia',\n",
       "  'Meio Ambiente',\n",
       "  'Equilíbrio e Saúde',\n",
       "  'Educação',\n",
       "  'TV, Televisão e Entretenimento',\n",
       "  'Ciência',\n",
       "  'Turismo',\n",
       "  'Comida'],\n",
       " 'template': 'O tema principal deste texto é {}.',\n",
       " 'random_state': 422}"
      ]
     },
     "execution_count": 9,
     "metadata": {},
     "output_type": "execute_result"
    }
   ],
   "source": [
    "# max_inferences = len(train) #estava em 5000\n",
    "max_inferences = 5000\n",
    "\n",
    "# zeroshot_method = \"probability_threshold\"\n",
    "# probability_goal = 0.9\n",
    "# top_n_goal = 8\n",
    "\n",
    "zeroshot_method = \"dotproduct\"  \n",
    "# zeroshot_method = \"kmeans\"  \n",
    "\n",
    "zeroshot_config = {\n",
    "    'dataset':which_dataset,\n",
    "    'class_col':class_col,\n",
    "    'data_col':data_col,\n",
    "    'split':\"zeroshot\",\n",
    "    'method':zeroshot_method,\n",
    "    # 'prob_goal':probability_goal,\n",
    "    # 'top_n_goal':top_n_goal,\n",
    "    'max_inferences':max_inferences,\n",
    "    'classes':classes_list,#list(dict_classes_folha.values())\n",
    "    'template': hyp_template,\n",
    "    'random_state':422,\n",
    "    # 'trainings_done':0\n",
    "}\n",
    "zeroshot_config"
   ]
  },
  {
   "cell_type": "code",
   "execution_count": 10,
   "metadata": {},
   "outputs": [
    {
     "data": {
      "text/plain": [
       "5000"
      ]
     },
     "execution_count": 10,
     "metadata": {},
     "output_type": "execute_result"
    }
   ],
   "source": [
    "train_data = raw_data.sample(zeroshot_config['max_inferences'],random_state=zeroshot_config['random_state']).sort_index()\n",
    "len(train_data)"
   ]
  },
  {
   "attachments": {},
   "cell_type": "markdown",
   "metadata": {},
   "source": [
    "## Model"
   ]
  },
  {
   "cell_type": "code",
   "execution_count": 11,
   "metadata": {},
   "outputs": [],
   "source": [
    "zeroshot_config['similarity_model'] = 'sentence-transformers/stsb-xlm-r-multilingual'\n",
    "zeroshot_config['setfit_model'] = 'ricardo-filho/bert-base-portuguese-cased-nli-assin-2'\n",
    "\n",
    "model = ZeroBERTo(classes_list=zeroshot_config['classes'],hypothesis_template=zeroshot_config['template'],\n",
    "                  train_dataset=train_data,labeling_method=zeroshot_config['method'],embeddingModel=zeroshot_config['similarity_model'])"
   ]
  },
  {
   "cell_type": "code",
   "execution_count": null,
   "metadata": {},
   "outputs": [],
   "source": []
  },
  {
   "cell_type": "code",
   "execution_count": 12,
   "metadata": {},
   "outputs": [
    {
     "data": {
      "text/plain": [
       "SentenceTransformer(\n",
       "  (0): Transformer({'max_seq_length': 128, 'do_lower_case': False}) with Transformer model: XLMRobertaModel \n",
       "  (1): Pooling({'word_embedding_dimension': 768, 'pooling_mode_cls_token': False, 'pooling_mode_mean_tokens': True, 'pooling_mode_max_tokens': False, 'pooling_mode_mean_sqrt_len_tokens': False})\n",
       ")"
      ]
     },
     "execution_count": 12,
     "metadata": {},
     "output_type": "execute_result"
    }
   ],
   "source": [
    "model.embeddingModel"
   ]
  },
  {
   "attachments": {},
   "cell_type": "markdown",
   "metadata": {},
   "source": [
    "## Inference"
   ]
  },
  {
   "cell_type": "code",
   "execution_count": 13,
   "metadata": {},
   "outputs": [
    {
     "name": "stdout",
     "output_type": "stream",
     "text": [
      "Preds: 100  - Total time: 7.94 seconds - ETA: 6.6 minutes\n",
      "Preds: 200  - Total time: 16.11 seconds - ETA: 6.7 minutes\n",
      "Preds: 300  - Total time: 23.51 seconds - ETA: 6.5 minutes\n",
      "Preds: 400  - Total time: 31.09 seconds - ETA: 6.5 minutes\n",
      "Preds: 500  - Total time: 38.7 seconds - ETA: 6.4 minutes\n",
      "Preds: 600  - Total time: 46.07 seconds - ETA: 6.4 minutes\n",
      "Preds: 700  - Total time: 53.23 seconds - ETA: 6.3 minutes\n",
      "Preds: 800  - Total time: 61.41 seconds - ETA: 6.4 minutes\n",
      "Preds: 900  - Total time: 68.71 seconds - ETA: 6.4 minutes\n",
      "Preds: 1000  - Total time: 75.71 seconds - ETA: 6.3 minutes\n",
      "Preds: 1100  - Total time: 82.8 seconds - ETA: 6.3 minutes\n",
      "Preds: 1200  - Total time: 90.67 seconds - ETA: 6.3 minutes\n",
      "Preds: 1300  - Total time: 98.3 seconds - ETA: 6.3 minutes\n",
      "Preds: 1400  - Total time: 105.39 seconds - ETA: 6.3 minutes\n",
      "Preds: 1500  - Total time: 112.5 seconds - ETA: 6.3 minutes\n",
      "Preds: 1600  - Total time: 119.47 seconds - ETA: 6.2 minutes\n",
      "Preds: 1700  - Total time: 126.64 seconds - ETA: 6.2 minutes\n",
      "Preds: 1800  - Total time: 133.64 seconds - ETA: 6.2 minutes\n",
      "Preds: 1900  - Total time: 140.75 seconds - ETA: 6.2 minutes\n",
      "Preds: 2000  - Total time: 147.79 seconds - ETA: 6.2 minutes\n",
      "Preds: 2100  - Total time: 154.68 seconds - ETA: 6.1 minutes\n",
      "Preds: 2200  - Total time: 161.63 seconds - ETA: 6.1 minutes\n",
      "Preds: 2300  - Total time: 168.7 seconds - ETA: 6.1 minutes\n",
      "Preds: 2400  - Total time: 176.66 seconds - ETA: 6.1 minutes\n",
      "Preds: 2500  - Total time: 183.91 seconds - ETA: 6.1 minutes\n",
      "Preds: 2600  - Total time: 190.99 seconds - ETA: 6.1 minutes\n",
      "Preds: 2700  - Total time: 198.86 seconds - ETA: 6.1 minutes\n",
      "Preds: 2800  - Total time: 205.79 seconds - ETA: 6.1 minutes\n",
      "Preds: 2900  - Total time: 212.66 seconds - ETA: 6.1 minutes\n",
      "Preds: 3000  - Total time: 219.48 seconds - ETA: 6.1 minutes\n",
      "Preds: 3100  - Total time: 226.32 seconds - ETA: 6.1 minutes\n",
      "Preds: 3200  - Total time: 233.14 seconds - ETA: 6.1 minutes\n",
      "Preds: 3300  - Total time: 239.93 seconds - ETA: 6.1 minutes\n",
      "Preds: 3400  - Total time: 246.73 seconds - ETA: 6.0 minutes\n",
      "Preds: 3500  - Total time: 253.59 seconds - ETA: 6.0 minutes\n",
      "Preds: 3600  - Total time: 260.39 seconds - ETA: 6.0 minutes\n",
      "Preds: 3700  - Total time: 267.73 seconds - ETA: 6.0 minutes\n",
      "Preds: 3800  - Total time: 274.71 seconds - ETA: 6.0 minutes\n",
      "Preds: 3900  - Total time: 282.57 seconds - ETA: 6.0 minutes\n",
      "Preds: 4000  - Total time: 289.6 seconds - ETA: 6.0 minutes\n",
      "Preds: 4100  - Total time: 297.56 seconds - ETA: 6.0 minutes\n",
      "Preds: 4200  - Total time: 305.46 seconds - ETA: 6.1 minutes\n",
      "Preds: 4300  - Total time: 312.73 seconds - ETA: 6.1 minutes\n",
      "Preds: 4400  - Total time: 319.52 seconds - ETA: 6.1 minutes\n",
      "Preds: 4500  - Total time: 326.36 seconds - ETA: 6.0 minutes\n",
      "Preds: 4600  - Total time: 333.33 seconds - ETA: 6.0 minutes\n",
      "Preds: 4700  - Total time: 340.07 seconds - ETA: 6.0 minutes\n",
      "Preds: 4800  - Total time: 346.92 seconds - ETA: 6.0 minutes\n",
      "Preds: 4900  - Total time: 354.29 seconds - ETA: 6.0 minutes\n",
      "Preds: 5000  - Total time: 361.04 seconds - ETA: 6.0 minutes\n"
     ]
    }
   ],
   "source": [
    "# results = zeroberto.runZeroberto(model,train_data[data_col].to_list(),zeroshot_config)  ##X## COMENTAR AQUI "
   ]
  },
  {
   "cell_type": "code",
   "execution_count": null,
   "metadata": {},
   "outputs": [],
   "source": [
    "results = model.runLabeling(train_data[data_col].to_list())"
   ]
  },
  {
   "attachments": {},
   "cell_type": "markdown",
   "metadata": {},
   "source": [
    "## Evaluation"
   ]
  },
  {
   "cell_type": "code",
   "execution_count": 14,
   "metadata": {},
   "outputs": [
    {
     "name": "stdout",
     "output_type": "stream",
     "text": [
      "top 1: {'accuracy': 0.5}\n",
      "top 2: {'accuracy': 0.5}\n",
      "top 3: {'accuracy': 0.4722222222222222}\n",
      "top 4: {'accuracy': 0.5}\n",
      "top 5: {'accuracy': 0.48333333333333334}\n",
      "top 6: {'accuracy': 0.4722222222222222}\n",
      "top 7: {'accuracy': 0.44047619047619047}\n",
      "top 8: {'accuracy': 0.46875}\n",
      "top 9: {'accuracy': 0.46296296296296297}\n",
      "top 10: {'accuracy': 0.475}\n",
      "top 11: {'accuracy': 0.48484848484848486}\n",
      "top 12: {'accuracy': 0.4930555555555556}\n",
      "top 13: {'accuracy': 0.48717948717948717}\n",
      "top 14: {'accuracy': 0.4880952380952381}\n",
      "top 15: {'accuracy': 0.4777777777777778}\n",
      "top 16: {'accuracy': 0.4635416666666667}\n",
      "top 5000: {'accuracy': 0.3246}\n"
     ]
    }
   ],
   "source": [
    "df_results = model.evaluateLabeling(results)"
   ]
  },
  {
   "cell_type": "code",
   "execution_count": 15,
   "metadata": {},
   "outputs": [
    {
     "name": "stdout",
     "output_type": "stream",
     "text": [
      "{'weighted': [{'accuracy': 0.3246}, {'precision': 0.47766436597703094}, {'recall': 0.3246}, {'f1': 0.32373635274282675}], 'macro': [{'accuracy': 0.3246}, {'precision': 0.3118963604155802}, {'recall': 0.32960798201063995}, {'f1': 0.2761013033975229}]}\n"
     ]
    }
   ],
   "source": [
    "try: print(zeroshot_metrics)\n",
    "except: pass\n",
    "zeroshot_metrics = evaluation_metrics.get_metrics(df_results['prediction_code'].to_list(),df_results['class_code'].to_list())\n",
    "print(zeroshot_metrics)"
   ]
  },
  {
   "attachments": {},
   "cell_type": "markdown",
   "metadata": {},
   "source": [
    "## Save Labeling Results"
   ]
  },
  {
   "cell_type": "code",
   "execution_count": 16,
   "metadata": {},
   "outputs": [
    {
     "name": "stdout",
     "output_type": "stream",
     "text": [
      "predictions_and_probabilities_test_2023_04_07__20_13_57.csv\n",
      "zeroshot_config_test_2023_04_07__20_13_57.csv\n"
     ]
    }
   ],
   "source": [
    "save_time = evaluation_metrics.saveZeroshotResults(zeroshot_config,df_results)"
   ]
  },
  {
   "attachments": {},
   "cell_type": "markdown",
   "metadata": {},
   "source": [
    "# Training"
   ]
  },
  {
   "cell_type": "markdown",
   "metadata": {},
   "source": [
    "### Training Parameters"
   ]
  },
  {
   "cell_type": "code",
   "execution_count": 17,
   "metadata": {},
   "outputs": [],
   "source": [
    "use_zeroshot_previous_step = True\n",
    "n = 8\n",
    "top_n = 8\n",
    "\n",
    "batch_size = 4\n",
    "num_text_pairs = 10\n",
    "num_epochs = 1\n",
    "\n",
    "zeroshot_config['top_n'] = top_n\n",
    "zeroshot_config['n_examples'] = n\n",
    "zeroshot_config['exec_time'] = save_time\n",
    "\n",
    "zeroshot_config[\"batch_size\"] = batch_size\n",
    "zeroshot_config[\"num_pairs\"] = num_text_pairs\n",
    "zeroshot_config[\"num_epochs\"] = num_epochs\n",
    "\n",
    "zeroshot_config['st_train_epochs'] = 10\n",
    "zeroshot_config['st_train_batch_size'] = 20\n",
    "\n",
    "split = \"zeroshot\" if use_zeroshot_previous_step else \"fewshot\"\n",
    "\n",
    "# Unfreeze the head and freeze the body -> head-only training\n",
    "zeroshot_config['keep_body_frozen_setfit'] = True\n",
    "# Unfreeze the head and unfreeze the body -> end-to-end training\n",
    "# zeroshot_config['keep_body_frozen_setfit'] = False\n",
    "\n"
   ]
  },
  {
   "attachments": {},
   "cell_type": "markdown",
   "metadata": {},
   "source": [
    "### Previous data from labeling step"
   ]
  },
  {
   "cell_type": "code",
   "execution_count": 18,
   "metadata": {},
   "outputs": [],
   "source": [
    "zeroshot_previous_data = datasets_handler.getZeroshotPreviousData(which_dataset,class_col,top_n=top_n,exec_time=zeroshot_config['exec_time'])\n",
    "raw_data_final, zeroshot_config['new_class_col'] = datasets_handler.mergeLabelingToDataset(raw_data,zeroshot_previous_data,class_col)"
   ]
  },
  {
   "cell_type": "code",
   "execution_count": 19,
   "metadata": {},
   "outputs": [
    {
     "name": "stdout",
     "output_type": "stream",
     "text": [
      "416\n"
     ]
    }
   ],
   "source": [
    "df_train, df_test = datasets_handler.splitDataset(raw_data_final,zeroshot_config)\n",
    "train_dataset,test_dataset = datasets_handler.buildDatasetDict(df_train,df_test)\n",
    "train_documents = datasets_handler.splitDocuments(df_train[data_col])\n",
    "# len(train_documents)"
   ]
  },
  {
   "cell_type": "code",
   "execution_count": 20,
   "metadata": {},
   "outputs": [],
   "source": [
    "# df_test"
   ]
  },
  {
   "attachments": {},
   "cell_type": "markdown",
   "metadata": {},
   "source": [
    "## Treinamento do Corpo do Modelo -- não descomentar"
   ]
  },
  {
   "cell_type": "code",
   "execution_count": 21,
   "metadata": {},
   "outputs": [],
   "source": [
    "# model.fit(train_documents,batch_size=zeroshot_config['st_train_batch_size'],epochs=zeroshot_config['st_train_epochs'])"
   ]
  },
  {
   "attachments": {},
   "cell_type": "markdown",
   "metadata": {},
   "source": [
    "# Fine-Tuning (SetFit)"
   ]
  },
  {
   "attachments": {},
   "cell_type": "markdown",
   "metadata": {},
   "source": [
    "## Model"
   ]
  },
  {
   "cell_type": "code",
   "execution_count": 22,
   "metadata": {},
   "outputs": [
    {
     "name": "stderr",
     "output_type": "stream",
     "text": [
      "model_head.pkl not found on HuggingFace Hub, initialising classification head with random weights. You should TRAIN this model on a downstream task to use it for predictions and inference.\n"
     ]
    }
   ],
   "source": [
    "# setfit_model.model_body = model.embeddingModel\n",
    "\n",
    "setfit_model = SetFitModel.from_pretrained(zeroshot_config['setfit_model'],\n",
    "                                    use_differentiable_head=True,\n",
    "                                    head_params={\"out_features\":len(zeroshot_config['classes'])}\n",
    "                                    )"
   ]
  },
  {
   "cell_type": "code",
   "execution_count": 23,
   "metadata": {},
   "outputs": [],
   "source": [
    "# setfit_model.model_head.temperature = 1.0"
   ]
  },
  {
   "cell_type": "code",
   "execution_count": 26,
   "metadata": {},
   "outputs": [],
   "source": [
    "# Create trainer\n",
    "trainer = SetFitTrainer(\n",
    "    model=setfit_model,\n",
    "    train_dataset=train_dataset,\n",
    "    eval_dataset=test_dataset,\n",
    "    loss_class=CosineSimilarityLoss,\n",
    "    batch_size=zeroshot_config[\"batch_size\"],\n",
    "    num_iterations=zeroshot_config[\"num_pairs\"], # Number of text pairs to generate for contrastive learning\n",
    "    num_epochs=zeroshot_config[\"num_epochs\"], # Number of epochs to use for contrastive learning\n",
    "    column_mapping = {data_col: \"text\", 'class_code': \"label\"} # NÃO mudar\n",
    ")"
   ]
  },
  {
   "cell_type": "code",
   "execution_count": 27,
   "metadata": {},
   "outputs": [
    {
     "name": "stderr",
     "output_type": "stream",
     "text": [
      "Applying column mapping to training dataset\n",
      "The `max_length` is `None`. Using the maximum acceptable length according to the current model body: 512.\n"
     ]
    },
    {
     "name": "stdout",
     "output_type": "stream",
     "text": [
      "{'dataset': 'folhauol', 'class_col': 'class', 'data_col': 'text', 'split': 'zeroshot', 'method': 'dotproduct', 'max_inferences': 5000, 'classes': ['Poder e Política no Brasil', 'Mercado', 'Notícias de fora do Brasil', 'Esporte', 'Tecnologia', 'Meio Ambiente', 'Equilíbrio e Saúde', 'Educação', 'TV, Televisão e Entretenimento', 'Ciência', 'Turismo', 'Comida'], 'template': 'O tema principal deste texto é {}.', 'random_state': 422, 'similarity_model': 'sentence-transformers/stsb-xlm-r-multilingual', 'setfit_model': 'ricardo-filho/bert-base-portuguese-cased-nli-assin-2', 'top_n': 8, 'n_examples': 8, 'exec_time': '2023_04_07__20_13_57', 'batch_size': 4, 'num_pairs': 10, 'num_epochs': 1, 'st_train_epochs': 10, 'st_train_batch_size': 20, 'keep_body_frozen_setfit': True, 'new_class_col': 'new_class'}\n"
     ]
    },
    {
     "data": {
      "application/vnd.jupyter.widget-view+json": {
       "model_id": "7a9107a50c304558a0c1c363fec92a1f",
       "version_major": 2,
       "version_minor": 0
      },
      "text/plain": [
       "Epoch:   0%|          | 0/1 [00:00<?, ?it/s]"
      ]
     },
     "metadata": {},
     "output_type": "display_data"
    },
    {
     "name": "stdout",
     "output_type": "stream",
     "text": [
      "CPU times: user 1min 30s, sys: 13.3 s, total: 1min 44s\n",
      "Wall time: 45.6 s\n"
     ]
    }
   ],
   "source": [
    "%%time\n",
    "# Train and evaluate\n",
    "trainer.freeze() # Freeze the head\n",
    "# trainer.train() # Train only the body\n",
    "print(zeroshot_config)\n",
    "\n",
    "trainer.unfreeze(keep_body_frozen=zeroshot_config['keep_body_frozen_setfit'])\n",
    "\n",
    "trainer.train(\n",
    "    num_epochs=zeroshot_config[\"num_epochs\"], # The number of epochs to train the head or the whole model (body and head)\n",
    "    batch_size=zeroshot_config[\"batch_size\"],\n",
    "    body_learning_rate=1e-5, # The body's learning rate\n",
    "    learning_rate=1e-2, # The head's learning rate\n",
    "    l2_weight=0.1, # Weight decay on **both** the body and head. If `None`, will use 0.01.\n",
    ")\n",
    "# zeroshot_config['trainings_done'] += 1"
   ]
  },
  {
   "cell_type": "code",
   "execution_count": 28,
   "metadata": {},
   "outputs": [
    {
     "name": "stdout",
     "output_type": "stream",
     "text": [
      "Running predictions on 4992 sentences.\n"
     ]
    }
   ],
   "source": [
    "gc.collect()\n",
    "\n",
    "y_pred = zeroberto.getPredictions(trainer)\n",
    "# 5000 sentences --- 4min40s ---sts-xlm-rr\n",
    "# 5000 sentences ---  ---ricardo-filho/bert-portuguese"
   ]
  },
  {
   "attachments": {},
   "cell_type": "markdown",
   "metadata": {},
   "source": [
    "## Evaluation"
   ]
  },
  {
   "cell_type": "code",
   "execution_count": 30,
   "metadata": {},
   "outputs": [
    {
     "name": "stdout",
     "output_type": "stream",
     "text": [
      "{'weighted': [{'accuracy': 0.08273237179487179}, {'precision': 0.007087451949478309}, {'recall': 0.08273237179487179}, {'f1': 0.013056398583712698}], 'macro': [{'accuracy': 0.08273237179487179}, {'precision': 0.007087451949478309}, {'recall': 0.08273237179487179}, {'f1': 0.013056398583712698}]}\n"
     ]
    },
    {
     "name": "stderr",
     "output_type": "stream",
     "text": [
      "/Users/alealcoforado/opt/anaconda3/envs/venv_zeroberto/lib/python3.10/site-packages/sklearn/metrics/_classification.py:1344: UndefinedMetricWarning: Precision is ill-defined and being set to 0.0 in labels with no predicted samples. Use `zero_division` parameter to control this behavior.\n",
      "  _warn_prf(average, modifier, msg_start, len(result))\n",
      "/Users/alealcoforado/opt/anaconda3/envs/venv_zeroberto/lib/python3.10/site-packages/sklearn/metrics/_classification.py:1344: UndefinedMetricWarning: Precision is ill-defined and being set to 0.0 in labels with no predicted samples. Use `zero_division` parameter to control this behavior.\n",
      "  _warn_prf(average, modifier, msg_start, len(result))\n"
     ]
    },
    {
     "name": "stdout",
     "output_type": "stream",
     "text": [
      "{'weighted': [{'accuracy': 0.08273237179487179}, {'precision': 0.007087451949478309}, {'recall': 0.08273237179487179}, {'f1': 0.013056398583712698}], 'macro': [{'accuracy': 0.08273237179487179}, {'precision': 0.007087451949478309}, {'recall': 0.08273237179487179}, {'f1': 0.013056398583712698}]}\n"
     ]
    }
   ],
   "source": [
    "try: print(setfit_all_metrics)\n",
    "except: pass\n",
    "setfit_all_metrics = evaluation_metrics.get_metrics(y_pred ,test_dataset[\"class_code\"])\n",
    "print(setfit_all_metrics)"
   ]
  },
  {
   "cell_type": "code",
   "execution_count": null,
   "metadata": {},
   "outputs": [],
   "source": [
    "# new_embeddingModel = trainer.model.model_body"
   ]
  },
  {
   "cell_type": "code",
   "execution_count": 35,
   "metadata": {},
   "outputs": [
    {
     "data": {
      "text/plain": [
       "True"
      ]
     },
     "execution_count": 35,
     "metadata": {},
     "output_type": "execute_result"
    }
   ],
   "source": [
    "# list(zip(y_pred ,test_dataset[\"class_code\"]))\n",
    "y_pred==test_dataset[\"class_code\"]"
   ]
  },
  {
   "cell_type": "code",
   "execution_count": null,
   "metadata": {},
   "outputs": [],
   "source": []
  },
  {
   "attachments": {},
   "cell_type": "markdown",
   "metadata": {},
   "source": [
    "## Save CL results"
   ]
  },
  {
   "cell_type": "code",
   "execution_count": null,
   "metadata": {},
   "outputs": [
    {
     "name": "stdout",
     "output_type": "stream",
     "text": [
      "metrics_setfit_2023_04_07__18_52_03.csv\n",
      "config_setfit_2023_04_07__18_52_03.csv\n",
      "{'dataset': 'folhauol', 'class_col': 'class', 'data_col': 'text', 'split': 'zeroshot', 'method': 'dotproduct', 'max_inferences': 5000, 'classes': ['Poder e Política no Brasil', 'Mercado', 'Notícias de fora do Brasil', 'Esporte', 'Tecnologia', 'Meio Ambiente', 'Equilíbrio e Saúde', 'Educação', 'TV, Televisão e Entretenimento', 'Ciência', 'Turismo', 'Comida'], 'template': 'Esse texto está relacionado a {}.', 'random_state': 422, 'similarity_model': 'sentence-transformers/stsb-xlm-r-multilingual', 'setfit_model': 'ricardo-filho/bert-base-portuguese-cased-nli-assin-2', 'top_n': 4, 'n_examples': 4, 'exec_time': '2023_04_07__18_02_19', 'batch_size': 4, 'num_pairs': 10, 'num_epochs': 1, 'st_train_epochs': 10, 'st_train_batch_size': 20, 'new_class_col': 'new_class', 'keep_body_frozen_setfit': True}\n"
     ]
    }
   ],
   "source": [
    "setfit_exec_time  = evaluation_metrics.saveResults(zeroshot_config,setfit_all_metrics)\n",
    "print(zeroshot_config)"
   ]
  },
  {
   "cell_type": "code",
   "execution_count": null,
   "metadata": {},
   "outputs": [],
   "source": []
  },
  {
   "cell_type": "code",
   "execution_count": null,
   "metadata": {},
   "outputs": [],
   "source": []
  },
  {
   "attachments": {},
   "cell_type": "markdown",
   "metadata": {},
   "source": [
    "## Save Model"
   ]
  },
  {
   "cell_type": "code",
   "execution_count": null,
   "metadata": {},
   "outputs": [
    {
     "name": "stdout",
     "output_type": "stream",
     "text": [
      "/Users/alealcoforado/Documents/Projetos/Modelos/2023_03_09__14_05_21\n"
     ]
    }
   ],
   "source": [
    "# model_path = \"/Users/alealcoforado/Documents/Projetos/Modelos/{exec}\".format(exec=setfit_exec_time)\n",
    "# print(model_path)\n",
    "# trainer.model._save_pretrained(save_directory=model_path)"
   ]
  },
  {
   "cell_type": "code",
   "execution_count": null,
   "metadata": {},
   "outputs": [],
   "source": []
  }
 ],
 "metadata": {
  "kernelspec": {
   "display_name": "venv_zeroberto",
   "language": "python",
   "name": "python3"
  },
  "language_info": {
   "codemirror_mode": {
    "name": "ipython",
    "version": 3
   },
   "file_extension": ".py",
   "mimetype": "text/x-python",
   "name": "python",
   "nbconvert_exporter": "python",
   "pygments_lexer": "ipython3",
   "version": "3.10.9"
  },
  "orig_nbformat": 4,
  "vscode": {
   "interpreter": {
    "hash": "b98a7e24f8a69e8a460c693288d2fe0565d17bd4bdd6eb6203258b225132cc92"
   }
  }
 },
 "nbformat": 4,
 "nbformat_minor": 2
}
